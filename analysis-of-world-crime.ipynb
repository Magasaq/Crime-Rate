{
 "cells": [
  {
   "cell_type": "markdown",
   "metadata": {
    "_uuid": "86c2a01179e9b5d2c6a24fe5c3e5e407e7390b83"
   },
   "source": [
    " <a id=\"top\"></a> <br>\n",
    "## Notebook  Content\n",
    "*  [Introduction/  1.How can the crime rate of a country be measured?](#1)\n",
    "*  [Analysis of USA first](#2)\n",
    "1. [Crime data (loading and pre-processing is a bit lentghy)](#3)\n"
   ]
  },
  {
   "cell_type": "markdown",
   "metadata": {
    "_uuid": "91d12b884a12b7655411a10115baec2093d85124"
   },
   "source": [
    "<a id=\"1\"></a> <br>\n",
    "# 1. How can the crime rate of a country be measured?\n"
   ]
  },
  {
   "cell_type": "markdown",
   "metadata": {
    "_uuid": "5533804b24deca2baa55e7598c757416004888d3"
   },
   "source": [
    "Starting of with the first question we can use the official definiton of FBI which classifies homicide, rape, robbery and assault  as violent crime and the true criminality of a country wont be skeewed by non-relevant crimes (if such thing exists). Ofcourse some other categories can come into the story, but I think these should be the main aspect. Same metrics that apply for the countries of the world apply for US States (the first analysis) BUT when we collected these measuraments for the countries of the world a strange pattern emerged: Sweden, German etc were on top of the list. And to quote myself as I said (underneath when second question was answered)\n",
    "\n",
    "\"WHAT? It does not make any sence. Sweden? It is because people have more trust, less corruption, better reporting system punishments etc... IN ORDER To mitigate this effect and get the TRUE levels we ought to normalise these values with all of the values/data that I just named, and even more since these are just some of the factors that influence the odd results. That implies finding ALL of these datasets that coincide with ALL of the countries on ALL of the years. \"\n",
    "\n",
    "So we searched for some indicators that could remove this effect and we found \"Rule of law\" and \"Corruption index\" (its underneath when reading in the crime data for the entire world). And we did find that this approach paints a better picture of a crime rate of  a country. (As we shall see later on)\n"
   ]
  },
  {
   "cell_type": "code",
   "execution_count": 77,
   "metadata": {
    "_uuid": "ee2dae4dc205106b4af2ffcaeca71be03b5e992e",
    "execution": {
     "iopub.execute_input": "2024-12-28T18:03:20.734682Z",
     "iopub.status.busy": "2024-12-28T18:03:20.734389Z",
     "iopub.status.idle": "2024-12-28T18:03:20.747027Z",
     "shell.execute_reply": "2024-12-28T18:03:20.745748Z",
     "shell.execute_reply.started": "2024-12-28T18:03:20.734635Z"
    },
    "trusted": true
   },
   "outputs": [
    {
     "data": {
      "text/html": [
       "        <script type=\"text/javascript\">\n",
       "        window.PlotlyConfig = {MathJaxConfig: 'local'};\n",
       "        if (window.MathJax && window.MathJax.Hub && window.MathJax.Hub.Config) {window.MathJax.Hub.Config({SVG: {font: \"STIX-Web\"}});}\n",
       "        if (typeof require !== 'undefined') {\n",
       "        require.undef(\"plotly\");\n",
       "        requirejs.config({\n",
       "            paths: {\n",
       "                'plotly': ['https://cdn.plot.ly/plotly-2.35.2.min']\n",
       "            }\n",
       "        });\n",
       "        require(['plotly'], function(Plotly) {\n",
       "            window._Plotly = Plotly;\n",
       "        });\n",
       "        }\n",
       "        </script>\n",
       "        "
      ]
     },
     "metadata": {},
     "output_type": "display_data"
    }
   ],
   "source": [
    "import numpy as np\n",
    "import pandas as pd\n",
    "%matplotlib inline\n",
    "import matplotlib.pyplot as plt\n",
    "import seaborn as sns\n",
    "color = sns.color_palette()\n",
    "sns.set_style('darkgrid')\n",
    "import warnings\n",
    "def ignore_warn(*args, **kwargs):\n",
    "    pass\n",
    "warnings.warn = ignore_warn #ignore annoying warnings (as always)\n",
    "from sklearn.linear_model import ElasticNetCV, LinearRegression\n",
    "\n",
    "\n",
    "import plotly.figure_factory as ff\n",
    "import plotly.offline as py\n",
    "##for online plotting use import plotly.plotly as py\n",
    "import plotly.graph_objs as go\n",
    "py.init_notebook_mode(connected=True)\n",
    "from plotly import tools\n",
    "import gc\n",
    "from sklearn.metrics import r2_score, mean_squared_error\n",
    "from sklearn import ensemble, tree, linear_model\n",
    "from sklearn.model_selection import train_test_split, cross_val_score\n",
    "import matplotlib.pyplot as plt\n",
    "import plotly.express as px\n"
   ]
  },
  {
   "cell_type": "markdown",
   "metadata": {
    "_uuid": "8ead368f9777a5d8ce214400f308a6a8fe48662d"
   },
   "source": [
    "First of all we are going to do some **introductory analysis** that should serve as an baby example for the actual one. **Crime Analysis of US States** (with some small Analysis of NYC). Datasets for USA is usually excellant and we did not have to wrestle with it just find a way to answer the questions. If one whishes to skip analysis of USA than scroll down over to \n",
    "### Crime Data"
   ]
  },
  {
   "cell_type": "markdown",
   "metadata": {
    "_uuid": "edbcae2f2d9bccf90f0a297bb7772bba0cf5b1e1"
   },
   "source": [
    "<a id=\"2\"></a> <br>\n",
    "# US States Analysis\n",
    "\n",
    "\n",
    "Now let us load an US data set containing 4 types of violent crime in major US cities (cities with over 250 000 citizens). This should serve as a templete to an (almost) perfect data set that we need to find. We have 40 years of data, there are 4 types of different crimes reported all through out the year. Further more we have clearly distinct areas with additional number of population for each area."
   ]
  },
  {
   "cell_type": "code",
   "execution_count": 78,
   "metadata": {
    "_uuid": "3b95b50e21221067dbb4d46c01ff677b47bc01ef",
    "execution": {
     "iopub.execute_input": "2024-12-28T16:36:21.671177Z",
     "iopub.status.busy": "2024-12-28T16:36:21.670860Z",
     "iopub.status.idle": "2024-12-28T16:36:21.789108Z",
     "shell.execute_reply": "2024-12-28T16:36:21.788043Z",
     "shell.execute_reply.started": "2024-12-28T16:36:21.671131Z"
    },
    "trusted": true
   },
   "outputs": [
    {
     "data": {
      "text/html": [
       "<div>\n",
       "<style scoped>\n",
       "    .dataframe tbody tr th:only-of-type {\n",
       "        vertical-align: middle;\n",
       "    }\n",
       "\n",
       "    .dataframe tbody tr th {\n",
       "        vertical-align: top;\n",
       "    }\n",
       "\n",
       "    .dataframe thead th {\n",
       "        text-align: right;\n",
       "    }\n",
       "</style>\n",
       "<table border=\"1\" class=\"dataframe\">\n",
       "  <thead>\n",
       "    <tr style=\"text-align: right;\">\n",
       "      <th></th>\n",
       "      <th>report_year</th>\n",
       "      <th>agency_code</th>\n",
       "      <th>agency_jurisdiction</th>\n",
       "      <th>population</th>\n",
       "      <th>violent_crimes</th>\n",
       "      <th>homicides</th>\n",
       "      <th>rapes</th>\n",
       "      <th>assaults</th>\n",
       "      <th>robberies</th>\n",
       "      <th>months_reported</th>\n",
       "      <th>crimes_percapita</th>\n",
       "      <th>homicides_percapita</th>\n",
       "      <th>rapes_percapita</th>\n",
       "      <th>assaults_percapita</th>\n",
       "      <th>robberies_percapita</th>\n",
       "    </tr>\n",
       "  </thead>\n",
       "  <tbody>\n",
       "    <tr>\n",
       "      <th>0</th>\n",
       "      <td>1975</td>\n",
       "      <td>NM00101</td>\n",
       "      <td>Albuquerque, NM</td>\n",
       "      <td>286238.0</td>\n",
       "      <td>2383.0</td>\n",
       "      <td>30.0</td>\n",
       "      <td>181.0</td>\n",
       "      <td>1353.0</td>\n",
       "      <td>819.0</td>\n",
       "      <td>12.0</td>\n",
       "      <td>832.52</td>\n",
       "      <td>10.48</td>\n",
       "      <td>63.23</td>\n",
       "      <td>472.68</td>\n",
       "      <td>286.13</td>\n",
       "    </tr>\n",
       "    <tr>\n",
       "      <th>1</th>\n",
       "      <td>1975</td>\n",
       "      <td>TX22001</td>\n",
       "      <td>Arlington, TX</td>\n",
       "      <td>112478.0</td>\n",
       "      <td>278.0</td>\n",
       "      <td>5.0</td>\n",
       "      <td>28.0</td>\n",
       "      <td>132.0</td>\n",
       "      <td>113.0</td>\n",
       "      <td>12.0</td>\n",
       "      <td>247.16</td>\n",
       "      <td>4.45</td>\n",
       "      <td>24.89</td>\n",
       "      <td>117.36</td>\n",
       "      <td>100.46</td>\n",
       "    </tr>\n",
       "    <tr>\n",
       "      <th>2</th>\n",
       "      <td>1975</td>\n",
       "      <td>GAAPD00</td>\n",
       "      <td>Atlanta, GA</td>\n",
       "      <td>490584.0</td>\n",
       "      <td>8033.0</td>\n",
       "      <td>185.0</td>\n",
       "      <td>443.0</td>\n",
       "      <td>3518.0</td>\n",
       "      <td>3887.0</td>\n",
       "      <td>12.0</td>\n",
       "      <td>1637.44</td>\n",
       "      <td>37.71</td>\n",
       "      <td>90.30</td>\n",
       "      <td>717.10</td>\n",
       "      <td>792.32</td>\n",
       "    </tr>\n",
       "    <tr>\n",
       "      <th>3</th>\n",
       "      <td>1975</td>\n",
       "      <td>CO00101</td>\n",
       "      <td>Aurora, CO</td>\n",
       "      <td>116656.0</td>\n",
       "      <td>611.0</td>\n",
       "      <td>7.0</td>\n",
       "      <td>44.0</td>\n",
       "      <td>389.0</td>\n",
       "      <td>171.0</td>\n",
       "      <td>12.0</td>\n",
       "      <td>523.76</td>\n",
       "      <td>6.00</td>\n",
       "      <td>37.72</td>\n",
       "      <td>333.46</td>\n",
       "      <td>146.58</td>\n",
       "    </tr>\n",
       "    <tr>\n",
       "      <th>4</th>\n",
       "      <td>1975</td>\n",
       "      <td>TX22701</td>\n",
       "      <td>Austin, TX</td>\n",
       "      <td>300400.0</td>\n",
       "      <td>1215.0</td>\n",
       "      <td>33.0</td>\n",
       "      <td>190.0</td>\n",
       "      <td>463.0</td>\n",
       "      <td>529.0</td>\n",
       "      <td>12.0</td>\n",
       "      <td>404.46</td>\n",
       "      <td>10.99</td>\n",
       "      <td>63.25</td>\n",
       "      <td>154.13</td>\n",
       "      <td>176.10</td>\n",
       "    </tr>\n",
       "    <tr>\n",
       "      <th>...</th>\n",
       "      <td>...</td>\n",
       "      <td>...</td>\n",
       "      <td>...</td>\n",
       "      <td>...</td>\n",
       "      <td>...</td>\n",
       "      <td>...</td>\n",
       "      <td>...</td>\n",
       "      <td>...</td>\n",
       "      <td>...</td>\n",
       "      <td>...</td>\n",
       "      <td>...</td>\n",
       "      <td>...</td>\n",
       "      <td>...</td>\n",
       "      <td>...</td>\n",
       "      <td>...</td>\n",
       "    </tr>\n",
       "    <tr>\n",
       "      <th>2824</th>\n",
       "      <td>2015</td>\n",
       "      <td>OK07205</td>\n",
       "      <td>Tulsa, OK</td>\n",
       "      <td>401520.0</td>\n",
       "      <td>3628.0</td>\n",
       "      <td>55.0</td>\n",
       "      <td>365.0</td>\n",
       "      <td>2354.0</td>\n",
       "      <td>854.0</td>\n",
       "      <td>NaN</td>\n",
       "      <td>903.57</td>\n",
       "      <td>13.70</td>\n",
       "      <td>90.90</td>\n",
       "      <td>586.27</td>\n",
       "      <td>212.69</td>\n",
       "    </tr>\n",
       "    <tr>\n",
       "      <th>2825</th>\n",
       "      <td>2015</td>\n",
       "      <td>VA12800</td>\n",
       "      <td>Virginia Beach, VA</td>\n",
       "      <td>452797.0</td>\n",
       "      <td>626.0</td>\n",
       "      <td>19.0</td>\n",
       "      <td>103.0</td>\n",
       "      <td>234.0</td>\n",
       "      <td>270.0</td>\n",
       "      <td>NaN</td>\n",
       "      <td>138.25</td>\n",
       "      <td>4.20</td>\n",
       "      <td>22.75</td>\n",
       "      <td>51.68</td>\n",
       "      <td>59.63</td>\n",
       "    </tr>\n",
       "    <tr>\n",
       "      <th>2826</th>\n",
       "      <td>2015</td>\n",
       "      <td>DCMPD00</td>\n",
       "      <td>Washington, DC</td>\n",
       "      <td>672228.0</td>\n",
       "      <td>8084.0</td>\n",
       "      <td>162.0</td>\n",
       "      <td>494.0</td>\n",
       "      <td>4024.0</td>\n",
       "      <td>3404.0</td>\n",
       "      <td>NaN</td>\n",
       "      <td>1202.57</td>\n",
       "      <td>24.10</td>\n",
       "      <td>73.49</td>\n",
       "      <td>598.61</td>\n",
       "      <td>506.38</td>\n",
       "    </tr>\n",
       "    <tr>\n",
       "      <th>2827</th>\n",
       "      <td>2015</td>\n",
       "      <td>KS08703</td>\n",
       "      <td>Wichita, KS</td>\n",
       "      <td>389824.0</td>\n",
       "      <td>3839.0</td>\n",
       "      <td>27.0</td>\n",
       "      <td>349.0</td>\n",
       "      <td>2730.0</td>\n",
       "      <td>733.0</td>\n",
       "      <td>NaN</td>\n",
       "      <td>984.80</td>\n",
       "      <td>6.93</td>\n",
       "      <td>89.53</td>\n",
       "      <td>700.32</td>\n",
       "      <td>188.03</td>\n",
       "    </tr>\n",
       "    <tr>\n",
       "      <th>2828</th>\n",
       "      <td>2015</td>\n",
       "      <td>NaN</td>\n",
       "      <td>United States</td>\n",
       "      <td>NaN</td>\n",
       "      <td>1197704.0</td>\n",
       "      <td>15696.0</td>\n",
       "      <td>NaN</td>\n",
       "      <td>NaN</td>\n",
       "      <td>NaN</td>\n",
       "      <td>NaN</td>\n",
       "      <td>372.60</td>\n",
       "      <td>4.90</td>\n",
       "      <td>NaN</td>\n",
       "      <td>NaN</td>\n",
       "      <td>NaN</td>\n",
       "    </tr>\n",
       "  </tbody>\n",
       "</table>\n",
       "<p>2829 rows × 15 columns</p>\n",
       "</div>"
      ],
      "text/plain": [
       "      report_year agency_code agency_jurisdiction  population  violent_crimes  \\\n",
       "0            1975     NM00101     Albuquerque, NM    286238.0          2383.0   \n",
       "1            1975     TX22001       Arlington, TX    112478.0           278.0   \n",
       "2            1975     GAAPD00         Atlanta, GA    490584.0          8033.0   \n",
       "3            1975     CO00101          Aurora, CO    116656.0           611.0   \n",
       "4            1975     TX22701          Austin, TX    300400.0          1215.0   \n",
       "...           ...         ...                 ...         ...             ...   \n",
       "2824         2015     OK07205           Tulsa, OK    401520.0          3628.0   \n",
       "2825         2015     VA12800  Virginia Beach, VA    452797.0           626.0   \n",
       "2826         2015     DCMPD00      Washington, DC    672228.0          8084.0   \n",
       "2827         2015     KS08703         Wichita, KS    389824.0          3839.0   \n",
       "2828         2015         NaN       United States         NaN       1197704.0   \n",
       "\n",
       "      homicides  rapes  assaults  robberies  months_reported  \\\n",
       "0          30.0  181.0    1353.0      819.0             12.0   \n",
       "1           5.0   28.0     132.0      113.0             12.0   \n",
       "2         185.0  443.0    3518.0     3887.0             12.0   \n",
       "3           7.0   44.0     389.0      171.0             12.0   \n",
       "4          33.0  190.0     463.0      529.0             12.0   \n",
       "...         ...    ...       ...        ...              ...   \n",
       "2824       55.0  365.0    2354.0      854.0              NaN   \n",
       "2825       19.0  103.0     234.0      270.0              NaN   \n",
       "2826      162.0  494.0    4024.0     3404.0              NaN   \n",
       "2827       27.0  349.0    2730.0      733.0              NaN   \n",
       "2828    15696.0    NaN       NaN        NaN              NaN   \n",
       "\n",
       "      crimes_percapita  homicides_percapita  rapes_percapita  \\\n",
       "0               832.52                10.48            63.23   \n",
       "1               247.16                 4.45            24.89   \n",
       "2              1637.44                37.71            90.30   \n",
       "3               523.76                 6.00            37.72   \n",
       "4               404.46                10.99            63.25   \n",
       "...                ...                  ...              ...   \n",
       "2824            903.57                13.70            90.90   \n",
       "2825            138.25                 4.20            22.75   \n",
       "2826           1202.57                24.10            73.49   \n",
       "2827            984.80                 6.93            89.53   \n",
       "2828            372.60                 4.90              NaN   \n",
       "\n",
       "      assaults_percapita  robberies_percapita  \n",
       "0                 472.68               286.13  \n",
       "1                 117.36               100.46  \n",
       "2                 717.10               792.32  \n",
       "3                 333.46               146.58  \n",
       "4                 154.13               176.10  \n",
       "...                  ...                  ...  \n",
       "2824              586.27               212.69  \n",
       "2825               51.68                59.63  \n",
       "2826              598.61               506.38  \n",
       "2827              700.32               188.03  \n",
       "2828                 NaN                  NaN  \n",
       "\n",
       "[2829 rows x 15 columns]"
      ]
     },
     "execution_count": 78,
     "metadata": {},
     "output_type": "execute_result"
    }
   ],
   "source": [
    "file_path = \"/Users/margarita/Downloads/report.csv\"\n",
    "df2 = pd.read_csv(file_path, encoding='latin1')\n",
    "df2"
   ]
  },
  {
   "cell_type": "markdown",
   "metadata": {
    "_uuid": "6a264c32578d21eedbbb9ca9126f76ffb92ed881"
   },
   "source": [
    "Now us do some EDA to get to know our complete data set"
   ]
  },
  {
   "cell_type": "code",
   "execution_count": 79,
   "metadata": {
    "execution": {
     "iopub.execute_input": "2024-12-28T18:03:28.516261Z",
     "iopub.status.busy": "2024-12-28T18:03:28.515982Z",
     "iopub.status.idle": "2024-12-28T18:03:28.539219Z",
     "shell.execute_reply": "2024-12-28T18:03:28.537664Z",
     "shell.execute_reply.started": "2024-12-28T18:03:28.516218Z"
    },
    "trusted": true
   },
   "outputs": [
    {
     "data": {
      "application/vnd.plotly.v1+json": {
       "config": {
        "plotlyServerURL": "https://plot.ly"
       },
       "data": [
        {
         "coloraxis": "coloraxis",
         "geo": "geo",
         "hovertemplate": "State=%{location}<br>Total Crimes (millions)=%{z}<extra></extra>",
         "locationmode": "USA-states",
         "locations": [
          "AZ",
          "CA",
          "CO",
          "DC",
          "FL",
          "GA",
          "HI",
          "IL",
          "IN",
          "KS",
          "KY",
          "LA",
          "MA",
          "MD",
          "MI",
          "MN",
          "MO",
          "NC",
          "NE",
          "NJ",
          "NM",
          "NV",
          "NY",
          "OH",
          "OK",
          "OR",
          "PA",
          "TN",
          "TX",
          "UT",
          "United States",
          "VA",
          "WA",
          "WI"
         ],
         "name": "",
         "type": "choropleth",
         "z": [
          1.165532,
          7.98044,
          0.495232,
          0.867874,
          3.006844,
          0.85814,
          0.189544,
          3.921772,
          0.559014,
          0.186996,
          0.100832,
          0.54094,
          0.748272,
          2.273212,
          1.836006,
          0.394494,
          1.38232,
          0.63666,
          0.228346,
          0.547508,
          0.362364,
          0.609838,
          9.180208,
          1.34119,
          0.684876,
          0.46233,
          1.84371,
          1.326566,
          4.418434,
          0.104778,
          0,
          0.136282,
          0.408098,
          0.4601
         ]
        }
       ],
       "layout": {
        "coloraxis": {
         "cmax": 9.180208,
         "cmin": 0,
         "colorbar": {
          "title": {
           "text": "Total Crimes (millions)"
          }
         },
         "colorscale": [
          [
           0,
           "rgb(103,0,31)"
          ],
          [
           0.1,
           "rgb(178,24,43)"
          ],
          [
           0.2,
           "rgb(214,96,77)"
          ],
          [
           0.3,
           "rgb(244,165,130)"
          ],
          [
           0.4,
           "rgb(253,219,199)"
          ],
          [
           0.5,
           "rgb(247,247,247)"
          ],
          [
           0.6,
           "rgb(209,229,240)"
          ],
          [
           0.7,
           "rgb(146,197,222)"
          ],
          [
           0.8,
           "rgb(67,147,195)"
          ],
          [
           0.9,
           "rgb(33,102,172)"
          ],
          [
           1,
           "rgb(5,48,97)"
          ]
         ]
        },
        "font": {
         "color": "black"
        },
        "geo": {
         "center": {},
         "coastlinecolor": "black",
         "domain": {
          "x": [
           0,
           1
          ],
          "y": [
           0,
           1
          ]
         },
         "oceancolor": "darkblue",
         "projection": {
          "type": "albers usa"
         },
         "scope": "usa",
         "showcoastlines": true,
         "showland": true,
         "visible": true
        },
        "legend": {
         "tracegroupgap": 0
        },
        "paper_bgcolor": "white",
        "plot_bgcolor": "black",
        "template": {
         "data": {
          "bar": [
           {
            "error_x": {
             "color": "#2a3f5f"
            },
            "error_y": {
             "color": "#2a3f5f"
            },
            "marker": {
             "line": {
              "color": "#E5ECF6",
              "width": 0.5
             },
             "pattern": {
              "fillmode": "overlay",
              "size": 10,
              "solidity": 0.2
             }
            },
            "type": "bar"
           }
          ],
          "barpolar": [
           {
            "marker": {
             "line": {
              "color": "#E5ECF6",
              "width": 0.5
             },
             "pattern": {
              "fillmode": "overlay",
              "size": 10,
              "solidity": 0.2
             }
            },
            "type": "barpolar"
           }
          ],
          "carpet": [
           {
            "aaxis": {
             "endlinecolor": "#2a3f5f",
             "gridcolor": "white",
             "linecolor": "white",
             "minorgridcolor": "white",
             "startlinecolor": "#2a3f5f"
            },
            "baxis": {
             "endlinecolor": "#2a3f5f",
             "gridcolor": "white",
             "linecolor": "white",
             "minorgridcolor": "white",
             "startlinecolor": "#2a3f5f"
            },
            "type": "carpet"
           }
          ],
          "choropleth": [
           {
            "colorbar": {
             "outlinewidth": 0,
             "ticks": ""
            },
            "type": "choropleth"
           }
          ],
          "contour": [
           {
            "colorbar": {
             "outlinewidth": 0,
             "ticks": ""
            },
            "colorscale": [
             [
              0,
              "#0d0887"
             ],
             [
              0.1111111111111111,
              "#46039f"
             ],
             [
              0.2222222222222222,
              "#7201a8"
             ],
             [
              0.3333333333333333,
              "#9c179e"
             ],
             [
              0.4444444444444444,
              "#bd3786"
             ],
             [
              0.5555555555555556,
              "#d8576b"
             ],
             [
              0.6666666666666666,
              "#ed7953"
             ],
             [
              0.7777777777777778,
              "#fb9f3a"
             ],
             [
              0.8888888888888888,
              "#fdca26"
             ],
             [
              1,
              "#f0f921"
             ]
            ],
            "type": "contour"
           }
          ],
          "contourcarpet": [
           {
            "colorbar": {
             "outlinewidth": 0,
             "ticks": ""
            },
            "type": "contourcarpet"
           }
          ],
          "heatmap": [
           {
            "colorbar": {
             "outlinewidth": 0,
             "ticks": ""
            },
            "colorscale": [
             [
              0,
              "#0d0887"
             ],
             [
              0.1111111111111111,
              "#46039f"
             ],
             [
              0.2222222222222222,
              "#7201a8"
             ],
             [
              0.3333333333333333,
              "#9c179e"
             ],
             [
              0.4444444444444444,
              "#bd3786"
             ],
             [
              0.5555555555555556,
              "#d8576b"
             ],
             [
              0.6666666666666666,
              "#ed7953"
             ],
             [
              0.7777777777777778,
              "#fb9f3a"
             ],
             [
              0.8888888888888888,
              "#fdca26"
             ],
             [
              1,
              "#f0f921"
             ]
            ],
            "type": "heatmap"
           }
          ],
          "heatmapgl": [
           {
            "colorbar": {
             "outlinewidth": 0,
             "ticks": ""
            },
            "colorscale": [
             [
              0,
              "#0d0887"
             ],
             [
              0.1111111111111111,
              "#46039f"
             ],
             [
              0.2222222222222222,
              "#7201a8"
             ],
             [
              0.3333333333333333,
              "#9c179e"
             ],
             [
              0.4444444444444444,
              "#bd3786"
             ],
             [
              0.5555555555555556,
              "#d8576b"
             ],
             [
              0.6666666666666666,
              "#ed7953"
             ],
             [
              0.7777777777777778,
              "#fb9f3a"
             ],
             [
              0.8888888888888888,
              "#fdca26"
             ],
             [
              1,
              "#f0f921"
             ]
            ],
            "type": "heatmapgl"
           }
          ],
          "histogram": [
           {
            "marker": {
             "pattern": {
              "fillmode": "overlay",
              "size": 10,
              "solidity": 0.2
             }
            },
            "type": "histogram"
           }
          ],
          "histogram2d": [
           {
            "colorbar": {
             "outlinewidth": 0,
             "ticks": ""
            },
            "colorscale": [
             [
              0,
              "#0d0887"
             ],
             [
              0.1111111111111111,
              "#46039f"
             ],
             [
              0.2222222222222222,
              "#7201a8"
             ],
             [
              0.3333333333333333,
              "#9c179e"
             ],
             [
              0.4444444444444444,
              "#bd3786"
             ],
             [
              0.5555555555555556,
              "#d8576b"
             ],
             [
              0.6666666666666666,
              "#ed7953"
             ],
             [
              0.7777777777777778,
              "#fb9f3a"
             ],
             [
              0.8888888888888888,
              "#fdca26"
             ],
             [
              1,
              "#f0f921"
             ]
            ],
            "type": "histogram2d"
           }
          ],
          "histogram2dcontour": [
           {
            "colorbar": {
             "outlinewidth": 0,
             "ticks": ""
            },
            "colorscale": [
             [
              0,
              "#0d0887"
             ],
             [
              0.1111111111111111,
              "#46039f"
             ],
             [
              0.2222222222222222,
              "#7201a8"
             ],
             [
              0.3333333333333333,
              "#9c179e"
             ],
             [
              0.4444444444444444,
              "#bd3786"
             ],
             [
              0.5555555555555556,
              "#d8576b"
             ],
             [
              0.6666666666666666,
              "#ed7953"
             ],
             [
              0.7777777777777778,
              "#fb9f3a"
             ],
             [
              0.8888888888888888,
              "#fdca26"
             ],
             [
              1,
              "#f0f921"
             ]
            ],
            "type": "histogram2dcontour"
           }
          ],
          "mesh3d": [
           {
            "colorbar": {
             "outlinewidth": 0,
             "ticks": ""
            },
            "type": "mesh3d"
           }
          ],
          "parcoords": [
           {
            "line": {
             "colorbar": {
              "outlinewidth": 0,
              "ticks": ""
             }
            },
            "type": "parcoords"
           }
          ],
          "pie": [
           {
            "automargin": true,
            "type": "pie"
           }
          ],
          "scatter": [
           {
            "fillpattern": {
             "fillmode": "overlay",
             "size": 10,
             "solidity": 0.2
            },
            "type": "scatter"
           }
          ],
          "scatter3d": [
           {
            "line": {
             "colorbar": {
              "outlinewidth": 0,
              "ticks": ""
             }
            },
            "marker": {
             "colorbar": {
              "outlinewidth": 0,
              "ticks": ""
             }
            },
            "type": "scatter3d"
           }
          ],
          "scattercarpet": [
           {
            "marker": {
             "colorbar": {
              "outlinewidth": 0,
              "ticks": ""
             }
            },
            "type": "scattercarpet"
           }
          ],
          "scattergeo": [
           {
            "marker": {
             "colorbar": {
              "outlinewidth": 0,
              "ticks": ""
             }
            },
            "type": "scattergeo"
           }
          ],
          "scattergl": [
           {
            "marker": {
             "colorbar": {
              "outlinewidth": 0,
              "ticks": ""
             }
            },
            "type": "scattergl"
           }
          ],
          "scattermapbox": [
           {
            "marker": {
             "colorbar": {
              "outlinewidth": 0,
              "ticks": ""
             }
            },
            "type": "scattermapbox"
           }
          ],
          "scatterpolar": [
           {
            "marker": {
             "colorbar": {
              "outlinewidth": 0,
              "ticks": ""
             }
            },
            "type": "scatterpolar"
           }
          ],
          "scatterpolargl": [
           {
            "marker": {
             "colorbar": {
              "outlinewidth": 0,
              "ticks": ""
             }
            },
            "type": "scatterpolargl"
           }
          ],
          "scatterternary": [
           {
            "marker": {
             "colorbar": {
              "outlinewidth": 0,
              "ticks": ""
             }
            },
            "type": "scatterternary"
           }
          ],
          "surface": [
           {
            "colorbar": {
             "outlinewidth": 0,
             "ticks": ""
            },
            "colorscale": [
             [
              0,
              "#0d0887"
             ],
             [
              0.1111111111111111,
              "#46039f"
             ],
             [
              0.2222222222222222,
              "#7201a8"
             ],
             [
              0.3333333333333333,
              "#9c179e"
             ],
             [
              0.4444444444444444,
              "#bd3786"
             ],
             [
              0.5555555555555556,
              "#d8576b"
             ],
             [
              0.6666666666666666,
              "#ed7953"
             ],
             [
              0.7777777777777778,
              "#fb9f3a"
             ],
             [
              0.8888888888888888,
              "#fdca26"
             ],
             [
              1,
              "#f0f921"
             ]
            ],
            "type": "surface"
           }
          ],
          "table": [
           {
            "cells": {
             "fill": {
              "color": "#EBF0F8"
             },
             "line": {
              "color": "white"
             }
            },
            "header": {
             "fill": {
              "color": "#C8D4E3"
             },
             "line": {
              "color": "white"
             }
            },
            "type": "table"
           }
          ]
         },
         "layout": {
          "annotationdefaults": {
           "arrowcolor": "#2a3f5f",
           "arrowhead": 0,
           "arrowwidth": 1
          },
          "autotypenumbers": "strict",
          "coloraxis": {
           "colorbar": {
            "outlinewidth": 0,
            "ticks": ""
           }
          },
          "colorscale": {
           "diverging": [
            [
             0,
             "#8e0152"
            ],
            [
             0.1,
             "#c51b7d"
            ],
            [
             0.2,
             "#de77ae"
            ],
            [
             0.3,
             "#f1b6da"
            ],
            [
             0.4,
             "#fde0ef"
            ],
            [
             0.5,
             "#f7f7f7"
            ],
            [
             0.6,
             "#e6f5d0"
            ],
            [
             0.7,
             "#b8e186"
            ],
            [
             0.8,
             "#7fbc41"
            ],
            [
             0.9,
             "#4d9221"
            ],
            [
             1,
             "#276419"
            ]
           ],
           "sequential": [
            [
             0,
             "#0d0887"
            ],
            [
             0.1111111111111111,
             "#46039f"
            ],
            [
             0.2222222222222222,
             "#7201a8"
            ],
            [
             0.3333333333333333,
             "#9c179e"
            ],
            [
             0.4444444444444444,
             "#bd3786"
            ],
            [
             0.5555555555555556,
             "#d8576b"
            ],
            [
             0.6666666666666666,
             "#ed7953"
            ],
            [
             0.7777777777777778,
             "#fb9f3a"
            ],
            [
             0.8888888888888888,
             "#fdca26"
            ],
            [
             1,
             "#f0f921"
            ]
           ],
           "sequentialminus": [
            [
             0,
             "#0d0887"
            ],
            [
             0.1111111111111111,
             "#46039f"
            ],
            [
             0.2222222222222222,
             "#7201a8"
            ],
            [
             0.3333333333333333,
             "#9c179e"
            ],
            [
             0.4444444444444444,
             "#bd3786"
            ],
            [
             0.5555555555555556,
             "#d8576b"
            ],
            [
             0.6666666666666666,
             "#ed7953"
            ],
            [
             0.7777777777777778,
             "#fb9f3a"
            ],
            [
             0.8888888888888888,
             "#fdca26"
            ],
            [
             1,
             "#f0f921"
            ]
           ]
          },
          "colorway": [
           "#636efa",
           "#EF553B",
           "#00cc96",
           "#ab63fa",
           "#FFA15A",
           "#19d3f3",
           "#FF6692",
           "#B6E880",
           "#FF97FF",
           "#FECB52"
          ],
          "font": {
           "color": "#2a3f5f"
          },
          "geo": {
           "bgcolor": "white",
           "lakecolor": "white",
           "landcolor": "#E5ECF6",
           "showlakes": true,
           "showland": true,
           "subunitcolor": "white"
          },
          "hoverlabel": {
           "align": "left"
          },
          "hovermode": "closest",
          "mapbox": {
           "style": "light"
          },
          "paper_bgcolor": "white",
          "plot_bgcolor": "#E5ECF6",
          "polar": {
           "angularaxis": {
            "gridcolor": "white",
            "linecolor": "white",
            "ticks": ""
           },
           "bgcolor": "#E5ECF6",
           "radialaxis": {
            "gridcolor": "white",
            "linecolor": "white",
            "ticks": ""
           }
          },
          "scene": {
           "xaxis": {
            "backgroundcolor": "#E5ECF6",
            "gridcolor": "white",
            "gridwidth": 2,
            "linecolor": "white",
            "showbackground": true,
            "ticks": "",
            "zerolinecolor": "white"
           },
           "yaxis": {
            "backgroundcolor": "#E5ECF6",
            "gridcolor": "white",
            "gridwidth": 2,
            "linecolor": "white",
            "showbackground": true,
            "ticks": "",
            "zerolinecolor": "white"
           },
           "zaxis": {
            "backgroundcolor": "#E5ECF6",
            "gridcolor": "white",
            "gridwidth": 2,
            "linecolor": "white",
            "showbackground": true,
            "ticks": "",
            "zerolinecolor": "white"
           }
          },
          "shapedefaults": {
           "line": {
            "color": "#2a3f5f"
           }
          },
          "ternary": {
           "aaxis": {
            "gridcolor": "white",
            "linecolor": "white",
            "ticks": ""
           },
           "baxis": {
            "gridcolor": "white",
            "linecolor": "white",
            "ticks": ""
           },
           "bgcolor": "#E5ECF6",
           "caxis": {
            "gridcolor": "white",
            "linecolor": "white",
            "ticks": ""
           }
          },
          "title": {
           "x": 0.05
          },
          "xaxis": {
           "automargin": true,
           "gridcolor": "white",
           "linecolor": "white",
           "ticks": "",
           "title": {
            "standoff": 15
           },
           "zerolinecolor": "white",
           "zerolinewidth": 2
          },
          "yaxis": {
           "automargin": true,
           "gridcolor": "white",
           "linecolor": "white",
           "ticks": "",
           "title": {
            "standoff": 15
           },
           "zerolinecolor": "white",
           "zerolinewidth": 2
          }
         }
        },
        "title": {
         "font": {
          "color": "black",
          "size": 24
         },
         "text": "Total Crimes by State (1975-2015)"
        }
       }
      },
      "text/html": [
       "<div>                            <div id=\"e7219774-c7cb-43b4-9b24-7023cbcc99c7\" class=\"plotly-graph-div\" style=\"height:525px; width:100%;\"></div>            <script type=\"text/javascript\">                require([\"plotly\"], function(Plotly) {                    window.PLOTLYENV=window.PLOTLYENV || {};                                    if (document.getElementById(\"e7219774-c7cb-43b4-9b24-7023cbcc99c7\")) {                    Plotly.newPlot(                        \"e7219774-c7cb-43b4-9b24-7023cbcc99c7\",                        [{\"coloraxis\":\"coloraxis\",\"geo\":\"geo\",\"hovertemplate\":\"State=%{location}\\u003cbr\\u003eTotal Crimes (millions)=%{z}\\u003cextra\\u003e\\u003c\\u002fextra\\u003e\",\"locationmode\":\"USA-states\",\"locations\":[\"AZ\",\"CA\",\"CO\",\"DC\",\"FL\",\"GA\",\"HI\",\"IL\",\"IN\",\"KS\",\"KY\",\"LA\",\"MA\",\"MD\",\"MI\",\"MN\",\"MO\",\"NC\",\"NE\",\"NJ\",\"NM\",\"NV\",\"NY\",\"OH\",\"OK\",\"OR\",\"PA\",\"TN\",\"TX\",\"UT\",\"United States\",\"VA\",\"WA\",\"WI\"],\"name\":\"\",\"z\":[1.165532,7.98044,0.495232,0.867874,3.006844,0.85814,0.189544,3.921772,0.559014,0.186996,0.100832,0.54094,0.748272,2.273212,1.836006,0.394494,1.38232,0.63666,0.228346,0.547508,0.362364,0.609838,9.180208,1.34119,0.684876,0.46233,1.84371,1.326566,4.418434,0.104778,0.0,0.136282,0.408098,0.4601],\"type\":\"choropleth\"}],                        {\"template\":{\"data\":{\"histogram2dcontour\":[{\"type\":\"histogram2dcontour\",\"colorbar\":{\"outlinewidth\":0,\"ticks\":\"\"},\"colorscale\":[[0.0,\"#0d0887\"],[0.1111111111111111,\"#46039f\"],[0.2222222222222222,\"#7201a8\"],[0.3333333333333333,\"#9c179e\"],[0.4444444444444444,\"#bd3786\"],[0.5555555555555556,\"#d8576b\"],[0.6666666666666666,\"#ed7953\"],[0.7777777777777778,\"#fb9f3a\"],[0.8888888888888888,\"#fdca26\"],[1.0,\"#f0f921\"]]}],\"choropleth\":[{\"type\":\"choropleth\",\"colorbar\":{\"outlinewidth\":0,\"ticks\":\"\"}}],\"histogram2d\":[{\"type\":\"histogram2d\",\"colorbar\":{\"outlinewidth\":0,\"ticks\":\"\"},\"colorscale\":[[0.0,\"#0d0887\"],[0.1111111111111111,\"#46039f\"],[0.2222222222222222,\"#7201a8\"],[0.3333333333333333,\"#9c179e\"],[0.4444444444444444,\"#bd3786\"],[0.5555555555555556,\"#d8576b\"],[0.6666666666666666,\"#ed7953\"],[0.7777777777777778,\"#fb9f3a\"],[0.8888888888888888,\"#fdca26\"],[1.0,\"#f0f921\"]]}],\"heatmap\":[{\"type\":\"heatmap\",\"colorbar\":{\"outlinewidth\":0,\"ticks\":\"\"},\"colorscale\":[[0.0,\"#0d0887\"],[0.1111111111111111,\"#46039f\"],[0.2222222222222222,\"#7201a8\"],[0.3333333333333333,\"#9c179e\"],[0.4444444444444444,\"#bd3786\"],[0.5555555555555556,\"#d8576b\"],[0.6666666666666666,\"#ed7953\"],[0.7777777777777778,\"#fb9f3a\"],[0.8888888888888888,\"#fdca26\"],[1.0,\"#f0f921\"]]}],\"heatmapgl\":[{\"type\":\"heatmapgl\",\"colorbar\":{\"outlinewidth\":0,\"ticks\":\"\"},\"colorscale\":[[0.0,\"#0d0887\"],[0.1111111111111111,\"#46039f\"],[0.2222222222222222,\"#7201a8\"],[0.3333333333333333,\"#9c179e\"],[0.4444444444444444,\"#bd3786\"],[0.5555555555555556,\"#d8576b\"],[0.6666666666666666,\"#ed7953\"],[0.7777777777777778,\"#fb9f3a\"],[0.8888888888888888,\"#fdca26\"],[1.0,\"#f0f921\"]]}],\"contourcarpet\":[{\"type\":\"contourcarpet\",\"colorbar\":{\"outlinewidth\":0,\"ticks\":\"\"}}],\"contour\":[{\"type\":\"contour\",\"colorbar\":{\"outlinewidth\":0,\"ticks\":\"\"},\"colorscale\":[[0.0,\"#0d0887\"],[0.1111111111111111,\"#46039f\"],[0.2222222222222222,\"#7201a8\"],[0.3333333333333333,\"#9c179e\"],[0.4444444444444444,\"#bd3786\"],[0.5555555555555556,\"#d8576b\"],[0.6666666666666666,\"#ed7953\"],[0.7777777777777778,\"#fb9f3a\"],[0.8888888888888888,\"#fdca26\"],[1.0,\"#f0f921\"]]}],\"surface\":[{\"type\":\"surface\",\"colorbar\":{\"outlinewidth\":0,\"ticks\":\"\"},\"colorscale\":[[0.0,\"#0d0887\"],[0.1111111111111111,\"#46039f\"],[0.2222222222222222,\"#7201a8\"],[0.3333333333333333,\"#9c179e\"],[0.4444444444444444,\"#bd3786\"],[0.5555555555555556,\"#d8576b\"],[0.6666666666666666,\"#ed7953\"],[0.7777777777777778,\"#fb9f3a\"],[0.8888888888888888,\"#fdca26\"],[1.0,\"#f0f921\"]]}],\"mesh3d\":[{\"type\":\"mesh3d\",\"colorbar\":{\"outlinewidth\":0,\"ticks\":\"\"}}],\"scatter\":[{\"fillpattern\":{\"fillmode\":\"overlay\",\"size\":10,\"solidity\":0.2},\"type\":\"scatter\"}],\"parcoords\":[{\"type\":\"parcoords\",\"line\":{\"colorbar\":{\"outlinewidth\":0,\"ticks\":\"\"}}}],\"scatterpolargl\":[{\"type\":\"scatterpolargl\",\"marker\":{\"colorbar\":{\"outlinewidth\":0,\"ticks\":\"\"}}}],\"bar\":[{\"error_x\":{\"color\":\"#2a3f5f\"},\"error_y\":{\"color\":\"#2a3f5f\"},\"marker\":{\"line\":{\"color\":\"#E5ECF6\",\"width\":0.5},\"pattern\":{\"fillmode\":\"overlay\",\"size\":10,\"solidity\":0.2}},\"type\":\"bar\"}],\"scattergeo\":[{\"type\":\"scattergeo\",\"marker\":{\"colorbar\":{\"outlinewidth\":0,\"ticks\":\"\"}}}],\"scatterpolar\":[{\"type\":\"scatterpolar\",\"marker\":{\"colorbar\":{\"outlinewidth\":0,\"ticks\":\"\"}}}],\"histogram\":[{\"marker\":{\"pattern\":{\"fillmode\":\"overlay\",\"size\":10,\"solidity\":0.2}},\"type\":\"histogram\"}],\"scattergl\":[{\"type\":\"scattergl\",\"marker\":{\"colorbar\":{\"outlinewidth\":0,\"ticks\":\"\"}}}],\"scatter3d\":[{\"type\":\"scatter3d\",\"line\":{\"colorbar\":{\"outlinewidth\":0,\"ticks\":\"\"}},\"marker\":{\"colorbar\":{\"outlinewidth\":0,\"ticks\":\"\"}}}],\"scattermapbox\":[{\"type\":\"scattermapbox\",\"marker\":{\"colorbar\":{\"outlinewidth\":0,\"ticks\":\"\"}}}],\"scatterternary\":[{\"type\":\"scatterternary\",\"marker\":{\"colorbar\":{\"outlinewidth\":0,\"ticks\":\"\"}}}],\"scattercarpet\":[{\"type\":\"scattercarpet\",\"marker\":{\"colorbar\":{\"outlinewidth\":0,\"ticks\":\"\"}}}],\"carpet\":[{\"aaxis\":{\"endlinecolor\":\"#2a3f5f\",\"gridcolor\":\"white\",\"linecolor\":\"white\",\"minorgridcolor\":\"white\",\"startlinecolor\":\"#2a3f5f\"},\"baxis\":{\"endlinecolor\":\"#2a3f5f\",\"gridcolor\":\"white\",\"linecolor\":\"white\",\"minorgridcolor\":\"white\",\"startlinecolor\":\"#2a3f5f\"},\"type\":\"carpet\"}],\"table\":[{\"cells\":{\"fill\":{\"color\":\"#EBF0F8\"},\"line\":{\"color\":\"white\"}},\"header\":{\"fill\":{\"color\":\"#C8D4E3\"},\"line\":{\"color\":\"white\"}},\"type\":\"table\"}],\"barpolar\":[{\"marker\":{\"line\":{\"color\":\"#E5ECF6\",\"width\":0.5},\"pattern\":{\"fillmode\":\"overlay\",\"size\":10,\"solidity\":0.2}},\"type\":\"barpolar\"}],\"pie\":[{\"automargin\":true,\"type\":\"pie\"}]},\"layout\":{\"autotypenumbers\":\"strict\",\"colorway\":[\"#636efa\",\"#EF553B\",\"#00cc96\",\"#ab63fa\",\"#FFA15A\",\"#19d3f3\",\"#FF6692\",\"#B6E880\",\"#FF97FF\",\"#FECB52\"],\"font\":{\"color\":\"#2a3f5f\"},\"hovermode\":\"closest\",\"hoverlabel\":{\"align\":\"left\"},\"paper_bgcolor\":\"white\",\"plot_bgcolor\":\"#E5ECF6\",\"polar\":{\"bgcolor\":\"#E5ECF6\",\"angularaxis\":{\"gridcolor\":\"white\",\"linecolor\":\"white\",\"ticks\":\"\"},\"radialaxis\":{\"gridcolor\":\"white\",\"linecolor\":\"white\",\"ticks\":\"\"}},\"ternary\":{\"bgcolor\":\"#E5ECF6\",\"aaxis\":{\"gridcolor\":\"white\",\"linecolor\":\"white\",\"ticks\":\"\"},\"baxis\":{\"gridcolor\":\"white\",\"linecolor\":\"white\",\"ticks\":\"\"},\"caxis\":{\"gridcolor\":\"white\",\"linecolor\":\"white\",\"ticks\":\"\"}},\"coloraxis\":{\"colorbar\":{\"outlinewidth\":0,\"ticks\":\"\"}},\"colorscale\":{\"sequential\":[[0.0,\"#0d0887\"],[0.1111111111111111,\"#46039f\"],[0.2222222222222222,\"#7201a8\"],[0.3333333333333333,\"#9c179e\"],[0.4444444444444444,\"#bd3786\"],[0.5555555555555556,\"#d8576b\"],[0.6666666666666666,\"#ed7953\"],[0.7777777777777778,\"#fb9f3a\"],[0.8888888888888888,\"#fdca26\"],[1.0,\"#f0f921\"]],\"sequentialminus\":[[0.0,\"#0d0887\"],[0.1111111111111111,\"#46039f\"],[0.2222222222222222,\"#7201a8\"],[0.3333333333333333,\"#9c179e\"],[0.4444444444444444,\"#bd3786\"],[0.5555555555555556,\"#d8576b\"],[0.6666666666666666,\"#ed7953\"],[0.7777777777777778,\"#fb9f3a\"],[0.8888888888888888,\"#fdca26\"],[1.0,\"#f0f921\"]],\"diverging\":[[0,\"#8e0152\"],[0.1,\"#c51b7d\"],[0.2,\"#de77ae\"],[0.3,\"#f1b6da\"],[0.4,\"#fde0ef\"],[0.5,\"#f7f7f7\"],[0.6,\"#e6f5d0\"],[0.7,\"#b8e186\"],[0.8,\"#7fbc41\"],[0.9,\"#4d9221\"],[1,\"#276419\"]]},\"xaxis\":{\"gridcolor\":\"white\",\"linecolor\":\"white\",\"ticks\":\"\",\"title\":{\"standoff\":15},\"zerolinecolor\":\"white\",\"automargin\":true,\"zerolinewidth\":2},\"yaxis\":{\"gridcolor\":\"white\",\"linecolor\":\"white\",\"ticks\":\"\",\"title\":{\"standoff\":15},\"zerolinecolor\":\"white\",\"automargin\":true,\"zerolinewidth\":2},\"scene\":{\"xaxis\":{\"backgroundcolor\":\"#E5ECF6\",\"gridcolor\":\"white\",\"linecolor\":\"white\",\"showbackground\":true,\"ticks\":\"\",\"zerolinecolor\":\"white\",\"gridwidth\":2},\"yaxis\":{\"backgroundcolor\":\"#E5ECF6\",\"gridcolor\":\"white\",\"linecolor\":\"white\",\"showbackground\":true,\"ticks\":\"\",\"zerolinecolor\":\"white\",\"gridwidth\":2},\"zaxis\":{\"backgroundcolor\":\"#E5ECF6\",\"gridcolor\":\"white\",\"linecolor\":\"white\",\"showbackground\":true,\"ticks\":\"\",\"zerolinecolor\":\"white\",\"gridwidth\":2}},\"shapedefaults\":{\"line\":{\"color\":\"#2a3f5f\"}},\"annotationdefaults\":{\"arrowcolor\":\"#2a3f5f\",\"arrowhead\":0,\"arrowwidth\":1},\"geo\":{\"bgcolor\":\"white\",\"landcolor\":\"#E5ECF6\",\"subunitcolor\":\"white\",\"showland\":true,\"showlakes\":true,\"lakecolor\":\"white\"},\"title\":{\"x\":0.05},\"mapbox\":{\"style\":\"light\"}}},\"geo\":{\"domain\":{\"x\":[0.0,1.0],\"y\":[0.0,1.0]},\"center\":{},\"scope\":\"usa\",\"projection\":{\"type\":\"albers usa\"},\"visible\":true,\"showland\":true,\"showcoastlines\":true,\"coastlinecolor\":\"black\",\"oceancolor\":\"darkblue\"},\"coloraxis\":{\"colorbar\":{\"title\":{\"text\":\"Total Crimes (millions)\"}},\"colorscale\":[[0.0,\"rgb(103,0,31)\"],[0.1,\"rgb(178,24,43)\"],[0.2,\"rgb(214,96,77)\"],[0.3,\"rgb(244,165,130)\"],[0.4,\"rgb(253,219,199)\"],[0.5,\"rgb(247,247,247)\"],[0.6,\"rgb(209,229,240)\"],[0.7,\"rgb(146,197,222)\"],[0.8,\"rgb(67,147,195)\"],[0.9,\"rgb(33,102,172)\"],[1.0,\"rgb(5,48,97)\"]],\"cmin\":0.0,\"cmax\":9.180208},\"legend\":{\"tracegroupgap\":0},\"title\":{\"text\":\"Total Crimes by State (1975-2015)\",\"font\":{\"size\":24,\"color\":\"black\"}},\"font\":{\"color\":\"black\"},\"plot_bgcolor\":\"black\",\"paper_bgcolor\":\"white\"},                        {\"responsive\": true}                    ).then(function(){\n",
       "                            \n",
       "var gd = document.getElementById('e7219774-c7cb-43b4-9b24-7023cbcc99c7');\n",
       "var x = new MutationObserver(function (mutations, observer) {{\n",
       "        var display = window.getComputedStyle(gd).display;\n",
       "        if (!display || display === 'none') {{\n",
       "            console.log([gd, 'removed!']);\n",
       "            Plotly.purge(gd);\n",
       "            observer.disconnect();\n",
       "        }}\n",
       "}});\n",
       "\n",
       "// Listen for the removal of the full notebook cells\n",
       "var notebookContainer = gd.closest('#notebook-container');\n",
       "if (notebookContainer) {{\n",
       "    x.observe(notebookContainer, {childList: true});\n",
       "}}\n",
       "\n",
       "// Listen for the clearing of the current output cell\n",
       "var outputEl = gd.closest('.output');\n",
       "if (outputEl) {{\n",
       "    x.observe(outputEl, {childList: true});\n",
       "}}\n",
       "\n",
       "                        })                };                });            </script>        </div>"
      ]
     },
     "metadata": {},
     "output_type": "display_data"
    }
   ],
   "source": [
    "\n",
    "# Assuming df2 is your dataframe, sum the crime columns\n",
    "df2['total_crimes'] = df2['violent_crimes'] + df2['homicides'] + df2['rapes'] + df2['assaults'] + df2['robberies']\n",
    "\n",
    "# Now you can group by the 'State' or 'agency_jurisdiction' (if needed) and aggregate the total crimes\n",
    "# If you want to aggregate by state, extract the state from the 'agency_jurisdiction'\n",
    "df2['State'] = df2['agency_jurisdiction'].str.split(',').str[-1].str.strip()\n",
    "\n",
    "# Group by state and aggregate total crimes\n",
    "state_crime_data = df2.groupby('State', as_index=False).agg({\n",
    "    'total_crimes': 'sum',  # Sum of all crime types for each state\n",
    "    'population': 'sum'     # Sum of population for each state (optional)\n",
    "})\n",
    "\n",
    "# Normalize the total crimes by dividing by 1 million (optional)\n",
    "state_crime_data['total_crimes_million'] = state_crime_data['total_crimes'] / 1e6\n",
    "\n",
    "# Define the min and max values for scaling\n",
    "min_crimes = state_crime_data['total_crimes_million'].min()\n",
    "max_crimes = state_crime_data['total_crimes_million'].max()\n",
    "\n",
    "# Create the choropleth map using Plotly Express\n",
    "fig = px.choropleth(\n",
    "    state_crime_data,\n",
    "    locations='State',\n",
    "    locationmode='USA-states',\n",
    "    color='total_crimes_million',  # Use the total crime values\n",
    "    scope='usa',\n",
    "    color_continuous_scale='RdBu',  # Color scale\n",
    "    title='Total Crimes by State (1975-2015)',\n",
    "    labels={'total_crimes_million': 'Total Crimes (millions)'},\n",
    "    range_color=[min_crimes, max_crimes]  # Set custom range (0 to 5 million)\n",
    ")\n",
    "\n",
    "fig.update_geos(\n",
    "    visible=True,\n",
    "    projection_type='albers usa',  # Optional: to change the projection type\n",
    "    showland=True,\n",
    "    showcoastlines=True,\n",
    "    coastlinecolor='black',  # Coastlines to black\n",
    "    oceancolor='darkblue',  # Set the ocean (non-land) color\n",
    ")\n",
    "\n",
    "# Set the background to black\n",
    "fig.update_layout(\n",
    "    plot_bgcolor='black',  # Set the plot area background to black\n",
    "    paper_bgcolor='white',  # Set the surrounding area to black\n",
    "    font=dict(color='black'),  # Set font color to white to be visible on black background\n",
    "    title_font=dict(size=24, color='black'),  # Title font color and size\n",
    "    geo_scope='usa'  # Focus on the United States map\n",
    ")\n",
    "\n",
    "# Show the plot\n",
    "fig.show()\n"
   ]
  },
  {
   "cell_type": "markdown",
   "metadata": {
    "_uuid": "985c39ef30fad2affa0d4f8b9104dd8c80a4a60f"
   },
   "source": [
    "There are a couple of things that are interesting here. First of all city \"United States\" is the sum of them all. Further more New York, LA, Chicago seem to be most violent, or is it because of the shere number of citizens in these towns? How can we investigate it? Let us creeate a new variable that is relative to the number of citizens, i.e. total number of crime divided with total citizens. (NOTE: Black line is simply confidence interval of estimation)"
   ]
  },
  {
   "cell_type": "markdown",
   "metadata": {
    "_uuid": "f7738c78c901dc4301b445e8898d90052541b6fa"
   },
   "source": [
    "# Main metric that we are trying to predict:"
   ]
  },
  {
   "cell_type": "code",
   "execution_count": 80,
   "metadata": {
    "_uuid": "438bad9467e3f09aaa99b7bc71d7c337820976df",
    "trusted": true
   },
   "outputs": [],
   "source": [
    "\n",
    "df2[\"relative_crime\"]=(df2[\"violent_crimes\"]+df2[\"homicides\"]+\n",
    "                 df2[\"rapes\"]+df2[\"assaults\"]+df2[\"robberies\"])/df2.population\n",
    "\n"
   ]
  },
  {
   "cell_type": "code",
   "execution_count": 81,
   "metadata": {},
   "outputs": [
    {
     "data": {
      "application/vnd.plotly.v1+json": {
       "config": {
        "plotlyServerURL": "https://plot.ly"
       },
       "data": [
        {
         "coloraxis": "coloraxis",
         "geo": "geo",
         "hovertemplate": "State=%{location}<br>relative_crime=%{z}<extra></extra>",
         "locationmode": "USA-states",
         "locations": [
          "AZ",
          "CA",
          "CO",
          "DC",
          "FL",
          "GA",
          "HI",
          "IL",
          "IN",
          "KS",
          "KY",
          "LA",
          "MA",
          "MD",
          "MI",
          "MN",
          "MO",
          "NC",
          "NE",
          "NJ",
          "NM",
          "NV",
          "NY",
          "OH",
          "OK",
          "OR",
          "PA",
          "TN",
          "TX",
          "UT",
          "United States",
          "VA",
          "WA",
          "WI"
         ],
         "name": "",
         "type": "choropleth",
         "z": [
          0.0000017668289300859127,
          0.000007877843716471206,
          0.0000012972917936702132,
          0.0000014394902090294197,
          0.000006702352375435661,
          0.000001989258880565141,
          2.201539386419375e-7,
          0.0000013630166403119736,
          9.230754756357101e-7,
          5.696806214750111e-7,
          1.5601555400222268e-7,
          0.0000011002473605946545,
          0.000001284890961590219,
          0.0000032413121979541296,
          0.0000018191581887470494,
          0.0000010554715904857835,
          0.0000033070222243695956,
          0.0000015328038645454835,
          6.127818167878081e-7,
          0.0000018347526969424816,
          8.608152789119182e-7,
          7.303702887067529e-7,
          0.000002473813205494413,
          0.000002691881322359382,
          0.000001597593159570537,
          0.000001048793780021649,
          0.0000018171173910713753,
          0.0000022159148132073982,
          0.000004735574620499018,
          5.908243663813678e-7,
          0,
          2.692149470035439e-7,
          7.567492177852299e-7,
          7.538998697662997e-7
         ]
        }
       ],
       "layout": {
        "coloraxis": {
         "cmax": 0.000007877843716471206,
         "cmin": 0,
         "colorbar": {
          "title": {
           "text": "relative_crime"
          }
         },
         "colorscale": [
          [
           0,
           "rgb(103,0,31)"
          ],
          [
           0.1,
           "rgb(178,24,43)"
          ],
          [
           0.2,
           "rgb(214,96,77)"
          ],
          [
           0.3,
           "rgb(244,165,130)"
          ],
          [
           0.4,
           "rgb(253,219,199)"
          ],
          [
           0.5,
           "rgb(247,247,247)"
          ],
          [
           0.6,
           "rgb(209,229,240)"
          ],
          [
           0.7,
           "rgb(146,197,222)"
          ],
          [
           0.8,
           "rgb(67,147,195)"
          ],
          [
           0.9,
           "rgb(33,102,172)"
          ],
          [
           1,
           "rgb(5,48,97)"
          ]
         ]
        },
        "font": {
         "color": "black"
        },
        "geo": {
         "center": {},
         "coastlinecolor": "black",
         "domain": {
          "x": [
           0,
           1
          ],
          "y": [
           0,
           1
          ]
         },
         "oceancolor": "darkblue",
         "projection": {
          "type": "albers usa"
         },
         "scope": "usa",
         "showcoastlines": true,
         "showland": true,
         "visible": true
        },
        "legend": {
         "tracegroupgap": 0
        },
        "paper_bgcolor": "white",
        "plot_bgcolor": "black",
        "template": {
         "data": {
          "bar": [
           {
            "error_x": {
             "color": "#2a3f5f"
            },
            "error_y": {
             "color": "#2a3f5f"
            },
            "marker": {
             "line": {
              "color": "#E5ECF6",
              "width": 0.5
             },
             "pattern": {
              "fillmode": "overlay",
              "size": 10,
              "solidity": 0.2
             }
            },
            "type": "bar"
           }
          ],
          "barpolar": [
           {
            "marker": {
             "line": {
              "color": "#E5ECF6",
              "width": 0.5
             },
             "pattern": {
              "fillmode": "overlay",
              "size": 10,
              "solidity": 0.2
             }
            },
            "type": "barpolar"
           }
          ],
          "carpet": [
           {
            "aaxis": {
             "endlinecolor": "#2a3f5f",
             "gridcolor": "white",
             "linecolor": "white",
             "minorgridcolor": "white",
             "startlinecolor": "#2a3f5f"
            },
            "baxis": {
             "endlinecolor": "#2a3f5f",
             "gridcolor": "white",
             "linecolor": "white",
             "minorgridcolor": "white",
             "startlinecolor": "#2a3f5f"
            },
            "type": "carpet"
           }
          ],
          "choropleth": [
           {
            "colorbar": {
             "outlinewidth": 0,
             "ticks": ""
            },
            "type": "choropleth"
           }
          ],
          "contour": [
           {
            "colorbar": {
             "outlinewidth": 0,
             "ticks": ""
            },
            "colorscale": [
             [
              0,
              "#0d0887"
             ],
             [
              0.1111111111111111,
              "#46039f"
             ],
             [
              0.2222222222222222,
              "#7201a8"
             ],
             [
              0.3333333333333333,
              "#9c179e"
             ],
             [
              0.4444444444444444,
              "#bd3786"
             ],
             [
              0.5555555555555556,
              "#d8576b"
             ],
             [
              0.6666666666666666,
              "#ed7953"
             ],
             [
              0.7777777777777778,
              "#fb9f3a"
             ],
             [
              0.8888888888888888,
              "#fdca26"
             ],
             [
              1,
              "#f0f921"
             ]
            ],
            "type": "contour"
           }
          ],
          "contourcarpet": [
           {
            "colorbar": {
             "outlinewidth": 0,
             "ticks": ""
            },
            "type": "contourcarpet"
           }
          ],
          "heatmap": [
           {
            "colorbar": {
             "outlinewidth": 0,
             "ticks": ""
            },
            "colorscale": [
             [
              0,
              "#0d0887"
             ],
             [
              0.1111111111111111,
              "#46039f"
             ],
             [
              0.2222222222222222,
              "#7201a8"
             ],
             [
              0.3333333333333333,
              "#9c179e"
             ],
             [
              0.4444444444444444,
              "#bd3786"
             ],
             [
              0.5555555555555556,
              "#d8576b"
             ],
             [
              0.6666666666666666,
              "#ed7953"
             ],
             [
              0.7777777777777778,
              "#fb9f3a"
             ],
             [
              0.8888888888888888,
              "#fdca26"
             ],
             [
              1,
              "#f0f921"
             ]
            ],
            "type": "heatmap"
           }
          ],
          "heatmapgl": [
           {
            "colorbar": {
             "outlinewidth": 0,
             "ticks": ""
            },
            "colorscale": [
             [
              0,
              "#0d0887"
             ],
             [
              0.1111111111111111,
              "#46039f"
             ],
             [
              0.2222222222222222,
              "#7201a8"
             ],
             [
              0.3333333333333333,
              "#9c179e"
             ],
             [
              0.4444444444444444,
              "#bd3786"
             ],
             [
              0.5555555555555556,
              "#d8576b"
             ],
             [
              0.6666666666666666,
              "#ed7953"
             ],
             [
              0.7777777777777778,
              "#fb9f3a"
             ],
             [
              0.8888888888888888,
              "#fdca26"
             ],
             [
              1,
              "#f0f921"
             ]
            ],
            "type": "heatmapgl"
           }
          ],
          "histogram": [
           {
            "marker": {
             "pattern": {
              "fillmode": "overlay",
              "size": 10,
              "solidity": 0.2
             }
            },
            "type": "histogram"
           }
          ],
          "histogram2d": [
           {
            "colorbar": {
             "outlinewidth": 0,
             "ticks": ""
            },
            "colorscale": [
             [
              0,
              "#0d0887"
             ],
             [
              0.1111111111111111,
              "#46039f"
             ],
             [
              0.2222222222222222,
              "#7201a8"
             ],
             [
              0.3333333333333333,
              "#9c179e"
             ],
             [
              0.4444444444444444,
              "#bd3786"
             ],
             [
              0.5555555555555556,
              "#d8576b"
             ],
             [
              0.6666666666666666,
              "#ed7953"
             ],
             [
              0.7777777777777778,
              "#fb9f3a"
             ],
             [
              0.8888888888888888,
              "#fdca26"
             ],
             [
              1,
              "#f0f921"
             ]
            ],
            "type": "histogram2d"
           }
          ],
          "histogram2dcontour": [
           {
            "colorbar": {
             "outlinewidth": 0,
             "ticks": ""
            },
            "colorscale": [
             [
              0,
              "#0d0887"
             ],
             [
              0.1111111111111111,
              "#46039f"
             ],
             [
              0.2222222222222222,
              "#7201a8"
             ],
             [
              0.3333333333333333,
              "#9c179e"
             ],
             [
              0.4444444444444444,
              "#bd3786"
             ],
             [
              0.5555555555555556,
              "#d8576b"
             ],
             [
              0.6666666666666666,
              "#ed7953"
             ],
             [
              0.7777777777777778,
              "#fb9f3a"
             ],
             [
              0.8888888888888888,
              "#fdca26"
             ],
             [
              1,
              "#f0f921"
             ]
            ],
            "type": "histogram2dcontour"
           }
          ],
          "mesh3d": [
           {
            "colorbar": {
             "outlinewidth": 0,
             "ticks": ""
            },
            "type": "mesh3d"
           }
          ],
          "parcoords": [
           {
            "line": {
             "colorbar": {
              "outlinewidth": 0,
              "ticks": ""
             }
            },
            "type": "parcoords"
           }
          ],
          "pie": [
           {
            "automargin": true,
            "type": "pie"
           }
          ],
          "scatter": [
           {
            "fillpattern": {
             "fillmode": "overlay",
             "size": 10,
             "solidity": 0.2
            },
            "type": "scatter"
           }
          ],
          "scatter3d": [
           {
            "line": {
             "colorbar": {
              "outlinewidth": 0,
              "ticks": ""
             }
            },
            "marker": {
             "colorbar": {
              "outlinewidth": 0,
              "ticks": ""
             }
            },
            "type": "scatter3d"
           }
          ],
          "scattercarpet": [
           {
            "marker": {
             "colorbar": {
              "outlinewidth": 0,
              "ticks": ""
             }
            },
            "type": "scattercarpet"
           }
          ],
          "scattergeo": [
           {
            "marker": {
             "colorbar": {
              "outlinewidth": 0,
              "ticks": ""
             }
            },
            "type": "scattergeo"
           }
          ],
          "scattergl": [
           {
            "marker": {
             "colorbar": {
              "outlinewidth": 0,
              "ticks": ""
             }
            },
            "type": "scattergl"
           }
          ],
          "scattermapbox": [
           {
            "marker": {
             "colorbar": {
              "outlinewidth": 0,
              "ticks": ""
             }
            },
            "type": "scattermapbox"
           }
          ],
          "scatterpolar": [
           {
            "marker": {
             "colorbar": {
              "outlinewidth": 0,
              "ticks": ""
             }
            },
            "type": "scatterpolar"
           }
          ],
          "scatterpolargl": [
           {
            "marker": {
             "colorbar": {
              "outlinewidth": 0,
              "ticks": ""
             }
            },
            "type": "scatterpolargl"
           }
          ],
          "scatterternary": [
           {
            "marker": {
             "colorbar": {
              "outlinewidth": 0,
              "ticks": ""
             }
            },
            "type": "scatterternary"
           }
          ],
          "surface": [
           {
            "colorbar": {
             "outlinewidth": 0,
             "ticks": ""
            },
            "colorscale": [
             [
              0,
              "#0d0887"
             ],
             [
              0.1111111111111111,
              "#46039f"
             ],
             [
              0.2222222222222222,
              "#7201a8"
             ],
             [
              0.3333333333333333,
              "#9c179e"
             ],
             [
              0.4444444444444444,
              "#bd3786"
             ],
             [
              0.5555555555555556,
              "#d8576b"
             ],
             [
              0.6666666666666666,
              "#ed7953"
             ],
             [
              0.7777777777777778,
              "#fb9f3a"
             ],
             [
              0.8888888888888888,
              "#fdca26"
             ],
             [
              1,
              "#f0f921"
             ]
            ],
            "type": "surface"
           }
          ],
          "table": [
           {
            "cells": {
             "fill": {
              "color": "#EBF0F8"
             },
             "line": {
              "color": "white"
             }
            },
            "header": {
             "fill": {
              "color": "#C8D4E3"
             },
             "line": {
              "color": "white"
             }
            },
            "type": "table"
           }
          ]
         },
         "layout": {
          "annotationdefaults": {
           "arrowcolor": "#2a3f5f",
           "arrowhead": 0,
           "arrowwidth": 1
          },
          "autotypenumbers": "strict",
          "coloraxis": {
           "colorbar": {
            "outlinewidth": 0,
            "ticks": ""
           }
          },
          "colorscale": {
           "diverging": [
            [
             0,
             "#8e0152"
            ],
            [
             0.1,
             "#c51b7d"
            ],
            [
             0.2,
             "#de77ae"
            ],
            [
             0.3,
             "#f1b6da"
            ],
            [
             0.4,
             "#fde0ef"
            ],
            [
             0.5,
             "#f7f7f7"
            ],
            [
             0.6,
             "#e6f5d0"
            ],
            [
             0.7,
             "#b8e186"
            ],
            [
             0.8,
             "#7fbc41"
            ],
            [
             0.9,
             "#4d9221"
            ],
            [
             1,
             "#276419"
            ]
           ],
           "sequential": [
            [
             0,
             "#0d0887"
            ],
            [
             0.1111111111111111,
             "#46039f"
            ],
            [
             0.2222222222222222,
             "#7201a8"
            ],
            [
             0.3333333333333333,
             "#9c179e"
            ],
            [
             0.4444444444444444,
             "#bd3786"
            ],
            [
             0.5555555555555556,
             "#d8576b"
            ],
            [
             0.6666666666666666,
             "#ed7953"
            ],
            [
             0.7777777777777778,
             "#fb9f3a"
            ],
            [
             0.8888888888888888,
             "#fdca26"
            ],
            [
             1,
             "#f0f921"
            ]
           ],
           "sequentialminus": [
            [
             0,
             "#0d0887"
            ],
            [
             0.1111111111111111,
             "#46039f"
            ],
            [
             0.2222222222222222,
             "#7201a8"
            ],
            [
             0.3333333333333333,
             "#9c179e"
            ],
            [
             0.4444444444444444,
             "#bd3786"
            ],
            [
             0.5555555555555556,
             "#d8576b"
            ],
            [
             0.6666666666666666,
             "#ed7953"
            ],
            [
             0.7777777777777778,
             "#fb9f3a"
            ],
            [
             0.8888888888888888,
             "#fdca26"
            ],
            [
             1,
             "#f0f921"
            ]
           ]
          },
          "colorway": [
           "#636efa",
           "#EF553B",
           "#00cc96",
           "#ab63fa",
           "#FFA15A",
           "#19d3f3",
           "#FF6692",
           "#B6E880",
           "#FF97FF",
           "#FECB52"
          ],
          "font": {
           "color": "#2a3f5f"
          },
          "geo": {
           "bgcolor": "white",
           "lakecolor": "white",
           "landcolor": "#E5ECF6",
           "showlakes": true,
           "showland": true,
           "subunitcolor": "white"
          },
          "hoverlabel": {
           "align": "left"
          },
          "hovermode": "closest",
          "mapbox": {
           "style": "light"
          },
          "paper_bgcolor": "white",
          "plot_bgcolor": "#E5ECF6",
          "polar": {
           "angularaxis": {
            "gridcolor": "white",
            "linecolor": "white",
            "ticks": ""
           },
           "bgcolor": "#E5ECF6",
           "radialaxis": {
            "gridcolor": "white",
            "linecolor": "white",
            "ticks": ""
           }
          },
          "scene": {
           "xaxis": {
            "backgroundcolor": "#E5ECF6",
            "gridcolor": "white",
            "gridwidth": 2,
            "linecolor": "white",
            "showbackground": true,
            "ticks": "",
            "zerolinecolor": "white"
           },
           "yaxis": {
            "backgroundcolor": "#E5ECF6",
            "gridcolor": "white",
            "gridwidth": 2,
            "linecolor": "white",
            "showbackground": true,
            "ticks": "",
            "zerolinecolor": "white"
           },
           "zaxis": {
            "backgroundcolor": "#E5ECF6",
            "gridcolor": "white",
            "gridwidth": 2,
            "linecolor": "white",
            "showbackground": true,
            "ticks": "",
            "zerolinecolor": "white"
           }
          },
          "shapedefaults": {
           "line": {
            "color": "#2a3f5f"
           }
          },
          "ternary": {
           "aaxis": {
            "gridcolor": "white",
            "linecolor": "white",
            "ticks": ""
           },
           "baxis": {
            "gridcolor": "white",
            "linecolor": "white",
            "ticks": ""
           },
           "bgcolor": "#E5ECF6",
           "caxis": {
            "gridcolor": "white",
            "linecolor": "white",
            "ticks": ""
           }
          },
          "title": {
           "x": 0.05
          },
          "xaxis": {
           "automargin": true,
           "gridcolor": "white",
           "linecolor": "white",
           "ticks": "",
           "title": {
            "standoff": 15
           },
           "zerolinecolor": "white",
           "zerolinewidth": 2
          },
          "yaxis": {
           "automargin": true,
           "gridcolor": "white",
           "linecolor": "white",
           "ticks": "",
           "title": {
            "standoff": 15
           },
           "zerolinecolor": "white",
           "zerolinewidth": 2
          }
         }
        },
        "title": {
         "font": {
          "color": "black",
          "size": 24
         },
         "text": "Total Crimes by State (1975-2015)"
        }
       }
      },
      "text/html": [
       "<div>                            <div id=\"8a4cea30-a008-47e7-b8ca-28ea9de2b0e7\" class=\"plotly-graph-div\" style=\"height:525px; width:100%;\"></div>            <script type=\"text/javascript\">                require([\"plotly\"], function(Plotly) {                    window.PLOTLYENV=window.PLOTLYENV || {};                                    if (document.getElementById(\"8a4cea30-a008-47e7-b8ca-28ea9de2b0e7\")) {                    Plotly.newPlot(                        \"8a4cea30-a008-47e7-b8ca-28ea9de2b0e7\",                        [{\"coloraxis\":\"coloraxis\",\"geo\":\"geo\",\"hovertemplate\":\"State=%{location}\\u003cbr\\u003erelative_crime=%{z}\\u003cextra\\u003e\\u003c\\u002fextra\\u003e\",\"locationmode\":\"USA-states\",\"locations\":[\"AZ\",\"CA\",\"CO\",\"DC\",\"FL\",\"GA\",\"HI\",\"IL\",\"IN\",\"KS\",\"KY\",\"LA\",\"MA\",\"MD\",\"MI\",\"MN\",\"MO\",\"NC\",\"NE\",\"NJ\",\"NM\",\"NV\",\"NY\",\"OH\",\"OK\",\"OR\",\"PA\",\"TN\",\"TX\",\"UT\",\"United States\",\"VA\",\"WA\",\"WI\"],\"name\":\"\",\"z\":[1.7668289300859127e-6,7.877843716471206e-6,1.2972917936702132e-6,1.4394902090294197e-6,6.702352375435661e-6,1.989258880565141e-6,2.201539386419375e-7,1.3630166403119736e-6,9.230754756357101e-7,5.696806214750111e-7,1.5601555400222268e-7,1.1002473605946545e-6,1.284890961590219e-6,3.2413121979541296e-6,1.8191581887470494e-6,1.0554715904857835e-6,3.3070222243695956e-6,1.5328038645454835e-6,6.127818167878081e-7,1.8347526969424816e-6,8.608152789119182e-7,7.303702887067529e-7,2.473813205494413e-6,2.691881322359382e-6,1.597593159570537e-6,1.048793780021649e-6,1.8171173910713753e-6,2.2159148132073982e-6,4.735574620499018e-6,5.908243663813678e-7,0.0,2.692149470035439e-7,7.567492177852299e-7,7.538998697662997e-7],\"type\":\"choropleth\"}],                        {\"template\":{\"data\":{\"histogram2dcontour\":[{\"type\":\"histogram2dcontour\",\"colorbar\":{\"outlinewidth\":0,\"ticks\":\"\"},\"colorscale\":[[0.0,\"#0d0887\"],[0.1111111111111111,\"#46039f\"],[0.2222222222222222,\"#7201a8\"],[0.3333333333333333,\"#9c179e\"],[0.4444444444444444,\"#bd3786\"],[0.5555555555555556,\"#d8576b\"],[0.6666666666666666,\"#ed7953\"],[0.7777777777777778,\"#fb9f3a\"],[0.8888888888888888,\"#fdca26\"],[1.0,\"#f0f921\"]]}],\"choropleth\":[{\"type\":\"choropleth\",\"colorbar\":{\"outlinewidth\":0,\"ticks\":\"\"}}],\"histogram2d\":[{\"type\":\"histogram2d\",\"colorbar\":{\"outlinewidth\":0,\"ticks\":\"\"},\"colorscale\":[[0.0,\"#0d0887\"],[0.1111111111111111,\"#46039f\"],[0.2222222222222222,\"#7201a8\"],[0.3333333333333333,\"#9c179e\"],[0.4444444444444444,\"#bd3786\"],[0.5555555555555556,\"#d8576b\"],[0.6666666666666666,\"#ed7953\"],[0.7777777777777778,\"#fb9f3a\"],[0.8888888888888888,\"#fdca26\"],[1.0,\"#f0f921\"]]}],\"heatmap\":[{\"type\":\"heatmap\",\"colorbar\":{\"outlinewidth\":0,\"ticks\":\"\"},\"colorscale\":[[0.0,\"#0d0887\"],[0.1111111111111111,\"#46039f\"],[0.2222222222222222,\"#7201a8\"],[0.3333333333333333,\"#9c179e\"],[0.4444444444444444,\"#bd3786\"],[0.5555555555555556,\"#d8576b\"],[0.6666666666666666,\"#ed7953\"],[0.7777777777777778,\"#fb9f3a\"],[0.8888888888888888,\"#fdca26\"],[1.0,\"#f0f921\"]]}],\"heatmapgl\":[{\"type\":\"heatmapgl\",\"colorbar\":{\"outlinewidth\":0,\"ticks\":\"\"},\"colorscale\":[[0.0,\"#0d0887\"],[0.1111111111111111,\"#46039f\"],[0.2222222222222222,\"#7201a8\"],[0.3333333333333333,\"#9c179e\"],[0.4444444444444444,\"#bd3786\"],[0.5555555555555556,\"#d8576b\"],[0.6666666666666666,\"#ed7953\"],[0.7777777777777778,\"#fb9f3a\"],[0.8888888888888888,\"#fdca26\"],[1.0,\"#f0f921\"]]}],\"contourcarpet\":[{\"type\":\"contourcarpet\",\"colorbar\":{\"outlinewidth\":0,\"ticks\":\"\"}}],\"contour\":[{\"type\":\"contour\",\"colorbar\":{\"outlinewidth\":0,\"ticks\":\"\"},\"colorscale\":[[0.0,\"#0d0887\"],[0.1111111111111111,\"#46039f\"],[0.2222222222222222,\"#7201a8\"],[0.3333333333333333,\"#9c179e\"],[0.4444444444444444,\"#bd3786\"],[0.5555555555555556,\"#d8576b\"],[0.6666666666666666,\"#ed7953\"],[0.7777777777777778,\"#fb9f3a\"],[0.8888888888888888,\"#fdca26\"],[1.0,\"#f0f921\"]]}],\"surface\":[{\"type\":\"surface\",\"colorbar\":{\"outlinewidth\":0,\"ticks\":\"\"},\"colorscale\":[[0.0,\"#0d0887\"],[0.1111111111111111,\"#46039f\"],[0.2222222222222222,\"#7201a8\"],[0.3333333333333333,\"#9c179e\"],[0.4444444444444444,\"#bd3786\"],[0.5555555555555556,\"#d8576b\"],[0.6666666666666666,\"#ed7953\"],[0.7777777777777778,\"#fb9f3a\"],[0.8888888888888888,\"#fdca26\"],[1.0,\"#f0f921\"]]}],\"mesh3d\":[{\"type\":\"mesh3d\",\"colorbar\":{\"outlinewidth\":0,\"ticks\":\"\"}}],\"scatter\":[{\"fillpattern\":{\"fillmode\":\"overlay\",\"size\":10,\"solidity\":0.2},\"type\":\"scatter\"}],\"parcoords\":[{\"type\":\"parcoords\",\"line\":{\"colorbar\":{\"outlinewidth\":0,\"ticks\":\"\"}}}],\"scatterpolargl\":[{\"type\":\"scatterpolargl\",\"marker\":{\"colorbar\":{\"outlinewidth\":0,\"ticks\":\"\"}}}],\"bar\":[{\"error_x\":{\"color\":\"#2a3f5f\"},\"error_y\":{\"color\":\"#2a3f5f\"},\"marker\":{\"line\":{\"color\":\"#E5ECF6\",\"width\":0.5},\"pattern\":{\"fillmode\":\"overlay\",\"size\":10,\"solidity\":0.2}},\"type\":\"bar\"}],\"scattergeo\":[{\"type\":\"scattergeo\",\"marker\":{\"colorbar\":{\"outlinewidth\":0,\"ticks\":\"\"}}}],\"scatterpolar\":[{\"type\":\"scatterpolar\",\"marker\":{\"colorbar\":{\"outlinewidth\":0,\"ticks\":\"\"}}}],\"histogram\":[{\"marker\":{\"pattern\":{\"fillmode\":\"overlay\",\"size\":10,\"solidity\":0.2}},\"type\":\"histogram\"}],\"scattergl\":[{\"type\":\"scattergl\",\"marker\":{\"colorbar\":{\"outlinewidth\":0,\"ticks\":\"\"}}}],\"scatter3d\":[{\"type\":\"scatter3d\",\"line\":{\"colorbar\":{\"outlinewidth\":0,\"ticks\":\"\"}},\"marker\":{\"colorbar\":{\"outlinewidth\":0,\"ticks\":\"\"}}}],\"scattermapbox\":[{\"type\":\"scattermapbox\",\"marker\":{\"colorbar\":{\"outlinewidth\":0,\"ticks\":\"\"}}}],\"scatterternary\":[{\"type\":\"scatterternary\",\"marker\":{\"colorbar\":{\"outlinewidth\":0,\"ticks\":\"\"}}}],\"scattercarpet\":[{\"type\":\"scattercarpet\",\"marker\":{\"colorbar\":{\"outlinewidth\":0,\"ticks\":\"\"}}}],\"carpet\":[{\"aaxis\":{\"endlinecolor\":\"#2a3f5f\",\"gridcolor\":\"white\",\"linecolor\":\"white\",\"minorgridcolor\":\"white\",\"startlinecolor\":\"#2a3f5f\"},\"baxis\":{\"endlinecolor\":\"#2a3f5f\",\"gridcolor\":\"white\",\"linecolor\":\"white\",\"minorgridcolor\":\"white\",\"startlinecolor\":\"#2a3f5f\"},\"type\":\"carpet\"}],\"table\":[{\"cells\":{\"fill\":{\"color\":\"#EBF0F8\"},\"line\":{\"color\":\"white\"}},\"header\":{\"fill\":{\"color\":\"#C8D4E3\"},\"line\":{\"color\":\"white\"}},\"type\":\"table\"}],\"barpolar\":[{\"marker\":{\"line\":{\"color\":\"#E5ECF6\",\"width\":0.5},\"pattern\":{\"fillmode\":\"overlay\",\"size\":10,\"solidity\":0.2}},\"type\":\"barpolar\"}],\"pie\":[{\"automargin\":true,\"type\":\"pie\"}]},\"layout\":{\"autotypenumbers\":\"strict\",\"colorway\":[\"#636efa\",\"#EF553B\",\"#00cc96\",\"#ab63fa\",\"#FFA15A\",\"#19d3f3\",\"#FF6692\",\"#B6E880\",\"#FF97FF\",\"#FECB52\"],\"font\":{\"color\":\"#2a3f5f\"},\"hovermode\":\"closest\",\"hoverlabel\":{\"align\":\"left\"},\"paper_bgcolor\":\"white\",\"plot_bgcolor\":\"#E5ECF6\",\"polar\":{\"bgcolor\":\"#E5ECF6\",\"angularaxis\":{\"gridcolor\":\"white\",\"linecolor\":\"white\",\"ticks\":\"\"},\"radialaxis\":{\"gridcolor\":\"white\",\"linecolor\":\"white\",\"ticks\":\"\"}},\"ternary\":{\"bgcolor\":\"#E5ECF6\",\"aaxis\":{\"gridcolor\":\"white\",\"linecolor\":\"white\",\"ticks\":\"\"},\"baxis\":{\"gridcolor\":\"white\",\"linecolor\":\"white\",\"ticks\":\"\"},\"caxis\":{\"gridcolor\":\"white\",\"linecolor\":\"white\",\"ticks\":\"\"}},\"coloraxis\":{\"colorbar\":{\"outlinewidth\":0,\"ticks\":\"\"}},\"colorscale\":{\"sequential\":[[0.0,\"#0d0887\"],[0.1111111111111111,\"#46039f\"],[0.2222222222222222,\"#7201a8\"],[0.3333333333333333,\"#9c179e\"],[0.4444444444444444,\"#bd3786\"],[0.5555555555555556,\"#d8576b\"],[0.6666666666666666,\"#ed7953\"],[0.7777777777777778,\"#fb9f3a\"],[0.8888888888888888,\"#fdca26\"],[1.0,\"#f0f921\"]],\"sequentialminus\":[[0.0,\"#0d0887\"],[0.1111111111111111,\"#46039f\"],[0.2222222222222222,\"#7201a8\"],[0.3333333333333333,\"#9c179e\"],[0.4444444444444444,\"#bd3786\"],[0.5555555555555556,\"#d8576b\"],[0.6666666666666666,\"#ed7953\"],[0.7777777777777778,\"#fb9f3a\"],[0.8888888888888888,\"#fdca26\"],[1.0,\"#f0f921\"]],\"diverging\":[[0,\"#8e0152\"],[0.1,\"#c51b7d\"],[0.2,\"#de77ae\"],[0.3,\"#f1b6da\"],[0.4,\"#fde0ef\"],[0.5,\"#f7f7f7\"],[0.6,\"#e6f5d0\"],[0.7,\"#b8e186\"],[0.8,\"#7fbc41\"],[0.9,\"#4d9221\"],[1,\"#276419\"]]},\"xaxis\":{\"gridcolor\":\"white\",\"linecolor\":\"white\",\"ticks\":\"\",\"title\":{\"standoff\":15},\"zerolinecolor\":\"white\",\"automargin\":true,\"zerolinewidth\":2},\"yaxis\":{\"gridcolor\":\"white\",\"linecolor\":\"white\",\"ticks\":\"\",\"title\":{\"standoff\":15},\"zerolinecolor\":\"white\",\"automargin\":true,\"zerolinewidth\":2},\"scene\":{\"xaxis\":{\"backgroundcolor\":\"#E5ECF6\",\"gridcolor\":\"white\",\"linecolor\":\"white\",\"showbackground\":true,\"ticks\":\"\",\"zerolinecolor\":\"white\",\"gridwidth\":2},\"yaxis\":{\"backgroundcolor\":\"#E5ECF6\",\"gridcolor\":\"white\",\"linecolor\":\"white\",\"showbackground\":true,\"ticks\":\"\",\"zerolinecolor\":\"white\",\"gridwidth\":2},\"zaxis\":{\"backgroundcolor\":\"#E5ECF6\",\"gridcolor\":\"white\",\"linecolor\":\"white\",\"showbackground\":true,\"ticks\":\"\",\"zerolinecolor\":\"white\",\"gridwidth\":2}},\"shapedefaults\":{\"line\":{\"color\":\"#2a3f5f\"}},\"annotationdefaults\":{\"arrowcolor\":\"#2a3f5f\",\"arrowhead\":0,\"arrowwidth\":1},\"geo\":{\"bgcolor\":\"white\",\"landcolor\":\"#E5ECF6\",\"subunitcolor\":\"white\",\"showland\":true,\"showlakes\":true,\"lakecolor\":\"white\"},\"title\":{\"x\":0.05},\"mapbox\":{\"style\":\"light\"}}},\"geo\":{\"domain\":{\"x\":[0.0,1.0],\"y\":[0.0,1.0]},\"center\":{},\"scope\":\"usa\",\"projection\":{\"type\":\"albers usa\"},\"visible\":true,\"showland\":true,\"showcoastlines\":true,\"coastlinecolor\":\"black\",\"oceancolor\":\"darkblue\"},\"coloraxis\":{\"colorbar\":{\"title\":{\"text\":\"relative_crime\"}},\"colorscale\":[[0.0,\"rgb(103,0,31)\"],[0.1,\"rgb(178,24,43)\"],[0.2,\"rgb(214,96,77)\"],[0.3,\"rgb(244,165,130)\"],[0.4,\"rgb(253,219,199)\"],[0.5,\"rgb(247,247,247)\"],[0.6,\"rgb(209,229,240)\"],[0.7,\"rgb(146,197,222)\"],[0.8,\"rgb(67,147,195)\"],[0.9,\"rgb(33,102,172)\"],[1.0,\"rgb(5,48,97)\"]],\"cmin\":0.0,\"cmax\":7.877843716471206e-6},\"legend\":{\"tracegroupgap\":0},\"title\":{\"text\":\"Total Crimes by State (1975-2015)\",\"font\":{\"size\":24,\"color\":\"black\"}},\"font\":{\"color\":\"black\"},\"plot_bgcolor\":\"black\",\"paper_bgcolor\":\"white\"},                        {\"responsive\": true}                    ).then(function(){\n",
       "                            \n",
       "var gd = document.getElementById('8a4cea30-a008-47e7-b8ca-28ea9de2b0e7');\n",
       "var x = new MutationObserver(function (mutations, observer) {{\n",
       "        var display = window.getComputedStyle(gd).display;\n",
       "        if (!display || display === 'none') {{\n",
       "            console.log([gd, 'removed!']);\n",
       "            Plotly.purge(gd);\n",
       "            observer.disconnect();\n",
       "        }}\n",
       "}});\n",
       "\n",
       "// Listen for the removal of the full notebook cells\n",
       "var notebookContainer = gd.closest('#notebook-container');\n",
       "if (notebookContainer) {{\n",
       "    x.observe(notebookContainer, {childList: true});\n",
       "}}\n",
       "\n",
       "// Listen for the clearing of the current output cell\n",
       "var outputEl = gd.closest('.output');\n",
       "if (outputEl) {{\n",
       "    x.observe(outputEl, {childList: true});\n",
       "}}\n",
       "\n",
       "                        })                };                });            </script>        </div>"
      ]
     },
     "metadata": {},
     "output_type": "display_data"
    }
   ],
   "source": [
    "\n",
    "\n",
    "# Group by state and aggregate total crimes\n",
    "state_crime_data = df2.groupby('State', as_index=False).agg({\n",
    "    'relative_crime': 'sum',  # Sum of all crime types for each state\n",
    "    'population': 'sum'     # Sum of population for each state (optional)\n",
    "})\n",
    "\n",
    "# Normalize the total crimes by dividing by 1 million (optional)\n",
    "state_crime_data['relative_crime'] = state_crime_data['relative_crime'] / 1e6\n",
    "\n",
    "# Define the min and max values for scaling\n",
    "min_crimes = state_crime_data['relative_crime'].min()\n",
    "max_crimes = state_crime_data['relative_crime'].max()\n",
    "\n",
    "# Create the choropleth map using Plotly Express\n",
    "fig = px.choropleth(\n",
    "    state_crime_data,\n",
    "    locations='State',\n",
    "    locationmode='USA-states',\n",
    "    color='relative_crime',  # Use the total crime values\n",
    "    scope='usa',\n",
    "    color_continuous_scale='RdBu',  # Color scale\n",
    "    title='Total Crimes by State (1975-2015)',\n",
    "    labels={'total_crimes_million': 'Total Crimes (millions)'},\n",
    "    range_color=[min_crimes, max_crimes]  # Set custom range (0 to 5 million)\n",
    ")\n",
    "\n",
    "fig.update_geos(\n",
    "    visible=True,\n",
    "    projection_type='albers usa',  \n",
    "    showland=True,\n",
    "    showcoastlines=True,\n",
    "    coastlinecolor='black', \n",
    "    oceancolor='darkblue', \n",
    ")\n",
    "\n",
    "fig.update_layout(\n",
    "    plot_bgcolor='black',  \n",
    "    paper_bgcolor='white', \n",
    "    font=dict(color='black'),  \n",
    "    title_font=dict(size=24, color='black'), \n",
    "    geo_scope='usa' \n",
    ")\n",
    "\n",
    "# Show the plot\n",
    "fig.show()\n"
   ]
  },
  {
   "cell_type": "markdown",
   "metadata": {
    "_uuid": "b271753b01d092fdcb7576e6c0ab13301075d989"
   },
   "source": [
    "That paints another picture, now top of the list is St.Louis, Atlanta, Miami etc. That was interesting, but was it always like that? What was the number of crimes over the years?"
   ]
  },
  {
   "cell_type": "code",
   "execution_count": 82,
   "metadata": {
    "_uuid": "328b026f7dc64592cf93945b95ab37bfcc5a7787",
    "trusted": true
   },
   "outputs": [
    {
     "data": {
      "text/html": [
       "        <script type=\"text/javascript\">\n",
       "        window.PlotlyConfig = {MathJaxConfig: 'local'};\n",
       "        if (window.MathJax && window.MathJax.Hub && window.MathJax.Hub.Config) {window.MathJax.Hub.Config({SVG: {font: \"STIX-Web\"}});}\n",
       "        if (typeof require !== 'undefined') {\n",
       "        require.undef(\"plotly\");\n",
       "        requirejs.config({\n",
       "            paths: {\n",
       "                'plotly': ['https://cdn.plot.ly/plotly-2.35.2.min']\n",
       "            }\n",
       "        });\n",
       "        require(['plotly'], function(Plotly) {\n",
       "            window._Plotly = Plotly;\n",
       "        });\n",
       "        }\n",
       "        </script>\n",
       "        "
      ]
     },
     "metadata": {},
     "output_type": "display_data"
    },
    {
     "data": {
      "application/vnd.plotly.v1+json": {
       "config": {
        "linkText": "Export to plot.ly",
        "plotlyServerURL": "https://plot.ly",
        "showLink": false
       },
       "data": [
        {
         "name": "New York",
         "opacity": 0.8,
         "type": "scatter",
         "x": [
          1975,
          1976,
          1977,
          1978,
          1979,
          1980,
          1981,
          1982,
          1983,
          1984,
          1985,
          1986,
          1987,
          1988,
          1989,
          1990,
          1991,
          1992,
          1993,
          1994,
          1995,
          1996,
          1997,
          1998,
          1999,
          2000,
          2001,
          2002,
          2003,
          2004,
          2005,
          2006,
          2007,
          2008,
          2009,
          2010,
          2011,
          2012,
          2013,
          2014,
          2015
         ],
         "y": [
          132182,
          134153,
          121916,
          122685,
          132383,
          149549,
          156946,
          143943,
          132653,
          132292,
          135152,
          143251,
          148313,
          162916,
          169487,
          174542,
          170390,
          159578,
          153543,
          136522,
          114023,
          98660,
          92853,
          85891,
          78945,
          75692,
          68173,
          63839,
          59448,
          55688,
          54623,
          52086,
          50453,
          48430,
          46357,
          48489,
          51209,
          52993,
          52384,
          50564,
          50088
         ]
        }
       ],
       "layout": {
        "template": {
         "data": {
          "bar": [
           {
            "error_x": {
             "color": "#2a3f5f"
            },
            "error_y": {
             "color": "#2a3f5f"
            },
            "marker": {
             "line": {
              "color": "#E5ECF6",
              "width": 0.5
             },
             "pattern": {
              "fillmode": "overlay",
              "size": 10,
              "solidity": 0.2
             }
            },
            "type": "bar"
           }
          ],
          "barpolar": [
           {
            "marker": {
             "line": {
              "color": "#E5ECF6",
              "width": 0.5
             },
             "pattern": {
              "fillmode": "overlay",
              "size": 10,
              "solidity": 0.2
             }
            },
            "type": "barpolar"
           }
          ],
          "carpet": [
           {
            "aaxis": {
             "endlinecolor": "#2a3f5f",
             "gridcolor": "white",
             "linecolor": "white",
             "minorgridcolor": "white",
             "startlinecolor": "#2a3f5f"
            },
            "baxis": {
             "endlinecolor": "#2a3f5f",
             "gridcolor": "white",
             "linecolor": "white",
             "minorgridcolor": "white",
             "startlinecolor": "#2a3f5f"
            },
            "type": "carpet"
           }
          ],
          "choropleth": [
           {
            "colorbar": {
             "outlinewidth": 0,
             "ticks": ""
            },
            "type": "choropleth"
           }
          ],
          "contour": [
           {
            "colorbar": {
             "outlinewidth": 0,
             "ticks": ""
            },
            "colorscale": [
             [
              0,
              "#0d0887"
             ],
             [
              0.1111111111111111,
              "#46039f"
             ],
             [
              0.2222222222222222,
              "#7201a8"
             ],
             [
              0.3333333333333333,
              "#9c179e"
             ],
             [
              0.4444444444444444,
              "#bd3786"
             ],
             [
              0.5555555555555556,
              "#d8576b"
             ],
             [
              0.6666666666666666,
              "#ed7953"
             ],
             [
              0.7777777777777778,
              "#fb9f3a"
             ],
             [
              0.8888888888888888,
              "#fdca26"
             ],
             [
              1,
              "#f0f921"
             ]
            ],
            "type": "contour"
           }
          ],
          "contourcarpet": [
           {
            "colorbar": {
             "outlinewidth": 0,
             "ticks": ""
            },
            "type": "contourcarpet"
           }
          ],
          "heatmap": [
           {
            "colorbar": {
             "outlinewidth": 0,
             "ticks": ""
            },
            "colorscale": [
             [
              0,
              "#0d0887"
             ],
             [
              0.1111111111111111,
              "#46039f"
             ],
             [
              0.2222222222222222,
              "#7201a8"
             ],
             [
              0.3333333333333333,
              "#9c179e"
             ],
             [
              0.4444444444444444,
              "#bd3786"
             ],
             [
              0.5555555555555556,
              "#d8576b"
             ],
             [
              0.6666666666666666,
              "#ed7953"
             ],
             [
              0.7777777777777778,
              "#fb9f3a"
             ],
             [
              0.8888888888888888,
              "#fdca26"
             ],
             [
              1,
              "#f0f921"
             ]
            ],
            "type": "heatmap"
           }
          ],
          "heatmapgl": [
           {
            "colorbar": {
             "outlinewidth": 0,
             "ticks": ""
            },
            "colorscale": [
             [
              0,
              "#0d0887"
             ],
             [
              0.1111111111111111,
              "#46039f"
             ],
             [
              0.2222222222222222,
              "#7201a8"
             ],
             [
              0.3333333333333333,
              "#9c179e"
             ],
             [
              0.4444444444444444,
              "#bd3786"
             ],
             [
              0.5555555555555556,
              "#d8576b"
             ],
             [
              0.6666666666666666,
              "#ed7953"
             ],
             [
              0.7777777777777778,
              "#fb9f3a"
             ],
             [
              0.8888888888888888,
              "#fdca26"
             ],
             [
              1,
              "#f0f921"
             ]
            ],
            "type": "heatmapgl"
           }
          ],
          "histogram": [
           {
            "marker": {
             "pattern": {
              "fillmode": "overlay",
              "size": 10,
              "solidity": 0.2
             }
            },
            "type": "histogram"
           }
          ],
          "histogram2d": [
           {
            "colorbar": {
             "outlinewidth": 0,
             "ticks": ""
            },
            "colorscale": [
             [
              0,
              "#0d0887"
             ],
             [
              0.1111111111111111,
              "#46039f"
             ],
             [
              0.2222222222222222,
              "#7201a8"
             ],
             [
              0.3333333333333333,
              "#9c179e"
             ],
             [
              0.4444444444444444,
              "#bd3786"
             ],
             [
              0.5555555555555556,
              "#d8576b"
             ],
             [
              0.6666666666666666,
              "#ed7953"
             ],
             [
              0.7777777777777778,
              "#fb9f3a"
             ],
             [
              0.8888888888888888,
              "#fdca26"
             ],
             [
              1,
              "#f0f921"
             ]
            ],
            "type": "histogram2d"
           }
          ],
          "histogram2dcontour": [
           {
            "colorbar": {
             "outlinewidth": 0,
             "ticks": ""
            },
            "colorscale": [
             [
              0,
              "#0d0887"
             ],
             [
              0.1111111111111111,
              "#46039f"
             ],
             [
              0.2222222222222222,
              "#7201a8"
             ],
             [
              0.3333333333333333,
              "#9c179e"
             ],
             [
              0.4444444444444444,
              "#bd3786"
             ],
             [
              0.5555555555555556,
              "#d8576b"
             ],
             [
              0.6666666666666666,
              "#ed7953"
             ],
             [
              0.7777777777777778,
              "#fb9f3a"
             ],
             [
              0.8888888888888888,
              "#fdca26"
             ],
             [
              1,
              "#f0f921"
             ]
            ],
            "type": "histogram2dcontour"
           }
          ],
          "mesh3d": [
           {
            "colorbar": {
             "outlinewidth": 0,
             "ticks": ""
            },
            "type": "mesh3d"
           }
          ],
          "parcoords": [
           {
            "line": {
             "colorbar": {
              "outlinewidth": 0,
              "ticks": ""
             }
            },
            "type": "parcoords"
           }
          ],
          "pie": [
           {
            "automargin": true,
            "type": "pie"
           }
          ],
          "scatter": [
           {
            "fillpattern": {
             "fillmode": "overlay",
             "size": 10,
             "solidity": 0.2
            },
            "type": "scatter"
           }
          ],
          "scatter3d": [
           {
            "line": {
             "colorbar": {
              "outlinewidth": 0,
              "ticks": ""
             }
            },
            "marker": {
             "colorbar": {
              "outlinewidth": 0,
              "ticks": ""
             }
            },
            "type": "scatter3d"
           }
          ],
          "scattercarpet": [
           {
            "marker": {
             "colorbar": {
              "outlinewidth": 0,
              "ticks": ""
             }
            },
            "type": "scattercarpet"
           }
          ],
          "scattergeo": [
           {
            "marker": {
             "colorbar": {
              "outlinewidth": 0,
              "ticks": ""
             }
            },
            "type": "scattergeo"
           }
          ],
          "scattergl": [
           {
            "marker": {
             "colorbar": {
              "outlinewidth": 0,
              "ticks": ""
             }
            },
            "type": "scattergl"
           }
          ],
          "scattermapbox": [
           {
            "marker": {
             "colorbar": {
              "outlinewidth": 0,
              "ticks": ""
             }
            },
            "type": "scattermapbox"
           }
          ],
          "scatterpolar": [
           {
            "marker": {
             "colorbar": {
              "outlinewidth": 0,
              "ticks": ""
             }
            },
            "type": "scatterpolar"
           }
          ],
          "scatterpolargl": [
           {
            "marker": {
             "colorbar": {
              "outlinewidth": 0,
              "ticks": ""
             }
            },
            "type": "scatterpolargl"
           }
          ],
          "scatterternary": [
           {
            "marker": {
             "colorbar": {
              "outlinewidth": 0,
              "ticks": ""
             }
            },
            "type": "scatterternary"
           }
          ],
          "surface": [
           {
            "colorbar": {
             "outlinewidth": 0,
             "ticks": ""
            },
            "colorscale": [
             [
              0,
              "#0d0887"
             ],
             [
              0.1111111111111111,
              "#46039f"
             ],
             [
              0.2222222222222222,
              "#7201a8"
             ],
             [
              0.3333333333333333,
              "#9c179e"
             ],
             [
              0.4444444444444444,
              "#bd3786"
             ],
             [
              0.5555555555555556,
              "#d8576b"
             ],
             [
              0.6666666666666666,
              "#ed7953"
             ],
             [
              0.7777777777777778,
              "#fb9f3a"
             ],
             [
              0.8888888888888888,
              "#fdca26"
             ],
             [
              1,
              "#f0f921"
             ]
            ],
            "type": "surface"
           }
          ],
          "table": [
           {
            "cells": {
             "fill": {
              "color": "#EBF0F8"
             },
             "line": {
              "color": "white"
             }
            },
            "header": {
             "fill": {
              "color": "#C8D4E3"
             },
             "line": {
              "color": "white"
             }
            },
            "type": "table"
           }
          ]
         },
         "layout": {
          "annotationdefaults": {
           "arrowcolor": "#2a3f5f",
           "arrowhead": 0,
           "arrowwidth": 1
          },
          "autotypenumbers": "strict",
          "coloraxis": {
           "colorbar": {
            "outlinewidth": 0,
            "ticks": ""
           }
          },
          "colorscale": {
           "diverging": [
            [
             0,
             "#8e0152"
            ],
            [
             0.1,
             "#c51b7d"
            ],
            [
             0.2,
             "#de77ae"
            ],
            [
             0.3,
             "#f1b6da"
            ],
            [
             0.4,
             "#fde0ef"
            ],
            [
             0.5,
             "#f7f7f7"
            ],
            [
             0.6,
             "#e6f5d0"
            ],
            [
             0.7,
             "#b8e186"
            ],
            [
             0.8,
             "#7fbc41"
            ],
            [
             0.9,
             "#4d9221"
            ],
            [
             1,
             "#276419"
            ]
           ],
           "sequential": [
            [
             0,
             "#0d0887"
            ],
            [
             0.1111111111111111,
             "#46039f"
            ],
            [
             0.2222222222222222,
             "#7201a8"
            ],
            [
             0.3333333333333333,
             "#9c179e"
            ],
            [
             0.4444444444444444,
             "#bd3786"
            ],
            [
             0.5555555555555556,
             "#d8576b"
            ],
            [
             0.6666666666666666,
             "#ed7953"
            ],
            [
             0.7777777777777778,
             "#fb9f3a"
            ],
            [
             0.8888888888888888,
             "#fdca26"
            ],
            [
             1,
             "#f0f921"
            ]
           ],
           "sequentialminus": [
            [
             0,
             "#0d0887"
            ],
            [
             0.1111111111111111,
             "#46039f"
            ],
            [
             0.2222222222222222,
             "#7201a8"
            ],
            [
             0.3333333333333333,
             "#9c179e"
            ],
            [
             0.4444444444444444,
             "#bd3786"
            ],
            [
             0.5555555555555556,
             "#d8576b"
            ],
            [
             0.6666666666666666,
             "#ed7953"
            ],
            [
             0.7777777777777778,
             "#fb9f3a"
            ],
            [
             0.8888888888888888,
             "#fdca26"
            ],
            [
             1,
             "#f0f921"
            ]
           ]
          },
          "colorway": [
           "#636efa",
           "#EF553B",
           "#00cc96",
           "#ab63fa",
           "#FFA15A",
           "#19d3f3",
           "#FF6692",
           "#B6E880",
           "#FF97FF",
           "#FECB52"
          ],
          "font": {
           "color": "#2a3f5f"
          },
          "geo": {
           "bgcolor": "white",
           "lakecolor": "white",
           "landcolor": "#E5ECF6",
           "showlakes": true,
           "showland": true,
           "subunitcolor": "white"
          },
          "hoverlabel": {
           "align": "left"
          },
          "hovermode": "closest",
          "mapbox": {
           "style": "light"
          },
          "paper_bgcolor": "white",
          "plot_bgcolor": "#E5ECF6",
          "polar": {
           "angularaxis": {
            "gridcolor": "white",
            "linecolor": "white",
            "ticks": ""
           },
           "bgcolor": "#E5ECF6",
           "radialaxis": {
            "gridcolor": "white",
            "linecolor": "white",
            "ticks": ""
           }
          },
          "scene": {
           "xaxis": {
            "backgroundcolor": "#E5ECF6",
            "gridcolor": "white",
            "gridwidth": 2,
            "linecolor": "white",
            "showbackground": true,
            "ticks": "",
            "zerolinecolor": "white"
           },
           "yaxis": {
            "backgroundcolor": "#E5ECF6",
            "gridcolor": "white",
            "gridwidth": 2,
            "linecolor": "white",
            "showbackground": true,
            "ticks": "",
            "zerolinecolor": "white"
           },
           "zaxis": {
            "backgroundcolor": "#E5ECF6",
            "gridcolor": "white",
            "gridwidth": 2,
            "linecolor": "white",
            "showbackground": true,
            "ticks": "",
            "zerolinecolor": "white"
           }
          },
          "shapedefaults": {
           "line": {
            "color": "#2a3f5f"
           }
          },
          "ternary": {
           "aaxis": {
            "gridcolor": "white",
            "linecolor": "white",
            "ticks": ""
           },
           "baxis": {
            "gridcolor": "white",
            "linecolor": "white",
            "ticks": ""
           },
           "bgcolor": "#E5ECF6",
           "caxis": {
            "gridcolor": "white",
            "linecolor": "white",
            "ticks": ""
           }
          },
          "title": {
           "x": 0.05
          },
          "xaxis": {
           "automargin": true,
           "gridcolor": "white",
           "linecolor": "white",
           "ticks": "",
           "title": {
            "standoff": 15
           },
           "zerolinecolor": "white",
           "zerolinewidth": 2
          },
          "yaxis": {
           "automargin": true,
           "gridcolor": "white",
           "linecolor": "white",
           "ticks": "",
           "title": {
            "standoff": 15
           },
           "zerolinecolor": "white",
           "zerolinewidth": 2
          }
         }
        },
        "title": {
         "text": "Total Crimes in New York over 40 years"
        },
        "xaxis": {
         "title": {
          "text": "Time Span"
         }
        },
        "yaxis": {
         "title": {
          "text": "Cumulative Crimes"
         }
        }
       }
      },
      "text/html": [
       "<div>                            <div id=\"e7b5f90a-217d-44f0-9e55-42c4b2eddea4\" class=\"plotly-graph-div\" style=\"height:525px; width:100%;\"></div>            <script type=\"text/javascript\">                require([\"plotly\"], function(Plotly) {                    window.PLOTLYENV=window.PLOTLYENV || {};                                    if (document.getElementById(\"e7b5f90a-217d-44f0-9e55-42c4b2eddea4\")) {                    Plotly.newPlot(                        \"e7b5f90a-217d-44f0-9e55-42c4b2eddea4\",                        [{\"name\":\"New York\",\"opacity\":0.8,\"x\":[1975,1976,1977,1978,1979,1980,1981,1982,1983,1984,1985,1986,1987,1988,1989,1990,1991,1992,1993,1994,1995,1996,1997,1998,1999,2000,2001,2002,2003,2004,2005,2006,2007,2008,2009,2010,2011,2012,2013,2014,2015],\"y\":[132182.0,134153.0,121916.0,122685.0,132383.0,149549.0,156946.0,143943.0,132653.0,132292.0,135152.0,143251.0,148313.0,162916.0,169487.0,174542.0,170390.0,159578.0,153543.0,136522.0,114023.0,98660.0,92853.0,85891.0,78945.0,75692.0,68173.0,63839.0,59448.0,55688.0,54623.0,52086.0,50453.0,48430.0,46357.0,48489.0,51209.0,52993.0,52384.0,50564.0,50088.0],\"type\":\"scatter\"}],                        {\"template\":{\"data\":{\"barpolar\":[{\"marker\":{\"line\":{\"color\":\"#E5ECF6\",\"width\":0.5},\"pattern\":{\"fillmode\":\"overlay\",\"size\":10,\"solidity\":0.2}},\"type\":\"barpolar\"}],\"bar\":[{\"error_x\":{\"color\":\"#2a3f5f\"},\"error_y\":{\"color\":\"#2a3f5f\"},\"marker\":{\"line\":{\"color\":\"#E5ECF6\",\"width\":0.5},\"pattern\":{\"fillmode\":\"overlay\",\"size\":10,\"solidity\":0.2}},\"type\":\"bar\"}],\"carpet\":[{\"aaxis\":{\"endlinecolor\":\"#2a3f5f\",\"gridcolor\":\"white\",\"linecolor\":\"white\",\"minorgridcolor\":\"white\",\"startlinecolor\":\"#2a3f5f\"},\"baxis\":{\"endlinecolor\":\"#2a3f5f\",\"gridcolor\":\"white\",\"linecolor\":\"white\",\"minorgridcolor\":\"white\",\"startlinecolor\":\"#2a3f5f\"},\"type\":\"carpet\"}],\"choropleth\":[{\"colorbar\":{\"outlinewidth\":0,\"ticks\":\"\"},\"type\":\"choropleth\"}],\"contourcarpet\":[{\"colorbar\":{\"outlinewidth\":0,\"ticks\":\"\"},\"type\":\"contourcarpet\"}],\"contour\":[{\"colorbar\":{\"outlinewidth\":0,\"ticks\":\"\"},\"colorscale\":[[0.0,\"#0d0887\"],[0.1111111111111111,\"#46039f\"],[0.2222222222222222,\"#7201a8\"],[0.3333333333333333,\"#9c179e\"],[0.4444444444444444,\"#bd3786\"],[0.5555555555555556,\"#d8576b\"],[0.6666666666666666,\"#ed7953\"],[0.7777777777777778,\"#fb9f3a\"],[0.8888888888888888,\"#fdca26\"],[1.0,\"#f0f921\"]],\"type\":\"contour\"}],\"heatmapgl\":[{\"colorbar\":{\"outlinewidth\":0,\"ticks\":\"\"},\"colorscale\":[[0.0,\"#0d0887\"],[0.1111111111111111,\"#46039f\"],[0.2222222222222222,\"#7201a8\"],[0.3333333333333333,\"#9c179e\"],[0.4444444444444444,\"#bd3786\"],[0.5555555555555556,\"#d8576b\"],[0.6666666666666666,\"#ed7953\"],[0.7777777777777778,\"#fb9f3a\"],[0.8888888888888888,\"#fdca26\"],[1.0,\"#f0f921\"]],\"type\":\"heatmapgl\"}],\"heatmap\":[{\"colorbar\":{\"outlinewidth\":0,\"ticks\":\"\"},\"colorscale\":[[0.0,\"#0d0887\"],[0.1111111111111111,\"#46039f\"],[0.2222222222222222,\"#7201a8\"],[0.3333333333333333,\"#9c179e\"],[0.4444444444444444,\"#bd3786\"],[0.5555555555555556,\"#d8576b\"],[0.6666666666666666,\"#ed7953\"],[0.7777777777777778,\"#fb9f3a\"],[0.8888888888888888,\"#fdca26\"],[1.0,\"#f0f921\"]],\"type\":\"heatmap\"}],\"histogram2dcontour\":[{\"colorbar\":{\"outlinewidth\":0,\"ticks\":\"\"},\"colorscale\":[[0.0,\"#0d0887\"],[0.1111111111111111,\"#46039f\"],[0.2222222222222222,\"#7201a8\"],[0.3333333333333333,\"#9c179e\"],[0.4444444444444444,\"#bd3786\"],[0.5555555555555556,\"#d8576b\"],[0.6666666666666666,\"#ed7953\"],[0.7777777777777778,\"#fb9f3a\"],[0.8888888888888888,\"#fdca26\"],[1.0,\"#f0f921\"]],\"type\":\"histogram2dcontour\"}],\"histogram2d\":[{\"colorbar\":{\"outlinewidth\":0,\"ticks\":\"\"},\"colorscale\":[[0.0,\"#0d0887\"],[0.1111111111111111,\"#46039f\"],[0.2222222222222222,\"#7201a8\"],[0.3333333333333333,\"#9c179e\"],[0.4444444444444444,\"#bd3786\"],[0.5555555555555556,\"#d8576b\"],[0.6666666666666666,\"#ed7953\"],[0.7777777777777778,\"#fb9f3a\"],[0.8888888888888888,\"#fdca26\"],[1.0,\"#f0f921\"]],\"type\":\"histogram2d\"}],\"histogram\":[{\"marker\":{\"pattern\":{\"fillmode\":\"overlay\",\"size\":10,\"solidity\":0.2}},\"type\":\"histogram\"}],\"mesh3d\":[{\"colorbar\":{\"outlinewidth\":0,\"ticks\":\"\"},\"type\":\"mesh3d\"}],\"parcoords\":[{\"line\":{\"colorbar\":{\"outlinewidth\":0,\"ticks\":\"\"}},\"type\":\"parcoords\"}],\"pie\":[{\"automargin\":true,\"type\":\"pie\"}],\"scatter3d\":[{\"line\":{\"colorbar\":{\"outlinewidth\":0,\"ticks\":\"\"}},\"marker\":{\"colorbar\":{\"outlinewidth\":0,\"ticks\":\"\"}},\"type\":\"scatter3d\"}],\"scattercarpet\":[{\"marker\":{\"colorbar\":{\"outlinewidth\":0,\"ticks\":\"\"}},\"type\":\"scattercarpet\"}],\"scattergeo\":[{\"marker\":{\"colorbar\":{\"outlinewidth\":0,\"ticks\":\"\"}},\"type\":\"scattergeo\"}],\"scattergl\":[{\"marker\":{\"colorbar\":{\"outlinewidth\":0,\"ticks\":\"\"}},\"type\":\"scattergl\"}],\"scattermapbox\":[{\"marker\":{\"colorbar\":{\"outlinewidth\":0,\"ticks\":\"\"}},\"type\":\"scattermapbox\"}],\"scatterpolargl\":[{\"marker\":{\"colorbar\":{\"outlinewidth\":0,\"ticks\":\"\"}},\"type\":\"scatterpolargl\"}],\"scatterpolar\":[{\"marker\":{\"colorbar\":{\"outlinewidth\":0,\"ticks\":\"\"}},\"type\":\"scatterpolar\"}],\"scatter\":[{\"fillpattern\":{\"fillmode\":\"overlay\",\"size\":10,\"solidity\":0.2},\"type\":\"scatter\"}],\"scatterternary\":[{\"marker\":{\"colorbar\":{\"outlinewidth\":0,\"ticks\":\"\"}},\"type\":\"scatterternary\"}],\"surface\":[{\"colorbar\":{\"outlinewidth\":0,\"ticks\":\"\"},\"colorscale\":[[0.0,\"#0d0887\"],[0.1111111111111111,\"#46039f\"],[0.2222222222222222,\"#7201a8\"],[0.3333333333333333,\"#9c179e\"],[0.4444444444444444,\"#bd3786\"],[0.5555555555555556,\"#d8576b\"],[0.6666666666666666,\"#ed7953\"],[0.7777777777777778,\"#fb9f3a\"],[0.8888888888888888,\"#fdca26\"],[1.0,\"#f0f921\"]],\"type\":\"surface\"}],\"table\":[{\"cells\":{\"fill\":{\"color\":\"#EBF0F8\"},\"line\":{\"color\":\"white\"}},\"header\":{\"fill\":{\"color\":\"#C8D4E3\"},\"line\":{\"color\":\"white\"}},\"type\":\"table\"}]},\"layout\":{\"annotationdefaults\":{\"arrowcolor\":\"#2a3f5f\",\"arrowhead\":0,\"arrowwidth\":1},\"autotypenumbers\":\"strict\",\"coloraxis\":{\"colorbar\":{\"outlinewidth\":0,\"ticks\":\"\"}},\"colorscale\":{\"diverging\":[[0,\"#8e0152\"],[0.1,\"#c51b7d\"],[0.2,\"#de77ae\"],[0.3,\"#f1b6da\"],[0.4,\"#fde0ef\"],[0.5,\"#f7f7f7\"],[0.6,\"#e6f5d0\"],[0.7,\"#b8e186\"],[0.8,\"#7fbc41\"],[0.9,\"#4d9221\"],[1,\"#276419\"]],\"sequential\":[[0.0,\"#0d0887\"],[0.1111111111111111,\"#46039f\"],[0.2222222222222222,\"#7201a8\"],[0.3333333333333333,\"#9c179e\"],[0.4444444444444444,\"#bd3786\"],[0.5555555555555556,\"#d8576b\"],[0.6666666666666666,\"#ed7953\"],[0.7777777777777778,\"#fb9f3a\"],[0.8888888888888888,\"#fdca26\"],[1.0,\"#f0f921\"]],\"sequentialminus\":[[0.0,\"#0d0887\"],[0.1111111111111111,\"#46039f\"],[0.2222222222222222,\"#7201a8\"],[0.3333333333333333,\"#9c179e\"],[0.4444444444444444,\"#bd3786\"],[0.5555555555555556,\"#d8576b\"],[0.6666666666666666,\"#ed7953\"],[0.7777777777777778,\"#fb9f3a\"],[0.8888888888888888,\"#fdca26\"],[1.0,\"#f0f921\"]]},\"colorway\":[\"#636efa\",\"#EF553B\",\"#00cc96\",\"#ab63fa\",\"#FFA15A\",\"#19d3f3\",\"#FF6692\",\"#B6E880\",\"#FF97FF\",\"#FECB52\"],\"font\":{\"color\":\"#2a3f5f\"},\"geo\":{\"bgcolor\":\"white\",\"lakecolor\":\"white\",\"landcolor\":\"#E5ECF6\",\"showlakes\":true,\"showland\":true,\"subunitcolor\":\"white\"},\"hoverlabel\":{\"align\":\"left\"},\"hovermode\":\"closest\",\"mapbox\":{\"style\":\"light\"},\"paper_bgcolor\":\"white\",\"plot_bgcolor\":\"#E5ECF6\",\"polar\":{\"angularaxis\":{\"gridcolor\":\"white\",\"linecolor\":\"white\",\"ticks\":\"\"},\"bgcolor\":\"#E5ECF6\",\"radialaxis\":{\"gridcolor\":\"white\",\"linecolor\":\"white\",\"ticks\":\"\"}},\"scene\":{\"xaxis\":{\"backgroundcolor\":\"#E5ECF6\",\"gridcolor\":\"white\",\"gridwidth\":2,\"linecolor\":\"white\",\"showbackground\":true,\"ticks\":\"\",\"zerolinecolor\":\"white\"},\"yaxis\":{\"backgroundcolor\":\"#E5ECF6\",\"gridcolor\":\"white\",\"gridwidth\":2,\"linecolor\":\"white\",\"showbackground\":true,\"ticks\":\"\",\"zerolinecolor\":\"white\"},\"zaxis\":{\"backgroundcolor\":\"#E5ECF6\",\"gridcolor\":\"white\",\"gridwidth\":2,\"linecolor\":\"white\",\"showbackground\":true,\"ticks\":\"\",\"zerolinecolor\":\"white\"}},\"shapedefaults\":{\"line\":{\"color\":\"#2a3f5f\"}},\"ternary\":{\"aaxis\":{\"gridcolor\":\"white\",\"linecolor\":\"white\",\"ticks\":\"\"},\"baxis\":{\"gridcolor\":\"white\",\"linecolor\":\"white\",\"ticks\":\"\"},\"bgcolor\":\"#E5ECF6\",\"caxis\":{\"gridcolor\":\"white\",\"linecolor\":\"white\",\"ticks\":\"\"}},\"title\":{\"x\":0.05},\"xaxis\":{\"automargin\":true,\"gridcolor\":\"white\",\"linecolor\":\"white\",\"ticks\":\"\",\"title\":{\"standoff\":15},\"zerolinecolor\":\"white\",\"zerolinewidth\":2},\"yaxis\":{\"automargin\":true,\"gridcolor\":\"white\",\"linecolor\":\"white\",\"ticks\":\"\",\"title\":{\"standoff\":15},\"zerolinecolor\":\"white\",\"zerolinewidth\":2}}},\"title\":{\"text\":\"Total Crimes in New York over 40 years\"},\"xaxis\":{\"title\":{\"text\":\"Time Span\"}},\"yaxis\":{\"title\":{\"text\":\"Cumulative Crimes\"}}},                        {\"responsive\": true}                    ).then(function(){\n",
       "                            \n",
       "var gd = document.getElementById('e7b5f90a-217d-44f0-9e55-42c4b2eddea4');\n",
       "var x = new MutationObserver(function (mutations, observer) {{\n",
       "        var display = window.getComputedStyle(gd).display;\n",
       "        if (!display || display === 'none') {{\n",
       "            console.log([gd, 'removed!']);\n",
       "            Plotly.purge(gd);\n",
       "            observer.disconnect();\n",
       "        }}\n",
       "}});\n",
       "\n",
       "// Listen for the removal of the full notebook cells\n",
       "var notebookContainer = gd.closest('#notebook-container');\n",
       "if (notebookContainer) {{\n",
       "    x.observe(notebookContainer, {childList: true});\n",
       "}}\n",
       "\n",
       "// Listen for the clearing of the current output cell\n",
       "var outputEl = gd.closest('.output');\n",
       "if (outputEl) {{\n",
       "    x.observe(outputEl, {childList: true});\n",
       "}}\n",
       "\n",
       "                        })                };                });            </script>        </div>"
      ]
     },
     "metadata": {},
     "output_type": "display_data"
    }
   ],
   "source": [
    "import plotly.offline as py\n",
    "import plotly.graph_objs as go\n",
    "\n",
    "py.init_notebook_mode(connected=True)\n",
    "plt.style.use('dark_background')\n",
    "\n",
    "# Filter the DataFrame to only include New York\n",
    "ny_data = df2[df2['agency_jurisdiction'].str.contains(\"New York\")]\n",
    "\n",
    "# Create the scatter trace for New York\n",
    "trace_ny = go.Scatter(\n",
    "    x=ny_data['report_year'], \n",
    "    y=ny_data['violent_crimes'], \n",
    "    name=\"New York\", \n",
    "    opacity=0.8\n",
    ")\n",
    "\n",
    "# Define the layout\n",
    "layout = dict(\n",
    "    title=\"Total Crimes in New York over 40 years\",\n",
    "    xaxis=dict(title='Time Span'),\n",
    "    yaxis=dict(title='Cumulative Crimes'),\n",
    ")\n",
    "\n",
    "# Prepare the figure with the New York trace\n",
    "fig = dict(data=[trace_ny], layout=layout)\n",
    "\n",
    "# Plot the figure\n",
    "py.iplot(fig)\n"
   ]
  },
  {
   "cell_type": "markdown",
   "metadata": {
    "_uuid": "fcd6a002408a075e05528d06a5c3c5212caccc11"
   },
   "source": [
    "Now from here we can set a lot of interesting question. One of them would be why was crime in NYC in 90-s so high? Well there seems to be a couple of factors (we state them, not test them) For example, the police force in New York City grew by 35 percent in the 1990s, the numbers of prison inmates rose 24 percent, and there were demographic changes, including a decline in the number of youths. The national unemployment rate declined 25 percent between 1990 and 1999, and by 39 percent in the city between 1992 and 1999. This study shows that a single percentage point decline in the jobless rate decreases burglary by 2.2 percent and motor vehicle theft by 1.8 percent. Increases in the real minimum wage also significantly reduce robberies and murders: 3.4 to 3.7 percent fewer robberies with a 10 percent increase in the minimum wage and 6.3 to 6.9 percent fewer murders. And ofcourse police measures.The police measure that most consistently reduces crime is the arrest rate of those involved in crime, the study finds. Felony arrest rates (except for motor vehicle thefts) rose 50 to 70 percent in the 1990s. When arrests of burglars increased 10 percent, the number of burglaries fell 2.7 to 3.2 percent. When the arrest rate of robbers rose 10 percent, the number of robberies fell 5.7 to 5.9 percent. In the case of murder, the decline was 3.9 to 4 percent; in the case of assault, 2 to 2.4 percent; and for motor vehicle theft, 5 to 5.1 percent. Could a mayor have helped in reducing crime?"
   ]
  },
  {
   "cell_type": "markdown",
   "metadata": {
    "_uuid": "e4891e9573ce193501f654202d182c42bc5bead1"
   },
   "source": [
    "Let us now jumpt to conculusions, correlation is not causation but David Dinkins must have helped. New York city seems interesting since on the absolute scale it has the most crime in the entire United States. Let us dig deeper in NYC."
   ]
  },
  {
   "cell_type": "code",
   "execution_count": 83,
   "metadata": {
    "_uuid": "7ecc34caa8631e33a822adcf7c5655529986ab73",
    "trusted": true
   },
   "outputs": [
    {
     "ename": "NameError",
     "evalue": "name 'NYC' is not defined",
     "output_type": "error",
     "traceback": [
      "\u001b[0;31m---------------------------------------------------------------------------\u001b[0m",
      "\u001b[0;31mNameError\u001b[0m                                 Traceback (most recent call last)",
      "Cell \u001b[0;32mIn[83], line 12\u001b[0m\n\u001b[1;32m      9\u001b[0m plt\u001b[38;5;241m.\u001b[39mxticks(rotation\u001b[38;5;241m=\u001b[39m\u001b[38;5;124m'\u001b[39m\u001b[38;5;124mvertical\u001b[39m\u001b[38;5;124m'\u001b[39m)\n\u001b[1;32m     11\u001b[0m \u001b[38;5;66;03m# Plot the bar plot using seaborn\u001b[39;00m\n\u001b[0;32m---> 12\u001b[0m sns\u001b[38;5;241m.\u001b[39mbarplot(x\u001b[38;5;241m=\u001b[39m\u001b[43mNYC\u001b[49m[\u001b[38;5;124m\"\u001b[39m\u001b[38;5;124mreport_year\u001b[39m\u001b[38;5;124m\"\u001b[39m], y\u001b[38;5;241m=\u001b[39mNYC[\u001b[38;5;124m\"\u001b[39m\u001b[38;5;124mrapes\u001b[39m\u001b[38;5;124m\"\u001b[39m], palette\u001b[38;5;241m=\u001b[39m\u001b[38;5;124m\"\u001b[39m\u001b[38;5;124mcubehelix\u001b[39m\u001b[38;5;124m\"\u001b[39m)\n\u001b[1;32m     14\u001b[0m \u001b[38;5;66;03m# Set the y-axis label\u001b[39;00m\n\u001b[1;32m     15\u001b[0m plt\u001b[38;5;241m.\u001b[39mylabel(\u001b[38;5;124m\"\u001b[39m\u001b[38;5;124mNumber of Rapes\u001b[39m\u001b[38;5;124m\"\u001b[39m)\n",
      "\u001b[0;31mNameError\u001b[0m: name 'NYC' is not defined"
     ]
    },
    {
     "data": {
      "image/png": "[encoded data removed]",
      "text/plain": [
       "<Figure size 1500x1000 with 1 Axes>"
      ]
     },
     "metadata": {},
     "output_type": "display_data"
    }
   ],
   "source": [
    "import matplotlib.pyplot as plt\n",
    "import seaborn as sns\n",
    "plt.style.use('dark_background')\n",
    "\n",
    "# Set up the figure size\n",
    "plt.figure(figsize=(15, 10))\n",
    "\n",
    "# Rotate the x-axis labels vertically\n",
    "plt.xticks(rotation='vertical')\n",
    "\n",
    "# Plot the bar plot using seaborn\n",
    "sns.barplot(x=NYC[\"report_year\"], y=NYC[\"rapes\"], palette=\"cubehelix\")\n",
    "\n",
    "# Set the y-axis label\n",
    "plt.ylabel(\"Number of Rapes\")\n",
    "\n",
    "# Set the title of the plot (optional but helpful)\n",
    "plt.title(\"Rapes in New York City Over the Years\")\n",
    "\n",
    "# Show the plot\n",
    "plt.show()\n"
   ]
  },
  {
   "cell_type": "code",
   "execution_count": 74,
   "metadata": {
    "_uuid": "a237f9fc7fe8fe6fc29b0f8f20fbea518ee9c5e2",
    "trusted": true
   },
   "outputs": [
    {
     "data": {
      "image/png": "[encoded data removed]",
      "text/plain": [
       "<Figure size 1500x1000 with 1 Axes>"
      ]
     },
     "metadata": {},
     "output_type": "display_data"
    }
   ],
   "source": [
    "import matplotlib.pyplot as plt\n",
    "import seaborn as sns\n",
    "plt.style.use('dark_background')\n",
    "\n",
    "# Set up the figure size\n",
    "plt.figure(figsize=(15, 10))\n",
    "\n",
    "# Rotate the x-axis labels vertically\n",
    "plt.xticks(rotation='vertical')\n",
    "\n",
    "# Plot the bar plot using seaborn\n",
    "sns.barplot(x=NYC[\"report_year\"], y=NYC[\"assaults\"], palette=\"cubehelix\")\n",
    "\n",
    "# Set the y-axis label\n",
    "plt.ylabel(\"Number of Assaults\")\n",
    "\n",
    "# Set the title of the plot (optional but helpful)\n",
    "plt.title(\"Assaults in New York City Over the Years\")\n",
    "\n",
    "# Show the plot\n",
    "plt.show()\n"
   ]
  },
  {
   "cell_type": "code",
   "execution_count": 75,
   "metadata": {
    "_uuid": "d103c75c1ddfcdbe39ea7a5272cc15123c351ed7",
    "trusted": true
   },
   "outputs": [
    {
     "data": {
      "image/png": "[encoded data removed]",
      "text/plain": [
       "<Figure size 1500x1000 with 1 Axes>"
      ]
     },
     "metadata": {},
     "output_type": "display_data"
    }
   ],
   "source": [
    "import matplotlib.pyplot as plt\n",
    "import seaborn as sns\n",
    "plt.style.use('dark_background')\n",
    "\n",
    "# Set up the figure size\n",
    "plt.figure(figsize=(15, 10))\n",
    "\n",
    "# Rotate the x-axis labels vertically\n",
    "plt.xticks(rotation='vertical')\n",
    "\n",
    "# Plot the bar plot using seaborn\n",
    "sns.barplot(x=NYC[\"report_year\"], y=NYC[\"robberies\"], palette=\"cubehelix\")\n",
    "\n",
    "# Set the y-axis label\n",
    "plt.ylabel(\"Number of Robberies\")\n",
    "\n",
    "# Set the title of the plot (optional but helpful)\n",
    "plt.title(\"Robberies in New York City Over the Years\")\n",
    "\n",
    "# Show the plot\n",
    "plt.show()\n"
   ]
  },
  {
   "cell_type": "markdown",
   "metadata": {
    "_uuid": "23381c0824bcd289a12d23ca6aba5ac2c391714a"
   },
   "source": [
    "We have analyzed NYC enough, let us now try to find some socio-economic data, and try to see if we can use it to predict crime rate all around US. But how do we quantify successful state? NY state is quite successful at the first glance, but it is at the top of our list for crime. A couple that we should look for and that are at the top of my mind are: Unemployment Rate,Worker Productivity,Startup Activity,Median Household Income,Upward Mobility Rates,Road Quality,Public Utility Fee Rates,Overall Tax Burden  etc etc... I managed to dig up 2 interesting datasets. First if US unemplyment by county and state from 1990 until 2016 and Zillow Rent Index from 2010 until 2017. Hypothesis is simple, where there was a lot of unemplyment and biggest living factor (rent) was high ->>> more crime. Let us test that. But before we do that, we need to merge the datasets together."
   ]
  },
  {
   "cell_type": "markdown",
   "metadata": {
    "_uuid": "1963eb95f9f05130abc68a8b157ccc4a80893208"
   },
   "source": [
    "<a id=\"3\"></a> <br>\n",
    "# Crime Data"
   ]
  },
  {
   "cell_type": "code",
   "execution_count": 85,
   "metadata": {
    "_uuid": "9e2f75754cfcedd80be93507e727058d672747bd",
    "trusted": true
   },
   "outputs": [
    {
     "data": {
      "text/html": [
       "<div>\n",
       "<style scoped>\n",
       "    .dataframe tbody tr th:only-of-type {\n",
       "        vertical-align: middle;\n",
       "    }\n",
       "\n",
       "    .dataframe tbody tr th {\n",
       "        vertical-align: top;\n",
       "    }\n",
       "\n",
       "    .dataframe thead th {\n",
       "        text-align: right;\n",
       "    }\n",
       "</style>\n",
       "<table border=\"1\" class=\"dataframe\">\n",
       "  <thead>\n",
       "    <tr style=\"text-align: right;\">\n",
       "      <th></th>\n",
       "      <th>Region/Country/Area</th>\n",
       "      <th>Unnamed: 1</th>\n",
       "      <th>Year</th>\n",
       "      <th>Series</th>\n",
       "      <th>Value</th>\n",
       "      <th>Footnotes</th>\n",
       "      <th>Source</th>\n",
       "    </tr>\n",
       "  </thead>\n",
       "  <tbody>\n",
       "    <tr>\n",
       "      <th>0</th>\n",
       "      <td>1</td>\n",
       "      <td>Total, all countries or areas</td>\n",
       "      <td>2015</td>\n",
       "      <td>Intentional homicide rates per 100,000</td>\n",
       "      <td>5.3</td>\n",
       "      <td>Data is for 2015, or latest available data fro...</td>\n",
       "      <td>United Nations Office on Drugs and Crime (UNOD...</td>\n",
       "    </tr>\n",
       "    <tr>\n",
       "      <th>1</th>\n",
       "      <td>202</td>\n",
       "      <td>Sub-Saharan Africa</td>\n",
       "      <td>2015</td>\n",
       "      <td>Intentional homicide rates per 100,000</td>\n",
       "      <td>9.6</td>\n",
       "      <td>Data is for 2015, or latest available data fro...</td>\n",
       "      <td>United Nations Office on Drugs and Crime (UNOD...</td>\n",
       "    </tr>\n",
       "    <tr>\n",
       "      <th>2</th>\n",
       "      <td>419</td>\n",
       "      <td>Latin America &amp; the Caribbean</td>\n",
       "      <td>2015</td>\n",
       "      <td>Intentional homicide rates per 100,000</td>\n",
       "      <td>22.3</td>\n",
       "      <td>Data is for 2015, or latest available data fro...</td>\n",
       "      <td>United Nations Office on Drugs and Crime (UNOD...</td>\n",
       "    </tr>\n",
       "    <tr>\n",
       "      <th>3</th>\n",
       "      <td>62</td>\n",
       "      <td>South-central Asia</td>\n",
       "      <td>2015</td>\n",
       "      <td>Intentional homicide rates per 100,000</td>\n",
       "      <td>3.7</td>\n",
       "      <td>Data is for 2015, or latest available data fro...</td>\n",
       "      <td>United Nations Office on Drugs and Crime (UNOD...</td>\n",
       "    </tr>\n",
       "    <tr>\n",
       "      <th>4</th>\n",
       "      <td>53</td>\n",
       "      <td>Australia and New Zealand</td>\n",
       "      <td>2015</td>\n",
       "      <td>Intentional homicide rates per 100,000</td>\n",
       "      <td>1</td>\n",
       "      <td>Data is for 2015, or latest available data fro...</td>\n",
       "      <td>United Nations Office on Drugs and Crime (UNOD...</td>\n",
       "    </tr>\n",
       "  </tbody>\n",
       "</table>\n",
       "</div>"
      ],
      "text/plain": [
       "   Region/Country/Area                     Unnamed: 1  Year  \\\n",
       "0                    1  Total, all countries or areas  2015   \n",
       "1                  202             Sub-Saharan Africa  2015   \n",
       "2                  419  Latin America & the Caribbean  2015   \n",
       "3                   62             South-central Asia  2015   \n",
       "4                   53      Australia and New Zealand  2015   \n",
       "\n",
       "                                   Series Value  \\\n",
       "0  Intentional homicide rates per 100,000   5.3   \n",
       "1  Intentional homicide rates per 100,000   9.6   \n",
       "2  Intentional homicide rates per 100,000  22.3   \n",
       "3  Intentional homicide rates per 100,000   3.7   \n",
       "4  Intentional homicide rates per 100,000     1   \n",
       "\n",
       "                                           Footnotes  \\\n",
       "0  Data is for 2015, or latest available data fro...   \n",
       "1  Data is for 2015, or latest available data fro...   \n",
       "2  Data is for 2015, or latest available data fro...   \n",
       "3  Data is for 2015, or latest available data fro...   \n",
       "4  Data is for 2015, or latest available data fro...   \n",
       "\n",
       "                                              Source  \n",
       "0  United Nations Office on Drugs and Crime (UNOD...  \n",
       "1  United Nations Office on Drugs and Crime (UNOD...  \n",
       "2  United Nations Office on Drugs and Crime (UNOD...  \n",
       "3  United Nations Office on Drugs and Crime (UNOD...  \n",
       "4  United Nations Office on Drugs and Crime (UNOD...  "
      ]
     },
     "execution_count": 85,
     "metadata": {},
     "output_type": "execute_result"
    }
   ],
   "source": [
    "df = pd.read_csv('/Users/margarita/Downloads/Crimes_UN_data.csv', skiprows=[0], encoding='latin1')\n",
    "df.head()"
   ]
  },
  {
   "cell_type": "markdown",
   "metadata": {
    "_uuid": "46aa8de51fed2119d40a5a4434687cc3ee577fc9"
   },
   "source": [
    "Very ugly data frame, let us try to clean it up and keep only the desired columns"
   ]
  },
  {
   "cell_type": "code",
   "execution_count": 86,
   "metadata": {
    "_uuid": "927f91eddb99a203c7423e2e1ca8e509016f267c",
    "trusted": true
   },
   "outputs": [
    {
     "data": {
      "text/html": [
       "<div>\n",
       "<style scoped>\n",
       "    .dataframe tbody tr th:only-of-type {\n",
       "        vertical-align: middle;\n",
       "    }\n",
       "\n",
       "    .dataframe tbody tr th {\n",
       "        vertical-align: top;\n",
       "    }\n",
       "\n",
       "    .dataframe thead th {\n",
       "        text-align: right;\n",
       "    }\n",
       "</style>\n",
       "<table border=\"1\" class=\"dataframe\">\n",
       "  <thead>\n",
       "    <tr style=\"text-align: right;\">\n",
       "      <th></th>\n",
       "      <th>Series</th>\n",
       "      <th>Assault rate per 100,000 population</th>\n",
       "      <th>Intentional homicide rates per 100,000</th>\n",
       "      <th>Kidnapping at the national level, rate per 100,000</th>\n",
       "      <th>Percentage of male and female intentional homicide victims, Female</th>\n",
       "      <th>Percentage of male and female intentional homicide victims, Male</th>\n",
       "      <th>Robbery at the national level, rate per 100,000 population</th>\n",
       "      <th>Theft at the national level, rate per 100,000 population</th>\n",
       "      <th>Total Sexual Violence at the national level, rate per 100,000</th>\n",
       "    </tr>\n",
       "    <tr>\n",
       "      <th>Region</th>\n",
       "      <th>Year</th>\n",
       "      <th></th>\n",
       "      <th></th>\n",
       "      <th></th>\n",
       "      <th></th>\n",
       "      <th></th>\n",
       "      <th></th>\n",
       "      <th></th>\n",
       "      <th></th>\n",
       "    </tr>\n",
       "  </thead>\n",
       "  <tbody>\n",
       "    <tr>\n",
       "      <th rowspan=\"2\" valign=\"top\">Afghanistan</th>\n",
       "      <th>2010</th>\n",
       "      <td>NaN</td>\n",
       "      <td>3.4</td>\n",
       "      <td>NaN</td>\n",
       "      <td>NaN</td>\n",
       "      <td>NaN</td>\n",
       "      <td>NaN</td>\n",
       "      <td>NaN</td>\n",
       "      <td>NaN</td>\n",
       "    </tr>\n",
       "    <tr>\n",
       "      <th>2012</th>\n",
       "      <td>NaN</td>\n",
       "      <td>6.3</td>\n",
       "      <td>NaN</td>\n",
       "      <td>0.6</td>\n",
       "      <td>11.8</td>\n",
       "      <td>NaN</td>\n",
       "      <td>NaN</td>\n",
       "      <td>NaN</td>\n",
       "    </tr>\n",
       "    <tr>\n",
       "      <th rowspan=\"3\" valign=\"top\">Albania</th>\n",
       "      <th>2005</th>\n",
       "      <td>5.4</td>\n",
       "      <td>5</td>\n",
       "      <td>NaN</td>\n",
       "      <td>1.4</td>\n",
       "      <td>8.6</td>\n",
       "      <td>6.5</td>\n",
       "      <td>96.9</td>\n",
       "      <td>2.9</td>\n",
       "    </tr>\n",
       "    <tr>\n",
       "      <th>2010</th>\n",
       "      <td>6.1</td>\n",
       "      <td>4.3</td>\n",
       "      <td>0.3</td>\n",
       "      <td>1.3</td>\n",
       "      <td>7.3</td>\n",
       "      <td>8.1</td>\n",
       "      <td>137.1</td>\n",
       "      <td>2.7</td>\n",
       "    </tr>\n",
       "    <tr>\n",
       "      <th>2015</th>\n",
       "      <td>5.8</td>\n",
       "      <td>2.3</td>\n",
       "      <td>0.3</td>\n",
       "      <td>1</td>\n",
       "      <td>3.5</td>\n",
       "      <td>8.1</td>\n",
       "      <td>248.1</td>\n",
       "      <td>5.1</td>\n",
       "    </tr>\n",
       "  </tbody>\n",
       "</table>\n",
       "</div>"
      ],
      "text/plain": [
       "Series           Assault rate per 100,000 population  \\\n",
       "Region      Year                                       \n",
       "Afghanistan 2010                                 NaN   \n",
       "            2012                                 NaN   \n",
       "Albania     2005                                 5.4   \n",
       "            2010                                 6.1   \n",
       "            2015                                 5.8   \n",
       "\n",
       "Series           Intentional homicide rates per 100,000  \\\n",
       "Region      Year                                          \n",
       "Afghanistan 2010                                    3.4   \n",
       "            2012                                    6.3   \n",
       "Albania     2005                                      5   \n",
       "            2010                                    4.3   \n",
       "            2015                                    2.3   \n",
       "\n",
       "Series           Kidnapping at the national level, rate per 100,000  \\\n",
       "Region      Year                                                      \n",
       "Afghanistan 2010                                                NaN   \n",
       "            2012                                                NaN   \n",
       "Albania     2005                                                NaN   \n",
       "            2010                                                0.3   \n",
       "            2015                                                0.3   \n",
       "\n",
       "Series           Percentage of male and female intentional homicide victims, Female  \\\n",
       "Region      Year                                                                      \n",
       "Afghanistan 2010                                                NaN                   \n",
       "            2012                                                0.6                   \n",
       "Albania     2005                                                1.4                   \n",
       "            2010                                                1.3                   \n",
       "            2015                                                  1                   \n",
       "\n",
       "Series           Percentage of male and female intentional homicide victims, Male  \\\n",
       "Region      Year                                                                    \n",
       "Afghanistan 2010                                                NaN                 \n",
       "            2012                                               11.8                 \n",
       "Albania     2005                                                8.6                 \n",
       "            2010                                                7.3                 \n",
       "            2015                                                3.5                 \n",
       "\n",
       "Series           Robbery at the national level, rate per 100,000 population  \\\n",
       "Region      Year                                                              \n",
       "Afghanistan 2010                                                NaN           \n",
       "            2012                                                NaN           \n",
       "Albania     2005                                                6.5           \n",
       "            2010                                                8.1           \n",
       "            2015                                                8.1           \n",
       "\n",
       "Series           Theft at the national level, rate per 100,000 population  \\\n",
       "Region      Year                                                            \n",
       "Afghanistan 2010                                                NaN         \n",
       "            2012                                                NaN         \n",
       "Albania     2005                                               96.9         \n",
       "            2010                                              137.1         \n",
       "            2015                                              248.1         \n",
       "\n",
       "Series           Total Sexual Violence at the national level, rate per 100,000  \n",
       "Region      Year                                                                \n",
       "Afghanistan 2010                                                NaN             \n",
       "            2012                                                NaN             \n",
       "Albania     2005                                                2.9             \n",
       "            2010                                                2.7             \n",
       "            2015                                                5.1             "
      ]
     },
     "execution_count": 86,
     "metadata": {},
     "output_type": "execute_result"
    }
   ],
   "source": [
    "cols = list(df.columns)\n",
    "cols[1] = 'Region'\n",
    "df.columns = cols\n",
    "pivoted = pd.pivot_table(df, values='Value', index=['Region', 'Year'], columns='Series', aggfunc=sum)\n",
    "un_crimes=pivoted\n",
    "pivoted.head()"
   ]
  },
  {
   "cell_type": "markdown",
   "metadata": {
    "_uuid": "66c6107c9e3fbfc4d2ccf083236f9ead212e8ec1"
   },
   "source": [
    "How do we even impute this? Basic methods like foreward fill and others are out of the question since they are obviously false for many reasons. There is an option to import another data set containing socio-economic variables and based on that try to predict the missing values. In essence build a model to predict the missing values. Problem with that is that we have too little training data, i.e. for Afganistan we have only two. Algorithm can not learn with that. I decided to set the NaN values to zero and atleast extract some statistics and interesing plots from the data at hand. And we are going to supplement with other data sources later on."
   ]
  },
  {
   "cell_type": "code",
   "execution_count": 87,
   "metadata": {
    "_uuid": "6534d53a544a49dd1c657fa5e12fb4e4ea0170a7",
    "trusted": true
   },
   "outputs": [],
   "source": [
    "pivoted=pivoted.fillna(0)"
   ]
  },
  {
   "cell_type": "markdown",
   "metadata": {
    "_uuid": "f1de9e261472a91b03b0b93f86c25af0c9e7ec2a"
   },
   "source": [
    "Second question can partially be answered with the dataset at hand:\n",
    "\n",
    "1. Which countries have the highest/lowest crime rates?(Full/complementary answer later on)\n",
    "\n",
    "3. Obviously very rialable signs of a country crime rate are 5 columns : Assault rate per 100,000 population, Intentional homicide rates per 100,000, Robbery at the national level, rate per 100,000 population, Theft at the national level, rate per 100,000 population, Total Sexual Violence at the national level, rate per 100,000 They are all normed to 100 000 citizens and describe various hard-crimes.\n",
    "\n",
    "4. We can answer with Table of maximum values for all 5 different types of crime"
   ]
  },
  {
   "cell_type": "code",
   "execution_count": 88,
   "metadata": {
    "_uuid": "2bec02853b08172d8956c70ece14089bd1de0287",
    "trusted": true
   },
   "outputs": [
    {
     "data": {
      "text/html": [
       "<div>\n",
       "<style scoped>\n",
       "    .dataframe tbody tr th:only-of-type {\n",
       "        vertical-align: middle;\n",
       "    }\n",
       "\n",
       "    .dataframe tbody tr th {\n",
       "        vertical-align: top;\n",
       "    }\n",
       "\n",
       "    .dataframe thead th {\n",
       "        text-align: right;\n",
       "    }\n",
       "</style>\n",
       "<table border=\"1\" class=\"dataframe\">\n",
       "  <thead>\n",
       "    <tr style=\"text-align: right;\">\n",
       "      <th></th>\n",
       "      <th>Series</th>\n",
       "      <th>Assault rate per 100,000 population</th>\n",
       "      <th>Intentional homicide rates per 100,000</th>\n",
       "      <th>Kidnapping at the national level, rate per 100,000</th>\n",
       "      <th>Percentage of male and female intentional homicide victims, Female</th>\n",
       "      <th>Percentage of male and female intentional homicide victims, Male</th>\n",
       "      <th>Robbery at the national level, rate per 100,000 population</th>\n",
       "      <th>Theft at the national level, rate per 100,000 population</th>\n",
       "      <th>Total Sexual Violence at the national level, rate per 100,000</th>\n",
       "    </tr>\n",
       "    <tr>\n",
       "      <th>Region</th>\n",
       "      <th>Year</th>\n",
       "      <th></th>\n",
       "      <th></th>\n",
       "      <th></th>\n",
       "      <th></th>\n",
       "      <th></th>\n",
       "      <th></th>\n",
       "      <th></th>\n",
       "      <th></th>\n",
       "    </tr>\n",
       "  </thead>\n",
       "  <tbody>\n",
       "    <tr>\n",
       "      <th rowspan=\"4\" valign=\"top\">Afghanistan</th>\n",
       "      <th>2010</th>\n",
       "      <td>0</td>\n",
       "      <td>3.4</td>\n",
       "      <td>0</td>\n",
       "      <td>0</td>\n",
       "      <td>0</td>\n",
       "      <td>0</td>\n",
       "      <td>0</td>\n",
       "      <td>0</td>\n",
       "    </tr>\n",
       "    <tr>\n",
       "      <th>2012</th>\n",
       "      <td>0</td>\n",
       "      <td>6.3</td>\n",
       "      <td>0</td>\n",
       "      <td>0.6</td>\n",
       "      <td>11.8</td>\n",
       "      <td>0</td>\n",
       "      <td>0</td>\n",
       "      <td>0</td>\n",
       "    </tr>\n",
       "    <tr>\n",
       "      <th>2010</th>\n",
       "      <td>0</td>\n",
       "      <td>3.4</td>\n",
       "      <td>0</td>\n",
       "      <td>0</td>\n",
       "      <td>0</td>\n",
       "      <td>0</td>\n",
       "      <td>0</td>\n",
       "      <td>0</td>\n",
       "    </tr>\n",
       "    <tr>\n",
       "      <th>2012</th>\n",
       "      <td>0</td>\n",
       "      <td>6.3</td>\n",
       "      <td>0</td>\n",
       "      <td>0.6</td>\n",
       "      <td>11.8</td>\n",
       "      <td>0</td>\n",
       "      <td>0</td>\n",
       "      <td>0</td>\n",
       "    </tr>\n",
       "    <tr>\n",
       "      <th>Albania</th>\n",
       "      <th>2005</th>\n",
       "      <td>5.4</td>\n",
       "      <td>5</td>\n",
       "      <td>0</td>\n",
       "      <td>1.4</td>\n",
       "      <td>8.6</td>\n",
       "      <td>6.5</td>\n",
       "      <td>96.9</td>\n",
       "      <td>2.9</td>\n",
       "    </tr>\n",
       "    <tr>\n",
       "      <th>...</th>\n",
       "      <th>...</th>\n",
       "      <td>...</td>\n",
       "      <td>...</td>\n",
       "      <td>...</td>\n",
       "      <td>...</td>\n",
       "      <td>...</td>\n",
       "      <td>...</td>\n",
       "      <td>...</td>\n",
       "      <td>...</td>\n",
       "    </tr>\n",
       "    <tr>\n",
       "      <th rowspan=\"5\" valign=\"top\">Zimbabwe</th>\n",
       "      <th>2012</th>\n",
       "      <td>0</td>\n",
       "      <td>6.7</td>\n",
       "      <td>0</td>\n",
       "      <td>2</td>\n",
       "      <td>11.5</td>\n",
       "      <td>0</td>\n",
       "      <td>0</td>\n",
       "      <td>0</td>\n",
       "    </tr>\n",
       "    <tr>\n",
       "      <th>2005</th>\n",
       "      <td>712.5</td>\n",
       "      <td>10.4</td>\n",
       "      <td>0.3</td>\n",
       "      <td>0</td>\n",
       "      <td>0</td>\n",
       "      <td>85.8</td>\n",
       "      <td>851.1</td>\n",
       "      <td>0</td>\n",
       "    </tr>\n",
       "    <tr>\n",
       "      <th>2008</th>\n",
       "      <td>379.7</td>\n",
       "      <td>0</td>\n",
       "      <td>1.6</td>\n",
       "      <td>0</td>\n",
       "      <td>0</td>\n",
       "      <td>65.2</td>\n",
       "      <td>677.7</td>\n",
       "      <td>0</td>\n",
       "    </tr>\n",
       "    <tr>\n",
       "      <th>2010</th>\n",
       "      <td>0</td>\n",
       "      <td>5</td>\n",
       "      <td>0</td>\n",
       "      <td>0</td>\n",
       "      <td>0</td>\n",
       "      <td>0</td>\n",
       "      <td>0</td>\n",
       "      <td>0</td>\n",
       "    </tr>\n",
       "    <tr>\n",
       "      <th>2012</th>\n",
       "      <td>0</td>\n",
       "      <td>6.7</td>\n",
       "      <td>0</td>\n",
       "      <td>2</td>\n",
       "      <td>11.5</td>\n",
       "      <td>0</td>\n",
       "      <td>0</td>\n",
       "      <td>0</td>\n",
       "    </tr>\n",
       "  </tbody>\n",
       "</table>\n",
       "<p>2696 rows × 8 columns</p>\n",
       "</div>"
      ],
      "text/plain": [
       "Series           Assault rate per 100,000 population  \\\n",
       "Region      Year                                       \n",
       "Afghanistan 2010                                   0   \n",
       "            2012                                   0   \n",
       "            2010                                   0   \n",
       "            2012                                   0   \n",
       "Albania     2005                                 5.4   \n",
       "...                                              ...   \n",
       "Zimbabwe    2012                                   0   \n",
       "            2005                               712.5   \n",
       "            2008                               379.7   \n",
       "            2010                                   0   \n",
       "            2012                                   0   \n",
       "\n",
       "Series           Intentional homicide rates per 100,000  \\\n",
       "Region      Year                                          \n",
       "Afghanistan 2010                                    3.4   \n",
       "            2012                                    6.3   \n",
       "            2010                                    3.4   \n",
       "            2012                                    6.3   \n",
       "Albania     2005                                      5   \n",
       "...                                                 ...   \n",
       "Zimbabwe    2012                                    6.7   \n",
       "            2005                                   10.4   \n",
       "            2008                                      0   \n",
       "            2010                                      5   \n",
       "            2012                                    6.7   \n",
       "\n",
       "Series           Kidnapping at the national level, rate per 100,000  \\\n",
       "Region      Year                                                      \n",
       "Afghanistan 2010                                                  0   \n",
       "            2012                                                  0   \n",
       "            2010                                                  0   \n",
       "            2012                                                  0   \n",
       "Albania     2005                                                  0   \n",
       "...                                                             ...   \n",
       "Zimbabwe    2012                                                  0   \n",
       "            2005                                                0.3   \n",
       "            2008                                                1.6   \n",
       "            2010                                                  0   \n",
       "            2012                                                  0   \n",
       "\n",
       "Series           Percentage of male and female intentional homicide victims, Female  \\\n",
       "Region      Year                                                                      \n",
       "Afghanistan 2010                                                  0                   \n",
       "            2012                                                0.6                   \n",
       "            2010                                                  0                   \n",
       "            2012                                                0.6                   \n",
       "Albania     2005                                                1.4                   \n",
       "...                                                             ...                   \n",
       "Zimbabwe    2012                                                  2                   \n",
       "            2005                                                  0                   \n",
       "            2008                                                  0                   \n",
       "            2010                                                  0                   \n",
       "            2012                                                  2                   \n",
       "\n",
       "Series           Percentage of male and female intentional homicide victims, Male  \\\n",
       "Region      Year                                                                    \n",
       "Afghanistan 2010                                                  0                 \n",
       "            2012                                               11.8                 \n",
       "            2010                                                  0                 \n",
       "            2012                                               11.8                 \n",
       "Albania     2005                                                8.6                 \n",
       "...                                                             ...                 \n",
       "Zimbabwe    2012                                               11.5                 \n",
       "            2005                                                  0                 \n",
       "            2008                                                  0                 \n",
       "            2010                                                  0                 \n",
       "            2012                                               11.5                 \n",
       "\n",
       "Series           Robbery at the national level, rate per 100,000 population  \\\n",
       "Region      Year                                                              \n",
       "Afghanistan 2010                                                  0           \n",
       "            2012                                                  0           \n",
       "            2010                                                  0           \n",
       "            2012                                                  0           \n",
       "Albania     2005                                                6.5           \n",
       "...                                                             ...           \n",
       "Zimbabwe    2012                                                  0           \n",
       "            2005                                               85.8           \n",
       "            2008                                               65.2           \n",
       "            2010                                                  0           \n",
       "            2012                                                  0           \n",
       "\n",
       "Series           Theft at the national level, rate per 100,000 population  \\\n",
       "Region      Year                                                            \n",
       "Afghanistan 2010                                                  0         \n",
       "            2012                                                  0         \n",
       "            2010                                                  0         \n",
       "            2012                                                  0         \n",
       "Albania     2005                                               96.9         \n",
       "...                                                             ...         \n",
       "Zimbabwe    2012                                                  0         \n",
       "            2005                                              851.1         \n",
       "            2008                                              677.7         \n",
       "            2010                                                  0         \n",
       "            2012                                                  0         \n",
       "\n",
       "Series           Total Sexual Violence at the national level, rate per 100,000  \n",
       "Region      Year                                                                \n",
       "Afghanistan 2010                                                  0             \n",
       "            2012                                                  0             \n",
       "            2010                                                  0             \n",
       "            2012                                                  0             \n",
       "Albania     2005                                                2.9             \n",
       "...                                                             ...             \n",
       "Zimbabwe    2012                                                  0             \n",
       "            2005                                                  0             \n",
       "            2008                                                  0             \n",
       "            2010                                                  0             \n",
       "            2012                                                  0             \n",
       "\n",
       "[2696 rows x 8 columns]"
      ]
     },
     "execution_count": 88,
     "metadata": {},
     "output_type": "execute_result"
    }
   ],
   "source": [
    "pivoted.loc[pivoted.index.get_level_values(0)]"
   ]
  },
  {
   "cell_type": "code",
   "execution_count": null,
   "metadata": {
    "_uuid": "b0204b9c388f006ad34fe4dc5c81c64f0ca0d93b",
    "trusted": true
   },
   "outputs": [
    {
     "data": {
      "text/html": [
       "<div>\n",
       "<style scoped>\n",
       "    .dataframe tbody tr th:only-of-type {\n",
       "        vertical-align: middle;\n",
       "    }\n",
       "\n",
       "    .dataframe tbody tr th {\n",
       "        vertical-align: top;\n",
       "    }\n",
       "\n",
       "    .dataframe thead th {\n",
       "        text-align: right;\n",
       "    }\n",
       "</style>\n",
       "<table border=\"1\" class=\"dataframe\">\n",
       "  <thead>\n",
       "    <tr style=\"text-align: right;\">\n",
       "      <th></th>\n",
       "      <th>Series</th>\n",
       "      <th>Assault rate per 100,000 population</th>\n",
       "      <th>Intentional homicide rates per 100,000</th>\n",
       "      <th>Kidnapping at the national level, rate per 100,000</th>\n",
       "      <th>Percentage of male and female intentional homicide victims, Female</th>\n",
       "      <th>Percentage of male and female intentional homicide victims, Male</th>\n",
       "      <th>Robbery at the national level, rate per 100,000 population</th>\n",
       "      <th>Theft at the national level, rate per 100,000 population</th>\n",
       "      <th>Total Sexual Violence at the national level, rate per 100,000</th>\n",
       "    </tr>\n",
       "    <tr>\n",
       "      <th>Region</th>\n",
       "      <th>Year</th>\n",
       "      <th></th>\n",
       "      <th></th>\n",
       "      <th></th>\n",
       "      <th></th>\n",
       "      <th></th>\n",
       "      <th></th>\n",
       "      <th></th>\n",
       "      <th></th>\n",
       "    </tr>\n",
       "  </thead>\n",
       "  <tbody>\n",
       "    <tr>\n",
       "      <th rowspan=\"2\" valign=\"top\">Afghanistan</th>\n",
       "      <th>2010</th>\n",
       "      <td>0.0</td>\n",
       "      <td>3.4</td>\n",
       "      <td>0.0</td>\n",
       "      <td>0.0</td>\n",
       "      <td>0.0</td>\n",
       "      <td>0.0</td>\n",
       "      <td>0.0</td>\n",
       "      <td>0.0</td>\n",
       "    </tr>\n",
       "    <tr>\n",
       "      <th>2012</th>\n",
       "      <td>0.0</td>\n",
       "      <td>6.3</td>\n",
       "      <td>0.0</td>\n",
       "      <td>0.6</td>\n",
       "      <td>11.8</td>\n",
       "      <td>0.0</td>\n",
       "      <td>0.0</td>\n",
       "      <td>0.0</td>\n",
       "    </tr>\n",
       "    <tr>\n",
       "      <th rowspan=\"3\" valign=\"top\">Albania</th>\n",
       "      <th>2005</th>\n",
       "      <td>5.4</td>\n",
       "      <td>5.0</td>\n",
       "      <td>0.0</td>\n",
       "      <td>1.4</td>\n",
       "      <td>8.6</td>\n",
       "      <td>6.5</td>\n",
       "      <td>96.9</td>\n",
       "      <td>2.9</td>\n",
       "    </tr>\n",
       "    <tr>\n",
       "      <th>2010</th>\n",
       "      <td>6.1</td>\n",
       "      <td>4.3</td>\n",
       "      <td>0.3</td>\n",
       "      <td>1.3</td>\n",
       "      <td>7.3</td>\n",
       "      <td>8.1</td>\n",
       "      <td>137.1</td>\n",
       "      <td>2.7</td>\n",
       "    </tr>\n",
       "    <tr>\n",
       "      <th>2015</th>\n",
       "      <td>5.8</td>\n",
       "      <td>2.3</td>\n",
       "      <td>0.3</td>\n",
       "      <td>1.0</td>\n",
       "      <td>3.5</td>\n",
       "      <td>8.1</td>\n",
       "      <td>248.1</td>\n",
       "      <td>5.1</td>\n",
       "    </tr>\n",
       "    <tr>\n",
       "      <th>...</th>\n",
       "      <th>...</th>\n",
       "      <td>...</td>\n",
       "      <td>...</td>\n",
       "      <td>...</td>\n",
       "      <td>...</td>\n",
       "      <td>...</td>\n",
       "      <td>...</td>\n",
       "      <td>...</td>\n",
       "      <td>...</td>\n",
       "    </tr>\n",
       "    <tr>\n",
       "      <th>Zambia</th>\n",
       "      <th>2015</th>\n",
       "      <td>0.0</td>\n",
       "      <td>5.3</td>\n",
       "      <td>0.0</td>\n",
       "      <td>2.1</td>\n",
       "      <td>8.6</td>\n",
       "      <td>0.0</td>\n",
       "      <td>0.0</td>\n",
       "      <td>0.0</td>\n",
       "    </tr>\n",
       "    <tr>\n",
       "      <th rowspan=\"4\" valign=\"top\">Zimbabwe</th>\n",
       "      <th>2005</th>\n",
       "      <td>712.5</td>\n",
       "      <td>10.4</td>\n",
       "      <td>0.3</td>\n",
       "      <td>0.0</td>\n",
       "      <td>0.0</td>\n",
       "      <td>85.8</td>\n",
       "      <td>851.1</td>\n",
       "      <td>0.0</td>\n",
       "    </tr>\n",
       "    <tr>\n",
       "      <th>2008</th>\n",
       "      <td>379.7</td>\n",
       "      <td>0.0</td>\n",
       "      <td>1.6</td>\n",
       "      <td>0.0</td>\n",
       "      <td>0.0</td>\n",
       "      <td>65.2</td>\n",
       "      <td>677.7</td>\n",
       "      <td>0.0</td>\n",
       "    </tr>\n",
       "    <tr>\n",
       "      <th>2010</th>\n",
       "      <td>0.0</td>\n",
       "      <td>5.0</td>\n",
       "      <td>0.0</td>\n",
       "      <td>0.0</td>\n",
       "      <td>0.0</td>\n",
       "      <td>0.0</td>\n",
       "      <td>0.0</td>\n",
       "      <td>0.0</td>\n",
       "    </tr>\n",
       "    <tr>\n",
       "      <th>2012</th>\n",
       "      <td>0.0</td>\n",
       "      <td>6.7</td>\n",
       "      <td>0.0</td>\n",
       "      <td>2.0</td>\n",
       "      <td>11.5</td>\n",
       "      <td>0.0</td>\n",
       "      <td>0.0</td>\n",
       "      <td>0.0</td>\n",
       "    </tr>\n",
       "  </tbody>\n",
       "</table>\n",
       "<p>746 rows × 8 columns</p>\n",
       "</div>"
      ],
      "text/plain": [
       "Series            Assault rate per 100,000 population  \\\n",
       "Region      Year                                        \n",
       "Afghanistan 2010                                  0.0   \n",
       "            2012                                  0.0   \n",
       "Albania     2005                                  5.4   \n",
       "            2010                                  6.1   \n",
       "            2015                                  5.8   \n",
       "...                                               ...   \n",
       "Zambia      2015                                  0.0   \n",
       "Zimbabwe    2005                                712.5   \n",
       "            2008                                379.7   \n",
       "            2010                                  0.0   \n",
       "            2012                                  0.0   \n",
       "\n",
       "Series            Intentional homicide rates per 100,000  \\\n",
       "Region      Year                                           \n",
       "Afghanistan 2010                                     3.4   \n",
       "            2012                                     6.3   \n",
       "Albania     2005                                     5.0   \n",
       "            2010                                     4.3   \n",
       "            2015                                     2.3   \n",
       "...                                                  ...   \n",
       "Zambia      2015                                     5.3   \n",
       "Zimbabwe    2005                                    10.4   \n",
       "            2008                                     0.0   \n",
       "            2010                                     5.0   \n",
       "            2012                                     6.7   \n",
       "\n",
       "Series            Kidnapping at the national level, rate per 100,000  \\\n",
       "Region      Year                                                       \n",
       "Afghanistan 2010                                                0.0    \n",
       "            2012                                                0.0    \n",
       "Albania     2005                                                0.0    \n",
       "            2010                                                0.3    \n",
       "            2015                                                0.3    \n",
       "...                                                             ...    \n",
       "Zambia      2015                                                0.0    \n",
       "Zimbabwe    2005                                                0.3    \n",
       "            2008                                                1.6    \n",
       "            2010                                                0.0    \n",
       "            2012                                                0.0    \n",
       "\n",
       "Series            Percentage of male and female intentional homicide victims, Female  \\\n",
       "Region      Year                                                                       \n",
       "Afghanistan 2010                                                0.0                    \n",
       "            2012                                                0.6                    \n",
       "Albania     2005                                                1.4                    \n",
       "            2010                                                1.3                    \n",
       "            2015                                                1.0                    \n",
       "...                                                             ...                    \n",
       "Zambia      2015                                                2.1                    \n",
       "Zimbabwe    2005                                                0.0                    \n",
       "            2008                                                0.0                    \n",
       "            2010                                                0.0                    \n",
       "            2012                                                2.0                    \n",
       "\n",
       "Series            Percentage of male and female intentional homicide victims, Male  \\\n",
       "Region      Year                                                                     \n",
       "Afghanistan 2010                                                0.0                  \n",
       "            2012                                               11.8                  \n",
       "Albania     2005                                                8.6                  \n",
       "            2010                                                7.3                  \n",
       "            2015                                                3.5                  \n",
       "...                                                             ...                  \n",
       "Zambia      2015                                                8.6                  \n",
       "Zimbabwe    2005                                                0.0                  \n",
       "            2008                                                0.0                  \n",
       "            2010                                                0.0                  \n",
       "            2012                                               11.5                  \n",
       "\n",
       "Series            Robbery at the national level, rate per 100,000 population  \\\n",
       "Region      Year                                                               \n",
       "Afghanistan 2010                                                0.0            \n",
       "            2012                                                0.0            \n",
       "Albania     2005                                                6.5            \n",
       "            2010                                                8.1            \n",
       "            2015                                                8.1            \n",
       "...                                                             ...            \n",
       "Zambia      2015                                                0.0            \n",
       "Zimbabwe    2005                                               85.8            \n",
       "            2008                                               65.2            \n",
       "            2010                                                0.0            \n",
       "            2012                                                0.0            \n",
       "\n",
       "Series            Theft at the national level, rate per 100,000 population  \\\n",
       "Region      Year                                                             \n",
       "Afghanistan 2010                                                0.0          \n",
       "            2012                                                0.0          \n",
       "Albania     2005                                               96.9          \n",
       "            2010                                              137.1          \n",
       "            2015                                              248.1          \n",
       "...                                                             ...          \n",
       "Zambia      2015                                                0.0          \n",
       "Zimbabwe    2005                                              851.1          \n",
       "            2008                                              677.7          \n",
       "            2010                                                0.0          \n",
       "            2012                                                0.0          \n",
       "\n",
       "Series            Total Sexual Violence at the national level, rate per 100,000  \n",
       "Region      Year                                                                 \n",
       "Afghanistan 2010                                                0.0              \n",
       "            2012                                                0.0              \n",
       "Albania     2005                                                2.9              \n",
       "            2010                                                2.7              \n",
       "            2015                                                5.1              \n",
       "...                                                             ...              \n",
       "Zambia      2015                                                0.0              \n",
       "Zimbabwe    2005                                                0.0              \n",
       "            2008                                                0.0              \n",
       "            2010                                                0.0              \n",
       "            2012                                                0.0              \n",
       "\n",
       "[746 rows x 8 columns]"
      ]
     },
     "execution_count": 89,
     "metadata": {},
     "output_type": "execute_result"
    }
   ],
   "source": [
    "pivoted_max= pivoted.copy()  \n",
    "\n",
    "for column in pivoted_max.columns:\n",
    "    if pivoted_max[column].dtype == 'object':\n",
    "        pivoted_max[column] = pivoted_max[column].replace({',': '', '%': '', ' ': ''}, regex=True)\n",
    "        pivoted_max[column] = pd.to_numeric(pivoted_max[column], errors='coerce')\n",
    "\n",
    "pivoted_max=pivoted_max.fillna(0)\n",
    "pivoted_max[\"Intentional homicide rates per 100,000\"]=pivoted_max[\"Intentional homicide rates per 100,000\"].astype('float')\n",
    "pivoted_max[\"Robbery at the national level, rate per 100,000 population\"]=pivoted_max[\"Robbery at the national level, rate per 100,000 population\"].astype('float')\n",
    "pivoted_max[\"Assault rate per 100,000 population\"]=pivoted_max[\"Assault rate per 100,000 population\"].astype('float')\n",
    "\n",
    "pivoted_max1=pivoted_max.sort_values(by=\"Intentional homicide rates per 100,000\",ascending=False)\n",
    "pivoted_max"
   ]
  },
  {
   "cell_type": "markdown",
   "metadata": {
    "_uuid": "8ccf97ac05cfadd7c368b40e5e860321eb663b97"
   },
   "source": [
    "It appears that the second column \"Intentional homicide rates per 100,000\" is mostly populated, so we can make some inference from it!"
   ]
  },
  {
   "cell_type": "code",
   "execution_count": 90,
   "metadata": {
    "_uuid": "ded9efe987ff66f1e506d6b7318c0dc76cbca290",
    "trusted": true
   },
   "outputs": [
    {
     "data": {
      "text/plain": [
       "<Axes: title={'center': 'Intentional homicide rates per 100,000'}, xlabel='Region,Year'>"
      ]
     },
     "execution_count": 90,
     "metadata": {},
     "output_type": "execute_result"
    },
    {
     "data": {
      "image/png": "[encoded data removed]",
      "text/plain": [
       "<Figure size 2000x1000 with 1 Axes>"
      ]
     },
     "metadata": {},
     "output_type": "display_data"
    }
   ],
   "source": [
    "import matplotlib.pyplot as plt\n",
    "\n",
    "plt.style.use('dark_background')\n",
    "fig, ax = plt.subplots(figsize=(20, 10))\n",
    "pivoted_max1['Intentional homicide rates per 100,000'].head(15).plot(kind='bar', rot=90,  title='Intentional homicide rates per 100,000')"
   ]
  },
  {
   "cell_type": "code",
   "execution_count": 91,
   "metadata": {
    "_uuid": "7ad79fad057c3c92742b6f58ab42761ec463f6d9",
    "trusted": true
   },
   "outputs": [
    {
     "data": {
      "text/plain": [
       "<Axes: title={'center': 'Robbery at the national level, rate per 100,000 population'}, xlabel='Region,Year'>"
      ]
     },
     "execution_count": 91,
     "metadata": {},
     "output_type": "execute_result"
    },
    {
     "data": {
      "image/png": "[encoded data removed]",
      "text/plain": [
       "<Figure size 2000x1000 with 1 Axes>"
      ]
     },
     "metadata": {},
     "output_type": "display_data"
    }
   ],
   "source": [
    "pivoted_max2=pivoted_max.sort_values(by=\"Robbery at the national level, rate per 100,000 population\",ascending=False)\n",
    "fig, ax = plt.subplots(figsize=(20, 10))\n",
    "pivoted_max2['Robbery at the national level, rate per 100,000 population'].head(15).plot(kind='bar', rot=90,  title='Robbery at the national level, rate per 100,000 population')"
   ]
  },
  {
   "cell_type": "code",
   "execution_count": 92,
   "metadata": {
    "_uuid": "ce01d51c83355a8832770d77228c7b8658b43431",
    "trusted": true
   },
   "outputs": [
    {
     "data": {
      "text/plain": [
       "<Axes: title={'center': 'Assault rate per 100,000 population'}, xlabel='Region,Year'>"
      ]
     },
     "execution_count": 92,
     "metadata": {},
     "output_type": "execute_result"
    },
    {
     "data": {
      "image/png": "[encoded data removed]",
      "text/plain": [
       "<Figure size 2000x1000 with 1 Axes>"
      ]
     },
     "metadata": {},
     "output_type": "display_data"
    }
   ],
   "source": [
    "pivoted_max3=pivoted_max.sort_values(by=\"Assault rate per 100,000 population\",ascending=False)\n",
    "fig, ax = plt.subplots(figsize=(20, 10))\n",
    "pivoted_max3[\"Assault rate per 100,000 population\"].head(15).plot(kind='bar', rot=90,  title='Assault rate per 100,000 population')"
   ]
  },
  {
   "cell_type": "code",
   "execution_count": 93,
   "metadata": {
    "_uuid": "b5276b084e5b9aa05ea08ef44e7e370e5c3f83c6",
    "trusted": true
   },
   "outputs": [
    {
     "data": {
      "text/plain": [
       "3206"
      ]
     },
     "execution_count": 93,
     "metadata": {},
     "output_type": "execute_result"
    }
   ],
   "source": [
    "del pivoted_max3,pivoted_max,df,pivoted_max2,pivoted\n",
    "\n",
    "\n",
    "gc.collect()"
   ]
  },
  {
   "cell_type": "markdown",
   "metadata": {
    "_uuid": "11291e56abb83153d8fd557872da71d1ff3054c4"
   },
   "source": [
    "Some interesting plots (albeit not complete data! only introductory!) but it seems that there is a suprising prevelance of assault rate in unexpected places(as already stated in the beginning). Sweden, Belgium, Germany certainly do not classify as dangerous places to live. Assumption is that these countries have better/more effective police force that is able to cover and handle these types of crimes more effectively hence there are more assaults. If we were to compare that with worse crimes like murder, than the police can not look the other way and it is well documented that usuall countries will the top of the list."
   ]
  },
  {
   "cell_type": "markdown",
   "metadata": {
    "_uuid": "1152afc6c21b4328f76aa5544c24fcad585c509d"
   },
   "source": [
    "# Nationmaster\n",
    "\n",
    "Starting of with finding the crime data for the whole world, for a big number of years:"
   ]
  },
  {
   "cell_type": "code",
   "execution_count": 94,
   "metadata": {
    "_uuid": "6ac259384694f2af696538a8cf7d0f385645b70f",
    "trusted": true
   },
   "outputs": [],
   "source": [
    "pd.options.display.max_rows = 20\n",
    "pd.options.display.max_columns = 20\n"
   ]
  },
  {
   "cell_type": "code",
   "execution_count": 95,
   "metadata": {
    "_uuid": "6ac259384694f2af696538a8cf7d0f385645b70f",
    "trusted": true
   },
   "outputs": [
    {
     "data": {
      "text/plain": [
       "(234, 80)"
      ]
     },
     "execution_count": 95,
     "metadata": {},
     "output_type": "execute_result"
    }
   ],
   "source": [
    "nm = pd.read_csv('/Users/margarita/Downloads/Nationmaster.csv', encoding='latin1')\n",
    "nm.rename(columns={'Unnamed: 0': \"Country\"}, inplace=1)\n",
    "nm.shape\n"
   ]
  },
  {
   "cell_type": "code",
   "execution_count": 96,
   "metadata": {
    "_uuid": "6ac259384694f2af696538a8cf7d0f385645b70f",
    "trusted": true
   },
   "outputs": [
    {
     "name": "stdout",
     "output_type": "stream",
     "text": [
      "deleting average countries: \n",
      " 45                      Eastern Europe average\n",
      "52             Former Soviet republics average\n",
      "97                      NATO countries average\n",
      "98                      European Union average\n",
      "122          Group of 7 countries (G7) average\n",
      "141                           Eurozone average\n",
      "144                   Emerging markets average\n",
      "172         High income OECD countries average\n",
      "173            Non-religious countries average\n",
      "180                             Europe average\n",
      "207         Heavily indebted countries average\n",
      "208            Former British colonies average\n",
      "209                     OPEC countries average\n",
      "210            Former Spanish colonies average\n",
      "211    Middle Eastern and North Africa average\n",
      "212                   Muslim countries average\n",
      "213        Latin America and Caribbean average\n",
      "214             Former French colonies average\n",
      "231                         South Asia average\n",
      "232             South and Central Asia average\n",
      "Name: Country, dtype: object\n"
     ]
    }
   ],
   "source": [
    "#dropping data that is irrelevant and \n",
    "nm.drop(columns=[\n",
    "\t\"Age of criminal responsibility %28notes%29\", \"Background\",\n",
    "\t\"Illicit drugs\",\n",
    "\t\"Minimum to serve before eligibility for requesting parole\",\n",
    "\t\"Prosecution rate\",\n",
    "\t\"Prosecution rate per million\",\n",
    "\t\"%25 sales\"\n",
    "], inplace=True)\n",
    "\n",
    "print(\"deleting average countries: \\n\", nm[nm[\"Country\"].str.match(\".*average\")][\"Country\"])\n",
    "nm.drop(nm[nm[\"Country\"].str.match(\".*average\")].index, inplace=True)\n"
   ]
  },
  {
   "cell_type": "code",
   "execution_count": 97,
   "metadata": {
    "_uuid": "6ac259384694f2af696538a8cf7d0f385645b70f",
    "trusted": true
   },
   "outputs": [
    {
     "name": "stdout",
     "output_type": "stream",
     "text": [
      "deleting  107\n"
     ]
    },
    {
     "data": {
      "text/plain": [
       "(107, 73)"
      ]
     },
     "execution_count": 97,
     "metadata": {},
     "output_type": "execute_result"
    }
   ],
   "source": [
    "#dropping countries we do not have data about\n",
    "limit = 20  # drop all countries with data in less than x columns\n",
    "bad_countries = (~nm.isna()).sum(axis=1)\n",
    "print(\"deleting \", (bad_countries < 20).sum())\n",
    "nm.drop(nm[bad_countries < 20].index, inplace=True)\n",
    "nm.shape\n"
   ]
  },
  {
   "cell_type": "code",
   "execution_count": 98,
   "metadata": {
    "_uuid": "e9b6623a90dd475293d513ce9deffd8f3263ce2c",
    "trusted": true
   },
   "outputs": [
    {
     "data": {
      "text/html": [
       "        <script type=\"text/javascript\">\n",
       "        window.PlotlyConfig = {MathJaxConfig: 'local'};\n",
       "        if (window.MathJax && window.MathJax.Hub && window.MathJax.Hub.Config) {window.MathJax.Hub.Config({SVG: {font: \"STIX-Web\"}});}\n",
       "        if (typeof require !== 'undefined') {\n",
       "        require.undef(\"plotly\");\n",
       "        requirejs.config({\n",
       "            paths: {\n",
       "                'plotly': ['https://cdn.plot.ly/plotly-2.35.2.min']\n",
       "            }\n",
       "        });\n",
       "        require(['plotly'], function(Plotly) {\n",
       "            window._Plotly = Plotly;\n",
       "        });\n",
       "        }\n",
       "        </script>\n",
       "        "
      ]
     },
     "metadata": {},
     "output_type": "display_data"
    }
   ],
   "source": [
    "import plotly.offline as py\n",
    "\n",
    "import plotly.graph_objs as go\n",
    "\n",
    "py.init_notebook_mode(connected=True)"
   ]
  },
  {
   "cell_type": "code",
   "execution_count": 99,
   "metadata": {
    "_uuid": "e9b6623a90dd475293d513ce9deffd8f3263ce2c",
    "trusted": true
   },
   "outputs": [
    {
     "data": {
      "text/plain": [
       "Index(['index',\n",
       "       '%25 of managers surveyed ranking this as a major business constraint',\n",
       "       'Acquitted', 'Acquitted per 1000', 'Adults prosecuted',\n",
       "       'Adults prosecuted per 1000', 'Age of criminal responsibility',\n",
       "       'Assault rate', 'Assault victims', 'Assaults', 'Auto theft',\n",
       "       'Believe in police efficiency',\n",
       "       'Believes crime increasing in the past 3 years', 'Bribery victims',\n",
       "       'Burglaries', 'Car thefts', 'Car thefts per 1000', 'Convictions',\n",
       "       'Convictions per 1000', 'Counterfeiting', 'Counterfeiting per million',\n",
       "       'Crime levels', 'Drug offences', 'Drug related crime',\n",
       "       'Drug trafficking', 'Embezzlements', 'Embezzlements per million',\n",
       "       'Executions', 'Executions per million', 'Females prosecuted',\n",
       "       'Females prosecuted per 1000', 'Frauds', 'Frauds per 1000', '2007',\n",
       "       'Term End', 'Jails', 'Jails per million', 'Judges',\n",
       "       'Judges and Magistrates', 'Judges and Magistrates per million',\n",
       "       'Kidnappings', 'Manslaughters', 'Manslaughters per million',\n",
       "       'Murder rate', 'Sources', 'Murders', 'Per capita',\n",
       "       'Murders committed by youths', 'Murders committed by youths per capita',\n",
       "       'Murders committed by youths per million', 'Murders per million',\n",
       "       'Murders with firearms', 'Murders with firearms per million',\n",
       "       'Police officers', 'Prison staff', 'Prisoners', 'Prisoners per 1000',\n",
       "       'Property crime victims', 'Prosecutors', 'Rape rate', 'Rape victims',\n",
       "       'Reporting to police', 'Robberies', 'Robbery victims',\n",
       "       'Sentence Length', 'Serious assault rate', 'Serious assaults',\n",
       "       'Software piracy rate', 'Total crime victims', 'Total crimes',\n",
       "       'Total crimes per 1000', 'Unpaid diplomatic parking fines',\n",
       "       'Unpaid diplomatic parking fines per million', 'GDP (BILLIONS)',\n",
       "       'CODE'],\n",
       "      dtype='object')"
      ]
     },
     "execution_count": 99,
     "metadata": {},
     "output_type": "execute_result"
    }
   ],
   "source": [
    "countriesraw = pd.read_csv('/Users/margarita/Downloads/2014_world_gdp_with_codes.csv')\n",
    "countries=countriesraw.copy()\n",
    "\n",
    "countries[\"Country\"]=countries[\"COUNTRY\"]\n",
    "countries=countries.drop(columns=[\"COUNTRY\"])\n",
    "\n",
    "nm.reset_index(inplace=True)\n",
    "\n",
    "nm=nm.merge(countries,how=\"outer\")\n",
    "\n",
    "nm.sort_index(inplace=True)\n",
    "nm.set_index(\"Country\",inplace=True)\n",
    "nm.columns"
   ]
  },
  {
   "cell_type": "code",
   "execution_count": 100,
   "metadata": {
    "_uuid": "08c58a419f7ebb63b2856ddef4fcdda37332f993",
    "trusted": true
   },
   "outputs": [
    {
     "data": {
      "application/vnd.plotly.v1+json": {
       "config": {
        "linkText": "Export to plot.ly",
        "plotlyServerURL": "https://plot.ly",
        "showLink": false
       },
       "data": [
        {
         "autocolorscale": false,
         "colorbar": {
          "autotick": false,
          "title": "Total crimes per 1000"
         },
         "colorscale": [
          [
           0,
           "rgb(5, 10, 172)"
          ],
          [
           0.35,
           "rgb(40, 60, 190)"
          ],
          [
           0.5,
           "rgb(70, 100, 245)"
          ],
          [
           0.6,
           "rgb(90, 120, 245)"
          ],
          [
           0.7,
           "rgb(106, 137, 247)"
          ],
          [
           1,
           "rgb(220, 220, 220)"
          ]
         ],
         "locations": [
          "GTM",
          "KEN",
          "JAM",
          "SLV",
          "ZMB",
          "NIC",
          "BGD",
          "SYR",
          "ZAF",
          "CRI",
          "MNG",
          "ECU",
          "PHL",
          "MUS",
          "GEO",
          "LBN",
          "IDN",
          "PAK",
          "CHN",
          "KGZ",
          "BIH",
          "SWZ",
          "TUR",
          "MDA",
          "CZE",
          "POL",
          "ROU",
          "PRT",
          "CHL",
          "LKA",
          "COL",
          "UKR",
          "IND",
          "BGR",
          "THA",
          "ESP",
          "ETH",
          "EGY",
          "LTU",
          "RUS",
          "OMN",
          "ALB",
          "MAR",
          "MEX",
          "PAN",
          "HUN",
          "KAZ",
          "ARM",
          "PER",
          "URY",
          "GRC",
          "SVK",
          "IRL",
          "TJK",
          "AZE",
          "HRV",
          "PRY",
          "LVA",
          "BLR",
          "BOL",
          "DEU",
          "EST",
          "ARG",
          "SVN",
          "GBR",
          "CYP",
          "FRA",
          "CAN",
          "ZWE",
          "MMR",
          "BEL",
          "HKG",
          "NLD",
          "MYS",
          "SWE",
          "NZL",
          "FIN",
          "DOM",
          null,
          "AUS",
          "DNK",
          "PNG",
          "QAT",
          "ISL",
          "JPN",
          "LUX",
          "USA",
          "ITA",
          null,
          "NOR",
          "VEN",
          "MDV",
          "AUT",
          "DZA",
          "ISR",
          "NPL",
          "CHE",
          "SGP",
          "TUN",
          "JOR",
          "MLT",
          "KWT",
          "YEM",
          "TKM",
          "BHR",
          "SAU",
          "ARE",
          "AFG",
          "ASM",
          "AND",
          "AGO",
          "AIA",
          "ATG",
          "ABW",
          "BHM",
          "BRB",
          "BLZ",
          "BEN",
          "BMU",
          "BTN",
          "BWA",
          "BRA",
          "VGB",
          "BRN",
          "BFA",
          "BDI",
          "CPV",
          "KHM",
          "CMR",
          "CYM",
          "CAF",
          "TCD",
          "COM",
          "COD",
          "COG",
          "COK",
          "CIV",
          "CUB",
          "CUW",
          "DJI",
          "DMA",
          "GNQ",
          "ERI",
          "FLK",
          "FRO",
          "FJI",
          "PYF",
          "GAB",
          "GMB",
          "GHA",
          "GIB",
          "GRL",
          "GRD",
          "GUM",
          "GGY",
          "GNB",
          "GIN",
          "GUY",
          "HTI",
          "HND",
          "IRN",
          "IRQ",
          "IMN",
          "JEY",
          "KIR",
          "PRK",
          "KOR",
          "KSV",
          "LAO",
          "LSO",
          "LBR",
          "LBY",
          "LIE",
          "MAC",
          "MKD",
          "MDG",
          "MWI",
          "MLI",
          "MHL",
          "MRT",
          "FSM",
          "MCO",
          "MNE",
          "MOZ",
          "NAM",
          "NCL",
          "NGA",
          "NER",
          "NIU",
          "MNP",
          "PLW",
          "PRI",
          "RWA",
          "KNA",
          "LCA",
          "MAF",
          "SPM",
          "VCT",
          "WSM",
          "SMR",
          "STP",
          "SEN",
          "SRB",
          "SYC",
          "SLE",
          "SXM",
          "SLB",
          "SOM",
          "SSD",
          "SDN",
          "SUR",
          "TWN",
          "TZA",
          "TLS",
          "TGO",
          "TON",
          "TTO",
          "TUV",
          "UGA",
          "UZB",
          "VUT",
          "VNM",
          "VGB",
          "WBG"
         ],
         "marker": {
          "line": {
           "color": "rgb(180,180,180)",
           "width": 0.5
          }
         },
         "reversescale": true,
         "text": [
          "Guatemala",
          "Kenya",
          "Jamaica",
          "El Salvador",
          "Zambia",
          "Nicaragua",
          "Bangladesh",
          "Syria",
          "South Africa",
          "Costa Rica",
          "Mongolia",
          "Ecuador",
          "Philippines",
          "Mauritius",
          "Georgia",
          "Lebanon",
          "Indonesia",
          "Pakistan",
          "China",
          "Kyrgyzstan",
          "Bosnia and Herzegovina",
          "Swaziland",
          "Turkey",
          "Moldova",
          "Czech Republic",
          "Poland",
          "Romania",
          "Portugal",
          "Chile",
          "Sri Lanka",
          "Colombia",
          "Ukraine",
          "India",
          "Bulgaria",
          "Thailand",
          "Spain",
          "Ethiopia",
          "Egypt",
          "Lithuania",
          "Russia",
          "Oman",
          "Albania",
          "Morocco",
          "Mexico",
          "Panama",
          "Hungary",
          "Kazakhstan",
          "Armenia",
          "Peru",
          "Uruguay",
          "Greece",
          "Slovakia",
          "Ireland",
          "Tajikistan",
          "Azerbaijan",
          "Croatia",
          "Paraguay",
          "Latvia",
          "Belarus",
          "Bolivia",
          "Germany",
          "Estonia",
          "Argentina",
          "Slovenia",
          "United Kingdom",
          "Cyprus",
          "France",
          "Canada",
          "Zimbabwe",
          "Burma",
          "Belgium",
          "Hong Kong",
          "Netherlands",
          "Malaysia",
          "Sweden",
          "New Zealand",
          "Finland",
          "Dominican Republic",
          "South Korea",
          "Australia",
          "Denmark",
          "Papua New Guinea",
          "Qatar",
          "Iceland",
          "Japan",
          "Luxembourg",
          "United States",
          "Italy",
          "Republic of Macedonia",
          "Norway",
          "Venezuela",
          "Maldives",
          "Austria",
          "Algeria",
          "Israel",
          "Nepal",
          "Switzerland",
          "Singapore",
          "Tunisia",
          "Jordan",
          "Malta",
          "Kuwait",
          "Yemen",
          "Turkmenistan",
          "Bahrain",
          "Saudi Arabia",
          "United Arab Emirates",
          "Afghanistan",
          "American Samoa",
          "Andorra",
          "Angola",
          "Anguilla",
          "Antigua and Barbuda",
          "Aruba",
          "Bahamas, The",
          "Barbados",
          "Belize",
          "Benin",
          "Bermuda",
          "Bhutan",
          "Botswana",
          "Brazil",
          "British Virgin Islands",
          "Brunei",
          "Burkina Faso",
          "Burundi",
          "Cabo Verde",
          "Cambodia",
          "Cameroon",
          "Cayman Islands",
          "Central African Republic",
          "Chad",
          "Comoros",
          "Congo, Democratic Republic of the",
          "Congo, Republic of the",
          "Cook Islands",
          "Cote d'Ivoire",
          "Cuba",
          "Curacao",
          "Djibouti",
          "Dominica",
          "Equatorial Guinea",
          "Eritrea",
          "Falkland Islands (Islas Malvinas)",
          "Faroe Islands",
          "Fiji",
          "French Polynesia",
          "Gabon",
          "Gambia, The",
          "Ghana",
          "Gibraltar",
          "Greenland",
          "Grenada",
          "Guam",
          "Guernsey",
          "Guinea-Bissau",
          "Guinea",
          "Guyana",
          "Haiti",
          "Honduras",
          "Iran",
          "Iraq",
          "Isle of Man",
          "Jersey",
          "Kiribati",
          "Korea, North",
          "Korea, South",
          "Kosovo",
          "Laos",
          "Lesotho",
          "Liberia",
          "Libya",
          "Liechtenstein",
          "Macau",
          "Macedonia",
          "Madagascar",
          "Malawi",
          "Mali",
          "Marshall Islands",
          "Mauritania",
          "Micronesia, Federated States of",
          "Monaco",
          "Montenegro",
          "Mozambique",
          "Namibia",
          "New Caledonia",
          "Nigeria",
          "Niger",
          "Niue",
          "Northern Mariana Islands",
          "Palau",
          "Puerto Rico",
          "Rwanda",
          "Saint Kitts and Nevis",
          "Saint Lucia",
          "Saint Martin",
          "Saint Pierre and Miquelon",
          "Saint Vincent and the Grenadines",
          "Samoa",
          "San Marino",
          "Sao Tome and Principe",
          "Senegal",
          "Serbia",
          "Seychelles",
          "Sierra Leone",
          "Sint Maarten",
          "Solomon Islands",
          "Somalia",
          "South Sudan",
          "Sudan",
          "Suriname",
          "Taiwan",
          "Tanzania",
          "Timor-Leste",
          "Togo",
          "Tonga",
          "Trinidad and Tobago",
          "Tuvalu",
          "Uganda",
          "Uzbekistan",
          "Vanuatu",
          "Vietnam",
          "Virgin Islands",
          "West Bank"
         ],
         "type": "choropleth",
         "z": [
          0,
          0,
          14.971565042,
          7.45001754238,
          5.59281263438,
          0,
          0,
          0,
          58.9425644867,
          9.83502042093,
          0,
          0,
          1.05956924587,
          29.7001477447,
          3.44939178334,
          0,
          0,
          0,
          0,
          7.73839341175,
          0,
          0,
          4.40590382069,
          10.019709864,
          36.4866598274,
          36.730725347,
          14.3192291345,
          21.060138191,
          37.5483532309,
          0,
          5.19677843991,
          11.4847570147,
          1.63891578015,
          18.9255392536,
          8.8577919118,
          22.347669153,
          0,
          0,
          26.7062930411,
          20.3191761386,
          5.10394821715,
          1.624894748,
          9.67888206664,
          14.2051817357,
          6.62524186317,
          41.4212262152,
          0,
          3.95405057168,
          6.04644781993,
          40.2734785875,
          9.35450263994,
          19.9613091963,
          20.6701667138,
          0,
          1.8991795104,
          22.9398648649,
          0,
          21.0931727375,
          13.4685250887,
          3.52106385024,
          78.8885043908,
          42.5416812646,
          35.6262679375,
          40.9605270415,
          109.964046171,
          13.2904435965,
          61.0299827538,
          80.2537465723,
          27.7790654827,
          0.371508571036,
          94.2193222834,
          11.9500007414,
          88.1088151419,
          6.84748110648,
          138.351799527,
          108.2005825,
          100.025804725,
          0,
          32.4056108521,
          0,
          91.3378538527,
          2.34829911734,
          9.27041897911,
          209.520629654,
          22.3919259288,
          58.3761976803,
          41.2940809396,
          39.0421846646,
          9.55148881072,
          72.7323568875,
          9.3221964076,
          24.8494215595,
          68.3511431699,
          0,
          0,
          0.368089067597,
          42.2294345464,
          0,
          13.3281877754,
          0,
          42.990739174,
          9.44717200005,
          1.29728380059,
          0,
          0,
          3.87620430074,
          0,
          0,
          0,
          0,
          0,
          0,
          0,
          0,
          0,
          0,
          0,
          0,
          0,
          0,
          0,
          0,
          0,
          0,
          0,
          0,
          0,
          0,
          0,
          0,
          0,
          0,
          0,
          0,
          0,
          0,
          0,
          0,
          0,
          0,
          0,
          0,
          0,
          0,
          0,
          0,
          0,
          0,
          0,
          0,
          0,
          0,
          0,
          0,
          0,
          0,
          0,
          0,
          0,
          0,
          0,
          0,
          0,
          0,
          0,
          0,
          0,
          0,
          0,
          0,
          0,
          0,
          0,
          0,
          0,
          0,
          0,
          0,
          0,
          0,
          0,
          0,
          0,
          0,
          0,
          0,
          0,
          0,
          0,
          0,
          0,
          0,
          0,
          0,
          0,
          0,
          0,
          0,
          0,
          0,
          0,
          0,
          0,
          0,
          0,
          0,
          0,
          0,
          0,
          0,
          0,
          0,
          0,
          0,
          0,
          0,
          0,
          0,
          0,
          0,
          0,
          0,
          0,
          0
         ]
        }
       ],
       "layout": {
        "geo": {
         "projection": {
          "type": "Mercator"
         },
         "showcoastlines": false,
         "showframe": false
        },
        "title": "world plot of Total crimes per 1000"
       }
      },
      "text/html": [
       "<div>                            <div id=\"ecba1c76-d9fb-4df5-943d-9e0bd5c7338b\" class=\"plotly-graph-div\" style=\"height:525px; width:100%;\"></div>            <script type=\"text/javascript\">                require([\"plotly\"], function(Plotly) {                    window.PLOTLYENV=window.PLOTLYENV || {};                                    if (document.getElementById(\"ecba1c76-d9fb-4df5-943d-9e0bd5c7338b\")) {                    Plotly.newPlot(                        \"ecba1c76-d9fb-4df5-943d-9e0bd5c7338b\",                        [{\"type\":\"choropleth\",\"locations\":[\"GTM\",\"KEN\",\"JAM\",\"SLV\",\"ZMB\",\"NIC\",\"BGD\",\"SYR\",\"ZAF\",\"CRI\",\"MNG\",\"ECU\",\"PHL\",\"MUS\",\"GEO\",\"LBN\",\"IDN\",\"PAK\",\"CHN\",\"KGZ\",\"BIH\",\"SWZ\",\"TUR\",\"MDA\",\"CZE\",\"POL\",\"ROU\",\"PRT\",\"CHL\",\"LKA\",\"COL\",\"UKR\",\"IND\",\"BGR\",\"THA\",\"ESP\",\"ETH\",\"EGY\",\"LTU\",\"RUS\",\"OMN\",\"ALB\",\"MAR\",\"MEX\",\"PAN\",\"HUN\",\"KAZ\",\"ARM\",\"PER\",\"URY\",\"GRC\",\"SVK\",\"IRL\",\"TJK\",\"AZE\",\"HRV\",\"PRY\",\"LVA\",\"BLR\",\"BOL\",\"DEU\",\"EST\",\"ARG\",\"SVN\",\"GBR\",\"CYP\",\"FRA\",\"CAN\",\"ZWE\",\"MMR\",\"BEL\",\"HKG\",\"NLD\",\"MYS\",\"SWE\",\"NZL\",\"FIN\",\"DOM\",null,\"AUS\",\"DNK\",\"PNG\",\"QAT\",\"ISL\",\"JPN\",\"LUX\",\"USA\",\"ITA\",null,\"NOR\",\"VEN\",\"MDV\",\"AUT\",\"DZA\",\"ISR\",\"NPL\",\"CHE\",\"SGP\",\"TUN\",\"JOR\",\"MLT\",\"KWT\",\"YEM\",\"TKM\",\"BHR\",\"SAU\",\"ARE\",\"AFG\",\"ASM\",\"AND\",\"AGO\",\"AIA\",\"ATG\",\"ABW\",\"BHM\",\"BRB\",\"BLZ\",\"BEN\",\"BMU\",\"BTN\",\"BWA\",\"BRA\",\"VGB\",\"BRN\",\"BFA\",\"BDI\",\"CPV\",\"KHM\",\"CMR\",\"CYM\",\"CAF\",\"TCD\",\"COM\",\"COD\",\"COG\",\"COK\",\"CIV\",\"CUB\",\"CUW\",\"DJI\",\"DMA\",\"GNQ\",\"ERI\",\"FLK\",\"FRO\",\"FJI\",\"PYF\",\"GAB\",\"GMB\",\"GHA\",\"GIB\",\"GRL\",\"GRD\",\"GUM\",\"GGY\",\"GNB\",\"GIN\",\"GUY\",\"HTI\",\"HND\",\"IRN\",\"IRQ\",\"IMN\",\"JEY\",\"KIR\",\"PRK\",\"KOR\",\"KSV\",\"LAO\",\"LSO\",\"LBR\",\"LBY\",\"LIE\",\"MAC\",\"MKD\",\"MDG\",\"MWI\",\"MLI\",\"MHL\",\"MRT\",\"FSM\",\"MCO\",\"MNE\",\"MOZ\",\"NAM\",\"NCL\",\"NGA\",\"NER\",\"NIU\",\"MNP\",\"PLW\",\"PRI\",\"RWA\",\"KNA\",\"LCA\",\"MAF\",\"SPM\",\"VCT\",\"WSM\",\"SMR\",\"STP\",\"SEN\",\"SRB\",\"SYC\",\"SLE\",\"SXM\",\"SLB\",\"SOM\",\"SSD\",\"SDN\",\"SUR\",\"TWN\",\"TZA\",\"TLS\",\"TGO\",\"TON\",\"TTO\",\"TUV\",\"UGA\",\"UZB\",\"VUT\",\"VNM\",\"VGB\",\"WBG\"],\"z\":[0.0,0.0,14.971565042,7.45001754238,5.59281263438,0.0,0.0,0.0,58.9425644867,9.83502042093,0.0,0.0,1.05956924587,29.7001477447,3.44939178334,0.0,0.0,0.0,0.0,7.73839341175,0.0,0.0,4.40590382069,10.019709864,36.4866598274,36.730725347,14.3192291345,21.060138191,37.5483532309,0.0,5.19677843991,11.4847570147,1.63891578015,18.9255392536,8.8577919118,22.347669153,0.0,0.0,26.7062930411,20.3191761386,5.10394821715,1.624894748,9.67888206664,14.2051817357,6.62524186317,41.4212262152,0.0,3.95405057168,6.04644781993,40.2734785875,9.35450263994,19.9613091963,20.6701667138,0.0,1.8991795104,22.9398648649,0.0,21.0931727375,13.4685250887,3.52106385024,78.8885043908,42.5416812646,35.6262679375,40.9605270415,109.964046171,13.2904435965,61.0299827538,80.2537465723,27.7790654827,0.371508571036,94.2193222834,11.9500007414,88.1088151419,6.84748110648,138.351799527,108.2005825,100.025804725,0.0,32.4056108521,0.0,91.3378538527,2.34829911734,9.27041897911,209.520629654,22.3919259288,58.3761976803,41.2940809396,39.0421846646,9.55148881072,72.7323568875,9.3221964076,24.8494215595,68.3511431699,0.0,0.0,0.368089067597,42.2294345464,0.0,13.3281877754,0.0,42.990739174,9.44717200005,1.29728380059,0.0,0.0,3.87620430074,0.0,0.0,0.0,0.0,0.0,0.0,0.0,0.0,0.0,0.0,0.0,0.0,0.0,0.0,0.0,0.0,0.0,0.0,0.0,0.0,0.0,0.0,0.0,0.0,0.0,0.0,0.0,0.0,0.0,0.0,0.0,0.0,0.0,0.0,0.0,0.0,0.0,0.0,0.0,0.0,0.0,0.0,0.0,0.0,0.0,0.0,0.0,0.0,0.0,0.0,0.0,0.0,0.0,0.0,0.0,0.0,0.0,0.0,0.0,0.0,0.0,0.0,0.0,0.0,0.0,0.0,0.0,0.0,0.0,0.0,0.0,0.0,0.0,0.0,0.0,0.0,0.0,0.0,0.0,0.0,0.0,0.0,0.0,0.0,0.0,0.0,0.0,0.0,0.0,0.0,0.0,0.0,0.0,0.0,0.0,0.0,0.0,0.0,0.0,0.0,0.0,0.0,0.0,0.0,0.0,0.0,0.0,0.0,0.0,0.0,0.0,0.0,0.0,0.0,0.0,0.0,0.0,0.0],\"text\":[\"Guatemala\",\"Kenya\",\"Jamaica\",\"El Salvador\",\"Zambia\",\"Nicaragua\",\"Bangladesh\",\"Syria\",\"South Africa\",\"Costa Rica\",\"Mongolia\",\"Ecuador\",\"Philippines\",\"Mauritius\",\"Georgia\",\"Lebanon\",\"Indonesia\",\"Pakistan\",\"China\",\"Kyrgyzstan\",\"Bosnia and Herzegovina\",\"Swaziland\",\"Turkey\",\"Moldova\",\"Czech Republic\",\"Poland\",\"Romania\",\"Portugal\",\"Chile\",\"Sri Lanka\",\"Colombia\",\"Ukraine\",\"India\",\"Bulgaria\",\"Thailand\",\"Spain\",\"Ethiopia\",\"Egypt\",\"Lithuania\",\"Russia\",\"Oman\",\"Albania\",\"Morocco\",\"Mexico\",\"Panama\",\"Hungary\",\"Kazakhstan\",\"Armenia\",\"Peru\",\"Uruguay\",\"Greece\",\"Slovakia\",\"Ireland\",\"Tajikistan\",\"Azerbaijan\",\"Croatia\",\"Paraguay\",\"Latvia\",\"Belarus\",\"Bolivia\",\"Germany\",\"Estonia\",\"Argentina\",\"Slovenia\",\"United Kingdom\",\"Cyprus\",\"France\",\"Canada\",\"Zimbabwe\",\"Burma\",\"Belgium\",\"Hong Kong\",\"Netherlands\",\"Malaysia\",\"Sweden\",\"New Zealand\",\"Finland\",\"Dominican Republic\",\"South Korea\",\"Australia\",\"Denmark\",\"Papua New Guinea\",\"Qatar\",\"Iceland\",\"Japan\",\"Luxembourg\",\"United States\",\"Italy\",\"Republic of Macedonia\",\"Norway\",\"Venezuela\",\"Maldives\",\"Austria\",\"Algeria\",\"Israel\",\"Nepal\",\"Switzerland\",\"Singapore\",\"Tunisia\",\"Jordan\",\"Malta\",\"Kuwait\",\"Yemen\",\"Turkmenistan\",\"Bahrain\",\"Saudi Arabia\",\"United Arab Emirates\",\"Afghanistan\",\"American Samoa\",\"Andorra\",\"Angola\",\"Anguilla\",\"Antigua and Barbuda\",\"Aruba\",\"Bahamas, The\",\"Barbados\",\"Belize\",\"Benin\",\"Bermuda\",\"Bhutan\",\"Botswana\",\"Brazil\",\"British Virgin Islands\",\"Brunei\",\"Burkina Faso\",\"Burundi\",\"Cabo Verde\",\"Cambodia\",\"Cameroon\",\"Cayman Islands\",\"Central African Republic\",\"Chad\",\"Comoros\",\"Congo, Democratic Republic of the\",\"Congo, Republic of the\",\"Cook Islands\",\"Cote d'Ivoire\",\"Cuba\",\"Curacao\",\"Djibouti\",\"Dominica\",\"Equatorial Guinea\",\"Eritrea\",\"Falkland Islands (Islas Malvinas)\",\"Faroe Islands\",\"Fiji\",\"French Polynesia\",\"Gabon\",\"Gambia, The\",\"Ghana\",\"Gibraltar\",\"Greenland\",\"Grenada\",\"Guam\",\"Guernsey\",\"Guinea-Bissau\",\"Guinea\",\"Guyana\",\"Haiti\",\"Honduras\",\"Iran\",\"Iraq\",\"Isle of Man\",\"Jersey\",\"Kiribati\",\"Korea, North\",\"Korea, South\",\"Kosovo\",\"Laos\",\"Lesotho\",\"Liberia\",\"Libya\",\"Liechtenstein\",\"Macau\",\"Macedonia\",\"Madagascar\",\"Malawi\",\"Mali\",\"Marshall Islands\",\"Mauritania\",\"Micronesia, Federated States of\",\"Monaco\",\"Montenegro\",\"Mozambique\",\"Namibia\",\"New Caledonia\",\"Nigeria\",\"Niger\",\"Niue\",\"Northern Mariana Islands\",\"Palau\",\"Puerto Rico\",\"Rwanda\",\"Saint Kitts and Nevis\",\"Saint Lucia\",\"Saint Martin\",\"Saint Pierre and Miquelon\",\"Saint Vincent and the Grenadines\",\"Samoa\",\"San Marino\",\"Sao Tome and Principe\",\"Senegal\",\"Serbia\",\"Seychelles\",\"Sierra Leone\",\"Sint Maarten\",\"Solomon Islands\",\"Somalia\",\"South Sudan\",\"Sudan\",\"Suriname\",\"Taiwan\",\"Tanzania\",\"Timor-Leste\",\"Togo\",\"Tonga\",\"Trinidad and Tobago\",\"Tuvalu\",\"Uganda\",\"Uzbekistan\",\"Vanuatu\",\"Vietnam\",\"Virgin Islands\",\"West Bank\"],\"colorscale\":[[0,\"rgb(5, 10, 172)\"],[0.35,\"rgb(40, 60, 190)\"],[0.5,\"rgb(70, 100, 245)\"],[0.6,\"rgb(90, 120, 245)\"],[0.7,\"rgb(106, 137, 247)\"],[1,\"rgb(220, 220, 220)\"]],\"autocolorscale\":false,\"reversescale\":true,\"marker\":{\"line\":{\"color\":\"rgb(180,180,180)\",\"width\":0.5}},\"colorbar\":{\"autotick\":false,\"title\":\"Total crimes per 1000\"}}],                        {\"title\":\"world plot of Total crimes per 1000\",\"geo\":{\"showframe\":false,\"showcoastlines\":false,\"projection\":{\"type\":\"Mercator\"}}},                        {\"responsive\": true}                    ).then(function(){\n",
       "                            \n",
       "var gd = document.getElementById('ecba1c76-d9fb-4df5-943d-9e0bd5c7338b');\n",
       "var x = new MutationObserver(function (mutations, observer) {{\n",
       "        var display = window.getComputedStyle(gd).display;\n",
       "        if (!display || display === 'none') {{\n",
       "            console.log([gd, 'removed!']);\n",
       "            Plotly.purge(gd);\n",
       "            observer.disconnect();\n",
       "        }}\n",
       "}});\n",
       "\n",
       "// Listen for the removal of the full notebook cells\n",
       "var notebookContainer = gd.closest('#notebook-container');\n",
       "if (notebookContainer) {{\n",
       "    x.observe(notebookContainer, {childList: true});\n",
       "}}\n",
       "\n",
       "// Listen for the clearing of the current output cell\n",
       "var outputEl = gd.closest('.output');\n",
       "if (outputEl) {{\n",
       "    x.observe(outputEl, {childList: true});\n",
       "}}\n",
       "\n",
       "                        })                };                });            </script>        </div>"
      ]
     },
     "metadata": {},
     "output_type": "display_data"
    },
    {
     "data": {
      "text/html": [
       "<div>\n",
       "<style scoped>\n",
       "    .dataframe tbody tr th:only-of-type {\n",
       "        vertical-align: middle;\n",
       "    }\n",
       "\n",
       "    .dataframe tbody tr th {\n",
       "        vertical-align: top;\n",
       "    }\n",
       "\n",
       "    .dataframe thead th {\n",
       "        text-align: right;\n",
       "    }\n",
       "</style>\n",
       "<table border=\"1\" class=\"dataframe\">\n",
       "  <thead>\n",
       "    <tr style=\"text-align: right;\">\n",
       "      <th></th>\n",
       "      <th>Total crimes per 1000</th>\n",
       "    </tr>\n",
       "    <tr>\n",
       "      <th>Country</th>\n",
       "      <th></th>\n",
       "    </tr>\n",
       "  </thead>\n",
       "  <tbody>\n",
       "    <tr>\n",
       "      <th>Iceland</th>\n",
       "      <td>209.520630</td>\n",
       "    </tr>\n",
       "    <tr>\n",
       "      <th>Sweden</th>\n",
       "      <td>138.351800</td>\n",
       "    </tr>\n",
       "    <tr>\n",
       "      <th>United Kingdom</th>\n",
       "      <td>109.964046</td>\n",
       "    </tr>\n",
       "    <tr>\n",
       "      <th>New Zealand</th>\n",
       "      <td>108.200582</td>\n",
       "    </tr>\n",
       "    <tr>\n",
       "      <th>Finland</th>\n",
       "      <td>100.025805</td>\n",
       "    </tr>\n",
       "    <tr>\n",
       "      <th>...</th>\n",
       "      <td>...</td>\n",
       "    </tr>\n",
       "    <tr>\n",
       "      <th>Uzbekistan</th>\n",
       "      <td>NaN</td>\n",
       "    </tr>\n",
       "    <tr>\n",
       "      <th>Vanuatu</th>\n",
       "      <td>NaN</td>\n",
       "    </tr>\n",
       "    <tr>\n",
       "      <th>Vietnam</th>\n",
       "      <td>NaN</td>\n",
       "    </tr>\n",
       "    <tr>\n",
       "      <th>Virgin Islands</th>\n",
       "      <td>NaN</td>\n",
       "    </tr>\n",
       "    <tr>\n",
       "      <th>West Bank</th>\n",
       "      <td>NaN</td>\n",
       "    </tr>\n",
       "  </tbody>\n",
       "</table>\n",
       "<p>224 rows × 1 columns</p>\n",
       "</div>"
      ],
      "text/plain": [
       "                Total crimes per 1000\n",
       "Country                              \n",
       "Iceland                    209.520630\n",
       "Sweden                     138.351800\n",
       "United Kingdom             109.964046\n",
       "New Zealand                108.200582\n",
       "Finland                    100.025805\n",
       "...                               ...\n",
       "Uzbekistan                        NaN\n",
       "Vanuatu                           NaN\n",
       "Vietnam                           NaN\n",
       "Virgin Islands                    NaN\n",
       "West Bank                         NaN\n",
       "\n",
       "[224 rows x 1 columns]"
      ]
     },
     "execution_count": 100,
     "metadata": {},
     "output_type": "execute_result"
    }
   ],
   "source": [
    "column_name='Total crimes per 1000'\n",
    "data = [ dict(\n",
    "        type = 'choropleth',\n",
    "        locations = nm['CODE'],\n",
    "        z = nm[column_name].fillna(0),\n",
    "        text = nm.index,\n",
    "        colorscale = [[0,\"rgb(5, 10, 172)\"],[0.35,\"rgb(40, 60, 190)\"],[0.5,\"rgb(70, 100, 245)\"],\\\n",
    "            [0.6,\"rgb(90, 120, 245)\"],[0.7,\"rgb(106, 137, 247)\"],[1,\"rgb(220, 220, 220)\"]],\n",
    "        autocolorscale = False,\n",
    "        reversescale = True,\n",
    "        marker = dict(\n",
    "            line = dict (\n",
    "                color = 'rgb(180,180,180)',\n",
    "                width = 0.5\n",
    "            ) ),\n",
    "        colorbar = dict(\n",
    "            autotick = False,\n",
    "            title = column_name),\n",
    "      ) ]\n",
    "\n",
    "layout = dict(\n",
    "    title = 'world plot of '+column_name,\n",
    "    geo = dict(\n",
    "        showframe = False,\n",
    "        showcoastlines = False,\n",
    "        projection = dict(\n",
    "            type = 'Mercator'\n",
    "        )\n",
    "    )\n",
    ")\n",
    "\n",
    "fig = dict( data=data, layout=layout )\n",
    "py.iplot( fig, validate=False, filename='d3-world-map' )\n",
    "\n",
    "nm[[column_name]].sort_values(by=column_name,ascending=0)\n"
   ]
  },
  {
   "cell_type": "markdown",
   "metadata": {
    "_uuid": "b3af581373d70dbae851cebec5433558ab664471"
   },
   "source": [
    "WHAT? It does not make any sence. Sweden? It is because people have more trust, less corruption, better reporting system punishments etc... IN ORDER To mitigate this effect and get the TRUE levels we ought to normalise these values with all of the values/data that I just named, and even more since these are (probably) correct assumptions of why the results are odd. "
   ]
  },
  {
   "cell_type": "markdown",
   "metadata": {},
   "source": [
    "# Importing UNO DC Crime data"
   ]
  },
  {
   "cell_type": "code",
   "execution_count": 122,
   "metadata": {},
   "outputs": [],
   "source": [
    "unodc=None\n",
    "fields=[\"Assault\",\"Kidnapping\",\"Theft\",\"Robbery\",\"Burglary\",\"Domestic_Burglary\",\"Theft_of_Private_Cars\",\"Motor_Vehicle_Theft\",\n",
    "        \"Total_Sexual_Violence\",\"Rape\",\"Sexual_Offences_ag_Children\"]\n",
    "string=\"abcdefghijk\"\n",
    "\n",
    "for i in range(len(string)):\n",
    "    l=string[i]\n",
    "    names=[\"%s_Rel_20%02d\"%(fields[i],j) for j in range(3,15)]\n",
    "    \n",
    "    tmp= pd.read_csv('/Users/margarita/Downloads/Publication Reports_1%s.csv'%l,sep=\";\",index_col=[2],header=None,skipinitialspace=True,skiprows=10, encoding='latin1',\n",
    "                 names=[\n",
    "        \"Region\",\"Sub-Region\",\"Country\",\n",
    "        *[\"%s_Abs_20%02d\"%(fields[i],j) for j in range(3,15)],\n",
    "                     \"nothing\",\n",
    "        *[\"%s_Rel_20%02d\"%(fields[i],j) for j in range(3,15)]  \n",
    "        ],\n",
    "        \n",
    "    )\n",
    "    tmp.reset_index(inplace=True)\n",
    "    tmp[\"Country\"]=tmp[\"Country\"].str.replace(\"*\",\"\").str.replace(\" of America\",\"\").str.replace(\" (England and Wales)\",\"\",regex=False).str.replace(\"Russian Federation\",\"Russia\").str.replace(\"Republic of \",\"\").str.replace(\" (Plurinational State of)\",\"\",regex=False).str.replace(\"Korea\",\"Korea, South\",regex=False)\n",
    "    tmp.set_index(\"Country\",inplace=True)\n",
    "    tmp.drop(columns=[\"Region\",\"Sub-Region\",\"nothing\"],inplace=True)\n",
    "    for n in names:\n",
    "        # Replace periods and commas, while handling possible non-numeric values\n",
    "        tmp[n] = tmp[n].str.replace(\".\", \"\", regex=True)\n",
    "        tmp[n] = tmp[n].str.replace(\",([0-9])$\", lambda m: \".\" + m[1], regex=True)\n",
    "\n",
    "        # Convert to float, while replacing empty strings or invalid entries with NaN\n",
    "        tmp[n] = pd.to_numeric(tmp[n], errors='coerce')\n",
    "\n",
    "    tmp=tmp.loc[tmp.index.dropna()]\n",
    "    \n",
    "    unodc=tmp  if unodc is None else unodc.merge(tmp,how=\"outer\",on=\"Country\")\n",
    "unodc.drop(\"Country/territory\",inplace=True)\n",
    "#unodc.rename(columns={'Country/territory':'Subcontinent'},inplace=True)"
   ]
  },
  {
   "cell_type": "code",
   "execution_count": 124,
   "metadata": {},
   "outputs": [],
   "source": [
    "countries=pd.read_csv('/Users/margarita/Downloads/2014_world_gdp_with_codes.csv')\n",
    "countries[\"Country\"]=countries[\"COUNTRY\"]\n",
    "countries=countries.drop(columns=[\"COUNTRY\",\"GDP (BILLIONS)\"])\n",
    "\n",
    "\n",
    "#unodc[\"CC\"]=countries.loc[unodc[\"Country\"].str.replace(\"*\",\"\")].reset_index()[\"CODE\"]\n",
    "unodc=unodc.reset_index().merge(countries,how=\"outer\")\n",
    "\n",
    "unodc.sort_index(inplace=True)\n",
    "unodc.set_index(\"Country\",inplace=True)"
   ]
  },
  {
   "cell_type": "code",
   "execution_count": 125,
   "metadata": {},
   "outputs": [
    {
     "name": "stdout",
     "output_type": "stream",
     "text": [
      "Assault rate Rel\n",
      "Intentional homicide rates Rel\n",
      "Kidnapping at the national level, rate Rel\n",
      "Percentage of male and female intentional homicide victims, Female\n",
      "Percentage of male and female intentional homicide victims, Male\n",
      "Robbery at the national level, rate Rel\n",
      "Theft at the national level, rate Rel\n",
      "Total Sexual Violence at the national level, rate Rel\n"
     ]
    },
    {
     "data": {
      "text/html": [
       "<div>\n",
       "<style scoped>\n",
       "    .dataframe tbody tr th:only-of-type {\n",
       "        vertical-align: middle;\n",
       "    }\n",
       "\n",
       "    .dataframe tbody tr th {\n",
       "        vertical-align: top;\n",
       "    }\n",
       "\n",
       "    .dataframe thead th {\n",
       "        text-align: right;\n",
       "    }\n",
       "</style>\n",
       "<table border=\"1\" class=\"dataframe\">\n",
       "  <thead>\n",
       "    <tr style=\"text-align: right;\">\n",
       "      <th></th>\n",
       "      <th>Assault</th>\n",
       "      <th>Kidnapping</th>\n",
       "      <th>Theft</th>\n",
       "      <th>Robbery</th>\n",
       "      <th>Burglary</th>\n",
       "      <th>Domestic_Burglary</th>\n",
       "      <th>Theft_of_Private_Cars</th>\n",
       "      <th>Motor_Vehicle_Theft</th>\n",
       "      <th>Total_Sexual_Violence</th>\n",
       "      <th>Rape</th>\n",
       "      <th>Sexual_Offences_ag_Children</th>\n",
       "      <th>Assault rate Rel</th>\n",
       "      <th>Intentional homicide rates Rel</th>\n",
       "      <th>Kidnapping at the national level, rate Rel</th>\n",
       "      <th>Percentage of male and female intentional homicide victims, Female</th>\n",
       "      <th>Percentage of male and female intentional homicide victims, Male</th>\n",
       "      <th>Robbery at the national level, rate Rel</th>\n",
       "      <th>Theft at the national level, rate Rel</th>\n",
       "      <th>Total Sexual Violence at the national level, rate Rel</th>\n",
       "    </tr>\n",
       "    <tr>\n",
       "      <th>Country</th>\n",
       "      <th></th>\n",
       "      <th></th>\n",
       "      <th></th>\n",
       "      <th></th>\n",
       "      <th></th>\n",
       "      <th></th>\n",
       "      <th></th>\n",
       "      <th></th>\n",
       "      <th></th>\n",
       "      <th></th>\n",
       "      <th></th>\n",
       "      <th></th>\n",
       "      <th></th>\n",
       "      <th></th>\n",
       "      <th></th>\n",
       "      <th></th>\n",
       "      <th></th>\n",
       "      <th></th>\n",
       "      <th></th>\n",
       "    </tr>\n",
       "  </thead>\n",
       "  <tbody>\n",
       "    <tr>\n",
       "      <th>United States</th>\n",
       "      <td>NaN</td>\n",
       "      <td>NaN</td>\n",
       "      <td>NaN</td>\n",
       "      <td>NaN</td>\n",
       "      <td>NaN</td>\n",
       "      <td>NaN</td>\n",
       "      <td>NaN</td>\n",
       "      <td>NaN</td>\n",
       "      <td>NaN</td>\n",
       "      <td>NaN</td>\n",
       "      <td>NaN</td>\n",
       "      <td>0.371585</td>\n",
       "      <td>-0.209416</td>\n",
       "      <td>NaN</td>\n",
       "      <td>-0.044640</td>\n",
       "      <td>-0.198675</td>\n",
       "      <td>0.131707</td>\n",
       "      <td>1.455763</td>\n",
       "      <td>NaN</td>\n",
       "    </tr>\n",
       "    <tr>\n",
       "      <th>Sweden</th>\n",
       "      <td>NaN</td>\n",
       "      <td>NaN</td>\n",
       "      <td>NaN</td>\n",
       "      <td>NaN</td>\n",
       "      <td>NaN</td>\n",
       "      <td>NaN</td>\n",
       "      <td>NaN</td>\n",
       "      <td>NaN</td>\n",
       "      <td>NaN</td>\n",
       "      <td>NaN</td>\n",
       "      <td>NaN</td>\n",
       "      <td>0.550426</td>\n",
       "      <td>-0.610148</td>\n",
       "      <td>NaN</td>\n",
       "      <td>-0.724834</td>\n",
       "      <td>-0.534884</td>\n",
       "      <td>-0.013229</td>\n",
       "      <td>3.949298</td>\n",
       "      <td>3.031447</td>\n",
       "    </tr>\n",
       "    <tr>\n",
       "      <th>Austria</th>\n",
       "      <td>NaN</td>\n",
       "      <td>NaN</td>\n",
       "      <td>NaN</td>\n",
       "      <td>NaN</td>\n",
       "      <td>NaN</td>\n",
       "      <td>NaN</td>\n",
       "      <td>NaN</td>\n",
       "      <td>NaN</td>\n",
       "      <td>NaN</td>\n",
       "      <td>NaN</td>\n",
       "      <td>NaN</td>\n",
       "      <td>-0.524954</td>\n",
       "      <td>-0.645412</td>\n",
       "      <td>-0.625025</td>\n",
       "      <td>-0.753779</td>\n",
       "      <td>-0.571500</td>\n",
       "      <td>-0.290774</td>\n",
       "      <td>1.293801</td>\n",
       "      <td>0.033346</td>\n",
       "    </tr>\n",
       "    <tr>\n",
       "      <th>Mexico</th>\n",
       "      <td>NaN</td>\n",
       "      <td>NaN</td>\n",
       "      <td>NaN</td>\n",
       "      <td>NaN</td>\n",
       "      <td>NaN</td>\n",
       "      <td>NaN</td>\n",
       "      <td>NaN</td>\n",
       "      <td>NaN</td>\n",
       "      <td>NaN</td>\n",
       "      <td>NaN</td>\n",
       "      <td>NaN</td>\n",
       "      <td>-0.084982</td>\n",
       "      <td>0.819663</td>\n",
       "      <td>-0.400903</td>\n",
       "      <td>0.490833</td>\n",
       "      <td>0.813282</td>\n",
       "      <td>1.841115</td>\n",
       "      <td>-0.722692</td>\n",
       "      <td>-0.072365</td>\n",
       "    </tr>\n",
       "    <tr>\n",
       "      <th>Morocco</th>\n",
       "      <td>NaN</td>\n",
       "      <td>NaN</td>\n",
       "      <td>NaN</td>\n",
       "      <td>NaN</td>\n",
       "      <td>NaN</td>\n",
       "      <td>NaN</td>\n",
       "      <td>NaN</td>\n",
       "      <td>NaN</td>\n",
       "      <td>NaN</td>\n",
       "      <td>NaN</td>\n",
       "      <td>NaN</td>\n",
       "      <td>-0.139978</td>\n",
       "      <td>-0.575525</td>\n",
       "      <td>-0.123419</td>\n",
       "      <td>-0.811668</td>\n",
       "      <td>-0.498267</td>\n",
       "      <td>-0.238486</td>\n",
       "      <td>-0.544628</td>\n",
       "      <td>-0.608914</td>\n",
       "    </tr>\n",
       "    <tr>\n",
       "      <th>Serbia</th>\n",
       "      <td>NaN</td>\n",
       "      <td>NaN</td>\n",
       "      <td>NaN</td>\n",
       "      <td>NaN</td>\n",
       "      <td>NaN</td>\n",
       "      <td>NaN</td>\n",
       "      <td>NaN</td>\n",
       "      <td>NaN</td>\n",
       "      <td>NaN</td>\n",
       "      <td>NaN</td>\n",
       "      <td>NaN</td>\n",
       "      <td>-0.636730</td>\n",
       "      <td>-0.571677</td>\n",
       "      <td>-0.571663</td>\n",
       "      <td>-0.623529</td>\n",
       "      <td>-0.506589</td>\n",
       "      <td>-0.375470</td>\n",
       "      <td>-0.605218</td>\n",
       "      <td>-0.709295</td>\n",
       "    </tr>\n",
       "  </tbody>\n",
       "</table>\n",
       "</div>"
      ],
      "text/plain": [
       "               Assault  Kidnapping  Theft  Robbery  Burglary  \\\n",
       "Country                                                        \n",
       "United States      NaN         NaN    NaN      NaN       NaN   \n",
       "Sweden             NaN         NaN    NaN      NaN       NaN   \n",
       "Austria            NaN         NaN    NaN      NaN       NaN   \n",
       "Mexico             NaN         NaN    NaN      NaN       NaN   \n",
       "Morocco            NaN         NaN    NaN      NaN       NaN   \n",
       "Serbia             NaN         NaN    NaN      NaN       NaN   \n",
       "\n",
       "               Domestic_Burglary  Theft_of_Private_Cars  Motor_Vehicle_Theft  \\\n",
       "Country                                                                        \n",
       "United States                NaN                    NaN                  NaN   \n",
       "Sweden                       NaN                    NaN                  NaN   \n",
       "Austria                      NaN                    NaN                  NaN   \n",
       "Mexico                       NaN                    NaN                  NaN   \n",
       "Morocco                      NaN                    NaN                  NaN   \n",
       "Serbia                       NaN                    NaN                  NaN   \n",
       "\n",
       "               Total_Sexual_Violence  Rape  Sexual_Offences_ag_Children  \\\n",
       "Country                                                                   \n",
       "United States                    NaN   NaN                          NaN   \n",
       "Sweden                           NaN   NaN                          NaN   \n",
       "Austria                          NaN   NaN                          NaN   \n",
       "Mexico                           NaN   NaN                          NaN   \n",
       "Morocco                          NaN   NaN                          NaN   \n",
       "Serbia                           NaN   NaN                          NaN   \n",
       "\n",
       "               Assault rate Rel  Intentional homicide rates Rel  \\\n",
       "Country                                                           \n",
       "United States          0.371585                       -0.209416   \n",
       "Sweden                 0.550426                       -0.610148   \n",
       "Austria               -0.524954                       -0.645412   \n",
       "Mexico                -0.084982                        0.819663   \n",
       "Morocco               -0.139978                       -0.575525   \n",
       "Serbia                -0.636730                       -0.571677   \n",
       "\n",
       "               Kidnapping at the national level, rate Rel  \\\n",
       "Country                                                     \n",
       "United States                                         NaN   \n",
       "Sweden                                                NaN   \n",
       "Austria                                         -0.625025   \n",
       "Mexico                                          -0.400903   \n",
       "Morocco                                         -0.123419   \n",
       "Serbia                                          -0.571663   \n",
       "\n",
       "               Percentage of male and female intentional homicide victims, Female  \\\n",
       "Country                                                                             \n",
       "United States                                          -0.044640                    \n",
       "Sweden                                                 -0.724834                    \n",
       "Austria                                                -0.753779                    \n",
       "Mexico                                                  0.490833                    \n",
       "Morocco                                                -0.811668                    \n",
       "Serbia                                                 -0.623529                    \n",
       "\n",
       "               Percentage of male and female intentional homicide victims, Male  \\\n",
       "Country                                                                           \n",
       "United States                                          -0.198675                  \n",
       "Sweden                                                 -0.534884                  \n",
       "Austria                                                -0.571500                  \n",
       "Mexico                                                  0.813282                  \n",
       "Morocco                                                -0.498267                  \n",
       "Serbia                                                 -0.506589                  \n",
       "\n",
       "               Robbery at the national level, rate Rel  \\\n",
       "Country                                                  \n",
       "United States                                 0.131707   \n",
       "Sweden                                       -0.013229   \n",
       "Austria                                      -0.290774   \n",
       "Mexico                                        1.841115   \n",
       "Morocco                                      -0.238486   \n",
       "Serbia                                       -0.375470   \n",
       "\n",
       "               Theft at the national level, rate Rel  \\\n",
       "Country                                                \n",
       "United States                               1.455763   \n",
       "Sweden                                      3.949298   \n",
       "Austria                                     1.293801   \n",
       "Mexico                                     -0.722692   \n",
       "Morocco                                    -0.544628   \n",
       "Serbia                                     -0.605218   \n",
       "\n",
       "               Total Sexual Violence at the national level, rate Rel  \n",
       "Country                                                               \n",
       "United States                                                NaN      \n",
       "Sweden                                                  3.031447      \n",
       "Austria                                                 0.033346      \n",
       "Mexico                                                 -0.072365      \n",
       "Morocco                                                -0.608914      \n",
       "Serbia                                                 -0.709295      "
      ]
     },
     "execution_count": 125,
     "metadata": {},
     "output_type": "execute_result"
    }
   ],
   "source": [
    "unodc_avg_year=pd.DataFrame()\n",
    "unodc_avg=pd.DataFrame()\n",
    "unodc_max_cat=pd.DataFrame()\n",
    "for f in fields: # trying to use only these to not let rare crimes play big role, but no difference:\n",
    "                #[\"Robbery\",\"Assault\",\"Kidnapping\",\"Burglary\",\"Theft_of_Private_Cars\"]:\n",
    "    names=[\"%s_Rel_20%02d\"%(f,j) for j in range(3,15)]\n",
    "    unodc_avg_year[f]=unodc[names].mean(axis=1)\n",
    "un_fields=['Assault rate Rel',\n",
    "       'Intentional homicide rates Rel',\n",
    "       'Kidnapping at the national level, rate Rel',\n",
    "       'Percentage of male and female intentional homicide victims, Female',\n",
    "       'Percentage of male and female intentional homicide victims, Male',\n",
    "       'Robbery at the national level, rate Rel',\n",
    "       'Theft at the national level, rate Rel',\n",
    "       'Total Sexual Violence at the national level, rate Rel']\n",
    "for f in un_fields:\n",
    "    print(f)\n",
    "    names=[\"%s_Rel_20%02d\"%(f,j) for j in range(3,15)]\n",
    "    unodc_avg_year[f]=unodc_un[f].unstack(level=1).astype(float).mean(axis=1)\n",
    "    \n",
    "unodc_avg_year-=unodc_avg_year.mean()\n",
    "unodc_avg_year/=unodc_avg_year.std()\n",
    "unodc_avg[\"crime_score\"]=unodc_avg_year.mean(axis=1)\n",
    "unodc_avg[\"crime_score\"]-=unodc_avg[\"crime_score\"].min()\n",
    "unodc_avg[\"crime_score\"].fillna(0,inplace=True)\n",
    "unodc_avg[\"CODE\"]=unodc[\"CODE\"]\n",
    "unodc_avg_year.loc[[\"United States\",\"Sweden\",\"Austria\",\"Mexico\",\"Morocco\",\"Serbia\"]]"
   ]
  },
  {
   "cell_type": "code",
   "execution_count": 145,
   "metadata": {},
   "outputs": [
    {
     "data": {
      "text/html": [
       "<div>\n",
       "<style scoped>\n",
       "    .dataframe tbody tr th:only-of-type {\n",
       "        vertical-align: middle;\n",
       "    }\n",
       "\n",
       "    .dataframe tbody tr th {\n",
       "        vertical-align: top;\n",
       "    }\n",
       "\n",
       "    .dataframe thead th {\n",
       "        text-align: right;\n",
       "    }\n",
       "</style>\n",
       "<table border=\"1\" class=\"dataframe\">\n",
       "  <thead>\n",
       "    <tr style=\"text-align: right;\">\n",
       "      <th></th>\n",
       "      <th>crime_score</th>\n",
       "      <th>CODE</th>\n",
       "    </tr>\n",
       "    <tr>\n",
       "      <th>Country</th>\n",
       "      <th></th>\n",
       "      <th></th>\n",
       "    </tr>\n",
       "  </thead>\n",
       "  <tbody>\n",
       "    <tr>\n",
       "      <th>Burundi</th>\n",
       "      <td>0.262898</td>\n",
       "      <td>BDI</td>\n",
       "    </tr>\n",
       "    <tr>\n",
       "      <th>Kenya</th>\n",
       "      <td>0.286815</td>\n",
       "      <td>KEN</td>\n",
       "    </tr>\n",
       "    <tr>\n",
       "      <th>Mauritius</th>\n",
       "      <td>0.552207</td>\n",
       "      <td>MUS</td>\n",
       "    </tr>\n",
       "    <tr>\n",
       "      <th>Mozambique</th>\n",
       "      <td>0.166626</td>\n",
       "      <td>MOZ</td>\n",
       "    </tr>\n",
       "    <tr>\n",
       "      <th>Rwanda</th>\n",
       "      <td>0.224954</td>\n",
       "      <td>RWA</td>\n",
       "    </tr>\n",
       "    <tr>\n",
       "      <th>...</th>\n",
       "      <td>...</td>\n",
       "      <td>...</td>\n",
       "    </tr>\n",
       "    <tr>\n",
       "      <th>Venezuela</th>\n",
       "      <td>0.000000</td>\n",
       "      <td>VEN</td>\n",
       "    </tr>\n",
       "    <tr>\n",
       "      <th>Vietnam</th>\n",
       "      <td>0.000000</td>\n",
       "      <td>VNM</td>\n",
       "    </tr>\n",
       "    <tr>\n",
       "      <th>Virgin Islands</th>\n",
       "      <td>0.000000</td>\n",
       "      <td>VGB</td>\n",
       "    </tr>\n",
       "    <tr>\n",
       "      <th>West Bank</th>\n",
       "      <td>0.000000</td>\n",
       "      <td>WBG</td>\n",
       "    </tr>\n",
       "    <tr>\n",
       "      <th>Zambia</th>\n",
       "      <td>0.592995</td>\n",
       "      <td>ZMB</td>\n",
       "    </tr>\n",
       "  </tbody>\n",
       "</table>\n",
       "<p>238 rows × 2 columns</p>\n",
       "</div>"
      ],
      "text/plain": [
       "                crime_score CODE\n",
       "Country                         \n",
       "Burundi            0.262898  BDI\n",
       "Kenya              0.286815  KEN\n",
       "Mauritius          0.552207  MUS\n",
       "Mozambique         0.166626  MOZ\n",
       "Rwanda             0.224954  RWA\n",
       "...                     ...  ...\n",
       "Venezuela          0.000000  VEN\n",
       "Vietnam            0.000000  VNM\n",
       "Virgin Islands     0.000000  VGB\n",
       "West Bank          0.000000  WBG\n",
       "Zambia             0.592995  ZMB\n",
       "\n",
       "[238 rows x 2 columns]"
      ]
     },
     "execution_count": 145,
     "metadata": {},
     "output_type": "execute_result"
    }
   ],
   "source": [
    "unodc_avg"
   ]
  },
  {
   "cell_type": "code",
   "execution_count": 126,
   "metadata": {
    "_uuid": "fa365f09d3a537371aa90d7e3d3d6a9da8cda4c3",
    "trusted": true
   },
   "outputs": [
    {
     "data": {
      "application/vnd.plotly.v1+json": {
       "config": {
        "linkText": "Export to plot.ly",
        "plotlyServerURL": "https://plot.ly",
        "showLink": false
       },
       "data": [
        {
         "autocolorscale": false,
         "colorbar": {
          "title": "crime score"
         },
         "colorscale": [
          [
           0,
           "rgb(255,255,255)"
          ],
          [
           0.000001,
           "rgb(237,235,242)"
          ],
          [
           0.2,
           "rgb(218,218,235)"
          ],
          [
           0.4,
           "rgb(188,189,220)"
          ],
          [
           0.6,
           "rgb(158,154,200)"
          ],
          [
           0.8,
           "rgb(117,107,177)"
          ],
          [
           1,
           "rgb(84,39,143)"
          ]
         ],
         "locations": [
          "BDI",
          "KEN",
          "MUS",
          "MOZ",
          "RWA",
          "UGA",
          "ZWE",
          "CMR",
          "STP",
          "DZA",
          "EGY",
          "MAR",
          "BWA",
          "LSO",
          "SWZ",
          "CPV",
          "CIV",
          "GIN",
          "NGA",
          "SEN",
          "SLE",
          null,
          "BRB",
          "DOM",
          "GRD",
          "JAM",
          null,
          null,
          "TTO",
          "PRI",
          "BLZ",
          "CRI",
          "SLV",
          "GTM",
          "HND",
          "MEX",
          "NIC",
          "PAN",
          "BMU",
          "CAN",
          "USA",
          "ARG",
          "BOL",
          "BRA",
          "CHL",
          "COL",
          "ECU",
          "GUY",
          "PRY",
          "PER",
          "URY",
          "KAZ",
          "KGZ",
          "TJK",
          "TKM",
          null,
          "JPN",
          null,
          "MNG",
          "KOR",
          null,
          "IDN",
          "MYS",
          "SGP",
          "THA",
          null,
          "BGD",
          "BTN",
          "IND",
          "MDV",
          "NPL",
          "LKA",
          "ARM",
          "AZE",
          "BHR",
          "CYP",
          "GEO",
          "ISR",
          "JOR",
          "KWT",
          "LBN",
          "OMN",
          "QAT",
          null,
          null,
          "TUR",
          "ARE",
          "YEM",
          null,
          "BLR",
          "BGR",
          "CZE",
          "HUN",
          "POL",
          "MDA",
          "ROU",
          "RUS",
          "SVK",
          "UKR",
          "DNK",
          "EST",
          "FIN",
          "ISL",
          "IRL",
          "LVA",
          "LTU",
          "NOR",
          "SWE",
          "GBR",
          null,
          null,
          "ALB",
          "AND",
          "BIH",
          "HRV",
          "GRC",
          "ITA",
          null,
          "MLT",
          "MNE",
          "PRT",
          "SRB",
          "SVN",
          "ESP",
          null,
          null,
          "AUT",
          "BEL",
          "FRA",
          "DEU",
          "LIE",
          "LUX",
          "MCO",
          "NLD",
          "CHE",
          "AUS",
          "NZL",
          "SLB",
          "SDN",
          "PHL",
          "SUR",
          null,
          "AFG",
          "ASM",
          "AGO",
          "AIA",
          "ATG",
          "ABW",
          "BHM",
          "BEN",
          "VGB",
          "BRN",
          "BFA",
          "MMR",
          "KHM",
          "CYM",
          "CAF",
          "TCD",
          "CHN",
          "COM",
          "COD",
          "COG",
          "COK",
          "CUB",
          "CUW",
          "DJI",
          "DMA",
          "GNQ",
          "ERI",
          "ETH",
          "FLK",
          "FRO",
          "FJI",
          "PYF",
          "GAB",
          "GMB",
          "GHA",
          "GIB",
          "GRL",
          "GUM",
          "GGY",
          "GNB",
          "HTI",
          "HKG",
          "IRN",
          "IRQ",
          "IMN",
          "JEY",
          "KIR",
          "PRK",
          "KSV",
          "LAO",
          "LBR",
          "LBY",
          "MAC",
          "MKD",
          "MDG",
          "MWI",
          "MLI",
          "MHL",
          "MRT",
          "FSM",
          "NAM",
          "NCL",
          "NER",
          "NIU",
          "MNP",
          "PAK",
          "PLW",
          "PNG",
          "KNA",
          "LCA",
          "MAF",
          "SPM",
          "VCT",
          "WSM",
          "SMR",
          "SAU",
          "SYC",
          "SXM",
          "SOM",
          "ZAF",
          "SSD",
          "SYR",
          "TWN",
          "TZA",
          "TLS",
          "TGO",
          "TON",
          "TUN",
          "TUV",
          "UZB",
          "VUT",
          "VEN",
          "VNM",
          "VGB",
          "WBG",
          "ZMB"
         ],
         "marker": {
          "line": {
           "color": "rgb(180,180,180)",
           "width": 0.5
          }
         },
         "reversescale": false,
         "text": [
          "Burundi",
          "Kenya",
          "Mauritius",
          "Mozambique",
          "Rwanda",
          "Uganda",
          "Zimbabwe",
          "Cameroon",
          "Sao Tome and Principe",
          "Algeria",
          "Egypt",
          "Morocco",
          "Botswana",
          "Lesotho",
          "Swaziland",
          "Cabo Verde",
          "Cote d'Ivoire",
          "Guinea",
          "Nigeria",
          "Senegal",
          "Sierra Leone",
          "Bahamas",
          "Barbados",
          "Dominican Republic",
          "Grenada",
          "Jamaica",
          "St. Kitts and Nevis",
          "St. Vincent and the Grenadines",
          "Trinidad and Tobago",
          "Puerto Rico",
          "Belize",
          "Costa Rica",
          "El Salvador",
          "Guatemala",
          "Honduras",
          "Mexico",
          "Nicaragua",
          "Panama",
          "Bermuda",
          "Canada",
          "United States",
          "Argentina",
          "Bolivia",
          "Brazil",
          "Chile",
          "Colombia",
          "Ecuador",
          "Guyana",
          "Paraguay",
          "Peru",
          "Uruguay",
          "Kazakhstan",
          "Kyrgyzstan",
          "Tajikistan",
          "Turkmenistan",
          "Hong Kong Special Administrative Region of China",
          "Japan",
          "Macao Special Administrative Region of China",
          "Mongolia",
          "Korea, South",
          "Brunei Darussalam",
          "Indonesia",
          "Malaysia",
          "Singapore",
          "Thailand",
          "Myanmar",
          "Bangladesh",
          "Bhutan",
          "India",
          "Maldives",
          "Nepal",
          "Sri Lanka",
          "Armenia",
          "Azerbaijan",
          "Bahrain",
          "Cyprus",
          "Georgia",
          "Israel",
          "Jordan",
          "Kuwait",
          "Lebanon",
          "Oman",
          "Qatar",
          "State of Palestine",
          "Syrian Arab Republic",
          "Turkey",
          "United Arab Emirates",
          "Yemen",
          "Iraq (Central Iraq)",
          "Belarus",
          "Bulgaria",
          "Czech Republic",
          "Hungary",
          "Poland",
          "Moldova",
          "Romania",
          "Russia",
          "Slovakia",
          "Ukraine",
          "Denmark",
          "Estonia",
          "Finland",
          "Iceland",
          "Ireland",
          "Latvia",
          "Lithuania",
          "Norway",
          "Sweden",
          "United Kingdom",
          "United Kingdom (Northern Ireland)",
          "United Kingdom (Scotland)",
          "Albania",
          "Andorra",
          "Bosnia and Herzegovina",
          "Croatia",
          "Greece",
          "Italy",
          "Kosovo under UNSCR 1244",
          "Malta",
          "Montenegro",
          "Portugal",
          "Serbia",
          "Slovenia",
          "Spain",
          "The former Yugoslav Rep. of Macedonia",
          "Holy See",
          "Austria",
          "Belgium",
          "France",
          "Germany",
          "Liechtenstein",
          "Luxembourg",
          "Monaco",
          "Netherlands",
          "Switzerland",
          "Australia",
          "New Zealand",
          "Solomon Islands",
          "Sudan",
          "Philippines",
          "Suriname",
          "Iran (Islamic Republic of)",
          "Afghanistan",
          "American Samoa",
          "Angola",
          "Anguilla",
          "Antigua and Barbuda",
          "Aruba",
          "Bahamas, The",
          "Benin",
          "British Virgin Islands",
          "Brunei",
          "Burkina Faso",
          "Burma",
          "Cambodia",
          "Cayman Islands",
          "Central African Republic",
          "Chad",
          "China",
          "Comoros",
          "Congo, Democratic Republic of the",
          "Congo, Republic of the",
          "Cook Islands",
          "Cuba",
          "Curacao",
          "Djibouti",
          "Dominica",
          "Equatorial Guinea",
          "Eritrea",
          "Ethiopia",
          "Falkland Islands (Islas Malvinas)",
          "Faroe Islands",
          "Fiji",
          "French Polynesia",
          "Gabon",
          "Gambia, The",
          "Ghana",
          "Gibraltar",
          "Greenland",
          "Guam",
          "Guernsey",
          "Guinea-Bissau",
          "Haiti",
          "Hong Kong",
          "Iran",
          "Iraq",
          "Isle of Man",
          "Jersey",
          "Kiribati",
          "Korea, North",
          "Kosovo",
          "Laos",
          "Liberia",
          "Libya",
          "Macau",
          "Macedonia",
          "Madagascar",
          "Malawi",
          "Mali",
          "Marshall Islands",
          "Mauritania",
          "Micronesia, Federated States of",
          "Namibia",
          "New Caledonia",
          "Niger",
          "Niue",
          "Northern Mariana Islands",
          "Pakistan",
          "Palau",
          "Papua New Guinea",
          "Saint Kitts and Nevis",
          "Saint Lucia",
          "Saint Martin",
          "Saint Pierre and Miquelon",
          "Saint Vincent and the Grenadines",
          "Samoa",
          "San Marino",
          "Saudi Arabia",
          "Seychelles",
          "Sint Maarten",
          "Somalia",
          "South Africa",
          "South Sudan",
          "Syria",
          "Taiwan",
          "Tanzania",
          "Timor-Leste",
          "Togo",
          "Tonga",
          "Tunisia",
          "Tuvalu",
          "Uzbekistan",
          "Vanuatu",
          "Venezuela",
          "Vietnam",
          "Virgin Islands",
          "West Bank",
          "Zambia"
         ],
         "type": "choropleth",
         "z": [
          0.2628981988730003,
          0.28681503672378517,
          0.5522068793633137,
          0.1666259733545643,
          0.2249543006333692,
          0.6262376901249957,
          0.8495890714811505,
          0.3920856557420161,
          0.18351667083169976,
          0.20632309568236684,
          0.07132899854112817,
          0.2732901753938532,
          1.5723903250518405,
          2.0541936914174745,
          0,
          1.6531411237578268,
          0,
          0.39445376437844226,
          0.4947891166221844,
          0.3238675665580707,
          0.3493113825901633,
          2.0634829775886856,
          1.3946564682694365,
          0.9114255553230476,
          1.9749777282235192,
          2.124834412690937,
          0,
          0,
          1.606878652164604,
          1.1869949444772352,
          1.6686541951209029,
          1.645726823964797,
          3.0104460659974297,
          1.3393406363580098,
          2.192651862602078,
          1.051394636941912,
          1.1310949628464984,
          0.8185833664812382,
          1.390844071995657,
          1.171940707176494,
          0.966955017882372,
          1.5159463855543274,
          0,
          1.5581766277576194,
          0.9580839615669553,
          1.3971857896345927,
          0.8235361637555136,
          1.825976016994395,
          0.8579832830932771,
          0.611611419687628,
          1.134765847923838,
          0.5151160463205247,
          0.4815719779694747,
          0.18028715179796462,
          0.335399485354471,
          0,
          0.12653370446572065,
          0,
          0.5850621205752883,
          0,
          0.22993883141812516,
          0.02623185834473052,
          0.19577304079840796,
          0.16063537757650315,
          0.21755031605948294,
          0.06769915826408801,
          0.15667887334482367,
          0.10573516749111633,
          0.37849909025766754,
          1.2298544786207657,
          0.14241947776163566,
          0.39794048965688966,
          0.16855189202930543,
          0.13035078679422452,
          0.467813106474924,
          0.1648248113512948,
          0.3196477171073905,
          1.0185560996716034,
          0.31209544143479345,
          0.7037977539596318,
          0.9206426613376605,
          0.13218543100383806,
          0.10965435988907313,
          0.19381420513627756,
          0.11779935989652579,
          1.031209845303093,
          0.5927853132731772,
          0.3370307548796729,
          0,
          0.4052917936928388,
          0.31221483308855374,
          0,
          0.38750550713511345,
          0.1976239710247022,
          0,
          0.23871660291893865,
          0,
          0.18234467122071996,
          0.4242446711567765,
          0.8519739874249544,
          0.6097619422178461,
          0.6386068274581913,
          0.5660921398873993,
          0.6879467285566525,
          0.5184007770379171,
          0.7068288771609995,
          0.6691720560683295,
          1.5227690087708505,
          1.4330674501861935,
          0,
          0,
          0.1842136836780155,
          0.4038575628619941,
          0.14154980203777157,
          0.19856300945979832,
          0.2501027286907064,
          0.4286848346985082,
          0,
          0.5397513963523293,
          0.16140796062736207,
          0.5701177314791036,
          0.14087968583479415,
          0.3506719845486438,
          0.3721612981444929,
          0,
          0.009577566509897495,
          0.4553637015264505,
          1.735471140648011,
          0.934312781003336,
          0.8904484093378864,
          0.4866074223063297,
          1.0693627892647122,
          1.0184849227068327,
          1.1502520351922263,
          0.6223364669605204,
          0.9455127746941323,
          1.0412432856099554,
          0.4851966993864295,
          0.4554691479529013,
          0.4048723662163036,
          1.5497123830506627,
          0.1595260815088878,
          0.3837564981027904,
          0.8527169724262467,
          0.5326609782030021,
          1.3945061724257255,
          1.4594998918221163,
          0.2898435281075524,
          0,
          0.6725370959592071,
          1.264669115621117,
          0,
          0,
          0,
          0.16528042528348807,
          0.9969803688758121,
          0,
          1.0198875972108794,
          0.06443916313790321,
          0.9482177317777549,
          0,
          0,
          0.3461921582255502,
          0.6169102664589333,
          0,
          0.6894236285767144,
          1.314359841064856,
          0.21523177399272087,
          0.9299939952659576,
          0.9700317537972951,
          0,
          0,
          0.37890694154186744,
          0.048047805563115054,
          0.9138729465284063,
          0,
          0.18527592922261915,
          0.2981043594090284,
          1.4233588517156388,
          0.3016079087175919,
          0,
          1.7048300957617524,
          1.126892947889705,
          0,
          0,
          0.7521964258693492,
          0.12498828366954995,
          0,
          0.7398389890802675,
          0,
          0.40840078009992986,
          0,
          0.33672579852060364,
          0.2557196796081274,
          0,
          0,
          0.36958875821697335,
          0.1762853202208181,
          1.343643828921584,
          0,
          1.2953795686312388,
          0,
          1.5028058897140741,
          0.3173394789356372,
          0.49038572160923677,
          0.009577566509897495,
          0,
          0.6068372700449771,
          0.3077219191723328,
          0.9221751299849903,
          1.9277916295066775,
          1.9196659523649213,
          0,
          1.5387695688752911,
          0,
          0.4150847789031145,
          0.009577566509897495,
          0.09154748834415094,
          1.2630096928463836,
          0,
          0.527633226241498,
          3.2688148138969537,
          1.6474424850485283,
          0,
          0,
          0,
          0.4069539574529201,
          0.9692520630034765,
          0.15518483691115015,
          0.2633419176135881,
          0.9104223310060728,
          0.3028496073162335,
          0.2312298731628445,
          0,
          0,
          0,
          0,
          0.5929953705554953
         ]
        }
       ],
       "layout": {
        "geo": {
         "projection": {},
         "showcoastlines": false,
         "showframe": false
        },
        "title": "world plot of crime score"
       }
      },
      "text/html": [
       "<div>                            <div id=\"80afdd7e-e090-4700-9c16-20e0027e8c44\" class=\"plotly-graph-div\" style=\"height:525px; width:100%;\"></div>            <script type=\"text/javascript\">                require([\"plotly\"], function(Plotly) {                    window.PLOTLYENV=window.PLOTLYENV || {};                                    if (document.getElementById(\"80afdd7e-e090-4700-9c16-20e0027e8c44\")) {                    Plotly.newPlot(                        \"80afdd7e-e090-4700-9c16-20e0027e8c44\",                        [{\"type\":\"choropleth\",\"locations\":[\"BDI\",\"KEN\",\"MUS\",\"MOZ\",\"RWA\",\"UGA\",\"ZWE\",\"CMR\",\"STP\",\"DZA\",\"EGY\",\"MAR\",\"BWA\",\"LSO\",\"SWZ\",\"CPV\",\"CIV\",\"GIN\",\"NGA\",\"SEN\",\"SLE\",null,\"BRB\",\"DOM\",\"GRD\",\"JAM\",null,null,\"TTO\",\"PRI\",\"BLZ\",\"CRI\",\"SLV\",\"GTM\",\"HND\",\"MEX\",\"NIC\",\"PAN\",\"BMU\",\"CAN\",\"USA\",\"ARG\",\"BOL\",\"BRA\",\"CHL\",\"COL\",\"ECU\",\"GUY\",\"PRY\",\"PER\",\"URY\",\"KAZ\",\"KGZ\",\"TJK\",\"TKM\",null,\"JPN\",null,\"MNG\",\"KOR\",null,\"IDN\",\"MYS\",\"SGP\",\"THA\",null,\"BGD\",\"BTN\",\"IND\",\"MDV\",\"NPL\",\"LKA\",\"ARM\",\"AZE\",\"BHR\",\"CYP\",\"GEO\",\"ISR\",\"JOR\",\"KWT\",\"LBN\",\"OMN\",\"QAT\",null,null,\"TUR\",\"ARE\",\"YEM\",null,\"BLR\",\"BGR\",\"CZE\",\"HUN\",\"POL\",\"MDA\",\"ROU\",\"RUS\",\"SVK\",\"UKR\",\"DNK\",\"EST\",\"FIN\",\"ISL\",\"IRL\",\"LVA\",\"LTU\",\"NOR\",\"SWE\",\"GBR\",null,null,\"ALB\",\"AND\",\"BIH\",\"HRV\",\"GRC\",\"ITA\",null,\"MLT\",\"MNE\",\"PRT\",\"SRB\",\"SVN\",\"ESP\",null,null,\"AUT\",\"BEL\",\"FRA\",\"DEU\",\"LIE\",\"LUX\",\"MCO\",\"NLD\",\"CHE\",\"AUS\",\"NZL\",\"SLB\",\"SDN\",\"PHL\",\"SUR\",null,\"AFG\",\"ASM\",\"AGO\",\"AIA\",\"ATG\",\"ABW\",\"BHM\",\"BEN\",\"VGB\",\"BRN\",\"BFA\",\"MMR\",\"KHM\",\"CYM\",\"CAF\",\"TCD\",\"CHN\",\"COM\",\"COD\",\"COG\",\"COK\",\"CUB\",\"CUW\",\"DJI\",\"DMA\",\"GNQ\",\"ERI\",\"ETH\",\"FLK\",\"FRO\",\"FJI\",\"PYF\",\"GAB\",\"GMB\",\"GHA\",\"GIB\",\"GRL\",\"GUM\",\"GGY\",\"GNB\",\"HTI\",\"HKG\",\"IRN\",\"IRQ\",\"IMN\",\"JEY\",\"KIR\",\"PRK\",\"KSV\",\"LAO\",\"LBR\",\"LBY\",\"MAC\",\"MKD\",\"MDG\",\"MWI\",\"MLI\",\"MHL\",\"MRT\",\"FSM\",\"NAM\",\"NCL\",\"NER\",\"NIU\",\"MNP\",\"PAK\",\"PLW\",\"PNG\",\"KNA\",\"LCA\",\"MAF\",\"SPM\",\"VCT\",\"WSM\",\"SMR\",\"SAU\",\"SYC\",\"SXM\",\"SOM\",\"ZAF\",\"SSD\",\"SYR\",\"TWN\",\"TZA\",\"TLS\",\"TGO\",\"TON\",\"TUN\",\"TUV\",\"UZB\",\"VUT\",\"VEN\",\"VNM\",\"VGB\",\"WBG\",\"ZMB\"],\"z\":[0.2628981988730003,0.28681503672378517,0.5522068793633137,0.1666259733545643,0.2249543006333692,0.6262376901249957,0.8495890714811505,0.3920856557420161,0.18351667083169976,0.20632309568236684,0.07132899854112817,0.2732901753938532,1.5723903250518405,2.0541936914174745,0.0,1.6531411237578268,0.0,0.39445376437844226,0.4947891166221844,0.3238675665580707,0.3493113825901633,2.0634829775886856,1.3946564682694365,0.9114255553230476,1.9749777282235192,2.124834412690937,0.0,0.0,1.606878652164604,1.1869949444772352,1.6686541951209029,1.645726823964797,3.0104460659974297,1.3393406363580098,2.192651862602078,1.051394636941912,1.1310949628464984,0.8185833664812382,1.390844071995657,1.171940707176494,0.966955017882372,1.5159463855543274,0.0,1.5581766277576194,0.9580839615669553,1.3971857896345927,0.8235361637555136,1.825976016994395,0.8579832830932771,0.611611419687628,1.134765847923838,0.5151160463205247,0.4815719779694747,0.18028715179796462,0.335399485354471,0.0,0.12653370446572065,0.0,0.5850621205752883,0.0,0.22993883141812516,0.02623185834473052,0.19577304079840796,0.16063537757650315,0.21755031605948294,0.06769915826408801,0.15667887334482367,0.10573516749111633,0.37849909025766754,1.2298544786207657,0.14241947776163566,0.39794048965688966,0.16855189202930543,0.13035078679422452,0.467813106474924,0.1648248113512948,0.3196477171073905,1.0185560996716034,0.31209544143479345,0.7037977539596318,0.9206426613376605,0.13218543100383806,0.10965435988907313,0.19381420513627756,0.11779935989652579,1.031209845303093,0.5927853132731772,0.3370307548796729,0.0,0.4052917936928388,0.31221483308855374,0.0,0.38750550713511345,0.1976239710247022,0.0,0.23871660291893865,0.0,0.18234467122071996,0.4242446711567765,0.8519739874249544,0.6097619422178461,0.6386068274581913,0.5660921398873993,0.6879467285566525,0.5184007770379171,0.7068288771609995,0.6691720560683295,1.5227690087708505,1.4330674501861935,0.0,0.0,0.1842136836780155,0.4038575628619941,0.14154980203777157,0.19856300945979832,0.2501027286907064,0.4286848346985082,0.0,0.5397513963523293,0.16140796062736207,0.5701177314791036,0.14087968583479415,0.3506719845486438,0.3721612981444929,0.0,0.009577566509897495,0.4553637015264505,1.735471140648011,0.934312781003336,0.8904484093378864,0.4866074223063297,1.0693627892647122,1.0184849227068327,1.1502520351922263,0.6223364669605204,0.9455127746941323,1.0412432856099554,0.4851966993864295,0.4554691479529013,0.4048723662163036,1.5497123830506627,0.1595260815088878,0.3837564981027904,0.8527169724262467,0.5326609782030021,1.3945061724257255,1.4594998918221163,0.2898435281075524,0.0,0.6725370959592071,1.264669115621117,0.0,0.0,0.0,0.16528042528348807,0.9969803688758121,0.0,1.0198875972108794,0.06443916313790321,0.9482177317777549,0.0,0.0,0.3461921582255502,0.6169102664589333,0.0,0.6894236285767144,1.314359841064856,0.21523177399272087,0.9299939952659576,0.9700317537972951,0.0,0.0,0.37890694154186744,0.048047805563115054,0.9138729465284063,0.0,0.18527592922261915,0.2981043594090284,1.4233588517156388,0.3016079087175919,0.0,1.7048300957617524,1.126892947889705,0.0,0.0,0.7521964258693492,0.12498828366954995,0.0,0.7398389890802675,0.0,0.40840078009992986,0.0,0.33672579852060364,0.2557196796081274,0.0,0.0,0.36958875821697335,0.1762853202208181,1.343643828921584,0.0,1.2953795686312388,0.0,1.5028058897140741,0.3173394789356372,0.49038572160923677,0.009577566509897495,0.0,0.6068372700449771,0.3077219191723328,0.9221751299849903,1.9277916295066775,1.9196659523649213,0.0,1.5387695688752911,0.0,0.4150847789031145,0.009577566509897495,0.09154748834415094,1.2630096928463836,0.0,0.527633226241498,3.2688148138969537,1.6474424850485283,0.0,0.0,0.0,0.4069539574529201,0.9692520630034765,0.15518483691115015,0.2633419176135881,0.9104223310060728,0.3028496073162335,0.2312298731628445,0.0,0.0,0.0,0.0,0.5929953705554953],\"text\":[\"Burundi\",\"Kenya\",\"Mauritius\",\"Mozambique\",\"Rwanda\",\"Uganda\",\"Zimbabwe\",\"Cameroon\",\"Sao Tome and Principe\",\"Algeria\",\"Egypt\",\"Morocco\",\"Botswana\",\"Lesotho\",\"Swaziland\",\"Cabo Verde\",\"Cote d'Ivoire\",\"Guinea\",\"Nigeria\",\"Senegal\",\"Sierra Leone\",\"Bahamas\",\"Barbados\",\"Dominican Republic\",\"Grenada\",\"Jamaica\",\"St. Kitts and Nevis\",\"St. Vincent and the Grenadines\",\"Trinidad and Tobago\",\"Puerto Rico\",\"Belize\",\"Costa Rica\",\"El Salvador\",\"Guatemala\",\"Honduras\",\"Mexico\",\"Nicaragua\",\"Panama\",\"Bermuda\",\"Canada\",\"United States\",\"Argentina\",\"Bolivia\",\"Brazil\",\"Chile\",\"Colombia\",\"Ecuador\",\"Guyana\",\"Paraguay\",\"Peru\",\"Uruguay\",\"Kazakhstan\",\"Kyrgyzstan\",\"Tajikistan\",\"Turkmenistan\",\"Hong Kong Special Administrative Region of China\",\"Japan\",\"Macao Special Administrative Region of China\",\"Mongolia\",\"Korea, South\",\"Brunei Darussalam\",\"Indonesia\",\"Malaysia\",\"Singapore\",\"Thailand\",\"Myanmar\",\"Bangladesh\",\"Bhutan\",\"India\",\"Maldives\",\"Nepal\",\"Sri Lanka\",\"Armenia\",\"Azerbaijan\",\"Bahrain\",\"Cyprus\",\"Georgia\",\"Israel\",\"Jordan\",\"Kuwait\",\"Lebanon\",\"Oman\",\"Qatar\",\"State of Palestine\",\"Syrian Arab Republic\",\"Turkey\",\"United Arab Emirates\",\"Yemen\",\"Iraq (Central Iraq)\",\"Belarus\",\"Bulgaria\",\"Czech Republic\",\"Hungary\",\"Poland\",\"Moldova\",\"Romania\",\"Russia\",\"Slovakia\",\"Ukraine\",\"Denmark\",\"Estonia\",\"Finland\",\"Iceland\",\"Ireland\",\"Latvia\",\"Lithuania\",\"Norway\",\"Sweden\",\"United Kingdom\",\"United Kingdom (Northern Ireland)\",\"United Kingdom (Scotland)\",\"Albania\",\"Andorra\",\"Bosnia and Herzegovina\",\"Croatia\",\"Greece\",\"Italy\",\"Kosovo under UNSCR 1244\",\"Malta\",\"Montenegro\",\"Portugal\",\"Serbia\",\"Slovenia\",\"Spain\",\"The former Yugoslav Rep. of Macedonia\",\"Holy See\",\"Austria\",\"Belgium\",\"France\",\"Germany\",\"Liechtenstein\",\"Luxembourg\",\"Monaco\",\"Netherlands\",\"Switzerland\",\"Australia\",\"New Zealand\",\"Solomon Islands\",\"Sudan\",\"Philippines\",\"Suriname\",\"Iran (Islamic Republic of)\",\"Afghanistan\",\"American Samoa\",\"Angola\",\"Anguilla\",\"Antigua and Barbuda\",\"Aruba\",\"Bahamas, The\",\"Benin\",\"British Virgin Islands\",\"Brunei\",\"Burkina Faso\",\"Burma\",\"Cambodia\",\"Cayman Islands\",\"Central African Republic\",\"Chad\",\"China\",\"Comoros\",\"Congo, Democratic Republic of the\",\"Congo, Republic of the\",\"Cook Islands\",\"Cuba\",\"Curacao\",\"Djibouti\",\"Dominica\",\"Equatorial Guinea\",\"Eritrea\",\"Ethiopia\",\"Falkland Islands (Islas Malvinas)\",\"Faroe Islands\",\"Fiji\",\"French Polynesia\",\"Gabon\",\"Gambia, The\",\"Ghana\",\"Gibraltar\",\"Greenland\",\"Guam\",\"Guernsey\",\"Guinea-Bissau\",\"Haiti\",\"Hong Kong\",\"Iran\",\"Iraq\",\"Isle of Man\",\"Jersey\",\"Kiribati\",\"Korea, North\",\"Kosovo\",\"Laos\",\"Liberia\",\"Libya\",\"Macau\",\"Macedonia\",\"Madagascar\",\"Malawi\",\"Mali\",\"Marshall Islands\",\"Mauritania\",\"Micronesia, Federated States of\",\"Namibia\",\"New Caledonia\",\"Niger\",\"Niue\",\"Northern Mariana Islands\",\"Pakistan\",\"Palau\",\"Papua New Guinea\",\"Saint Kitts and Nevis\",\"Saint Lucia\",\"Saint Martin\",\"Saint Pierre and Miquelon\",\"Saint Vincent and the Grenadines\",\"Samoa\",\"San Marino\",\"Saudi Arabia\",\"Seychelles\",\"Sint Maarten\",\"Somalia\",\"South Africa\",\"South Sudan\",\"Syria\",\"Taiwan\",\"Tanzania\",\"Timor-Leste\",\"Togo\",\"Tonga\",\"Tunisia\",\"Tuvalu\",\"Uzbekistan\",\"Vanuatu\",\"Venezuela\",\"Vietnam\",\"Virgin Islands\",\"West Bank\",\"Zambia\"],\"colorscale\":[[0.0,\"rgb(255,255,255)\"],[1e-6,\"rgb(237,235,242)\"],[0.2,\"rgb(218,218,235)\"],[0.4,\"rgb(188,189,220)\"],[0.6,\"rgb(158,154,200)\"],[0.8,\"rgb(117,107,177)\"],[1.0,\"rgb(84,39,143)\"]],\"autocolorscale\":false,\"reversescale\":false,\"marker\":{\"line\":{\"color\":\"rgb(180,180,180)\",\"width\":0.5}},\"colorbar\":{\"title\":\"crime score\"}}],                        {\"title\":\"world plot of crime score\",\"geo\":{\"showframe\":false,\"showcoastlines\":false,\"projection\":{}}},                        {\"responsive\": true}                    ).then(function(){\n",
       "                            \n",
       "var gd = document.getElementById('80afdd7e-e090-4700-9c16-20e0027e8c44');\n",
       "var x = new MutationObserver(function (mutations, observer) {{\n",
       "        var display = window.getComputedStyle(gd).display;\n",
       "        if (!display || display === 'none') {{\n",
       "            console.log([gd, 'removed!']);\n",
       "            Plotly.purge(gd);\n",
       "            observer.disconnect();\n",
       "        }}\n",
       "}});\n",
       "\n",
       "// Listen for the removal of the full notebook cells\n",
       "var notebookContainer = gd.closest('#notebook-container');\n",
       "if (notebookContainer) {{\n",
       "    x.observe(notebookContainer, {childList: true});\n",
       "}}\n",
       "\n",
       "// Listen for the clearing of the current output cell\n",
       "var outputEl = gd.closest('.output');\n",
       "if (outputEl) {{\n",
       "    x.observe(outputEl, {childList: true});\n",
       "}}\n",
       "\n",
       "                        })                };                });            </script>        </div>"
      ]
     },
     "metadata": {},
     "output_type": "display_data"
    },
    {
     "data": {
      "text/html": [
       "<div>\n",
       "<style scoped>\n",
       "    .dataframe tbody tr th:only-of-type {\n",
       "        vertical-align: middle;\n",
       "    }\n",
       "\n",
       "    .dataframe tbody tr th {\n",
       "        vertical-align: top;\n",
       "    }\n",
       "\n",
       "    .dataframe thead th {\n",
       "        text-align: right;\n",
       "    }\n",
       "</style>\n",
       "<table border=\"1\" class=\"dataframe\">\n",
       "  <thead>\n",
       "    <tr style=\"text-align: right;\">\n",
       "      <th></th>\n",
       "      <th>crime_score</th>\n",
       "    </tr>\n",
       "    <tr>\n",
       "      <th>Country</th>\n",
       "      <th></th>\n",
       "    </tr>\n",
       "  </thead>\n",
       "  <tbody>\n",
       "    <tr>\n",
       "      <th>South Africa</th>\n",
       "      <td>3.268815</td>\n",
       "    </tr>\n",
       "    <tr>\n",
       "      <th>El Salvador</th>\n",
       "      <td>3.010446</td>\n",
       "    </tr>\n",
       "    <tr>\n",
       "      <th>Honduras</th>\n",
       "      <td>2.192652</td>\n",
       "    </tr>\n",
       "    <tr>\n",
       "      <th>Jamaica</th>\n",
       "      <td>2.124834</td>\n",
       "    </tr>\n",
       "    <tr>\n",
       "      <th>Bahamas</th>\n",
       "      <td>2.063483</td>\n",
       "    </tr>\n",
       "    <tr>\n",
       "      <th>Lesotho</th>\n",
       "      <td>2.054194</td>\n",
       "    </tr>\n",
       "    <tr>\n",
       "      <th>Grenada</th>\n",
       "      <td>1.974978</td>\n",
       "    </tr>\n",
       "    <tr>\n",
       "      <th>Saint Kitts and Nevis</th>\n",
       "      <td>1.927792</td>\n",
       "    </tr>\n",
       "    <tr>\n",
       "      <th>Saint Lucia</th>\n",
       "      <td>1.919666</td>\n",
       "    </tr>\n",
       "    <tr>\n",
       "      <th>Guyana</th>\n",
       "      <td>1.825976</td>\n",
       "    </tr>\n",
       "  </tbody>\n",
       "</table>\n",
       "</div>"
      ],
      "text/plain": [
       "                       crime_score\n",
       "Country                           \n",
       "South Africa              3.268815\n",
       "El Salvador               3.010446\n",
       "Honduras                  2.192652\n",
       "Jamaica                   2.124834\n",
       "Bahamas                   2.063483\n",
       "Lesotho                   2.054194\n",
       "Grenada                   1.974978\n",
       "Saint Kitts and Nevis     1.927792\n",
       "Saint Lucia               1.919666\n",
       "Guyana                    1.825976"
      ]
     },
     "execution_count": 126,
     "metadata": {},
     "output_type": "execute_result"
    }
   ],
   "source": [
    "column_name=\"crime_score\"\n",
    "data = [ dict(\n",
    "        type = 'choropleth',\n",
    "        locations = unodc_avg['CODE'],\n",
    "        z = unodc_avg['crime_score'],\n",
    "        text = unodc.index,\n",
    "        colorscale =[[0.0, 'rgb(255,255,255)'],[1e-6, 'rgb(237,235,242)'],[0.2, 'rgb(218,218,235)'],[0.4, 'rgb(188,189,220)'],\\\n",
    "            [0.6, 'rgb(158,154,200)'],[0.8, 'rgb(117,107,177)'],[1.0, 'rgb(84,39,143)']],\n",
    "        autocolorscale = False,\n",
    "        reversescale = False,\n",
    "        marker = dict(\n",
    "            line = dict (\n",
    "                color = 'rgb(180,180,180)',\n",
    "                width = 0.5\n",
    "            ) ),\n",
    "        colorbar = dict(\n",
    "            #autotick = False,\n",
    "            title = column_name.replace(\"_\",\" \")),\n",
    "      ) ]\n",
    "\n",
    "layout = dict(\n",
    "    title = 'world plot of '+column_name.replace(\"_\",\" \"),\n",
    "    geo = dict(\n",
    "        showframe = False,\n",
    "        showcoastlines = False,\n",
    "        projection = dict(\n",
    "        )\n",
    "    )\n",
    ")\n",
    "\n",
    "fig = dict( data=data, layout=layout )\n",
    "py.iplot( fig, validate=False, filename='d3-world-map' )\n",
    "#import plotly.io as pio\n",
    "#pio.write_image(fig, 'world_avg_cr.pdf')\n",
    "unodc_avg[[\"crime_score\"]].sort_values(by=\"crime_score\",ascending=False)[:10]"
   ]
  },
  {
   "cell_type": "code",
   "execution_count": 127,
   "metadata": {
    "_uuid": "0934a2a34880a9cac7c7cca07969274ec8e16a47",
    "trusted": true
   },
   "outputs": [
    {
     "data": {
      "text/html": [
       "<div>\n",
       "<style scoped>\n",
       "    .dataframe tbody tr th:only-of-type {\n",
       "        vertical-align: middle;\n",
       "    }\n",
       "\n",
       "    .dataframe tbody tr th {\n",
       "        vertical-align: top;\n",
       "    }\n",
       "\n",
       "    .dataframe thead th {\n",
       "        text-align: right;\n",
       "    }\n",
       "</style>\n",
       "<table border=\"1\" class=\"dataframe\">\n",
       "  <thead>\n",
       "    <tr style=\"text-align: right;\">\n",
       "      <th></th>\n",
       "      <th>Code</th>\n",
       "      <th>Rule of law</th>\n",
       "      <th>Corruption Perception</th>\n",
       "      <th>corruption_score</th>\n",
       "    </tr>\n",
       "    <tr>\n",
       "      <th>Country</th>\n",
       "      <th></th>\n",
       "      <th></th>\n",
       "      <th></th>\n",
       "      <th></th>\n",
       "    </tr>\n",
       "  </thead>\n",
       "  <tbody>\n",
       "    <tr>\n",
       "      <th>Afghanistan</th>\n",
       "      <td>AFG</td>\n",
       "      <td>1.692312</td>\n",
       "      <td>1.563656</td>\n",
       "      <td>1.627984</td>\n",
       "    </tr>\n",
       "    <tr>\n",
       "      <th>Albania</th>\n",
       "      <td>ALB</td>\n",
       "      <td>0.516100</td>\n",
       "      <td>0.554086</td>\n",
       "      <td>0.535093</td>\n",
       "    </tr>\n",
       "    <tr>\n",
       "      <th>Algeria</th>\n",
       "      <td>DZA</td>\n",
       "      <td>0.711616</td>\n",
       "      <td>0.516025</td>\n",
       "      <td>0.613820</td>\n",
       "    </tr>\n",
       "    <tr>\n",
       "      <th>Andorra</th>\n",
       "      <td>AND</td>\n",
       "      <td>-1.318323</td>\n",
       "      <td>NaN</td>\n",
       "      <td>-1.318323</td>\n",
       "    </tr>\n",
       "    <tr>\n",
       "      <th>Angola</th>\n",
       "      <td>AGO</td>\n",
       "      <td>1.283364</td>\n",
       "      <td>1.064104</td>\n",
       "      <td>1.173734</td>\n",
       "    </tr>\n",
       "    <tr>\n",
       "      <th>Antigua and Barbuda</th>\n",
       "      <td>ATG</td>\n",
       "      <td>-0.861860</td>\n",
       "      <td>NaN</td>\n",
       "      <td>-0.861860</td>\n",
       "    </tr>\n",
       "    <tr>\n",
       "      <th>Argentina</th>\n",
       "      <td>ARG</td>\n",
       "      <td>0.648521</td>\n",
       "      <td>0.569310</td>\n",
       "      <td>0.608916</td>\n",
       "    </tr>\n",
       "    <tr>\n",
       "      <th>Armenia</th>\n",
       "      <td>ARM</td>\n",
       "      <td>0.382900</td>\n",
       "      <td>0.527443</td>\n",
       "      <td>0.455171</td>\n",
       "    </tr>\n",
       "    <tr>\n",
       "      <th>Aruba</th>\n",
       "      <td>ABW</td>\n",
       "      <td>-1.172465</td>\n",
       "      <td>NaN</td>\n",
       "      <td>-1.172465</td>\n",
       "    </tr>\n",
       "    <tr>\n",
       "      <th>Australia</th>\n",
       "      <td>AUS</td>\n",
       "      <td>-1.852682</td>\n",
       "      <td>-2.182505</td>\n",
       "      <td>-2.017594</td>\n",
       "    </tr>\n",
       "  </tbody>\n",
       "</table>\n",
       "</div>"
      ],
      "text/plain": [
       "                    Code  Rule of law  Corruption Perception  corruption_score\n",
       "Country                                                                       \n",
       "Afghanistan          AFG     1.692312               1.563656          1.627984\n",
       "Albania              ALB     0.516100               0.554086          0.535093\n",
       "Algeria              DZA     0.711616               0.516025          0.613820\n",
       "Andorra              AND    -1.318323                    NaN         -1.318323\n",
       "Angola               AGO     1.283364               1.064104          1.173734\n",
       "Antigua and Barbuda  ATG    -0.861860                    NaN         -0.861860\n",
       "Argentina            ARG     0.648521               0.569310          0.608916\n",
       "Armenia              ARM     0.382900               0.527443          0.455171\n",
       "Aruba                ABW    -1.172465                    NaN         -1.172465\n",
       "Australia            AUS    -1.852682              -2.182505         -2.017594"
      ]
     },
     "execution_count": 127,
     "metadata": {},
     "output_type": "execute_result"
    }
   ],
   "source": [
    "corruption=pd.read_csv(\"/Users/margarita/Downloads/theglobaleconomy_corruption.csv\", sep=\", \")\n",
    "corruption[\"Rule of law\"]=corruption[\"Rule of law\"].astype(float)\n",
    "\n",
    "corruption[\"Corruption perceptions - Transparency International\"]=corruption[\"Corruption perceptions - Transparency International\"].str.replace(\",\",\"\").fillna(-1).astype(int).replace(-1, np.nan)\n",
    "corruption.set_index([\"Country\",\"Code\",\"Year\"],inplace=True)\n",
    "corruption_avg=pd.DataFrame()\n",
    "corruption\n",
    "corruption_avg[\"Rule of law\"]=2.5-corruption[\"Rule of law\"].unstack(level=2).mean(axis=1)\n",
    "corruption_avg[\"Corruption Perception\"]=100-corruption[\"Corruption perceptions - Transparency International\"].unstack(level=2).mean(axis=1)\n",
    "corruption_avg[[\"Rule of law\",\"Corruption Perception\"]]-=corruption_avg[[\"Rule of law\",\"Corruption Perception\"]].mean(axis=0)\n",
    "corruption_avg[[\"Rule of law\",\"Corruption Perception\"]]/=corruption_avg[[\"Rule of law\",\"Corruption Perception\"]].std(axis=0)\n",
    "corruption_avg[\"corruption_score\"]=corruption_avg.mean(axis=1)\n",
    "corruption_avg.reset_index(inplace=True)\n",
    "corruption_avg.set_index([\"Country\"],inplace=True)\n",
    "corruption_avg[:10]"
   ]
  },
  {
   "cell_type": "code",
   "execution_count": 128,
   "metadata": {
    "_uuid": "ab656fbf781590f2b16e2084bc28eaed78e349f8",
    "trusted": true
   },
   "outputs": [
    {
     "data": {
      "application/vnd.plotly.v1+json": {
       "config": {
        "linkText": "Export to plot.ly",
        "plotlyServerURL": "https://plot.ly",
        "showLink": false
       },
       "data": [
        {
         "autocolorscale": false,
         "colorbar": {
          "title": "corruption"
         },
         "colorscale": [
          [
           0,
           "rgb(255,255,255)"
          ],
          [
           0.000001,
           "rgb(237,235,242)"
          ],
          [
           0.2,
           "rgb(218,218,235)"
          ],
          [
           0.4,
           "rgb(188,189,220)"
          ],
          [
           0.6,
           "rgb(158,154,200)"
          ],
          [
           0.8,
           "rgb(117,107,177)"
          ],
          [
           1,
           "rgb(84,39,143)"
          ]
         ],
         "locations": [
          "AFG",
          "ALB",
          "DZA",
          "AND",
          "AGO",
          "ATG",
          "ARG",
          "ARM",
          "ABW",
          "AUS",
          "AUT",
          "AZE",
          "BHS",
          "BHR",
          "BGD",
          "BRB",
          "BLR",
          "BEL",
          "BLZ",
          "BEN",
          "BMU",
          "BTN",
          "BOL",
          "BIH",
          "BWA",
          "BRA",
          "BRN",
          "BGR",
          "BFA",
          "MMR",
          "BDI",
          "KHM",
          "CMR",
          "CAN",
          "CPV",
          "CAF",
          "TCD",
          "CHL",
          "CHN",
          "COL",
          "COM",
          "CRC",
          "HRV",
          "CUB",
          "CYP",
          "CZE",
          "COD",
          "DNK",
          "DJI",
          "DMA",
          "DOM",
          "ECU",
          "EGY",
          "SLV",
          "GNQ",
          "ERI",
          "EST",
          "ETH",
          "FJI",
          "FIN",
          "FRA",
          "GAB",
          "GMB",
          "GEO",
          "DEU",
          "GHA",
          "GRC",
          "GRD",
          "GTM",
          "GIN",
          "GNB",
          "GUY",
          "HTI",
          "HND",
          "HKG",
          "HUN",
          "ISL",
          "IND",
          "IDN",
          "IRN",
          "IRQ",
          "IRL",
          "ISR",
          "ITA",
          "CIV",
          "JAM",
          "JPN",
          "JOR",
          "KAZ",
          "KEN",
          "KIR",
          "KWT",
          "KGZ",
          "LAO",
          "LVA",
          "LBN",
          "LSO",
          "LBR",
          "LBY",
          "LIE",
          "LTU",
          "LUX",
          "MAC",
          "MKD",
          "MDG",
          "MWI",
          "MYS",
          "MDV",
          "MLI",
          "MLT",
          "MRT",
          "MUS",
          "MEX",
          "FSM",
          "MDA",
          "MCO",
          "MNG",
          "MNE",
          "MAR",
          "MOZ",
          "NAM",
          "NPL",
          "NLD",
          "NZL",
          "NIC",
          "NER",
          "NGA",
          "NFK",
          "PRK",
          "NOR",
          "OMN",
          "PAK",
          "PLW",
          "PS",
          "PAN",
          "PNG",
          "PRY",
          "PER",
          "PHL",
          "POL",
          "PRT",
          "PRI",
          "QAT",
          "COG",
          "ROU",
          "RUS",
          "RWA",
          "LCA",
          "VCT",
          "WSM",
          "SMR",
          "STP",
          "SAU",
          "SEN",
          "SRB",
          "SYC",
          "SLE",
          "SGP",
          "SVK",
          "SVN",
          "SLB",
          "SOM",
          "ZAF",
          "KOR",
          "ESP",
          "LKA",
          "SDN",
          "SUR",
          "SWZ",
          "SWE",
          "CHE",
          "SYR",
          "TWN",
          "TJK",
          "TZA",
          "THA",
          "TGO",
          "TON",
          "TTO",
          "TUN",
          "TUR",
          "TKM",
          "TUV",
          "USA",
          "UGA",
          "URK",
          "ARE",
          "GBR",
          "URY",
          "UZB",
          "VUT",
          "VEN",
          "VNM",
          "YEM",
          "ZMB",
          "ZWE"
         ],
         "marker": {
          "line": {
           "color": "rgb(180,180,180)",
           "width": 0.5
          }
         },
         "reversescale": false,
         "text": [
          "Afghanistan",
          "Albania",
          "Algeria",
          "Andorra",
          "Angola",
          "Antigua and Barbuda",
          "Argentina",
          "Armenia",
          "Aruba",
          "Australia",
          "Austria",
          "Azerbaijan",
          "Bahamas",
          "Bahrain",
          "Bangladesh",
          "Barbados",
          "Belarus",
          "Belgium",
          "Belize",
          "Benin",
          "Bermuda",
          "Bhutan",
          "Bolivia",
          "Bosnia and Herzegovina",
          "Botswana",
          "Brazil",
          "Brunei",
          "Bulgaria",
          "Burkina Faso",
          "Burma (Myanmar)",
          "Burundi",
          "Cambodia",
          "Cameroon",
          "Canada",
          "Cape Verde",
          "Central African Republic",
          "Chad",
          "Chile",
          "China",
          "Colombia",
          "Comoros",
          "Costa Rica",
          "Croatia",
          "Cuba",
          "Cyprus",
          "Czech Republic",
          "Democratic Republic of the Congo",
          "Denmark",
          "Djibouti",
          "Dominica",
          "Dominican Republic",
          "Ecuador",
          "Egypt",
          "El Salvador",
          "Equatorial Guinea",
          "Eritrea",
          "Estonia",
          "Ethiopia",
          "Fiji",
          "Finland",
          "France",
          "Gabon",
          "Gambia",
          "Georgia",
          "Germany",
          "Ghana",
          "Greece",
          "Grenada",
          "Guatemala",
          "Guinea",
          "Guinea-Bissau",
          "Guyana",
          "Haiti",
          "Honduras",
          "Hong Kong",
          "Hungary",
          "Iceland",
          "India",
          "Indonesia",
          "Iran",
          "Iraq",
          "Ireland",
          "Israel",
          "Italy",
          "Ivory Coast",
          "Jamaica",
          "Japan",
          "Jordan",
          "Kazakhstan",
          "Kenya",
          "Kiribati",
          "Kuwait",
          "Kyrgyzstan",
          "Laos",
          "Latvia",
          "Lebanon",
          "Lesotho",
          "Liberia",
          "Libya",
          "Liechtenstein",
          "Lithuania",
          "Luxembourg",
          "Macao",
          "Macedonia",
          "Madagascar",
          "Malawi",
          "Malaysia",
          "Maldives",
          "Mali",
          "Malta",
          "Mauritania",
          "Mauritius",
          "Mexico",
          "Micronesia",
          "Moldova",
          "Monaco",
          "Mongolia",
          "Montenegro",
          "Morocco",
          "Mozambique",
          "Namibia",
          "Nepal",
          "Netherlands",
          "New Zealand",
          "Nicaragua",
          "Niger",
          "Nigeria",
          "Norfolk Island",
          "North Korea",
          "Norway",
          "Oman",
          "Pakistan",
          "Palau",
          "Palestine",
          "Panama",
          "Papua New Guinea",
          "Paraguay",
          "Peru",
          "Philippines",
          "Poland",
          "Portugal",
          "Puerto Rico",
          "Qatar",
          "Republic of the Congo",
          "Romania",
          "Russia",
          "Rwanda",
          "Saint Lucia",
          "Saint Vincent and the Grenadines",
          "Samoa",
          "San Marino",
          "Sao Tome and Principe",
          "Saudi Arabia",
          "Senegal",
          "Serbia",
          "Seychelles",
          "Sierra Leone",
          "Singapore",
          "Slovakia",
          "Slovenia",
          "Solomon Islands",
          "Somalia",
          "South Africa",
          "South Korea",
          "Spain",
          "Sri Lanka",
          "Sudan",
          "Suriname",
          "Swaziland",
          "Sweden",
          "Switzerland",
          "Syria",
          "Taiwan",
          "Tajikistan",
          "Tanzania",
          "Thailand",
          "Togo",
          "Tonga",
          "Trinidad and Tobago",
          "Tunisia",
          "Turkey",
          "Turkmenistan",
          "Tuvalu",
          "USA",
          "Uganda",
          "Ukraine",
          "United Arab Emirates",
          "United Kingdom",
          "Uruguay",
          "Uzbekistan",
          "Vanuatu",
          "Venezuela",
          "Vietnam",
          "Yemen",
          "Zambia",
          "Zimbabwe"
         ],
         "type": "choropleth",
         "z": [
          1.627983843254214,
          0.535092882589199,
          0.6138203659887307,
          -1.31832333897304,
          1.1737341225798472,
          -0.8618596018370812,
          0.60891570708055,
          0.4551714233024574,
          -1.1724652591458928,
          -2.0175935885863447,
          -1.8860451362791735,
          0.8331683958579874,
          -1.2391874105384957,
          -0.5450431997443387,
          0.8975807587120982,
          -1.4132985396540083,
          0.9083667641179524,
          -1.5264488741674893,
          0.2842019704996884,
          0.5008962268584393,
          -0.9709123718013035,
          -0.5791183013829245,
          0.7513209223305404,
          0.3523085154902539,
          -0.7819806489981523,
          0.1599645633431605,
          -0.6882643970539575,
          0.07723753210152003,
          0.3687158657930384,
          1.3365667542550232,
          1.0731739434722023,
          1.0541774905257828,
          0.9760727471110909,
          -2.0068212636496296,
          -0.5974137809301325,
          1.1493935299021831,
          1.2680707350860145,
          -1.4417932360349872,
          0.3711549921166132,
          0.30500746313578464,
          0.8706466752700427,
          -0.4912097210627993,
          -0.10409633699147906,
          0.3653180647402699,
          -1.0456708391557048,
          -0.6637749281153715,
          1.2898161917574118,
          -2.2947516842775264,
          0.6104591431075284,
          -0.7289330315990159,
          0.5794929389317751,
          0.8744015520692565,
          0.3584676389900818,
          0.36257977084033033,
          1.2215414298212663,
          1.0279451938160382,
          -1.1769116626403808,
          0.6862156531758585,
          0.2564493535395134,
          -2.286148316999208,
          -1.4789356170475196,
          0.4860286004893061,
          0.5473949582376539,
          0.2098078761832693,
          -1.8278268322774482,
          0.014149751694157428,
          -0.35228002336655595,
          0.08006606475814212,
          0.8239310069333239,
          1.0924836369960047,
          1.178106973249199,
          0.620644215864397,
          1.2802889494116654,
          0.834497916455061,
          -1.7874007704251023,
          -0.6440421044242968,
          -2.070923405031089,
          0.16690942455039787,
          0.647914231628673,
          0.8300504216969264,
          1.3841899203496484,
          -1.7147677251205948,
          -0.9911350721729152,
          -0.356853104150574,
          0.8550844149751345,
          0.3176197602568898,
          -1.5276522320553778,
          -0.39743507876435114,
          0.7626539865718758,
          0.8590765144000908,
          0.09196928422747447,
          -0.3518342571840425,
          0.9345904348149096,
          0.915042343491863,
          -0.5272118255420359,
          0.6140487421054321,
          0.1507918937459982,
          0.5918494553841027,
          1.0184063887361012,
          -1.5029340995553306,
          -0.6378105175691984,
          -1.9852953777775566,
          -0.6933885443781339,
          0.07366029544022898,
          0.5775805033921144,
          0.32945989837163003,
          -0.45339579040120775,
          0.49343427978686694,
          0.466801949301853,
          -1.1593415015571535,
          0.7345683231270927,
          -0.7085199765164982,
          0.40259500186272046,
          -0.19663770505532588,
          0.44915204121285957,
          -0.9558999125594753,
          0.19337070798284284,
          0.05678431517446859,
          0.24122912192802004,
          0.634469286796767,
          -0.20963186469887396,
          0.7357419212700962,
          -2.0056505779974576,
          -2.2623810101134674,
          0.7179215670413803,
          0.6087453094014577,
          1.0247803096515855,
          0.3412897370501665,
          1.4886149215759934,
          -2.127539494965805,
          -0.5331910869787645,
          0.8144480819408133,
          -0.8135648037100688,
          0.5348337678203069,
          0.19397917627730957,
          0.8919696148023004,
          0.8887208693150439,
          0.4141744211583579,
          0.5413406407954983,
          -0.5122157733468775,
          -1.1103397241285515,
          -0.8998231081209989,
          -0.971481501187634,
          1.0295916428529557,
          0.09226592699908004,
          0.8079599729669783,
          0.22270231662038598,
          -1.1087392788784096,
          -0.9422854517982531,
          -0.6865646605797697,
          -0.9558999125594753,
          0.451144813363909,
          -0.06714060739256783,
          0.2560291407088786,
          0.39744320283648177,
          -0.2219362858474983,
          0.8732143655325688,
          -2.0858537832215,
          -0.37888524490959746,
          -1.020212683496482,
          0.641346869949045,
          1.9239651834899871,
          -0.18964042053887978,
          -0.7614589279593634,
          -1.153853433406412,
          0.1580495351533436,
          1.2847316707861318,
          0.21452798202801215,
          0.46811947101803336,
          -2.232030170196898,
          -2.120678083164727,
          0.8039859784767487,
          -0.9517470734463483,
          1.0509850951953528,
          0.4763615343500011,
          0.17169989540022795,
          0.7957138597892792,
          -0.11874286936659602,
          0.12563713628620493,
          -0.05867698152447989,
          -0.05740375293147659,
          1.3080932497588997,
          -0.8743227755472783,
          -1.6206223726450597,
          0.5765330582656568,
          0.779395405880885,
          -0.8072751139454775,
          -1.8611792775632168,
          -0.9753480969700352,
          1.1938001284452957,
          0.03797522601422415,
          1.3080234614371133,
          0.5621949770185125,
          1.0319587322758355,
          0.4524894214065877,
          1.3171330836023816
         ]
        }
       ],
       "layout": {
        "geo": {
         "projection": {},
         "showcoastlines": false,
         "showframe": false
        },
        "title": "world plot of corruption"
       }
      },
      "text/html": [
       "<div>                            <div id=\"b0cc29e2-c94a-416e-be15-974faeb42a48\" class=\"plotly-graph-div\" style=\"height:525px; width:100%;\"></div>            <script type=\"text/javascript\">                require([\"plotly\"], function(Plotly) {                    window.PLOTLYENV=window.PLOTLYENV || {};                                    if (document.getElementById(\"b0cc29e2-c94a-416e-be15-974faeb42a48\")) {                    Plotly.newPlot(                        \"b0cc29e2-c94a-416e-be15-974faeb42a48\",                        [{\"type\":\"choropleth\",\"locations\":[\"AFG\",\"ALB\",\"DZA\",\"AND\",\"AGO\",\"ATG\",\"ARG\",\"ARM\",\"ABW\",\"AUS\",\"AUT\",\"AZE\",\"BHS\",\"BHR\",\"BGD\",\"BRB\",\"BLR\",\"BEL\",\"BLZ\",\"BEN\",\"BMU\",\"BTN\",\"BOL\",\"BIH\",\"BWA\",\"BRA\",\"BRN\",\"BGR\",\"BFA\",\"MMR\",\"BDI\",\"KHM\",\"CMR\",\"CAN\",\"CPV\",\"CAF\",\"TCD\",\"CHL\",\"CHN\",\"COL\",\"COM\",\"CRC\",\"HRV\",\"CUB\",\"CYP\",\"CZE\",\"COD\",\"DNK\",\"DJI\",\"DMA\",\"DOM\",\"ECU\",\"EGY\",\"SLV\",\"GNQ\",\"ERI\",\"EST\",\"ETH\",\"FJI\",\"FIN\",\"FRA\",\"GAB\",\"GMB\",\"GEO\",\"DEU\",\"GHA\",\"GRC\",\"GRD\",\"GTM\",\"GIN\",\"GNB\",\"GUY\",\"HTI\",\"HND\",\"HKG\",\"HUN\",\"ISL\",\"IND\",\"IDN\",\"IRN\",\"IRQ\",\"IRL\",\"ISR\",\"ITA\",\"CIV\",\"JAM\",\"JPN\",\"JOR\",\"KAZ\",\"KEN\",\"KIR\",\"KWT\",\"KGZ\",\"LAO\",\"LVA\",\"LBN\",\"LSO\",\"LBR\",\"LBY\",\"LIE\",\"LTU\",\"LUX\",\"MAC\",\"MKD\",\"MDG\",\"MWI\",\"MYS\",\"MDV\",\"MLI\",\"MLT\",\"MRT\",\"MUS\",\"MEX\",\"FSM\",\"MDA\",\"MCO\",\"MNG\",\"MNE\",\"MAR\",\"MOZ\",\"NAM\",\"NPL\",\"NLD\",\"NZL\",\"NIC\",\"NER\",\"NGA\",\"NFK\",\"PRK\",\"NOR\",\"OMN\",\"PAK\",\"PLW\",\"PS\",\"PAN\",\"PNG\",\"PRY\",\"PER\",\"PHL\",\"POL\",\"PRT\",\"PRI\",\"QAT\",\"COG\",\"ROU\",\"RUS\",\"RWA\",\"LCA\",\"VCT\",\"WSM\",\"SMR\",\"STP\",\"SAU\",\"SEN\",\"SRB\",\"SYC\",\"SLE\",\"SGP\",\"SVK\",\"SVN\",\"SLB\",\"SOM\",\"ZAF\",\"KOR\",\"ESP\",\"LKA\",\"SDN\",\"SUR\",\"SWZ\",\"SWE\",\"CHE\",\"SYR\",\"TWN\",\"TJK\",\"TZA\",\"THA\",\"TGO\",\"TON\",\"TTO\",\"TUN\",\"TUR\",\"TKM\",\"TUV\",\"USA\",\"UGA\",\"URK\",\"ARE\",\"GBR\",\"URY\",\"UZB\",\"VUT\",\"VEN\",\"VNM\",\"YEM\",\"ZMB\",\"ZWE\"],\"z\":[1.627983843254214,0.535092882589199,0.6138203659887307,-1.31832333897304,1.1737341225798472,-0.8618596018370812,0.60891570708055,0.4551714233024574,-1.1724652591458928,-2.0175935885863447,-1.8860451362791735,0.8331683958579874,-1.2391874105384957,-0.5450431997443387,0.8975807587120982,-1.4132985396540083,0.9083667641179524,-1.5264488741674893,0.2842019704996884,0.5008962268584393,-0.9709123718013035,-0.5791183013829245,0.7513209223305404,0.3523085154902539,-0.7819806489981523,0.1599645633431605,-0.6882643970539575,0.07723753210152003,0.3687158657930384,1.3365667542550232,1.0731739434722023,1.0541774905257828,0.9760727471110909,-2.0068212636496296,-0.5974137809301325,1.1493935299021831,1.2680707350860145,-1.4417932360349872,0.3711549921166132,0.30500746313578464,0.8706466752700427,-0.4912097210627993,-0.10409633699147906,0.3653180647402699,-1.0456708391557048,-0.6637749281153715,1.2898161917574118,-2.2947516842775264,0.6104591431075284,-0.7289330315990159,0.5794929389317751,0.8744015520692565,0.3584676389900818,0.36257977084033033,1.2215414298212663,1.0279451938160382,-1.1769116626403808,0.6862156531758585,0.2564493535395134,-2.286148316999208,-1.4789356170475196,0.4860286004893061,0.5473949582376539,0.2098078761832693,-1.8278268322774482,0.014149751694157428,-0.35228002336655595,0.08006606475814212,0.8239310069333239,1.0924836369960047,1.178106973249199,0.620644215864397,1.2802889494116654,0.834497916455061,-1.7874007704251023,-0.6440421044242968,-2.070923405031089,0.16690942455039787,0.647914231628673,0.8300504216969264,1.3841899203496484,-1.7147677251205948,-0.9911350721729152,-0.356853104150574,0.8550844149751345,0.3176197602568898,-1.5276522320553778,-0.39743507876435114,0.7626539865718758,0.8590765144000908,0.09196928422747447,-0.3518342571840425,0.9345904348149096,0.915042343491863,-0.5272118255420359,0.6140487421054321,0.1507918937459982,0.5918494553841027,1.0184063887361012,-1.5029340995553306,-0.6378105175691984,-1.9852953777775566,-0.6933885443781339,0.07366029544022898,0.5775805033921144,0.32945989837163003,-0.45339579040120775,0.49343427978686694,0.466801949301853,-1.1593415015571535,0.7345683231270927,-0.7085199765164982,0.40259500186272046,-0.19663770505532588,0.44915204121285957,-0.9558999125594753,0.19337070798284284,0.05678431517446859,0.24122912192802004,0.634469286796767,-0.20963186469887396,0.7357419212700962,-2.0056505779974576,-2.2623810101134674,0.7179215670413803,0.6087453094014577,1.0247803096515855,0.3412897370501665,1.4886149215759934,-2.127539494965805,-0.5331910869787645,0.8144480819408133,-0.8135648037100688,0.5348337678203069,0.19397917627730957,0.8919696148023004,0.8887208693150439,0.4141744211583579,0.5413406407954983,-0.5122157733468775,-1.1103397241285515,-0.8998231081209989,-0.971481501187634,1.0295916428529557,0.09226592699908004,0.8079599729669783,0.22270231662038598,-1.1087392788784096,-0.9422854517982531,-0.6865646605797697,-0.9558999125594753,0.451144813363909,-0.06714060739256783,0.2560291407088786,0.39744320283648177,-0.2219362858474983,0.8732143655325688,-2.0858537832215,-0.37888524490959746,-1.020212683496482,0.641346869949045,1.9239651834899871,-0.18964042053887978,-0.7614589279593634,-1.153853433406412,0.1580495351533436,1.2847316707861318,0.21452798202801215,0.46811947101803336,-2.232030170196898,-2.120678083164727,0.8039859784767487,-0.9517470734463483,1.0509850951953528,0.4763615343500011,0.17169989540022795,0.7957138597892792,-0.11874286936659602,0.12563713628620493,-0.05867698152447989,-0.05740375293147659,1.3080932497588997,-0.8743227755472783,-1.6206223726450597,0.5765330582656568,0.779395405880885,-0.8072751139454775,-1.8611792775632168,-0.9753480969700352,1.1938001284452957,0.03797522601422415,1.3080234614371133,0.5621949770185125,1.0319587322758355,0.4524894214065877,1.3171330836023816],\"text\":[\"Afghanistan\",\"Albania\",\"Algeria\",\"Andorra\",\"Angola\",\"Antigua and Barbuda\",\"Argentina\",\"Armenia\",\"Aruba\",\"Australia\",\"Austria\",\"Azerbaijan\",\"Bahamas\",\"Bahrain\",\"Bangladesh\",\"Barbados\",\"Belarus\",\"Belgium\",\"Belize\",\"Benin\",\"Bermuda\",\"Bhutan\",\"Bolivia\",\"Bosnia and Herzegovina\",\"Botswana\",\"Brazil\",\"Brunei\",\"Bulgaria\",\"Burkina Faso\",\"Burma (Myanmar)\",\"Burundi\",\"Cambodia\",\"Cameroon\",\"Canada\",\"Cape Verde\",\"Central African Republic\",\"Chad\",\"Chile\",\"China\",\"Colombia\",\"Comoros\",\"Costa Rica\",\"Croatia\",\"Cuba\",\"Cyprus\",\"Czech Republic\",\"Democratic Republic of the Congo\",\"Denmark\",\"Djibouti\",\"Dominica\",\"Dominican Republic\",\"Ecuador\",\"Egypt\",\"El Salvador\",\"Equatorial Guinea\",\"Eritrea\",\"Estonia\",\"Ethiopia\",\"Fiji\",\"Finland\",\"France\",\"Gabon\",\"Gambia\",\"Georgia\",\"Germany\",\"Ghana\",\"Greece\",\"Grenada\",\"Guatemala\",\"Guinea\",\"Guinea-Bissau\",\"Guyana\",\"Haiti\",\"Honduras\",\"Hong Kong\",\"Hungary\",\"Iceland\",\"India\",\"Indonesia\",\"Iran\",\"Iraq\",\"Ireland\",\"Israel\",\"Italy\",\"Ivory Coast\",\"Jamaica\",\"Japan\",\"Jordan\",\"Kazakhstan\",\"Kenya\",\"Kiribati\",\"Kuwait\",\"Kyrgyzstan\",\"Laos\",\"Latvia\",\"Lebanon\",\"Lesotho\",\"Liberia\",\"Libya\",\"Liechtenstein\",\"Lithuania\",\"Luxembourg\",\"Macao\",\"Macedonia\",\"Madagascar\",\"Malawi\",\"Malaysia\",\"Maldives\",\"Mali\",\"Malta\",\"Mauritania\",\"Mauritius\",\"Mexico\",\"Micronesia\",\"Moldova\",\"Monaco\",\"Mongolia\",\"Montenegro\",\"Morocco\",\"Mozambique\",\"Namibia\",\"Nepal\",\"Netherlands\",\"New Zealand\",\"Nicaragua\",\"Niger\",\"Nigeria\",\"Norfolk Island\",\"North Korea\",\"Norway\",\"Oman\",\"Pakistan\",\"Palau\",\"Palestine\",\"Panama\",\"Papua New Guinea\",\"Paraguay\",\"Peru\",\"Philippines\",\"Poland\",\"Portugal\",\"Puerto Rico\",\"Qatar\",\"Republic of the Congo\",\"Romania\",\"Russia\",\"Rwanda\",\"Saint Lucia\",\"Saint Vincent and the Grenadines\",\"Samoa\",\"San Marino\",\"Sao Tome and Principe\",\"Saudi Arabia\",\"Senegal\",\"Serbia\",\"Seychelles\",\"Sierra Leone\",\"Singapore\",\"Slovakia\",\"Slovenia\",\"Solomon Islands\",\"Somalia\",\"South Africa\",\"South Korea\",\"Spain\",\"Sri Lanka\",\"Sudan\",\"Suriname\",\"Swaziland\",\"Sweden\",\"Switzerland\",\"Syria\",\"Taiwan\",\"Tajikistan\",\"Tanzania\",\"Thailand\",\"Togo\",\"Tonga\",\"Trinidad and Tobago\",\"Tunisia\",\"Turkey\",\"Turkmenistan\",\"Tuvalu\",\"USA\",\"Uganda\",\"Ukraine\",\"United Arab Emirates\",\"United Kingdom\",\"Uruguay\",\"Uzbekistan\",\"Vanuatu\",\"Venezuela\",\"Vietnam\",\"Yemen\",\"Zambia\",\"Zimbabwe\"],\"colorscale\":[[0.0,\"rgb(255,255,255)\"],[1e-6,\"rgb(237,235,242)\"],[0.2,\"rgb(218,218,235)\"],[0.4,\"rgb(188,189,220)\"],[0.6,\"rgb(158,154,200)\"],[0.8,\"rgb(117,107,177)\"],[1.0,\"rgb(84,39,143)\"]],\"autocolorscale\":false,\"reversescale\":false,\"marker\":{\"line\":{\"color\":\"rgb(180,180,180)\",\"width\":0.5}},\"colorbar\":{\"title\":\"corruption\"}}],                        {\"title\":\"world plot of corruption\",\"geo\":{\"showframe\":false,\"showcoastlines\":false,\"projection\":{}}},                        {\"responsive\": true}                    ).then(function(){\n",
       "                            \n",
       "var gd = document.getElementById('b0cc29e2-c94a-416e-be15-974faeb42a48');\n",
       "var x = new MutationObserver(function (mutations, observer) {{\n",
       "        var display = window.getComputedStyle(gd).display;\n",
       "        if (!display || display === 'none') {{\n",
       "            console.log([gd, 'removed!']);\n",
       "            Plotly.purge(gd);\n",
       "            observer.disconnect();\n",
       "        }}\n",
       "}});\n",
       "\n",
       "// Listen for the removal of the full notebook cells\n",
       "var notebookContainer = gd.closest('#notebook-container');\n",
       "if (notebookContainer) {{\n",
       "    x.observe(notebookContainer, {childList: true});\n",
       "}}\n",
       "\n",
       "// Listen for the clearing of the current output cell\n",
       "var outputEl = gd.closest('.output');\n",
       "if (outputEl) {{\n",
       "    x.observe(outputEl, {childList: true});\n",
       "}}\n",
       "\n",
       "                        })                };                });            </script>        </div>"
      ]
     },
     "metadata": {},
     "output_type": "display_data"
    },
    {
     "data": {
      "text/html": [
       "<div>\n",
       "<style scoped>\n",
       "    .dataframe tbody tr th:only-of-type {\n",
       "        vertical-align: middle;\n",
       "    }\n",
       "\n",
       "    .dataframe tbody tr th {\n",
       "        vertical-align: top;\n",
       "    }\n",
       "\n",
       "    .dataframe thead th {\n",
       "        text-align: right;\n",
       "    }\n",
       "</style>\n",
       "<table border=\"1\" class=\"dataframe\">\n",
       "  <thead>\n",
       "    <tr style=\"text-align: right;\">\n",
       "      <th></th>\n",
       "      <th>corruption_score</th>\n",
       "    </tr>\n",
       "    <tr>\n",
       "      <th>Country</th>\n",
       "      <th></th>\n",
       "    </tr>\n",
       "  </thead>\n",
       "  <tbody>\n",
       "    <tr>\n",
       "      <th>Somalia</th>\n",
       "      <td>1.923965</td>\n",
       "    </tr>\n",
       "    <tr>\n",
       "      <th>Afghanistan</th>\n",
       "      <td>1.627984</td>\n",
       "    </tr>\n",
       "    <tr>\n",
       "      <th>North Korea</th>\n",
       "      <td>1.488615</td>\n",
       "    </tr>\n",
       "    <tr>\n",
       "      <th>Iraq</th>\n",
       "      <td>1.384190</td>\n",
       "    </tr>\n",
       "    <tr>\n",
       "      <th>Burma (Myanmar)</th>\n",
       "      <td>1.336567</td>\n",
       "    </tr>\n",
       "    <tr>\n",
       "      <th>Zimbabwe</th>\n",
       "      <td>1.317133</td>\n",
       "    </tr>\n",
       "    <tr>\n",
       "      <th>Turkmenistan</th>\n",
       "      <td>1.308093</td>\n",
       "    </tr>\n",
       "    <tr>\n",
       "      <th>Venezuela</th>\n",
       "      <td>1.308023</td>\n",
       "    </tr>\n",
       "    <tr>\n",
       "      <th>Democratic Republic of the Congo</th>\n",
       "      <td>1.289816</td>\n",
       "    </tr>\n",
       "    <tr>\n",
       "      <th>Sudan</th>\n",
       "      <td>1.284732</td>\n",
       "    </tr>\n",
       "  </tbody>\n",
       "</table>\n",
       "</div>"
      ],
      "text/plain": [
       "                                  corruption_score\n",
       "Country                                           \n",
       "Somalia                                   1.923965\n",
       "Afghanistan                               1.627984\n",
       "North Korea                               1.488615\n",
       "Iraq                                      1.384190\n",
       "Burma (Myanmar)                           1.336567\n",
       "Zimbabwe                                  1.317133\n",
       "Turkmenistan                              1.308093\n",
       "Venezuela                                 1.308023\n",
       "Democratic Republic of the Congo          1.289816\n",
       "Sudan                                     1.284732"
      ]
     },
     "execution_count": 128,
     "metadata": {},
     "output_type": "execute_result"
    }
   ],
   "source": [
    "column_name=\"corruption\"\n",
    "data = [ dict(\n",
    "        type = 'choropleth',\n",
    "        locations = corruption_avg['Code'],\n",
    "        z = corruption_avg['corruption_score'],\n",
    "        text = corruption_avg.index,\n",
    "        colorscale =[[0.0, 'rgb(255,255,255)'],[1e-6, 'rgb(237,235,242)'],[0.2, 'rgb(218,218,235)'],[0.4, 'rgb(188,189,220)'],\\\n",
    "            [0.6, 'rgb(158,154,200)'],[0.8, 'rgb(117,107,177)'],[1.0, 'rgb(84,39,143)']],\n",
    "        autocolorscale = False,\n",
    "        reversescale = False,\n",
    "        marker = dict(\n",
    "            line = dict (\n",
    "                color = 'rgb(180,180,180)',\n",
    "                width = 0.5\n",
    "            ) ),\n",
    "        colorbar = dict(\n",
    "            #autotick = False,\n",
    "            title = column_name.replace(\"_\",\" \")),\n",
    "      ) ]\n",
    "\n",
    "layout = dict(\n",
    "    title = 'world plot of '+column_name.replace(\"_\",\" \"),\n",
    "    geo = dict(\n",
    "        showframe = False,\n",
    "        showcoastlines = False,\n",
    "        projection = dict(\n",
    "        )\n",
    "    )\n",
    ")\n",
    "\n",
    "fig = dict( data=data, layout=layout )\n",
    "py.iplot( fig, validate=False, filename='d3-world-map' )\n",
    "#import plotly.io as pio\n",
    "#pio.write_image(fig, 'world_avg_cr.pdf')\n",
    "corruption_avg[[\"corruption_score\"]].sort_values(by=\"corruption_score\",ascending=False)[:10]"
   ]
  },
  {
   "cell_type": "code",
   "execution_count": 129,
   "metadata": {
    "_uuid": "9f99f3296e36f014615d676d99bb0a2fd87d21fe",
    "trusted": true
   },
   "outputs": [
    {
     "data": {
      "text/html": [
       "<div>\n",
       "<style scoped>\n",
       "    .dataframe tbody tr th:only-of-type {\n",
       "        vertical-align: middle;\n",
       "    }\n",
       "\n",
       "    .dataframe tbody tr th {\n",
       "        vertical-align: top;\n",
       "    }\n",
       "\n",
       "    .dataframe thead th {\n",
       "        text-align: right;\n",
       "    }\n",
       "</style>\n",
       "<table border=\"1\" class=\"dataframe\">\n",
       "  <thead>\n",
       "    <tr style=\"text-align: right;\">\n",
       "      <th></th>\n",
       "      <th>crime_score</th>\n",
       "      <th>CODE</th>\n",
       "      <th>Code</th>\n",
       "      <th>Rule of law</th>\n",
       "      <th>Corruption Perception</th>\n",
       "      <th>corruption_score</th>\n",
       "      <th>crime_score_w</th>\n",
       "    </tr>\n",
       "    <tr>\n",
       "      <th>Country</th>\n",
       "      <th></th>\n",
       "      <th></th>\n",
       "      <th></th>\n",
       "      <th></th>\n",
       "      <th></th>\n",
       "      <th></th>\n",
       "      <th></th>\n",
       "    </tr>\n",
       "  </thead>\n",
       "  <tbody>\n",
       "    <tr>\n",
       "      <th>South Africa</th>\n",
       "      <td>3.268815</td>\n",
       "      <td>ZAF</td>\n",
       "      <td>ZAF</td>\n",
       "      <td>-0.174048</td>\n",
       "      <td>-0.205233</td>\n",
       "      <td>-0.189640</td>\n",
       "      <td>3.205601</td>\n",
       "    </tr>\n",
       "    <tr>\n",
       "      <th>El Salvador</th>\n",
       "      <td>3.010446</td>\n",
       "      <td>SLV</td>\n",
       "      <td>SLV</td>\n",
       "      <td>0.574521</td>\n",
       "      <td>0.150638</td>\n",
       "      <td>0.362580</td>\n",
       "      <td>3.131306</td>\n",
       "    </tr>\n",
       "    <tr>\n",
       "      <th>Honduras</th>\n",
       "      <td>2.192652</td>\n",
       "      <td>HND</td>\n",
       "      <td>HND</td>\n",
       "      <td>0.905574</td>\n",
       "      <td>0.763422</td>\n",
       "      <td>0.834498</td>\n",
       "      <td>2.470818</td>\n",
       "    </tr>\n",
       "    <tr>\n",
       "      <th>Jamaica</th>\n",
       "      <td>2.124834</td>\n",
       "      <td>JAM</td>\n",
       "      <td>JAM</td>\n",
       "      <td>0.336163</td>\n",
       "      <td>0.299077</td>\n",
       "      <td>0.317620</td>\n",
       "      <td>2.230708</td>\n",
       "    </tr>\n",
       "    <tr>\n",
       "      <th>Lesotho</th>\n",
       "      <td>2.054194</td>\n",
       "      <td>LSO</td>\n",
       "      <td>LSO</td>\n",
       "      <td>0.149215</td>\n",
       "      <td>0.152368</td>\n",
       "      <td>0.150792</td>\n",
       "      <td>2.104458</td>\n",
       "    </tr>\n",
       "    <tr>\n",
       "      <th>Guinea-Bissau</th>\n",
       "      <td>1.704830</td>\n",
       "      <td>GNB</td>\n",
       "      <td>GNB</td>\n",
       "      <td>1.299722</td>\n",
       "      <td>1.056492</td>\n",
       "      <td>1.178107</td>\n",
       "      <td>2.097532</td>\n",
       "    </tr>\n",
       "    <tr>\n",
       "      <th>Guyana</th>\n",
       "      <td>1.825976</td>\n",
       "      <td>GUY</td>\n",
       "      <td>GUY</td>\n",
       "      <td>0.517658</td>\n",
       "      <td>0.723630</td>\n",
       "      <td>0.620644</td>\n",
       "      <td>2.032857</td>\n",
       "    </tr>\n",
       "    <tr>\n",
       "      <th>Grenada</th>\n",
       "      <td>1.974978</td>\n",
       "      <td>GRD</td>\n",
       "      <td>GRD</td>\n",
       "      <td>-0.203648</td>\n",
       "      <td>0.363780</td>\n",
       "      <td>0.080066</td>\n",
       "      <td>2.001666</td>\n",
       "    </tr>\n",
       "    <tr>\n",
       "      <th>Belize</th>\n",
       "      <td>1.668654</td>\n",
       "      <td>BLZ</td>\n",
       "      <td>BLZ</td>\n",
       "      <td>0.287089</td>\n",
       "      <td>0.281315</td>\n",
       "      <td>0.284202</td>\n",
       "      <td>1.763388</td>\n",
       "    </tr>\n",
       "    <tr>\n",
       "      <th>Argentina</th>\n",
       "      <td>1.515946</td>\n",
       "      <td>ARG</td>\n",
       "      <td>ARG</td>\n",
       "      <td>0.648521</td>\n",
       "      <td>0.569310</td>\n",
       "      <td>0.608916</td>\n",
       "      <td>1.718918</td>\n",
       "    </tr>\n",
       "  </tbody>\n",
       "</table>\n",
       "</div>"
      ],
      "text/plain": [
       "               crime_score CODE Code  Rule of law  Corruption Perception  \\\n",
       "Country                                                                    \n",
       "South Africa      3.268815  ZAF  ZAF    -0.174048              -0.205233   \n",
       "El Salvador       3.010446  SLV  SLV     0.574521               0.150638   \n",
       "Honduras          2.192652  HND  HND     0.905574               0.763422   \n",
       "Jamaica           2.124834  JAM  JAM     0.336163               0.299077   \n",
       "Lesotho           2.054194  LSO  LSO     0.149215               0.152368   \n",
       "Guinea-Bissau     1.704830  GNB  GNB     1.299722               1.056492   \n",
       "Guyana            1.825976  GUY  GUY     0.517658               0.723630   \n",
       "Grenada           1.974978  GRD  GRD    -0.203648               0.363780   \n",
       "Belize            1.668654  BLZ  BLZ     0.287089               0.281315   \n",
       "Argentina         1.515946  ARG  ARG     0.648521               0.569310   \n",
       "\n",
       "               corruption_score  crime_score_w  \n",
       "Country                                         \n",
       "South Africa          -0.189640       3.205601  \n",
       "El Salvador            0.362580       3.131306  \n",
       "Honduras               0.834498       2.470818  \n",
       "Jamaica                0.317620       2.230708  \n",
       "Lesotho                0.150792       2.104458  \n",
       "Guinea-Bissau          1.178107       2.097532  \n",
       "Guyana                 0.620644       2.032857  \n",
       "Grenada                0.080066       2.001666  \n",
       "Belize                 0.284202       1.763388  \n",
       "Argentina              0.608916       1.718918  "
      ]
     },
     "execution_count": 129,
     "metadata": {},
     "output_type": "execute_result"
    }
   ],
   "source": [
    "unodc_w=unodc_avg.reset_index().merge(corruption_avg,left_on=\"CODE\",right_on=\"Code\").set_index(\"Country\")\n",
    "unodc_w[\"crime_score_w\"]=unodc_w[\"crime_score\"]+(unodc_w[\"corruption_score\"]/3)\n",
    "unodc_w.sort_values(by=\"crime_score_w\",ascending=False)[:10]"
   ]
  },
  {
   "cell_type": "code",
   "execution_count": 130,
   "metadata": {
    "_uuid": "d20aa01aceeab078fd5b82711d178077e369c665",
    "trusted": true
   },
   "outputs": [
    {
     "data": {
      "application/vnd.plotly.v1+json": {
       "config": {
        "linkText": "Export to plot.ly",
        "plotlyServerURL": "https://plot.ly",
        "showLink": false
       },
       "data": [
        {
         "autocolorscale": false,
         "colorbar": {
          "title": "crime score including corruption"
         },
         "colorscale": [
          [
           0,
           "rgb(255,255,255)"
          ],
          [
           0.000001,
           "rgb(237,235,242)"
          ],
          [
           0.2,
           "rgb(218,218,235)"
          ],
          [
           0.4,
           "rgb(188,189,220)"
          ],
          [
           0.6,
           "rgb(158,154,200)"
          ],
          [
           0.8,
           "rgb(117,107,177)"
          ],
          [
           1,
           "rgb(84,39,143)"
          ]
         ],
         "locations": [
          "BDI",
          "KEN",
          "MUS",
          "MOZ",
          "RWA",
          "UGA",
          "ZWE",
          "CMR",
          "STP",
          "DZA",
          "EGY",
          "MAR",
          "BWA",
          "LSO",
          "SWZ",
          "CPV",
          "CIV",
          "GIN",
          "NGA",
          "SEN",
          "SLE",
          "BRB",
          "DOM",
          "GRD",
          "JAM",
          "TTO",
          "PRI",
          "BLZ",
          "SLV",
          "GTM",
          "HND",
          "MEX",
          "NIC",
          "PAN",
          "BMU",
          "CAN",
          "USA",
          "ARG",
          "BOL",
          "BRA",
          "CHL",
          "COL",
          "ECU",
          "GUY",
          "PRY",
          "PER",
          "URY",
          "KAZ",
          "KGZ",
          "TJK",
          "TKM",
          "JPN",
          "MNG",
          "KOR",
          "IDN",
          "MYS",
          "SGP",
          "THA",
          "BGD",
          "BTN",
          "IND",
          "MDV",
          "NPL",
          "LKA",
          "ARM",
          "AZE",
          "BHR",
          "CYP",
          "GEO",
          "ISR",
          "JOR",
          "KWT",
          "LBN",
          "OMN",
          "QAT",
          "TUR",
          "ARE",
          "YEM",
          "BLR",
          "BGR",
          "CZE",
          "HUN",
          "POL",
          "MDA",
          "ROU",
          "RUS",
          "SVK",
          "DNK",
          "EST",
          "FIN",
          "ISL",
          "IRL",
          "LVA",
          "LTU",
          "NOR",
          "SWE",
          "GBR",
          "ALB",
          "AND",
          "BIH",
          "HRV",
          "GRC",
          "ITA",
          "MLT",
          "MNE",
          "PRT",
          "SRB",
          "SVN",
          "ESP",
          "AUT",
          "BEL",
          "FRA",
          "DEU",
          "LIE",
          "LUX",
          "MCO",
          "NLD",
          "CHE",
          "AUS",
          "NZL",
          "SLB",
          "SDN",
          "PHL",
          "SUR",
          "AFG",
          "AGO",
          "ATG",
          "ABW",
          "BEN",
          "BRN",
          "BFA",
          "MMR",
          "KHM",
          "CAF",
          "TCD",
          "CHN",
          "COM",
          "COD",
          "COG",
          "CUB",
          "DJI",
          "DMA",
          "GNQ",
          "ERI",
          "ETH",
          "FJI",
          "GAB",
          "GMB",
          "GHA",
          "GNB",
          "HTI",
          "HKG",
          "IRN",
          "IRQ",
          "KIR",
          "PRK",
          "LAO",
          "LBR",
          "LBY",
          "MAC",
          "MKD",
          "MDG",
          "MWI",
          "MLI",
          "MRT",
          "FSM",
          "NAM",
          "NER",
          "PAK",
          "PLW",
          "PNG",
          "LCA",
          "VCT",
          "WSM",
          "SMR",
          "SAU",
          "SYC",
          "SOM",
          "ZAF",
          "SYR",
          "TWN",
          "TZA",
          "TGO",
          "TON",
          "TUN",
          "TUV",
          "UZB",
          "VUT",
          "VEN",
          "VNM",
          "ZMB"
         ],
         "marker": {
          "line": {
           "color": "rgb(180,180,180)",
           "width": 0.5
          }
         },
         "reversescale": false,
         "text": [
          "Burundi",
          "Kenya",
          "Mauritius",
          "Mozambique",
          "Rwanda",
          "Uganda",
          "Zimbabwe",
          "Cameroon",
          "Sao Tome and Principe",
          "Algeria",
          "Egypt",
          "Morocco",
          "Botswana",
          "Lesotho",
          "Swaziland",
          "Cabo Verde",
          "Cote d'Ivoire",
          "Guinea",
          "Nigeria",
          "Senegal",
          "Sierra Leone",
          "Barbados",
          "Dominican Republic",
          "Grenada",
          "Jamaica",
          "Trinidad and Tobago",
          "Puerto Rico",
          "Belize",
          "El Salvador",
          "Guatemala",
          "Honduras",
          "Mexico",
          "Nicaragua",
          "Panama",
          "Bermuda",
          "Canada",
          "United States",
          "Argentina",
          "Bolivia",
          "Brazil",
          "Chile",
          "Colombia",
          "Ecuador",
          "Guyana",
          "Paraguay",
          "Peru",
          "Uruguay",
          "Kazakhstan",
          "Kyrgyzstan",
          "Tajikistan",
          "Turkmenistan",
          "Japan",
          "Mongolia",
          "Korea, South",
          "Indonesia",
          "Malaysia",
          "Singapore",
          "Thailand",
          "Bangladesh",
          "Bhutan",
          "India",
          "Maldives",
          "Nepal",
          "Sri Lanka",
          "Armenia",
          "Azerbaijan",
          "Bahrain",
          "Cyprus",
          "Georgia",
          "Israel",
          "Jordan",
          "Kuwait",
          "Lebanon",
          "Oman",
          "Qatar",
          "Turkey",
          "United Arab Emirates",
          "Yemen",
          "Belarus",
          "Bulgaria",
          "Czech Republic",
          "Hungary",
          "Poland",
          "Moldova",
          "Romania",
          "Russia",
          "Slovakia",
          "Denmark",
          "Estonia",
          "Finland",
          "Iceland",
          "Ireland",
          "Latvia",
          "Lithuania",
          "Norway",
          "Sweden",
          "United Kingdom",
          "Albania",
          "Andorra",
          "Bosnia and Herzegovina",
          "Croatia",
          "Greece",
          "Italy",
          "Malta",
          "Montenegro",
          "Portugal",
          "Serbia",
          "Slovenia",
          "Spain",
          "Austria",
          "Belgium",
          "France",
          "Germany",
          "Liechtenstein",
          "Luxembourg",
          "Monaco",
          "Netherlands",
          "Switzerland",
          "Australia",
          "New Zealand",
          "Solomon Islands",
          "Sudan",
          "Philippines",
          "Suriname",
          "Afghanistan",
          "Angola",
          "Antigua and Barbuda",
          "Aruba",
          "Benin",
          "Brunei",
          "Burkina Faso",
          "Burma",
          "Cambodia",
          "Central African Republic",
          "Chad",
          "China",
          "Comoros",
          "Congo, Democratic Republic of the",
          "Congo, Republic of the",
          "Cuba",
          "Djibouti",
          "Dominica",
          "Equatorial Guinea",
          "Eritrea",
          "Ethiopia",
          "Fiji",
          "Gabon",
          "Gambia, The",
          "Ghana",
          "Guinea-Bissau",
          "Haiti",
          "Hong Kong",
          "Iran",
          "Iraq",
          "Kiribati",
          "Korea, North",
          "Laos",
          "Liberia",
          "Libya",
          "Macau",
          "Macedonia",
          "Madagascar",
          "Malawi",
          "Mali",
          "Mauritania",
          "Micronesia, Federated States of",
          "Namibia",
          "Niger",
          "Pakistan",
          "Palau",
          "Papua New Guinea",
          "Saint Lucia",
          "Saint Vincent and the Grenadines",
          "Samoa",
          "San Marino",
          "Saudi Arabia",
          "Seychelles",
          "Somalia",
          "South Africa",
          "Syria",
          "Taiwan",
          "Tanzania",
          "Togo",
          "Tonga",
          "Tunisia",
          "Tuvalu",
          "Uzbekistan",
          "Vanuatu",
          "Venezuela",
          "Vietnam",
          "Zambia"
         ],
         "type": "choropleth",
         "z": [
          0.6206228466970678,
          0.5731738748571488,
          0.3160335538578143,
          0.3781157356201533,
          0.29918840617349785,
          0.818415376213548,
          1.2886334326819444,
          0.7174432381123798,
          0.3338982752863361,
          0.4109298843452771,
          0.19081821153782214,
          0.3536998827031932,
          1.311730108719123,
          2.104457655999474,
          0.1560398236726778,
          1.454003196781116,
          0.28502813832504487,
          0.7586149767104438,
          0.8363825531727129,
          0.4092106134610302,
          0.6403828377676862,
          0.9235569550514338,
          1.104589868300306,
          2.0016664164762332,
          2.2307076661099003,
          1.648757697593339,
          0.8870539084369022,
          1.7633881852874658,
          3.131305989610873,
          1.6139843053357845,
          2.470817834753765,
          1.1855929708961521,
          1.3704021518602918,
          0.883243091907008,
          1.0672066147285557,
          0.5030002859599508,
          0.42674756033401884,
          1.7189182879145106,
          0.2504403074435135,
          1.6114981488720064,
          0.4774862162219596,
          1.4988549440131875,
          1.1150033477785992,
          2.0328574222825275,
          1.1542235728649584,
          0.7496695600737473,
          0.809649815600493,
          0.7693340418444832,
          0.7931021229077779,
          0.5306155168630822,
          0.7714305686074376,
          -0.3826837062194053,
          0.6495190232362359,
          -0.2538196426531211,
          0.24220326888762153,
          0.04464111066467205,
          -0.5346492168306635,
          0.2747836145262256,
          0.45587245958218975,
          -0.08730426630319185,
          0.43413556510780016,
          1.3943325718830546,
          0.3876667848516677,
          0.4506236680413375,
          0.32027569979679127,
          0.40807358541355365,
          0.2861320398934778,
          -0.18373213503394015,
          0.3895836758351469,
          0.6881777422806317,
          0.1796170818466764,
          0.5865196682316177,
          1.1253255753728046,
          -0.04554493132241677,
          -0.21417280717347154,
          1.0120752609926007,
          0.3236936086246847,
          0.681016998971618,
          0.7080807150654895,
          0.33796067712239375,
          -0.2212583093717905,
          0.17282480566034786,
          0.026885379909076357,
          0.1497173470709532,
          0.269471911918632,
          0.2693199909889928,
          0.05604958958418746,
          0.08705675933244561,
          0.21745805467105245,
          -0.12344261154154468,
          -0.1242156617896305,
          0.11635748684978753,
          0.3426635018572385,
          0.4942253713046001,
          -0.0400077755869388,
          0.7787589520385513,
          0.8126743576651213,
          0.36257797787441515,
          -0.03558355012901926,
          0.2589859738678562,
          0.16386423046263865,
          0.13267605423518775,
          0.30973379998165024,
          0.1533042291666114,
          0.18033606568551827,
          0.20000449010291976,
          0.27336075344695476,
          0.010601090049816464,
          -0.01245651299097783,
          -0.17331801056660728,
          1.226654849258848,
          0.44133424198749616,
          0.281172798578737,
          -0.014370610878780554,
          0.40759766333885994,
          0.699851618520341,
          0.48170184252640713,
          -0.08455622742772195,
          0.2729815784986841,
          0.2871162822387996,
          0.6989789893694445,
          0.8837130382149452,
          0.5853192464814697,
          1.6212217103933335,
          0.9264177791875283,
          0.9239056857296177,
          1.1722133578764224,
          -0.10097822494107855,
          0.8395025049120202,
          -0.2294214656846525,
          0.12290528859767946,
          0.44552225141834106,
          0.5166729221254156,
          0.38313117663406104,
          1.442577842239551,
          0.18815749384344094,
          1.2384332902011024,
          0.42993873058580395,
          0.34319721428431854,
          0.7386829547056899,
          0.8929100096125572,
          1.0713821638651841,
          0.6224122505998096,
          1.2726423932046371,
          1.1987703048559146,
          0.4643900593883719,
          1.0758824800248417,
          0.182464986079218,
          0.1899925131206716,
          2.097532420178152,
          1.5536559310269267,
          -0.5958002568083675,
          0.27668347389897546,
          1.2135930659858987,
          0.7704954171560923,
          0.49620497385866447,
          0.30501411449728766,
          0.5340089503153045,
          0.5951884758534944,
          -0.2311295147927113,
          0.02455343181340966,
          0.5621155926810115,
          0.2861052863446948,
          1.4992444786888683,
          1.5402356763402698,
          -0.06554590168510863,
          1.4329286014811162,
          0.693300824743056,
          0.8783199640252481,
          0.036533651268976564,
          1.2194983349190904,
          1.5500861927387848,
          -0.31409515059941767,
          0.18622989204319126,
          -0.3090557376765943,
          0.06916728587996167,
          1.1890309308972176,
          1.1689549540714936,
          3.2056013403839936,
          0.26799532615891625,
          -0.3172490244821161,
          0.15878717811666704,
          1.2344900162665695,
          0.11560388045561815,
          0.24378292377209482,
          0.6189814058236467,
          0.7007829834646654,
          0.24388828183425254,
          0.4360078204790378,
          0.1873983256728375,
          0.7438251776910245
         ]
        }
       ],
       "layout": {
        "geo": {
         "projection": {},
         "showcoastlines": false,
         "showframe": false
        },
        "title": "world plot of crime score including corruption"
       }
      },
      "text/html": [
       "<div>                            <div id=\"59623bf3-ae74-4309-ba5b-33af50e0fbb9\" class=\"plotly-graph-div\" style=\"height:525px; width:100%;\"></div>            <script type=\"text/javascript\">                require([\"plotly\"], function(Plotly) {                    window.PLOTLYENV=window.PLOTLYENV || {};                                    if (document.getElementById(\"59623bf3-ae74-4309-ba5b-33af50e0fbb9\")) {                    Plotly.newPlot(                        \"59623bf3-ae74-4309-ba5b-33af50e0fbb9\",                        [{\"type\":\"choropleth\",\"locations\":[\"BDI\",\"KEN\",\"MUS\",\"MOZ\",\"RWA\",\"UGA\",\"ZWE\",\"CMR\",\"STP\",\"DZA\",\"EGY\",\"MAR\",\"BWA\",\"LSO\",\"SWZ\",\"CPV\",\"CIV\",\"GIN\",\"NGA\",\"SEN\",\"SLE\",\"BRB\",\"DOM\",\"GRD\",\"JAM\",\"TTO\",\"PRI\",\"BLZ\",\"SLV\",\"GTM\",\"HND\",\"MEX\",\"NIC\",\"PAN\",\"BMU\",\"CAN\",\"USA\",\"ARG\",\"BOL\",\"BRA\",\"CHL\",\"COL\",\"ECU\",\"GUY\",\"PRY\",\"PER\",\"URY\",\"KAZ\",\"KGZ\",\"TJK\",\"TKM\",\"JPN\",\"MNG\",\"KOR\",\"IDN\",\"MYS\",\"SGP\",\"THA\",\"BGD\",\"BTN\",\"IND\",\"MDV\",\"NPL\",\"LKA\",\"ARM\",\"AZE\",\"BHR\",\"CYP\",\"GEO\",\"ISR\",\"JOR\",\"KWT\",\"LBN\",\"OMN\",\"QAT\",\"TUR\",\"ARE\",\"YEM\",\"BLR\",\"BGR\",\"CZE\",\"HUN\",\"POL\",\"MDA\",\"ROU\",\"RUS\",\"SVK\",\"DNK\",\"EST\",\"FIN\",\"ISL\",\"IRL\",\"LVA\",\"LTU\",\"NOR\",\"SWE\",\"GBR\",\"ALB\",\"AND\",\"BIH\",\"HRV\",\"GRC\",\"ITA\",\"MLT\",\"MNE\",\"PRT\",\"SRB\",\"SVN\",\"ESP\",\"AUT\",\"BEL\",\"FRA\",\"DEU\",\"LIE\",\"LUX\",\"MCO\",\"NLD\",\"CHE\",\"AUS\",\"NZL\",\"SLB\",\"SDN\",\"PHL\",\"SUR\",\"AFG\",\"AGO\",\"ATG\",\"ABW\",\"BEN\",\"BRN\",\"BFA\",\"MMR\",\"KHM\",\"CAF\",\"TCD\",\"CHN\",\"COM\",\"COD\",\"COG\",\"CUB\",\"DJI\",\"DMA\",\"GNQ\",\"ERI\",\"ETH\",\"FJI\",\"GAB\",\"GMB\",\"GHA\",\"GNB\",\"HTI\",\"HKG\",\"IRN\",\"IRQ\",\"KIR\",\"PRK\",\"LAO\",\"LBR\",\"LBY\",\"MAC\",\"MKD\",\"MDG\",\"MWI\",\"MLI\",\"MRT\",\"FSM\",\"NAM\",\"NER\",\"PAK\",\"PLW\",\"PNG\",\"LCA\",\"VCT\",\"WSM\",\"SMR\",\"SAU\",\"SYC\",\"SOM\",\"ZAF\",\"SYR\",\"TWN\",\"TZA\",\"TGO\",\"TON\",\"TUN\",\"TUV\",\"UZB\",\"VUT\",\"VEN\",\"VNM\",\"ZMB\"],\"z\":[0.6206228466970678,0.5731738748571488,0.3160335538578143,0.3781157356201533,0.29918840617349785,0.818415376213548,1.2886334326819444,0.7174432381123798,0.3338982752863361,0.4109298843452771,0.19081821153782214,0.3536998827031932,1.311730108719123,2.104457655999474,0.1560398236726778,1.454003196781116,0.28502813832504487,0.7586149767104438,0.8363825531727129,0.4092106134610302,0.6403828377676862,0.9235569550514338,1.104589868300306,2.0016664164762332,2.2307076661099003,1.648757697593339,0.8870539084369022,1.7633881852874658,3.131305989610873,1.6139843053357845,2.470817834753765,1.1855929708961521,1.3704021518602918,0.883243091907008,1.0672066147285557,0.5030002859599508,0.42674756033401884,1.7189182879145106,0.2504403074435135,1.6114981488720064,0.4774862162219596,1.4988549440131875,1.1150033477785992,2.0328574222825275,1.1542235728649584,0.7496695600737473,0.809649815600493,0.7693340418444832,0.7931021229077779,0.5306155168630822,0.7714305686074376,-0.3826837062194053,0.6495190232362359,-0.2538196426531211,0.24220326888762153,0.04464111066467205,-0.5346492168306635,0.2747836145262256,0.45587245958218975,-0.08730426630319185,0.43413556510780016,1.3943325718830546,0.3876667848516677,0.4506236680413375,0.32027569979679127,0.40807358541355365,0.2861320398934778,-0.18373213503394015,0.3895836758351469,0.6881777422806317,0.1796170818466764,0.5865196682316177,1.1253255753728046,-0.04554493132241677,-0.21417280717347154,1.0120752609926007,0.3236936086246847,0.681016998971618,0.7080807150654895,0.33796067712239375,-0.2212583093717905,0.17282480566034786,0.026885379909076357,0.1497173470709532,0.269471911918632,0.2693199909889928,0.05604958958418746,0.08705675933244561,0.21745805467105245,-0.12344261154154468,-0.1242156617896305,0.11635748684978753,0.3426635018572385,0.4942253713046001,-0.0400077755869388,0.7787589520385513,0.8126743576651213,0.36257797787441515,-0.03558355012901926,0.2589859738678562,0.16386423046263865,0.13267605423518775,0.30973379998165024,0.1533042291666114,0.18033606568551827,0.20000449010291976,0.27336075344695476,0.010601090049816464,-0.01245651299097783,-0.17331801056660728,1.226654849258848,0.44133424198749616,0.281172798578737,-0.014370610878780554,0.40759766333885994,0.699851618520341,0.48170184252640713,-0.08455622742772195,0.2729815784986841,0.2871162822387996,0.6989789893694445,0.8837130382149452,0.5853192464814697,1.6212217103933335,0.9264177791875283,0.9239056857296177,1.1722133578764224,-0.10097822494107855,0.8395025049120202,-0.2294214656846525,0.12290528859767946,0.44552225141834106,0.5166729221254156,0.38313117663406104,1.442577842239551,0.18815749384344094,1.2384332902011024,0.42993873058580395,0.34319721428431854,0.7386829547056899,0.8929100096125572,1.0713821638651841,0.6224122505998096,1.2726423932046371,1.1987703048559146,0.4643900593883719,1.0758824800248417,0.182464986079218,0.1899925131206716,2.097532420178152,1.5536559310269267,-0.5958002568083675,0.27668347389897546,1.2135930659858987,0.7704954171560923,0.49620497385866447,0.30501411449728766,0.5340089503153045,0.5951884758534944,-0.2311295147927113,0.02455343181340966,0.5621155926810115,0.2861052863446948,1.4992444786888683,1.5402356763402698,-0.06554590168510863,1.4329286014811162,0.693300824743056,0.8783199640252481,0.036533651268976564,1.2194983349190904,1.5500861927387848,-0.31409515059941767,0.18622989204319126,-0.3090557376765943,0.06916728587996167,1.1890309308972176,1.1689549540714936,3.2056013403839936,0.26799532615891625,-0.3172490244821161,0.15878717811666704,1.2344900162665695,0.11560388045561815,0.24378292377209482,0.6189814058236467,0.7007829834646654,0.24388828183425254,0.4360078204790378,0.1873983256728375,0.7438251776910245],\"text\":[\"Burundi\",\"Kenya\",\"Mauritius\",\"Mozambique\",\"Rwanda\",\"Uganda\",\"Zimbabwe\",\"Cameroon\",\"Sao Tome and Principe\",\"Algeria\",\"Egypt\",\"Morocco\",\"Botswana\",\"Lesotho\",\"Swaziland\",\"Cabo Verde\",\"Cote d'Ivoire\",\"Guinea\",\"Nigeria\",\"Senegal\",\"Sierra Leone\",\"Barbados\",\"Dominican Republic\",\"Grenada\",\"Jamaica\",\"Trinidad and Tobago\",\"Puerto Rico\",\"Belize\",\"El Salvador\",\"Guatemala\",\"Honduras\",\"Mexico\",\"Nicaragua\",\"Panama\",\"Bermuda\",\"Canada\",\"United States\",\"Argentina\",\"Bolivia\",\"Brazil\",\"Chile\",\"Colombia\",\"Ecuador\",\"Guyana\",\"Paraguay\",\"Peru\",\"Uruguay\",\"Kazakhstan\",\"Kyrgyzstan\",\"Tajikistan\",\"Turkmenistan\",\"Japan\",\"Mongolia\",\"Korea, South\",\"Indonesia\",\"Malaysia\",\"Singapore\",\"Thailand\",\"Bangladesh\",\"Bhutan\",\"India\",\"Maldives\",\"Nepal\",\"Sri Lanka\",\"Armenia\",\"Azerbaijan\",\"Bahrain\",\"Cyprus\",\"Georgia\",\"Israel\",\"Jordan\",\"Kuwait\",\"Lebanon\",\"Oman\",\"Qatar\",\"Turkey\",\"United Arab Emirates\",\"Yemen\",\"Belarus\",\"Bulgaria\",\"Czech Republic\",\"Hungary\",\"Poland\",\"Moldova\",\"Romania\",\"Russia\",\"Slovakia\",\"Denmark\",\"Estonia\",\"Finland\",\"Iceland\",\"Ireland\",\"Latvia\",\"Lithuania\",\"Norway\",\"Sweden\",\"United Kingdom\",\"Albania\",\"Andorra\",\"Bosnia and Herzegovina\",\"Croatia\",\"Greece\",\"Italy\",\"Malta\",\"Montenegro\",\"Portugal\",\"Serbia\",\"Slovenia\",\"Spain\",\"Austria\",\"Belgium\",\"France\",\"Germany\",\"Liechtenstein\",\"Luxembourg\",\"Monaco\",\"Netherlands\",\"Switzerland\",\"Australia\",\"New Zealand\",\"Solomon Islands\",\"Sudan\",\"Philippines\",\"Suriname\",\"Afghanistan\",\"Angola\",\"Antigua and Barbuda\",\"Aruba\",\"Benin\",\"Brunei\",\"Burkina Faso\",\"Burma\",\"Cambodia\",\"Central African Republic\",\"Chad\",\"China\",\"Comoros\",\"Congo, Democratic Republic of the\",\"Congo, Republic of the\",\"Cuba\",\"Djibouti\",\"Dominica\",\"Equatorial Guinea\",\"Eritrea\",\"Ethiopia\",\"Fiji\",\"Gabon\",\"Gambia, The\",\"Ghana\",\"Guinea-Bissau\",\"Haiti\",\"Hong Kong\",\"Iran\",\"Iraq\",\"Kiribati\",\"Korea, North\",\"Laos\",\"Liberia\",\"Libya\",\"Macau\",\"Macedonia\",\"Madagascar\",\"Malawi\",\"Mali\",\"Mauritania\",\"Micronesia, Federated States of\",\"Namibia\",\"Niger\",\"Pakistan\",\"Palau\",\"Papua New Guinea\",\"Saint Lucia\",\"Saint Vincent and the Grenadines\",\"Samoa\",\"San Marino\",\"Saudi Arabia\",\"Seychelles\",\"Somalia\",\"South Africa\",\"Syria\",\"Taiwan\",\"Tanzania\",\"Togo\",\"Tonga\",\"Tunisia\",\"Tuvalu\",\"Uzbekistan\",\"Vanuatu\",\"Venezuela\",\"Vietnam\",\"Zambia\"],\"colorscale\":[[0.0,\"rgb(255,255,255)\"],[1e-6,\"rgb(237,235,242)\"],[0.2,\"rgb(218,218,235)\"],[0.4,\"rgb(188,189,220)\"],[0.6,\"rgb(158,154,200)\"],[0.8,\"rgb(117,107,177)\"],[1.0,\"rgb(84,39,143)\"]],\"autocolorscale\":false,\"reversescale\":false,\"marker\":{\"line\":{\"color\":\"rgb(180,180,180)\",\"width\":0.5}},\"colorbar\":{\"title\":\"crime score including corruption\"}}],                        {\"title\":\"world plot of crime score including corruption\",\"geo\":{\"showframe\":false,\"showcoastlines\":false,\"projection\":{}}},                        {\"responsive\": true}                    ).then(function(){\n",
       "                            \n",
       "var gd = document.getElementById('59623bf3-ae74-4309-ba5b-33af50e0fbb9');\n",
       "var x = new MutationObserver(function (mutations, observer) {{\n",
       "        var display = window.getComputedStyle(gd).display;\n",
       "        if (!display || display === 'none') {{\n",
       "            console.log([gd, 'removed!']);\n",
       "            Plotly.purge(gd);\n",
       "            observer.disconnect();\n",
       "        }}\n",
       "}});\n",
       "\n",
       "// Listen for the removal of the full notebook cells\n",
       "var notebookContainer = gd.closest('#notebook-container');\n",
       "if (notebookContainer) {{\n",
       "    x.observe(notebookContainer, {childList: true});\n",
       "}}\n",
       "\n",
       "// Listen for the clearing of the current output cell\n",
       "var outputEl = gd.closest('.output');\n",
       "if (outputEl) {{\n",
       "    x.observe(outputEl, {childList: true});\n",
       "}}\n",
       "\n",
       "                        })                };                });            </script>        </div>"
      ]
     },
     "metadata": {},
     "output_type": "display_data"
    }
   ],
   "source": [
    "column_name=\"crime_score_including_corruption\"\n",
    "data = [ dict(\n",
    "        type = 'choropleth',\n",
    "        locations = unodc_w['CODE'],\n",
    "        z = unodc_w['crime_score_w'],\n",
    "        text = unodc_w.index,\n",
    "        colorscale =[[0.0, 'rgb(255,255,255)'],[1e-6, 'rgb(237,235,242)'],[0.2, 'rgb(218,218,235)'],[0.4, 'rgb(188,189,220)'],\\\n",
    "            [0.6, 'rgb(158,154,200)'],[0.8, 'rgb(117,107,177)'],[1.0, 'rgb(84,39,143)']],\n",
    "        autocolorscale = False,\n",
    "        reversescale = False,\n",
    "        marker = dict(\n",
    "            line = dict (\n",
    "                color = 'rgb(180,180,180)',\n",
    "                width = 0.5\n",
    "            ) ),\n",
    "        colorbar = dict(\n",
    "            #autotick = False,\n",
    "            title = column_name.replace(\"_\",\" \")),\n",
    "      ) ]\n",
    "\n",
    "layout = dict(\n",
    "    title = 'world plot of '+column_name.replace(\"_\",\" \"),\n",
    "    geo = dict(\n",
    "        showframe = False,\n",
    "        showcoastlines = False,\n",
    "        projection = dict(\n",
    "        )\n",
    "    )\n",
    ")\n",
    "\n",
    "fig = dict( data=data, layout=layout )\n",
    "py.iplot( fig, validate=False, filename='d3-world-map' )\n",
    "#import plotly.io as pio\n",
    "#pio.write_image(fig, 'world_avg_cr.pdf')"
   ]
  },
  {
   "cell_type": "markdown",
   "metadata": {
    "_uuid": "f09fecd49e4c102cd5e9730c18ad6578b908483b"
   },
   "source": [
    "# ECONOMIC FACTORS\n"
   ]
  },
  {
   "cell_type": "markdown",
   "metadata": {
    "_uuid": "33911e4386c374104f1c0ef4216984c38d1a40f8"
   },
   "source": [
    "In this section we are going to load and preprocess data concerning economic factors such as: Inflation rate, Unemployment rate and GDP per capita. We have chosen this three factors because we think they are the most important and a lot of other factors are highly correlated to this three. With this and social factors data sets we are trying to answer the question: \"Are there typical characteristics of countries with high/low crime rates?\"."
   ]
  },
  {
   "cell_type": "code",
   "execution_count": 131,
   "metadata": {},
   "outputs": [
    {
     "name": "stdout",
     "output_type": "stream",
     "text": [
      "<class 'pandas.core.frame.DataFrame'> <class 'pandas.core.frame.DataFrame'> <class 'pandas.core.frame.DataFrame'>\n"
     ]
    },
    {
     "data": {
      "text/html": [
       "<div>\n",
       "<style scoped>\n",
       "    .dataframe tbody tr th:only-of-type {\n",
       "        vertical-align: middle;\n",
       "    }\n",
       "\n",
       "    .dataframe tbody tr th {\n",
       "        vertical-align: top;\n",
       "    }\n",
       "\n",
       "    .dataframe thead th {\n",
       "        text-align: right;\n",
       "    }\n",
       "</style>\n",
       "<table border=\"1\" class=\"dataframe\">\n",
       "  <thead>\n",
       "    <tr style=\"text-align: right;\">\n",
       "      <th></th>\n",
       "      <th>Country</th>\n",
       "      <th>1980</th>\n",
       "      <th>1981</th>\n",
       "      <th>1982</th>\n",
       "      <th>1983</th>\n",
       "      <th>1984</th>\n",
       "      <th>1985</th>\n",
       "      <th>1986</th>\n",
       "      <th>1987</th>\n",
       "      <th>1988</th>\n",
       "      <th>...</th>\n",
       "      <th>2020</th>\n",
       "      <th>2021</th>\n",
       "      <th>2022</th>\n",
       "      <th>2023</th>\n",
       "      <th>2024</th>\n",
       "      <th>2025</th>\n",
       "      <th>2026</th>\n",
       "      <th>2027</th>\n",
       "      <th>2028</th>\n",
       "      <th>2029</th>\n",
       "    </tr>\n",
       "  </thead>\n",
       "  <tbody>\n",
       "    <tr>\n",
       "      <th>0</th>\n",
       "      <td>NaN</td>\n",
       "      <td>NaN</td>\n",
       "      <td>NaN</td>\n",
       "      <td>NaN</td>\n",
       "      <td>NaN</td>\n",
       "      <td>NaN</td>\n",
       "      <td>NaN</td>\n",
       "      <td>NaN</td>\n",
       "      <td>NaN</td>\n",
       "      <td>NaN</td>\n",
       "      <td>...</td>\n",
       "      <td>NaN</td>\n",
       "      <td>NaN</td>\n",
       "      <td>NaN</td>\n",
       "      <td>NaN</td>\n",
       "      <td>NaN</td>\n",
       "      <td>NaN</td>\n",
       "      <td>NaN</td>\n",
       "      <td>NaN</td>\n",
       "      <td>NaN</td>\n",
       "      <td>NaN</td>\n",
       "    </tr>\n",
       "    <tr>\n",
       "      <th>1</th>\n",
       "      <td>Afghanistan</td>\n",
       "      <td>NaN</td>\n",
       "      <td>NaN</td>\n",
       "      <td>NaN</td>\n",
       "      <td>NaN</td>\n",
       "      <td>NaN</td>\n",
       "      <td>NaN</td>\n",
       "      <td>NaN</td>\n",
       "      <td>NaN</td>\n",
       "      <td>NaN</td>\n",
       "      <td>...</td>\n",
       "      <td>-2.4</td>\n",
       "      <td>-14.5</td>\n",
       "      <td>-6.2</td>\n",
       "      <td>2.7</td>\n",
       "      <td>NaN</td>\n",
       "      <td>NaN</td>\n",
       "      <td>NaN</td>\n",
       "      <td>NaN</td>\n",
       "      <td>NaN</td>\n",
       "      <td>NaN</td>\n",
       "    </tr>\n",
       "    <tr>\n",
       "      <th>2</th>\n",
       "      <td>Albania</td>\n",
       "      <td>2.7</td>\n",
       "      <td>5.7</td>\n",
       "      <td>2.9</td>\n",
       "      <td>1.1</td>\n",
       "      <td>2.0</td>\n",
       "      <td>-1.5</td>\n",
       "      <td>5.6</td>\n",
       "      <td>-0.8</td>\n",
       "      <td>-1.4</td>\n",
       "      <td>...</td>\n",
       "      <td>-3.3</td>\n",
       "      <td>8.9</td>\n",
       "      <td>4.9</td>\n",
       "      <td>3.5</td>\n",
       "      <td>3.3</td>\n",
       "      <td>3.4</td>\n",
       "      <td>3.5</td>\n",
       "      <td>3.5</td>\n",
       "      <td>3.5</td>\n",
       "      <td>3.5</td>\n",
       "    </tr>\n",
       "    <tr>\n",
       "      <th>3</th>\n",
       "      <td>Algeria</td>\n",
       "      <td>-5.4</td>\n",
       "      <td>3.0</td>\n",
       "      <td>6.4</td>\n",
       "      <td>5.4</td>\n",
       "      <td>5.6</td>\n",
       "      <td>5.6</td>\n",
       "      <td>-0.2</td>\n",
       "      <td>-0.7</td>\n",
       "      <td>-1.9</td>\n",
       "      <td>...</td>\n",
       "      <td>-5.0</td>\n",
       "      <td>3.8</td>\n",
       "      <td>3.6</td>\n",
       "      <td>4.1</td>\n",
       "      <td>3.8</td>\n",
       "      <td>3.0</td>\n",
       "      <td>2.5</td>\n",
       "      <td>2.1</td>\n",
       "      <td>2.1</td>\n",
       "      <td>2.1</td>\n",
       "    </tr>\n",
       "    <tr>\n",
       "      <th>4</th>\n",
       "      <td>Andorra</td>\n",
       "      <td>NaN</td>\n",
       "      <td>NaN</td>\n",
       "      <td>NaN</td>\n",
       "      <td>NaN</td>\n",
       "      <td>NaN</td>\n",
       "      <td>NaN</td>\n",
       "      <td>NaN</td>\n",
       "      <td>NaN</td>\n",
       "      <td>NaN</td>\n",
       "      <td>...</td>\n",
       "      <td>-11.2</td>\n",
       "      <td>8.3</td>\n",
       "      <td>9.6</td>\n",
       "      <td>1.4</td>\n",
       "      <td>1.4</td>\n",
       "      <td>1.6</td>\n",
       "      <td>1.5</td>\n",
       "      <td>1.5</td>\n",
       "      <td>1.5</td>\n",
       "      <td>1.5</td>\n",
       "    </tr>\n",
       "    <tr>\n",
       "      <th>...</th>\n",
       "      <td>...</td>\n",
       "      <td>...</td>\n",
       "      <td>...</td>\n",
       "      <td>...</td>\n",
       "      <td>...</td>\n",
       "      <td>...</td>\n",
       "      <td>...</td>\n",
       "      <td>...</td>\n",
       "      <td>...</td>\n",
       "      <td>...</td>\n",
       "      <td>...</td>\n",
       "      <td>...</td>\n",
       "      <td>...</td>\n",
       "      <td>...</td>\n",
       "      <td>...</td>\n",
       "      <td>...</td>\n",
       "      <td>...</td>\n",
       "      <td>...</td>\n",
       "      <td>...</td>\n",
       "      <td>...</td>\n",
       "      <td>...</td>\n",
       "    </tr>\n",
       "    <tr>\n",
       "      <th>226</th>\n",
       "      <td>Other advanced economies</td>\n",
       "      <td>3.6</td>\n",
       "      <td>4.2</td>\n",
       "      <td>2.2</td>\n",
       "      <td>4.0</td>\n",
       "      <td>6.5</td>\n",
       "      <td>4.4</td>\n",
       "      <td>5.5</td>\n",
       "      <td>6.5</td>\n",
       "      <td>5.5</td>\n",
       "      <td>...</td>\n",
       "      <td>-1.6</td>\n",
       "      <td>5.9</td>\n",
       "      <td>2.7</td>\n",
       "      <td>1.8</td>\n",
       "      <td>2.1</td>\n",
       "      <td>2.2</td>\n",
       "      <td>2.3</td>\n",
       "      <td>2.2</td>\n",
       "      <td>2.2</td>\n",
       "      <td>2.1</td>\n",
       "    </tr>\n",
       "    <tr>\n",
       "      <th>227</th>\n",
       "      <td>Sub-Saharan Africa</td>\n",
       "      <td>NaN</td>\n",
       "      <td>NaN</td>\n",
       "      <td>NaN</td>\n",
       "      <td>NaN</td>\n",
       "      <td>NaN</td>\n",
       "      <td>NaN</td>\n",
       "      <td>NaN</td>\n",
       "      <td>NaN</td>\n",
       "      <td>NaN</td>\n",
       "      <td>...</td>\n",
       "      <td>-1.6</td>\n",
       "      <td>4.8</td>\n",
       "      <td>4.1</td>\n",
       "      <td>3.6</td>\n",
       "      <td>3.6</td>\n",
       "      <td>4.2</td>\n",
       "      <td>4.4</td>\n",
       "      <td>4.3</td>\n",
       "      <td>4.4</td>\n",
       "      <td>4.4</td>\n",
       "    </tr>\n",
       "    <tr>\n",
       "      <th>228</th>\n",
       "      <td>World</td>\n",
       "      <td>2.2</td>\n",
       "      <td>2.0</td>\n",
       "      <td>0.7</td>\n",
       "      <td>2.7</td>\n",
       "      <td>4.6</td>\n",
       "      <td>3.7</td>\n",
       "      <td>3.4</td>\n",
       "      <td>3.9</td>\n",
       "      <td>4.5</td>\n",
       "      <td>...</td>\n",
       "      <td>-2.7</td>\n",
       "      <td>6.6</td>\n",
       "      <td>3.6</td>\n",
       "      <td>3.3</td>\n",
       "      <td>3.2</td>\n",
       "      <td>3.2</td>\n",
       "      <td>3.3</td>\n",
       "      <td>3.2</td>\n",
       "      <td>3.1</td>\n",
       "      <td>3.1</td>\n",
       "    </tr>\n",
       "    <tr>\n",
       "      <th>229</th>\n",
       "      <td>NaN</td>\n",
       "      <td>NaN</td>\n",
       "      <td>NaN</td>\n",
       "      <td>NaN</td>\n",
       "      <td>NaN</td>\n",
       "      <td>NaN</td>\n",
       "      <td>NaN</td>\n",
       "      <td>NaN</td>\n",
       "      <td>NaN</td>\n",
       "      <td>NaN</td>\n",
       "      <td>...</td>\n",
       "      <td>NaN</td>\n",
       "      <td>NaN</td>\n",
       "      <td>NaN</td>\n",
       "      <td>NaN</td>\n",
       "      <td>NaN</td>\n",
       "      <td>NaN</td>\n",
       "      <td>NaN</td>\n",
       "      <td>NaN</td>\n",
       "      <td>NaN</td>\n",
       "      <td>NaN</td>\n",
       "    </tr>\n",
       "    <tr>\n",
       "      <th>230</th>\n",
       "      <td>©IMF, 2024</td>\n",
       "      <td>NaN</td>\n",
       "      <td>NaN</td>\n",
       "      <td>NaN</td>\n",
       "      <td>NaN</td>\n",
       "      <td>NaN</td>\n",
       "      <td>NaN</td>\n",
       "      <td>NaN</td>\n",
       "      <td>NaN</td>\n",
       "      <td>NaN</td>\n",
       "      <td>...</td>\n",
       "      <td>NaN</td>\n",
       "      <td>NaN</td>\n",
       "      <td>NaN</td>\n",
       "      <td>NaN</td>\n",
       "      <td>NaN</td>\n",
       "      <td>NaN</td>\n",
       "      <td>NaN</td>\n",
       "      <td>NaN</td>\n",
       "      <td>NaN</td>\n",
       "      <td>NaN</td>\n",
       "    </tr>\n",
       "  </tbody>\n",
       "</table>\n",
       "<p>231 rows × 51 columns</p>\n",
       "</div>"
      ],
      "text/plain": [
       "                      Country  1980  1981  1982  1983  1984  1985  1986  1987  \\\n",
       "0                         NaN   NaN   NaN   NaN   NaN   NaN   NaN   NaN   NaN   \n",
       "1                 Afghanistan   NaN   NaN   NaN   NaN   NaN   NaN   NaN   NaN   \n",
       "2                     Albania   2.7   5.7   2.9   1.1   2.0  -1.5   5.6  -0.8   \n",
       "3                     Algeria  -5.4   3.0   6.4   5.4   5.6   5.6  -0.2  -0.7   \n",
       "4                     Andorra   NaN   NaN   NaN   NaN   NaN   NaN   NaN   NaN   \n",
       "..                        ...   ...   ...   ...   ...   ...   ...   ...   ...   \n",
       "226  Other advanced economies   3.6   4.2   2.2   4.0   6.5   4.4   5.5   6.5   \n",
       "227        Sub-Saharan Africa   NaN   NaN   NaN   NaN   NaN   NaN   NaN   NaN   \n",
       "228                     World   2.2   2.0   0.7   2.7   4.6   3.7   3.4   3.9   \n",
       "229                       NaN   NaN   NaN   NaN   NaN   NaN   NaN   NaN   NaN   \n",
       "230                ©IMF, 2024   NaN   NaN   NaN   NaN   NaN   NaN   NaN   NaN   \n",
       "\n",
       "     1988  ...  2020  2021  2022  2023  2024  2025  2026  2027  2028  2029  \n",
       "0     NaN  ...   NaN   NaN   NaN   NaN   NaN   NaN   NaN   NaN   NaN   NaN  \n",
       "1     NaN  ...  -2.4 -14.5  -6.2   2.7   NaN   NaN   NaN   NaN   NaN   NaN  \n",
       "2    -1.4  ...  -3.3   8.9   4.9   3.5   3.3   3.4   3.5   3.5   3.5   3.5  \n",
       "3    -1.9  ...  -5.0   3.8   3.6   4.1   3.8   3.0   2.5   2.1   2.1   2.1  \n",
       "4     NaN  ... -11.2   8.3   9.6   1.4   1.4   1.6   1.5   1.5   1.5   1.5  \n",
       "..    ...  ...   ...   ...   ...   ...   ...   ...   ...   ...   ...   ...  \n",
       "226   5.5  ...  -1.6   5.9   2.7   1.8   2.1   2.2   2.3   2.2   2.2   2.1  \n",
       "227   NaN  ...  -1.6   4.8   4.1   3.6   3.6   4.2   4.4   4.3   4.4   4.4  \n",
       "228   4.5  ...  -2.7   6.6   3.6   3.3   3.2   3.2   3.3   3.2   3.1   3.1  \n",
       "229   NaN  ...   NaN   NaN   NaN   NaN   NaN   NaN   NaN   NaN   NaN   NaN  \n",
       "230   NaN  ...   NaN   NaN   NaN   NaN   NaN   NaN   NaN   NaN   NaN   NaN  \n",
       "\n",
       "[231 rows x 51 columns]"
      ]
     },
     "execution_count": 131,
     "metadata": {},
     "output_type": "execute_result"
    }
   ],
   "source": [
    "df_gdp = pd.read_excel(\"/Users/margarita/Downloads/gdp_world.xlsx\")\n",
    "df_inf = pd.read_excel(\"/Users/margarita/Downloads/inf_world.xlsx\")\n",
    "df_unemp = pd.read_excel(\"/Users/margarita/Downloads/unemp_world.xlsx\")\n",
    "print(type(df_gdp),type(df_inf),type(df_unemp))\n",
    "df_gdp.rename(columns={\"Real GDP growth (Annual percent change)\": \"Country\"}, inplace=True)\n",
    "columns_to_convert = df_gdp.columns.difference(['Country'])  # Select all columns except 'Country'\n",
    "df_gdp[columns_to_convert] = df_gdp[columns_to_convert].apply(pd.to_numeric, errors='coerce')  # Convert to numeric\n",
    "#df_gdp_sum = df_gdp.drop(columns=['Country']).sum(axis=1)  # Drop 'Country' and sum\n",
    "\n",
    "df_inf.rename(columns={\"Inflation rate, average consumer prices (Annual percent change)\": \"Country\"}, inplace=True)\n",
    "columns_to_convert = df_inf.columns.difference(['Country'])  # Select all columns except 'Country'\n",
    "df_inf[columns_to_convert] = df_inf[columns_to_convert].apply(pd.to_numeric, errors='coerce')  # Convert to numeric\n",
    "#df_inf_sum = df_inf.drop(columns=['Country']).sum(axis=1)  # Drop 'Country' and sum\n",
    "\n",
    "df_unemp.rename(columns={\"Unemployment rate (Percent)\": \"Country\"}, inplace=True)\n",
    "columns_to_convert = df_unemp.columns.difference(['Country'])  # Select all columns except 'Country'\n",
    "df_unemp[columns_to_convert] = df_unemp[columns_to_convert].apply(pd.to_numeric, errors='coerce')  # Convert to numeric\n",
    "#df_unemp_sum = df_unemp.drop(columns=['Country']).sum(axis=1)  # Drop 'Country' and sum\n",
    "df_gdp"
   ]
  },
  {
   "cell_type": "code",
   "execution_count": 132,
   "metadata": {
    "_uuid": "aba86edd717032451a1884f95c94451401b6801e",
    "trusted": true
   },
   "outputs": [
    {
     "name": "stdout",
     "output_type": "stream",
     "text": [
      "                      Country  Inflation_Sum\n",
      "0                         NaN            0.0\n",
      "1                 Afghanistan          163.3\n",
      "2                     Albania          523.1\n",
      "3                     Algeria          404.1\n",
      "4                     Andorra           57.7\n",
      "..                        ...            ...\n",
      "225  Other advanced economies          225.8\n",
      "226        Sub-Saharan Africa          397.1\n",
      "227                     World          475.6\n",
      "228                       NaN            0.0\n",
      "229                ©IMF, 2024            0.0\n",
      "\n",
      "[230 rows x 2 columns]\n"
     ]
    }
   ],
   "source": [
    "df_gdp_sum = df_gdp[['Country']].join(df_gdp.drop(columns=['Country']).sum(axis=1).rename(\"GDP_Sum\"), how='left')\n",
    "\n",
    "df_inf_sum = df_inf[['Country']].join(df_inf.drop(columns=['Country']).sum(axis=1).rename(\"Inflation_Sum\"), how='left')\n",
    "print(df_inf_sum)\n",
    "df_unemp_sum = df_unemp[['Country']].join(df_unemp.drop(columns=['Country']).sum(axis=1).rename(\"Unemployment_Sum\"), how='left')\n",
    "\n",
    "df8 = df_gdp_sum.merge(df_inf_sum, on=\"Country\", how=\"inner\").merge(df_unemp_sum, on=\"Country\", how=\"inner\")\n",
    "\n",
    "# Drop rows with any missing values\n",
    "df8 = df8.dropna()\n",
    "\n",
    "# Save to CSV\n",
    "df8.to_csv(\"Total_econom.csv\", index=False)\n"
   ]
  },
  {
   "cell_type": "markdown",
   "metadata": {
    "_uuid": "52d89525fc3f05c06fb30d2b03c130943a715b03"
   },
   "source": [
    "As we can see this data set goes from 2000 to 2015 and there are still some non-existent values that we need to fill with right sources or best techiniques possible. First we are going to change names of some columns and drop one column and then fill the data set."
   ]
  },
  {
   "cell_type": "code",
   "execution_count": 113,
   "metadata": {
    "_uuid": "0213d158bc32e162809dce3f4a4d37743e57c3de",
    "trusted": true
   },
   "outputs": [
    {
     "data": {
      "text/html": [
       "<div>\n",
       "<style scoped>\n",
       "    .dataframe tbody tr th:only-of-type {\n",
       "        vertical-align: middle;\n",
       "    }\n",
       "\n",
       "    .dataframe tbody tr th {\n",
       "        vertical-align: top;\n",
       "    }\n",
       "\n",
       "    .dataframe thead th {\n",
       "        text-align: right;\n",
       "    }\n",
       "</style>\n",
       "<table border=\"1\" class=\"dataframe\">\n",
       "  <thead>\n",
       "    <tr style=\"text-align: right;\">\n",
       "      <th></th>\n",
       "      <th>Country</th>\n",
       "      <th>GDP_Sum</th>\n",
       "      <th>Inflation_Sum</th>\n",
       "      <th>Unemployment_Sum</th>\n",
       "    </tr>\n",
       "  </thead>\n",
       "  <tbody>\n",
       "    <tr>\n",
       "      <th>8</th>\n",
       "      <td>Albania</td>\n",
       "      <td>148.2</td>\n",
       "      <td>523.1</td>\n",
       "      <td>609.9</td>\n",
       "    </tr>\n",
       "    <tr>\n",
       "      <th>9</th>\n",
       "      <td>Algeria</td>\n",
       "      <td>126.0</td>\n",
       "      <td>404.1</td>\n",
       "      <td>717.7</td>\n",
       "    </tr>\n",
       "    <tr>\n",
       "      <th>10</th>\n",
       "      <td>Andorra</td>\n",
       "      <td>48.4</td>\n",
       "      <td>57.7</td>\n",
       "      <td>57.2</td>\n",
       "    </tr>\n",
       "    <tr>\n",
       "      <th>11</th>\n",
       "      <td>Argentina</td>\n",
       "      <td>93.8</td>\n",
       "      <td>897.4</td>\n",
       "      <td>479.9</td>\n",
       "    </tr>\n",
       "    <tr>\n",
       "      <th>12</th>\n",
       "      <td>Armenia</td>\n",
       "      <td>199.3</td>\n",
       "      <td>9332.0</td>\n",
       "      <td>581.7</td>\n",
       "    </tr>\n",
       "    <tr>\n",
       "      <th>...</th>\n",
       "      <td>...</td>\n",
       "      <td>...</td>\n",
       "      <td>...</td>\n",
       "      <td>...</td>\n",
       "    </tr>\n",
       "    <tr>\n",
       "      <th>122</th>\n",
       "      <td>Advanced economies</td>\n",
       "      <td>114.3</td>\n",
       "      <td>159.0</td>\n",
       "      <td>318.5</td>\n",
       "    </tr>\n",
       "    <tr>\n",
       "      <th>123</th>\n",
       "      <td>Euro area</td>\n",
       "      <td>55.4</td>\n",
       "      <td>85.3</td>\n",
       "      <td>347.5</td>\n",
       "    </tr>\n",
       "    <tr>\n",
       "      <th>124</th>\n",
       "      <td>Major advanced economies (G7)</td>\n",
       "      <td>104.7</td>\n",
       "      <td>145.0</td>\n",
       "      <td>302.3</td>\n",
       "    </tr>\n",
       "    <tr>\n",
       "      <th>125</th>\n",
       "      <td>Other advanced economies</td>\n",
       "      <td>178.0</td>\n",
       "      <td>225.8</td>\n",
       "      <td>224.6</td>\n",
       "    </tr>\n",
       "    <tr>\n",
       "      <th>126</th>\n",
       "      <td>©IMF, 2024</td>\n",
       "      <td>0.0</td>\n",
       "      <td>0.0</td>\n",
       "      <td>0.0</td>\n",
       "    </tr>\n",
       "  </tbody>\n",
       "</table>\n",
       "<p>119 rows × 4 columns</p>\n",
       "</div>"
      ],
      "text/plain": [
       "                           Country  GDP_Sum  Inflation_Sum  Unemployment_Sum\n",
       "8                          Albania    148.2          523.1             609.9\n",
       "9                          Algeria    126.0          404.1             717.7\n",
       "10                         Andorra     48.4           57.7              57.2\n",
       "11                       Argentina     93.8          897.4             479.9\n",
       "12                         Armenia    199.3         9332.0             581.7\n",
       "..                             ...      ...            ...               ...\n",
       "122             Advanced economies    114.3          159.0             318.5\n",
       "123                      Euro area     55.4           85.3             347.5\n",
       "124  Major advanced economies (G7)    104.7          145.0             302.3\n",
       "125       Other advanced economies    178.0          225.8             224.6\n",
       "126                     ©IMF, 2024      0.0            0.0               0.0\n",
       "\n",
       "[119 rows x 4 columns]"
      ]
     },
     "execution_count": 113,
     "metadata": {},
     "output_type": "execute_result"
    }
   ],
   "source": [
    "df8"
   ]
  },
  {
   "cell_type": "markdown",
   "metadata": {
    "_uuid": "4d8d68ad1ad27cd3e9d8a1416704c7132ca8abdb"
   },
   "source": [
    "## FILLING THE DATA SET"
   ]
  },
  {
   "cell_type": "markdown",
   "metadata": {
    "_uuid": "0cc491bf9b93e7808b231a1b62bea05150f649f1"
   },
   "source": [
    "Preparing data set on economic factors for merging"
   ]
  },
  {
   "cell_type": "code",
   "execution_count": 133,
   "metadata": {
    "_uuid": "2c3696c4203fd67ae4e6f1eb95d0f13359674325",
    "trusted": true
   },
   "outputs": [
    {
     "data": {
      "text/html": [
       "<div>\n",
       "<style scoped>\n",
       "    .dataframe tbody tr th:only-of-type {\n",
       "        vertical-align: middle;\n",
       "    }\n",
       "\n",
       "    .dataframe tbody tr th {\n",
       "        vertical-align: top;\n",
       "    }\n",
       "\n",
       "    .dataframe thead th {\n",
       "        text-align: right;\n",
       "    }\n",
       "</style>\n",
       "<table border=\"1\" class=\"dataframe\">\n",
       "  <thead>\n",
       "    <tr style=\"text-align: right;\">\n",
       "      <th></th>\n",
       "      <th>Country</th>\n",
       "      <th>GDP_Sum</th>\n",
       "      <th>Inflation_Sum</th>\n",
       "      <th>Unemployment_Sum</th>\n",
       "      <th>Inflation rate(%)</th>\n",
       "      <th>Unemployment rate(%)</th>\n",
       "      <th>GDP per capita</th>\n",
       "    </tr>\n",
       "  </thead>\n",
       "  <tbody>\n",
       "    <tr>\n",
       "      <th>8</th>\n",
       "      <td>Albania</td>\n",
       "      <td>148.2</td>\n",
       "      <td>523.1</td>\n",
       "      <td>609.9</td>\n",
       "      <td>5.231</td>\n",
       "      <td>6.099</td>\n",
       "      <td>148.2</td>\n",
       "    </tr>\n",
       "    <tr>\n",
       "      <th>9</th>\n",
       "      <td>Algeria</td>\n",
       "      <td>126.0</td>\n",
       "      <td>404.1</td>\n",
       "      <td>717.7</td>\n",
       "      <td>4.041</td>\n",
       "      <td>7.177</td>\n",
       "      <td>126.0</td>\n",
       "    </tr>\n",
       "    <tr>\n",
       "      <th>10</th>\n",
       "      <td>Andorra</td>\n",
       "      <td>48.4</td>\n",
       "      <td>57.7</td>\n",
       "      <td>57.2</td>\n",
       "      <td>0.577</td>\n",
       "      <td>0.572</td>\n",
       "      <td>48.4</td>\n",
       "    </tr>\n",
       "    <tr>\n",
       "      <th>11</th>\n",
       "      <td>Argentina</td>\n",
       "      <td>93.8</td>\n",
       "      <td>897.4</td>\n",
       "      <td>479.9</td>\n",
       "      <td>8.974</td>\n",
       "      <td>4.799</td>\n",
       "      <td>93.8</td>\n",
       "    </tr>\n",
       "    <tr>\n",
       "      <th>12</th>\n",
       "      <td>Armenia</td>\n",
       "      <td>199.3</td>\n",
       "      <td>9332.0</td>\n",
       "      <td>581.7</td>\n",
       "      <td>93.320</td>\n",
       "      <td>5.817</td>\n",
       "      <td>199.3</td>\n",
       "    </tr>\n",
       "  </tbody>\n",
       "</table>\n",
       "</div>"
      ],
      "text/plain": [
       "      Country  GDP_Sum  Inflation_Sum  Unemployment_Sum  Inflation rate(%)  \\\n",
       "8     Albania    148.2          523.1             609.9              5.231   \n",
       "9     Algeria    126.0          404.1             717.7              4.041   \n",
       "10    Andorra     48.4           57.7              57.2              0.577   \n",
       "11  Argentina     93.8          897.4             479.9              8.974   \n",
       "12    Armenia    199.3         9332.0             581.7             93.320   \n",
       "\n",
       "    Unemployment rate(%)  GDP per capita  \n",
       "8                  6.099           148.2  \n",
       "9                  7.177           126.0  \n",
       "10                 0.572            48.4  \n",
       "11                 4.799            93.8  \n",
       "12                 5.817           199.3  "
      ]
     },
     "execution_count": 133,
     "metadata": {},
     "output_type": "execute_result"
    }
   ],
   "source": [
    "#setting all values as floats\n",
    "df8.loc[:,'Inflation rate(%)'] = df8.loc[:,'Inflation_Sum'].astype('float')/100\n",
    "#we want to have unemployment per capita for our last model so I am dividing whole column with 100\n",
    "df8.loc[:,'Unemployment rate(%)'] = df8.loc[:,'Unemployment_Sum'].astype('float')/100\n",
    "df8.loc[:,'GDP per capita'] = df8.loc[:,'GDP_Sum'].astype('float') \n",
    "\n",
    "cols3 = list(df8.columns)\n",
    "df8.columns = cols3\n",
    "#pd.set_option('display.max_rows',3000)\n",
    "df_econ_max=df8\n",
    "df8.head()"
   ]
  },
  {
   "cell_type": "markdown",
   "metadata": {
    "_uuid": "bc1620aa6d42a28f9b749976b5a8e55f4becb65c"
   },
   "source": [
    "## PLOTTING"
   ]
  },
  {
   "cell_type": "markdown",
   "metadata": {
    "_uuid": "cc074cb3bd6278c759e2a7168732d5a71d4a230d"
   },
   "source": [
    "### GDP PER CAPITA PLOT"
   ]
  },
  {
   "cell_type": "code",
   "execution_count": 134,
   "metadata": {
    "_uuid": "bda9fb7ec75858159413aa9c6b6309daf44ab6bd",
    "trusted": true
   },
   "outputs": [
    {
     "data": {
      "application/vnd.plotly.v1+json": {
       "config": {
        "linkText": "Export to plot.ly",
        "plotlyServerURL": "https://plot.ly",
        "showLink": false
       },
       "data": [
        {
         "autocolorscale": false,
         "colorbar": {
          "autotick": false,
          "title": "GDP per capita"
         },
         "colorscale": [
          [
           0,
           "rgb(5, 10, 172)"
          ],
          [
           0.35,
           "rgb(40, 60, 190)"
          ],
          [
           0.5,
           "rgb(70, 100, 245)"
          ],
          [
           0.6,
           "rgb(90, 120, 245)"
          ],
          [
           0.7,
           "rgb(106, 137, 247)"
          ],
          [
           1,
           "rgb(220, 220, 220)"
          ]
         ],
         "locationmode": "country names",
         "locations": [
          "Albania",
          "Algeria",
          "Andorra",
          "Argentina",
          "Armenia",
          "Aruba",
          "Australia",
          "Austria",
          "Azerbaijan",
          "Bahamas, The",
          "Bahrain",
          "Barbados",
          "Belarus",
          "Belgium",
          "Belize",
          "Bhutan",
          "Bolivia",
          "Bosnia and Herzegovina",
          "Brazil",
          "Brunei Darussalam",
          "Bulgaria",
          "Cabo Verde",
          "Canada",
          "Chile",
          "China, People's Republic of",
          "Colombia",
          "Costa Rica",
          "Croatia",
          "Cyprus",
          "Czech Republic",
          "Denmark",
          "Dominican Republic",
          "Ecuador",
          "Egypt",
          "El Salvador",
          "Estonia",
          "Fiji",
          "Finland",
          "France",
          "Georgia",
          "Germany",
          "Greece",
          "Honduras",
          "Hong Kong SAR",
          "Hungary",
          "Iceland",
          "Indonesia",
          "Iran",
          "Ireland",
          "Israel",
          "Italy",
          "Jamaica",
          "Japan",
          "Jordan",
          "Kazakhstan",
          "Korea, Republic of",
          "Kosovo",
          "Kyrgyz Republic",
          "Latvia",
          "Lithuania",
          "Luxembourg",
          "Macao SAR",
          "Malaysia",
          "Malta",
          "Mauritius",
          "Mexico",
          "Moldova",
          "Mongolia",
          "Morocco",
          "Netherlands",
          "New Zealand",
          "Nicaragua",
          "Nigeria",
          "North Macedonia ",
          "Norway",
          "Pakistan",
          "Panama",
          "Paraguay",
          "Peru",
          "Philippines",
          "Poland",
          "Portugal",
          "Puerto Rico",
          "Romania",
          "Russian Federation",
          "San Marino",
          "Saudi Arabia",
          "Serbia",
          "Seychelles",
          "Singapore",
          "Slovak Republic",
          "Slovenia",
          "South Africa",
          "Spain",
          "Sri Lanka",
          "Sudan",
          "Suriname",
          "Sweden",
          "Switzerland",
          "Syria",
          "São Tomé and Príncipe",
          "Taiwan Province of China",
          "Tajikistan",
          "Thailand",
          "Tunisia",
          "Türkiye, Republic of",
          "Ukraine",
          "United Kingdom",
          "United States",
          "Uruguay",
          "Uzbekistan",
          "Venezuela",
          "Vietnam",
          "West Bank and Gaza",
          "Advanced economies",
          "Euro area",
          "Major advanced economies (G7)",
          "Other advanced economies",
          "©IMF, 2024"
         ],
         "marker": {
          "line": {
           "color": "rgb(180,180,180)",
           "width": 0.5
          }
         },
         "reversescale": true,
         "type": "choropleth",
         "z": [
          148.2,
          126,
          48.39999999999999,
          93.8,
          199.3,
          152.90000000000003,
          146.20000000000002,
          85.2,
          161.20000000000002,
          91.50000000000001,
          191.80000000000004,
          54.7,
          112.8,
          91,
          225.29999999999998,
          327.8,
          138.10000000000002,
          222.79999999999998,
          117.7,
          54.7,
          72.8,
          250.3,
          111.89999999999999,
          193.00000000000006,
          419.7,
          166.5,
          186.8,
          92.89999999999998,
          197.9,
          75.9,
          91,
          230.39999999999998,
          144,
          228.5,
          92.69999999999999,
          114,
          120.69999999999999,
          96.2,
          85.3,
          93.6,
          75,
          52.39999999999999,
          169.40000000000003,
          198.00000000000003,
          88.30000000000001,
          144.5,
          262.90000000000003,
          125.69999999999999,
          231.10000000000002,
          200.8,
          55.6,
          63.900000000000006,
          80.49999999999999,
          190.7,
          133.60000000000002,
          266.9,
          113,
          114.89999999999998,
          102.69999999999999,
          126.5,
          176.40000000000003,
          203.8,
          268,
          215.09999999999997,
          208.39999999999998,
          111.5,
          21.500000000000007,
          239.6,
          180.20000000000002,
          101.2,
          123.4,
          126.19999999999999,
          163.90000000000003,
          80.8,
          113.30000000000001,
          227.3,
          229,
          166.8,
          153.3,
          203.70000000000005,
          133.6,
          107.4,
          78.19999999999997,
          102.1,
          44.10000000000001,
          44.29999999999999,
          114.2,
          101.80000000000001,
          189.7,
          279.7,
          124.6,
          101.30000000000001,
          100,
          108.19999999999999,
          199.1,
          125.89999999999999,
          57.5,
          111.39999999999999,
          90.4,
          131.6,
          105.4,
          256,
          172.89999999999998,
          221.99999999999994,
          157.8,
          224.70000000000002,
          -22.2,
          96.10000000000001,
          129.4,
          110.5,
          182.49999999999997,
          -30.900000000000002,
          312.8,
          118.19999999999999,
          114.30000000000001,
          55.4,
          104.69999999999999,
          177.99999999999997,
          0
         ]
        }
       ],
       "layout": {
        "geo": {
         "projection": {
          "type": "Mercator"
         },
         "showcoastlines": false,
         "showframe": false
        },
        "title": "world plot of GDP per capita (2000)"
       }
      },
      "text/html": [
       "<div>                            <div id=\"52a21df2-1caa-4121-8768-947b19f2397c\" class=\"plotly-graph-div\" style=\"height:525px; width:100%;\"></div>            <script type=\"text/javascript\">                require([\"plotly\"], function(Plotly) {                    window.PLOTLYENV=window.PLOTLYENV || {};                                    if (document.getElementById(\"52a21df2-1caa-4121-8768-947b19f2397c\")) {                    Plotly.newPlot(                        \"52a21df2-1caa-4121-8768-947b19f2397c\",                        [{\"type\":\"choropleth\",\"locations\":[\"Albania\",\"Algeria\",\"Andorra\",\"Argentina\",\"Armenia\",\"Aruba\",\"Australia\",\"Austria\",\"Azerbaijan\",\"Bahamas, The\",\"Bahrain\",\"Barbados\",\"Belarus\",\"Belgium\",\"Belize\",\"Bhutan\",\"Bolivia\",\"Bosnia and Herzegovina\",\"Brazil\",\"Brunei Darussalam\",\"Bulgaria\",\"Cabo Verde\",\"Canada\",\"Chile\",\"China, People's Republic of\",\"Colombia\",\"Costa Rica\",\"Croatia\",\"Cyprus\",\"Czech Republic\",\"Denmark\",\"Dominican Republic\",\"Ecuador\",\"Egypt\",\"El Salvador\",\"Estonia\",\"Fiji\",\"Finland\",\"France\",\"Georgia\",\"Germany\",\"Greece\",\"Honduras\",\"Hong Kong SAR\",\"Hungary\",\"Iceland\",\"Indonesia\",\"Iran\",\"Ireland\",\"Israel\",\"Italy\",\"Jamaica\",\"Japan\",\"Jordan\",\"Kazakhstan\",\"Korea, Republic of\",\"Kosovo\",\"Kyrgyz Republic\",\"Latvia\",\"Lithuania\",\"Luxembourg\",\"Macao SAR\",\"Malaysia\",\"Malta\",\"Mauritius\",\"Mexico\",\"Moldova\",\"Mongolia\",\"Morocco\",\"Netherlands\",\"New Zealand\",\"Nicaragua\",\"Nigeria\",\"North Macedonia \",\"Norway\",\"Pakistan\",\"Panama\",\"Paraguay\",\"Peru\",\"Philippines\",\"Poland\",\"Portugal\",\"Puerto Rico\",\"Romania\",\"Russian Federation\",\"San Marino\",\"Saudi Arabia\",\"Serbia\",\"Seychelles\",\"Singapore\",\"Slovak Republic\",\"Slovenia\",\"South Africa\",\"Spain\",\"Sri Lanka\",\"Sudan\",\"Suriname\",\"Sweden\",\"Switzerland\",\"Syria\",\"São Tomé and Príncipe\",\"Taiwan Province of China\",\"Tajikistan\",\"Thailand\",\"Tunisia\",\"Türkiye, Republic of\",\"Ukraine\",\"United Kingdom\",\"United States\",\"Uruguay\",\"Uzbekistan\",\"Venezuela\",\"Vietnam\",\"West Bank and Gaza\",\"Advanced economies\",\"Euro area\",\"Major advanced economies (G7)\",\"Other advanced economies\",\"©IMF, 2024\"],\"locationmode\":\"country names\",\"z\":[148.2,126.0,48.39999999999999,93.8,199.3,152.90000000000003,146.20000000000002,85.2,161.20000000000002,91.50000000000001,191.80000000000004,54.7,112.8,91.0,225.29999999999998,327.8,138.10000000000002,222.79999999999998,117.7,54.7,72.8,250.3,111.89999999999999,193.00000000000006,419.7,166.5,186.8,92.89999999999998,197.9,75.9,91.0,230.39999999999998,144.0,228.5,92.69999999999999,114.0,120.69999999999999,96.2,85.3,93.6,75.0,52.39999999999999,169.40000000000003,198.00000000000003,88.30000000000001,144.5,262.90000000000003,125.69999999999999,231.10000000000002,200.8,55.6,63.900000000000006,80.49999999999999,190.7,133.60000000000002,266.9,113.0,114.89999999999998,102.69999999999999,126.5,176.40000000000003,203.8,268.0,215.09999999999997,208.39999999999998,111.5,21.500000000000007,239.6,180.20000000000002,101.2,123.4,126.19999999999999,163.90000000000003,80.8,113.30000000000001,227.3,229.0,166.8,153.3,203.70000000000005,133.6,107.4,78.19999999999997,102.1,44.10000000000001,44.29999999999999,114.2,101.80000000000001,189.7,279.7,124.6,101.30000000000001,100.0,108.19999999999999,199.1,125.89999999999999,57.5,111.39999999999999,90.4,131.6,105.4,256.0,172.89999999999998,221.99999999999994,157.8,224.70000000000002,-22.2,96.10000000000001,129.4,110.5,182.49999999999997,-30.900000000000002,312.8,118.19999999999999,114.30000000000001,55.4,104.69999999999999,177.99999999999997,0.0],\"colorscale\":[[0,\"rgb(5, 10, 172)\"],[0.35,\"rgb(40, 60, 190)\"],[0.5,\"rgb(70, 100, 245)\"],[0.6,\"rgb(90, 120, 245)\"],[0.7,\"rgb(106, 137, 247)\"],[1,\"rgb(220, 220, 220)\"]],\"autocolorscale\":false,\"reversescale\":true,\"marker\":{\"line\":{\"color\":\"rgb(180,180,180)\",\"width\":0.5}},\"colorbar\":{\"autotick\":false,\"title\":\"GDP per capita\"}}],                        {\"title\":\"world plot of GDP per capita (2000)\",\"geo\":{\"showframe\":false,\"showcoastlines\":false,\"projection\":{\"type\":\"Mercator\"}}},                        {\"responsive\": true}                    ).then(function(){\n",
       "                            \n",
       "var gd = document.getElementById('52a21df2-1caa-4121-8768-947b19f2397c');\n",
       "var x = new MutationObserver(function (mutations, observer) {{\n",
       "        var display = window.getComputedStyle(gd).display;\n",
       "        if (!display || display === 'none') {{\n",
       "            console.log([gd, 'removed!']);\n",
       "            Plotly.purge(gd);\n",
       "            observer.disconnect();\n",
       "        }}\n",
       "}});\n",
       "\n",
       "// Listen for the removal of the full notebook cells\n",
       "var notebookContainer = gd.closest('#notebook-container');\n",
       "if (notebookContainer) {{\n",
       "    x.observe(notebookContainer, {childList: true});\n",
       "}}\n",
       "\n",
       "// Listen for the clearing of the current output cell\n",
       "var outputEl = gd.closest('.output');\n",
       "if (outputEl) {{\n",
       "    x.observe(outputEl, {childList: true});\n",
       "}}\n",
       "\n",
       "                        })                };                });            </script>        </div>"
      ]
     },
     "metadata": {},
     "output_type": "display_data"
    }
   ],
   "source": [
    "df8_plot=df8.reset_index()\n",
    "\n",
    "column_name='GDP per capita'\n",
    "data = [ dict(\n",
    "        type = 'choropleth',\n",
    "        locations = df8_plot['Country'].astype(str),\n",
    "        locationmode = 'country names',\n",
    "        z = df8_plot[column_name].astype(float),\n",
    "        #text = df8['Code'].astype(str),\n",
    "        colorscale = [[0,\"rgb(5, 10, 172)\"],[0.35,\"rgb(40, 60, 190)\"],[0.5,\"rgb(70, 100, 245)\"],\\\n",
    "            [0.6,\"rgb(90, 120, 245)\"],[0.7,\"rgb(106, 137, 247)\"],[1,\"rgb(220, 220, 220)\"]],\n",
    "        autocolorscale = False,\n",
    "        reversescale = True,\n",
    "        marker = dict(\n",
    "            line = dict (\n",
    "                color = 'rgb(180,180,180)',\n",
    "                width = 0.5\n",
    "            ) ),\n",
    "        colorbar = dict(\n",
    "            autotick = False,\n",
    "            title = column_name),\n",
    "      ) ]\n",
    "\n",
    "layout = dict(\n",
    "    title = 'world plot of GDP per capita (2000)',\n",
    "    geo = dict(\n",
    "        showframe = False,\n",
    "        showcoastlines = False,\n",
    "        projection = dict(\n",
    "            type = 'Mercator'\n",
    "        )\n",
    "    )\n",
    ")\n",
    "\n",
    "fig = dict( data=data, layout=layout )\n",
    "py.iplot( fig, validate=False, filename='d8-world-map' )\n"
   ]
  },
  {
   "cell_type": "markdown",
   "metadata": {
    "_uuid": "ed989a50aa37e0a6239964ba1710278fd14bd66e"
   },
   "source": [
    "### INFLATION RATE PLOT"
   ]
  },
  {
   "cell_type": "code",
   "execution_count": 117,
   "metadata": {
    "_uuid": "382a60e7c043a584dfb01c125c201ef626cba87f",
    "trusted": true
   },
   "outputs": [
    {
     "data": {
      "application/vnd.plotly.v1+json": {
       "config": {
        "linkText": "Export to plot.ly",
        "plotlyServerURL": "https://plot.ly",
        "showLink": false
       },
       "data": [
        {
         "autocolorscale": false,
         "colorbar": {
          "autotick": false,
          "title": "Inflation rate(%)"
         },
         "colorscale": [
          [
           0,
           "rgb(172, 10, 5)"
          ],
          [
           0.35,
           "rgb(190, 60, 40)"
          ],
          [
           0.5,
           "rgb(245, 100, 70)"
          ],
          [
           0.6,
           "rgb(245, 120, 90)"
          ],
          [
           0.7,
           "rgb(247, 137, 106)"
          ],
          [
           1,
           "rgb(220, 220, 220)"
          ]
         ],
         "locationmode": "country names",
         "locations": [
          "Albania",
          "Algeria",
          "Andorra",
          "Argentina",
          "Armenia",
          "Aruba",
          "Australia",
          "Austria",
          "Azerbaijan",
          "Bahamas, The",
          "Bahrain",
          "Barbados",
          "Belarus",
          "Belgium",
          "Belize",
          "Bhutan",
          "Bolivia",
          "Bosnia and Herzegovina",
          "Brazil",
          "Brunei Darussalam",
          "Bulgaria",
          "Cabo Verde",
          "Canada",
          "Chile",
          "China, People's Republic of",
          "Colombia",
          "Costa Rica",
          "Croatia",
          "Cyprus",
          "Czech Republic",
          "Denmark",
          "Dominican Republic",
          "Ecuador",
          "Egypt",
          "El Salvador",
          "Estonia",
          "Fiji",
          "Finland",
          "France",
          "Georgia",
          "Germany",
          "Greece",
          "Honduras",
          "Hong Kong SAR",
          "Hungary",
          "Iceland",
          "Indonesia",
          "Iran",
          "Ireland",
          "Israel",
          "Italy",
          "Jamaica",
          "Japan",
          "Jordan",
          "Kazakhstan",
          "Korea, Republic of",
          "Kosovo",
          "Kyrgyz Republic",
          "Latvia",
          "Lithuania",
          "Luxembourg",
          "Macao SAR",
          "Malaysia",
          "Malta",
          "Mauritius",
          "Mexico",
          "Moldova",
          "Mongolia",
          "Morocco",
          "Netherlands",
          "New Zealand",
          "Nicaragua",
          "Nigeria",
          "North Macedonia ",
          "Norway",
          "Pakistan",
          "Panama",
          "Paraguay",
          "Peru",
          "Philippines",
          "Poland",
          "Portugal",
          "Puerto Rico",
          "Romania",
          "Russian Federation",
          "San Marino",
          "Saudi Arabia",
          "Serbia",
          "Seychelles",
          "Singapore",
          "Slovak Republic",
          "Slovenia",
          "South Africa",
          "Spain",
          "Sri Lanka",
          "Sudan",
          "Suriname",
          "Sweden",
          "Switzerland",
          "Syria",
          "São Tomé and Príncipe",
          "Taiwan Province of China",
          "Tajikistan",
          "Thailand",
          "Tunisia",
          "Türkiye, Republic of",
          "Ukraine",
          "United Kingdom",
          "United States",
          "Uruguay",
          "Uzbekistan",
          "Venezuela",
          "Vietnam",
          "West Bank and Gaza",
          "Advanced economies",
          "Euro area",
          "Major advanced economies (G7)",
          "Other advanced economies",
          "©IMF, 2024"
         ],
         "marker": {
          "line": {
           "color": "rgb(180,180,180)",
           "width": 0.5
          }
         },
         "reversescale": true,
         "type": "choropleth",
         "z": [
          5.231,
          4.0409999999999995,
          0.5770000000000001,
          8.973999999999998,
          93.31999999999998,
          1.1929999999999998,
          1.952,
          1.315,
          34.001,
          1.515,
          0.8340000000000001,
          1.98,
          62.98299999999999,
          1.3940000000000001,
          1.212,
          3.355,
          140.54799999999997,
          0.775,
          118.85500000000002,
          0.516,
          20.191000000000003,
          2.47,
          1.528,
          4.420999999999999,
          2.071,
          6.065999999999999,
          5.962000000000001,
          17.183,
          1.558,
          1.201,
          1.4380000000000002,
          5.8420000000000005,
          9.495,
          6.172,
          3.6750000000000007,
          2.3309999999999995,
          2.074,
          1.5410000000000001,
          1.4990000000000003,
          1.7480000000000002,
          1.146,
          3.7060000000000004,
          4.495,
          1.9369999999999998,
          4.574000000000001,
          5.665,
          3.9970000000000003,
          11.144,
          1.767,
          16.497,
          2.1859999999999995,
          6.839000000000001,
          0.5760000000000001,
          2.086,
          35.597,
          2.141,
          0.775,
          15.539000000000003,
          3.171,
          1.339,
          1.429,
          0.765,
          1.376,
          1.22,
          3.3160000000000003,
          10.290999999999999,
          14.915,
          11.354000000000001,
          1.7570000000000001,
          1.135,
          2.14,
          304.462,
          4.855,
          5.677,
          1.798,
          4.409,
          1.064,
          5.361000000000001,
          129.78,
          3.5439999999999996,
          15.527000000000001,
          2.895,
          1.015,
          14.977,
          35.275999999999996,
          0.535,
          0.6839999999999999,
          4.1,
          2.042,
          1.041,
          1.6489999999999998,
          1.91,
          4.049,
          2.148,
          4.587999999999999,
          26.348000000000003,
          10.549000000000001,
          1.7839999999999998,
          0.77,
          3.6470000000000002,
          9.01,
          1.067,
          44.361000000000004,
          1.652,
          2.9139999999999997,
          19.320999999999998,
          76.822,
          1.7619999999999998,
          1.6019999999999999,
          12.925999999999998,
          36.029999999999994,
          917.8659999999999,
          20.527,
          0.8530000000000001,
          1.59,
          0.8530000000000001,
          1.45,
          2.258,
          0
         ]
        }
       ],
       "layout": {
        "geo": {
         "projection": {
          "type": "Mercator"
         },
         "showcoastlines": false,
         "showframe": false
        },
        "title": "world plot of Inflation rate (2000)"
       }
      },
      "text/html": [
       "<div>                            <div id=\"c80e118d-6d4d-4f1e-90ee-560cda751bc3\" class=\"plotly-graph-div\" style=\"height:525px; width:100%;\"></div>            <script type=\"text/javascript\">                require([\"plotly\"], function(Plotly) {                    window.PLOTLYENV=window.PLOTLYENV || {};                                    if (document.getElementById(\"c80e118d-6d4d-4f1e-90ee-560cda751bc3\")) {                    Plotly.newPlot(                        \"c80e118d-6d4d-4f1e-90ee-560cda751bc3\",                        [{\"type\":\"choropleth\",\"locations\":[\"Albania\",\"Algeria\",\"Andorra\",\"Argentina\",\"Armenia\",\"Aruba\",\"Australia\",\"Austria\",\"Azerbaijan\",\"Bahamas, The\",\"Bahrain\",\"Barbados\",\"Belarus\",\"Belgium\",\"Belize\",\"Bhutan\",\"Bolivia\",\"Bosnia and Herzegovina\",\"Brazil\",\"Brunei Darussalam\",\"Bulgaria\",\"Cabo Verde\",\"Canada\",\"Chile\",\"China, People's Republic of\",\"Colombia\",\"Costa Rica\",\"Croatia\",\"Cyprus\",\"Czech Republic\",\"Denmark\",\"Dominican Republic\",\"Ecuador\",\"Egypt\",\"El Salvador\",\"Estonia\",\"Fiji\",\"Finland\",\"France\",\"Georgia\",\"Germany\",\"Greece\",\"Honduras\",\"Hong Kong SAR\",\"Hungary\",\"Iceland\",\"Indonesia\",\"Iran\",\"Ireland\",\"Israel\",\"Italy\",\"Jamaica\",\"Japan\",\"Jordan\",\"Kazakhstan\",\"Korea, Republic of\",\"Kosovo\",\"Kyrgyz Republic\",\"Latvia\",\"Lithuania\",\"Luxembourg\",\"Macao SAR\",\"Malaysia\",\"Malta\",\"Mauritius\",\"Mexico\",\"Moldova\",\"Mongolia\",\"Morocco\",\"Netherlands\",\"New Zealand\",\"Nicaragua\",\"Nigeria\",\"North Macedonia \",\"Norway\",\"Pakistan\",\"Panama\",\"Paraguay\",\"Peru\",\"Philippines\",\"Poland\",\"Portugal\",\"Puerto Rico\",\"Romania\",\"Russian Federation\",\"San Marino\",\"Saudi Arabia\",\"Serbia\",\"Seychelles\",\"Singapore\",\"Slovak Republic\",\"Slovenia\",\"South Africa\",\"Spain\",\"Sri Lanka\",\"Sudan\",\"Suriname\",\"Sweden\",\"Switzerland\",\"Syria\",\"São Tomé and Príncipe\",\"Taiwan Province of China\",\"Tajikistan\",\"Thailand\",\"Tunisia\",\"Türkiye, Republic of\",\"Ukraine\",\"United Kingdom\",\"United States\",\"Uruguay\",\"Uzbekistan\",\"Venezuela\",\"Vietnam\",\"West Bank and Gaza\",\"Advanced economies\",\"Euro area\",\"Major advanced economies (G7)\",\"Other advanced economies\",\"©IMF, 2024\"],\"locationmode\":\"country names\",\"z\":[5.231,4.0409999999999995,0.5770000000000001,8.973999999999998,93.31999999999998,1.1929999999999998,1.952,1.315,34.001,1.515,0.8340000000000001,1.98,62.98299999999999,1.3940000000000001,1.212,3.355,140.54799999999997,0.775,118.85500000000002,0.516,20.191000000000003,2.47,1.528,4.420999999999999,2.071,6.065999999999999,5.962000000000001,17.183,1.558,1.201,1.4380000000000002,5.8420000000000005,9.495,6.172,3.6750000000000007,2.3309999999999995,2.074,1.5410000000000001,1.4990000000000003,1.7480000000000002,1.146,3.7060000000000004,4.495,1.9369999999999998,4.574000000000001,5.665,3.9970000000000003,11.144,1.767,16.497,2.1859999999999995,6.839000000000001,0.5760000000000001,2.086,35.597,2.141,0.775,15.539000000000003,3.171,1.339,1.429,0.765,1.376,1.22,3.3160000000000003,10.290999999999999,14.915,11.354000000000001,1.7570000000000001,1.135,2.14,304.462,4.855,5.677,1.798,4.409,1.064,5.361000000000001,129.78,3.5439999999999996,15.527000000000001,2.895,1.015,14.977,35.275999999999996,0.535,0.6839999999999999,4.1,2.042,1.041,1.6489999999999998,1.91,4.049,2.148,4.587999999999999,26.348000000000003,10.549000000000001,1.7839999999999998,0.77,3.6470000000000002,9.01,1.067,44.361000000000004,1.652,2.9139999999999997,19.320999999999998,76.822,1.7619999999999998,1.6019999999999999,12.925999999999998,36.029999999999994,917.8659999999999,20.527,0.8530000000000001,1.59,0.8530000000000001,1.45,2.258,0.0],\"colorscale\":[[0,\"rgb(172, 10, 5)\"],[0.35,\"rgb(190, 60, 40)\"],[0.5,\"rgb(245, 100, 70)\"],[0.6,\"rgb(245, 120, 90)\"],[0.7,\"rgb(247, 137, 106)\"],[1,\"rgb(220, 220, 220)\"]],\"autocolorscale\":false,\"reversescale\":true,\"marker\":{\"line\":{\"color\":\"rgb(180,180,180)\",\"width\":0.5}},\"colorbar\":{\"autotick\":false,\"title\":\"Inflation rate(%)\"}}],                        {\"title\":\"world plot of Inflation rate (2000)\",\"geo\":{\"showframe\":false,\"showcoastlines\":false,\"projection\":{\"type\":\"Mercator\"}}},                        {\"responsive\": true}                    ).then(function(){\n",
       "                            \n",
       "var gd = document.getElementById('c80e118d-6d4d-4f1e-90ee-560cda751bc3');\n",
       "var x = new MutationObserver(function (mutations, observer) {{\n",
       "        var display = window.getComputedStyle(gd).display;\n",
       "        if (!display || display === 'none') {{\n",
       "            console.log([gd, 'removed!']);\n",
       "            Plotly.purge(gd);\n",
       "            observer.disconnect();\n",
       "        }}\n",
       "}});\n",
       "\n",
       "// Listen for the removal of the full notebook cells\n",
       "var notebookContainer = gd.closest('#notebook-container');\n",
       "if (notebookContainer) {{\n",
       "    x.observe(notebookContainer, {childList: true});\n",
       "}}\n",
       "\n",
       "// Listen for the clearing of the current output cell\n",
       "var outputEl = gd.closest('.output');\n",
       "if (outputEl) {{\n",
       "    x.observe(outputEl, {childList: true});\n",
       "}}\n",
       "\n",
       "                        })                };                });            </script>        </div>"
      ]
     },
     "metadata": {},
     "output_type": "display_data"
    }
   ],
   "source": [
    "column_name='Inflation rate(%)'\n",
    "data = [ dict(\n",
    "        type = 'choropleth',\n",
    "        locations = df8_plot['Country'].astype(str),\n",
    "        locationmode = 'country names',\n",
    "        z = df8_plot[column_name].astype(float),\n",
    "        #text = df8['Code'].astype(str),\n",
    "        colorscale = [[0,\"rgb(172, 10, 5)\"],[0.35,\"rgb(190, 60, 40)\"],[0.5,\"rgb(245, 100, 70)\"],\\\n",
    "            [0.6,\"rgb(245, 120, 90)\"],[0.7,\"rgb(247, 137, 106)\"],[1,\"rgb(220, 220, 220)\"]],\n",
    "        autocolorscale = False,\n",
    "        reversescale = True,\n",
    "        marker = dict(\n",
    "            line = dict (\n",
    "                color = 'rgb(180,180,180)',\n",
    "                width = 0.5\n",
    "            ) ),\n",
    "        colorbar = dict(\n",
    "            autotick = False,\n",
    "            title = column_name),\n",
    "      ) ]\n",
    "\n",
    "layout = dict(\n",
    "    title = 'world plot of Inflation rate (2000)',\n",
    "    geo = dict(\n",
    "        showframe = False,\n",
    "        showcoastlines = False,\n",
    "        projection = dict(\n",
    "            type = 'Mercator'\n",
    "        )\n",
    "    )\n",
    ")\n",
    "\n",
    "fig = dict( data=data, layout=layout )\n",
    "py.iplot( fig, validate=False, filename='d8-world-map' )"
   ]
  },
  {
   "cell_type": "markdown",
   "metadata": {
    "_uuid": "feb5875412a91a834a208dc231b750916e050d13"
   },
   "source": [
    "### UNEMPLOYMENT RATE PER CAPITA PLOT"
   ]
  },
  {
   "cell_type": "code",
   "execution_count": 118,
   "metadata": {
    "_uuid": "0d5432b722e00d70f09a3d0853147df2d0c326f9",
    "trusted": true
   },
   "outputs": [
    {
     "data": {
      "application/vnd.plotly.v1+json": {
       "config": {
        "linkText": "Export to plot.ly",
        "plotlyServerURL": "https://plot.ly",
        "showLink": false
       },
       "data": [
        {
         "autocolorscale": false,
         "colorbar": {
          "autotick": false,
          "title": "Unemployment rate(%)"
         },
         "colorscale": [
          [
           0,
           "rgb(5, 172, 10)"
          ],
          [
           0.35,
           "rgb(40, 190, 60)"
          ],
          [
           0.5,
           "rgb(70, 245, 100)"
          ],
          [
           0.6,
           "rgb(90, 245, 120)"
          ],
          [
           0.7,
           "rgb(106, 247, 137)"
          ],
          [
           1,
           "rgb(220, 220, 220)"
          ]
         ],
         "locationmode": "country names",
         "locations": [
          "Albania",
          "Algeria",
          "Andorra",
          "Argentina",
          "Armenia",
          "Aruba",
          "Australia",
          "Austria",
          "Azerbaijan",
          "Bahamas, The",
          "Bahrain",
          "Barbados",
          "Belarus",
          "Belgium",
          "Belize",
          "Bhutan",
          "Bolivia",
          "Bosnia and Herzegovina",
          "Brazil",
          "Brunei Darussalam",
          "Bulgaria",
          "Cabo Verde",
          "Canada",
          "Chile",
          "China, People's Republic of",
          "Colombia",
          "Costa Rica",
          "Croatia",
          "Cyprus",
          "Czech Republic",
          "Denmark",
          "Dominican Republic",
          "Ecuador",
          "Egypt",
          "El Salvador",
          "Estonia",
          "Fiji",
          "Finland",
          "France",
          "Georgia",
          "Germany",
          "Greece",
          "Honduras",
          "Hong Kong SAR",
          "Hungary",
          "Iceland",
          "Indonesia",
          "Iran",
          "Ireland",
          "Israel",
          "Italy",
          "Jamaica",
          "Japan",
          "Jordan",
          "Kazakhstan",
          "Korea, Republic of",
          "Kosovo",
          "Kyrgyz Republic",
          "Latvia",
          "Lithuania",
          "Luxembourg",
          "Macao SAR",
          "Malaysia",
          "Malta",
          "Mauritius",
          "Mexico",
          "Moldova",
          "Mongolia",
          "Morocco",
          "Netherlands",
          "New Zealand",
          "Nicaragua",
          "Nigeria",
          "North Macedonia ",
          "Norway",
          "Pakistan",
          "Panama",
          "Paraguay",
          "Peru",
          "Philippines",
          "Poland",
          "Portugal",
          "Puerto Rico",
          "Romania",
          "Russian Federation",
          "San Marino",
          "Saudi Arabia",
          "Serbia",
          "Seychelles",
          "Singapore",
          "Slovak Republic",
          "Slovenia",
          "South Africa",
          "Spain",
          "Sri Lanka",
          "Sudan",
          "Suriname",
          "Sweden",
          "Switzerland",
          "Syria",
          "São Tomé and Príncipe",
          "Taiwan Province of China",
          "Tajikistan",
          "Thailand",
          "Tunisia",
          "Türkiye, Republic of",
          "Ukraine",
          "United Kingdom",
          "United States",
          "Uruguay",
          "Uzbekistan",
          "Venezuela",
          "Vietnam",
          "West Bank and Gaza",
          "Advanced economies",
          "Euro area",
          "Major advanced economies (G7)",
          "Other advanced economies",
          "©IMF, 2024"
         ],
         "marker": {
          "line": {
           "color": "rgb(180,180,180)",
           "width": 0.5
          }
         },
         "reversescale": true,
         "type": "choropleth",
         "z": [
          6.099000000000001,
          7.1770000000000005,
          0.5720000000000001,
          4.7989999999999995,
          5.817,
          2.7640000000000002,
          3.193,
          2.275,
          1.8849999999999998,
          5.071000000000001,
          0.78,
          6.110000000000001,
          2.053,
          3.9160000000000004,
          4.111999999999999,
          0.6919999999999998,
          1.742,
          8.935,
          3.535,
          1.2560000000000002,
          3.68,
          8.777000000000001,
          3.938,
          4.543,
          0.672,
          4.897,
          3.846,
          5.172000000000001,
          2.676,
          1.745,
          2.596,
          2.7969999999999997,
          2.557,
          3.773,
          2.93,
          3.1140000000000003,
          2.965,
          4.146,
          4.376,
          5.832000000000001,
          3.141,
          5.865,
          2.819,
          1.807,
          2.676,
          1.8,
          2.645,
          4.439,
          4.36,
          3.6079999999999997,
          4.545,
          6.695,
          1.636,
          5.845,
          2.568,
          1.7409999999999999,
          3.1259999999999994,
          2.908,
          3.833,
          2.9640000000000004,
          1.9110000000000003,
          0.84,
          1.7610000000000001,
          2.781,
          3.699,
          1.87,
          2.338,
          1.75,
          4.0009999999999994,
          2.8000000000000007,
          2.7719999999999994,
          4.7330000000000005,
          1.02,
          8.738999999999999,
          1.8980000000000001,
          2.727,
          5.184000000000001,
          2.9320000000000004,
          3.8029999999999995,
          3.6639999999999997,
          3.785,
          3.952,
          6.439999999999999,
          2.974,
          2.465,
          1.5260000000000002,
          1.381,
          4.859,
          1.256,
          1.349,
          4.208000000000001,
          2.384,
          11.949000000000002,
          8.147,
          2.5789999999999997,
          11.057000000000002,
          3.437,
          3.4210000000000003,
          1.256,
          1.515,
          5.565999999999999,
          1.6379999999999995,
          0.314,
          0.69,
          5.206,
          4.482,
          3.5529999999999995,
          3.385,
          2.9389999999999996,
          4.579999999999999,
          1.6270000000000004,
          2.741,
          1.805,
          6.932,
          3.185,
          3.475,
          3.0229999999999997,
          2.246,
          0
         ]
        }
       ],
       "layout": {
        "geo": {
         "projection": {
          "type": "Mercator"
         },
         "showcoastlines": false,
         "showframe": false
        },
        "title": "world plot of Unemployment rate per capita (2000)"
       }
      },
      "text/html": [
       "<div>                            <div id=\"30684a23-b0c4-4e08-a582-98460f86dbbf\" class=\"plotly-graph-div\" style=\"height:525px; width:100%;\"></div>            <script type=\"text/javascript\">                require([\"plotly\"], function(Plotly) {                    window.PLOTLYENV=window.PLOTLYENV || {};                                    if (document.getElementById(\"30684a23-b0c4-4e08-a582-98460f86dbbf\")) {                    Plotly.newPlot(                        \"30684a23-b0c4-4e08-a582-98460f86dbbf\",                        [{\"type\":\"choropleth\",\"locations\":[\"Albania\",\"Algeria\",\"Andorra\",\"Argentina\",\"Armenia\",\"Aruba\",\"Australia\",\"Austria\",\"Azerbaijan\",\"Bahamas, The\",\"Bahrain\",\"Barbados\",\"Belarus\",\"Belgium\",\"Belize\",\"Bhutan\",\"Bolivia\",\"Bosnia and Herzegovina\",\"Brazil\",\"Brunei Darussalam\",\"Bulgaria\",\"Cabo Verde\",\"Canada\",\"Chile\",\"China, People's Republic of\",\"Colombia\",\"Costa Rica\",\"Croatia\",\"Cyprus\",\"Czech Republic\",\"Denmark\",\"Dominican Republic\",\"Ecuador\",\"Egypt\",\"El Salvador\",\"Estonia\",\"Fiji\",\"Finland\",\"France\",\"Georgia\",\"Germany\",\"Greece\",\"Honduras\",\"Hong Kong SAR\",\"Hungary\",\"Iceland\",\"Indonesia\",\"Iran\",\"Ireland\",\"Israel\",\"Italy\",\"Jamaica\",\"Japan\",\"Jordan\",\"Kazakhstan\",\"Korea, Republic of\",\"Kosovo\",\"Kyrgyz Republic\",\"Latvia\",\"Lithuania\",\"Luxembourg\",\"Macao SAR\",\"Malaysia\",\"Malta\",\"Mauritius\",\"Mexico\",\"Moldova\",\"Mongolia\",\"Morocco\",\"Netherlands\",\"New Zealand\",\"Nicaragua\",\"Nigeria\",\"North Macedonia \",\"Norway\",\"Pakistan\",\"Panama\",\"Paraguay\",\"Peru\",\"Philippines\",\"Poland\",\"Portugal\",\"Puerto Rico\",\"Romania\",\"Russian Federation\",\"San Marino\",\"Saudi Arabia\",\"Serbia\",\"Seychelles\",\"Singapore\",\"Slovak Republic\",\"Slovenia\",\"South Africa\",\"Spain\",\"Sri Lanka\",\"Sudan\",\"Suriname\",\"Sweden\",\"Switzerland\",\"Syria\",\"São Tomé and Príncipe\",\"Taiwan Province of China\",\"Tajikistan\",\"Thailand\",\"Tunisia\",\"Türkiye, Republic of\",\"Ukraine\",\"United Kingdom\",\"United States\",\"Uruguay\",\"Uzbekistan\",\"Venezuela\",\"Vietnam\",\"West Bank and Gaza\",\"Advanced economies\",\"Euro area\",\"Major advanced economies (G7)\",\"Other advanced economies\",\"©IMF, 2024\"],\"locationmode\":\"country names\",\"z\":[6.099000000000001,7.1770000000000005,0.5720000000000001,4.7989999999999995,5.817,2.7640000000000002,3.193,2.275,1.8849999999999998,5.071000000000001,0.78,6.110000000000001,2.053,3.9160000000000004,4.111999999999999,0.6919999999999998,1.742,8.935,3.535,1.2560000000000002,3.68,8.777000000000001,3.938,4.543,0.672,4.897,3.846,5.172000000000001,2.676,1.745,2.596,2.7969999999999997,2.557,3.773,2.93,3.1140000000000003,2.965,4.146,4.376,5.832000000000001,3.141,5.865,2.819,1.807,2.676,1.8,2.645,4.439,4.36,3.6079999999999997,4.545,6.695,1.636,5.845,2.568,1.7409999999999999,3.1259999999999994,2.908,3.833,2.9640000000000004,1.9110000000000003,0.84,1.7610000000000001,2.781,3.699,1.87,2.338,1.75,4.0009999999999994,2.8000000000000007,2.7719999999999994,4.7330000000000005,1.02,8.738999999999999,1.8980000000000001,2.727,5.184000000000001,2.9320000000000004,3.8029999999999995,3.6639999999999997,3.785,3.952,6.439999999999999,2.974,2.465,1.5260000000000002,1.381,4.859,1.256,1.349,4.208000000000001,2.384,11.949000000000002,8.147,2.5789999999999997,11.057000000000002,3.437,3.4210000000000003,1.256,1.515,5.565999999999999,1.6379999999999995,0.314,0.69,5.206,4.482,3.5529999999999995,3.385,2.9389999999999996,4.579999999999999,1.6270000000000004,2.741,1.805,6.932,3.185,3.475,3.0229999999999997,2.246,0.0],\"colorscale\":[[0,\"rgb(5, 172, 10)\"],[0.35,\"rgb(40, 190, 60)\"],[0.5,\"rgb(70, 245, 100)\"],[0.6,\"rgb(90, 245, 120)\"],[0.7,\"rgb(106, 247, 137)\"],[1,\"rgb(220, 220, 220)\"]],\"autocolorscale\":false,\"reversescale\":true,\"marker\":{\"line\":{\"color\":\"rgb(180,180,180)\",\"width\":0.5}},\"colorbar\":{\"autotick\":false,\"title\":\"Unemployment rate(%)\"}}],                        {\"title\":\"world plot of Unemployment rate per capita (2000)\",\"geo\":{\"showframe\":false,\"showcoastlines\":false,\"projection\":{\"type\":\"Mercator\"}}},                        {\"responsive\": true}                    ).then(function(){\n",
       "                            \n",
       "var gd = document.getElementById('30684a23-b0c4-4e08-a582-98460f86dbbf');\n",
       "var x = new MutationObserver(function (mutations, observer) {{\n",
       "        var display = window.getComputedStyle(gd).display;\n",
       "        if (!display || display === 'none') {{\n",
       "            console.log([gd, 'removed!']);\n",
       "            Plotly.purge(gd);\n",
       "            observer.disconnect();\n",
       "        }}\n",
       "}});\n",
       "\n",
       "// Listen for the removal of the full notebook cells\n",
       "var notebookContainer = gd.closest('#notebook-container');\n",
       "if (notebookContainer) {{\n",
       "    x.observe(notebookContainer, {childList: true});\n",
       "}}\n",
       "\n",
       "// Listen for the clearing of the current output cell\n",
       "var outputEl = gd.closest('.output');\n",
       "if (outputEl) {{\n",
       "    x.observe(outputEl, {childList: true});\n",
       "}}\n",
       "\n",
       "                        })                };                });            </script>        </div>"
      ]
     },
     "metadata": {},
     "output_type": "display_data"
    }
   ],
   "source": [
    "column_name='Unemployment rate(%)'\n",
    "data = [ dict(\n",
    "        type = 'choropleth',\n",
    "        locations = df8_plot['Country'].astype(str),\n",
    "        locationmode = 'country names',\n",
    "        z = df8_plot[column_name].astype(float),\n",
    "        #text = df8['Code'].astype(str),\n",
    "        colorscale = [[0,\"rgb(5, 172, 10)\"],[0.35,\"rgb(40, 190, 60)\"],[0.5,\"rgb(70, 245, 100)\"],\\\n",
    "            [0.6,\"rgb(90, 245, 120)\"],[0.7,\"rgb(106, 247, 137)\"],[1,\"rgb(220, 220, 220)\"]],\n",
    "        autocolorscale = False,\n",
    "        reversescale = True,\n",
    "        marker = dict(\n",
    "            line = dict (\n",
    "                color = 'rgb(180,180,180)',\n",
    "                width = 0.5\n",
    "            ) ),\n",
    "        colorbar = dict(\n",
    "            autotick = False,\n",
    "            title = column_name),\n",
    "      ) ]\n",
    "\n",
    "layout = dict(\n",
    "    title = 'world plot of Unemployment rate per capita (2000)',\n",
    "    geo = dict(\n",
    "        showframe = False,\n",
    "        showcoastlines = False,\n",
    "        projection = dict(\n",
    "            type = 'Mercator'\n",
    "        )\n",
    "    )\n",
    ")\n",
    "\n",
    "fig = dict( data=data, layout=layout )\n",
    "py.iplot( fig, validate=False, filename='d8-world-map' )\n"
   ]
  },
  {
   "cell_type": "markdown",
   "metadata": {
    "_uuid": "b4858409e81378660d0f0c4505be67eb623c4db3"
   },
   "source": [
    "WE have seen how crime indicators moves with other socio-economiv indicators. Let us quantify it in a corr plot."
   ]
  },
  {
   "cell_type": "markdown",
   "metadata": {
    "_uuid": "0fef102e0d6115bb782ca1cf5e98ea67f0f0f5a1"
   },
   "source": [
    "To create a target variable we will use the normalised aggregated crime rates from before:"
   ]
  },
  {
   "cell_type": "code",
   "execution_count": 135,
   "metadata": {
    "_uuid": "4f35b84ffe89846cf4cb0f01613847fdb106526b",
    "trusted": true
   },
   "outputs": [],
   "source": [
    "crime_normalised=unodc_avg[\"crime_score\"].reset_index()"
   ]
  },
  {
   "cell_type": "code",
   "execution_count": 159,
   "metadata": {
    "_uuid": "c1d2b44b93e93ff3563895cff83d1ff62804145a",
    "trusted": true
   },
   "outputs": [
    {
     "data": {
      "text/html": [
       "<div>\n",
       "<style scoped>\n",
       "    .dataframe tbody tr th:only-of-type {\n",
       "        vertical-align: middle;\n",
       "    }\n",
       "\n",
       "    .dataframe tbody tr th {\n",
       "        vertical-align: top;\n",
       "    }\n",
       "\n",
       "    .dataframe thead th {\n",
       "        text-align: right;\n",
       "    }\n",
       "</style>\n",
       "<table border=\"1\" class=\"dataframe\">\n",
       "  <thead>\n",
       "    <tr style=\"text-align: right;\">\n",
       "      <th></th>\n",
       "      <th>Country</th>\n",
       "      <th>crime_score</th>\n",
       "      <th>CODE</th>\n",
       "      <th>Inflation rate(%)</th>\n",
       "      <th>Unemployment rate(%)</th>\n",
       "      <th>GDP per capita</th>\n",
       "    </tr>\n",
       "  </thead>\n",
       "  <tbody>\n",
       "    <tr>\n",
       "      <th>0</th>\n",
       "      <td>Mauritius</td>\n",
       "      <td>0.552207</td>\n",
       "      <td>MUS</td>\n",
       "      <td>3.316</td>\n",
       "      <td>3.699</td>\n",
       "      <td>208.4</td>\n",
       "    </tr>\n",
       "    <tr>\n",
       "      <th>1</th>\n",
       "      <td>Algeria</td>\n",
       "      <td>0.206323</td>\n",
       "      <td>DZA</td>\n",
       "      <td>4.041</td>\n",
       "      <td>7.177</td>\n",
       "      <td>126.0</td>\n",
       "    </tr>\n",
       "    <tr>\n",
       "      <th>2</th>\n",
       "      <td>Egypt</td>\n",
       "      <td>0.071329</td>\n",
       "      <td>EGY</td>\n",
       "      <td>6.172</td>\n",
       "      <td>3.773</td>\n",
       "      <td>228.5</td>\n",
       "    </tr>\n",
       "    <tr>\n",
       "      <th>3</th>\n",
       "      <td>Morocco</td>\n",
       "      <td>0.273290</td>\n",
       "      <td>MAR</td>\n",
       "      <td>1.757</td>\n",
       "      <td>4.001</td>\n",
       "      <td>180.2</td>\n",
       "    </tr>\n",
       "    <tr>\n",
       "      <th>4</th>\n",
       "      <td>Cabo Verde</td>\n",
       "      <td>1.653141</td>\n",
       "      <td>CPV</td>\n",
       "      <td>2.470</td>\n",
       "      <td>8.777</td>\n",
       "      <td>250.3</td>\n",
       "    </tr>\n",
       "    <tr>\n",
       "      <th>...</th>\n",
       "      <td>...</td>\n",
       "      <td>...</td>\n",
       "      <td>...</td>\n",
       "      <td>...</td>\n",
       "      <td>...</td>\n",
       "      <td>...</td>\n",
       "    </tr>\n",
       "    <tr>\n",
       "      <th>97</th>\n",
       "      <td>Syria</td>\n",
       "      <td>0.000000</td>\n",
       "      <td>SYR</td>\n",
       "      <td>3.647</td>\n",
       "      <td>1.515</td>\n",
       "      <td>131.6</td>\n",
       "    </tr>\n",
       "    <tr>\n",
       "      <th>98</th>\n",
       "      <td>Tunisia</td>\n",
       "      <td>0.263342</td>\n",
       "      <td>TUN</td>\n",
       "      <td>2.914</td>\n",
       "      <td>5.206</td>\n",
       "      <td>157.8</td>\n",
       "    </tr>\n",
       "    <tr>\n",
       "      <th>99</th>\n",
       "      <td>Uzbekistan</td>\n",
       "      <td>0.302850</td>\n",
       "      <td>UZB</td>\n",
       "      <td>36.030</td>\n",
       "      <td>1.627</td>\n",
       "      <td>182.5</td>\n",
       "    </tr>\n",
       "    <tr>\n",
       "      <th>100</th>\n",
       "      <td>Venezuela</td>\n",
       "      <td>0.000000</td>\n",
       "      <td>VEN</td>\n",
       "      <td>917.866</td>\n",
       "      <td>2.741</td>\n",
       "      <td>-30.9</td>\n",
       "    </tr>\n",
       "    <tr>\n",
       "      <th>101</th>\n",
       "      <td>Vietnam</td>\n",
       "      <td>0.000000</td>\n",
       "      <td>VNM</td>\n",
       "      <td>20.527</td>\n",
       "      <td>1.805</td>\n",
       "      <td>312.8</td>\n",
       "    </tr>\n",
       "  </tbody>\n",
       "</table>\n",
       "<p>102 rows × 6 columns</p>\n",
       "</div>"
      ],
      "text/plain": [
       "        Country  crime_score CODE  Inflation rate(%)  Unemployment rate(%)  \\\n",
       "0     Mauritius     0.552207  MUS              3.316                 3.699   \n",
       "1       Algeria     0.206323  DZA              4.041                 7.177   \n",
       "2         Egypt     0.071329  EGY              6.172                 3.773   \n",
       "3       Morocco     0.273290  MAR              1.757                 4.001   \n",
       "4    Cabo Verde     1.653141  CPV              2.470                 8.777   \n",
       "..          ...          ...  ...                ...                   ...   \n",
       "97        Syria     0.000000  SYR              3.647                 1.515   \n",
       "98      Tunisia     0.263342  TUN              2.914                 5.206   \n",
       "99   Uzbekistan     0.302850  UZB             36.030                 1.627   \n",
       "100   Venezuela     0.000000  VEN            917.866                 2.741   \n",
       "101     Vietnam     0.000000  VNM             20.527                 1.805   \n",
       "\n",
       "     GDP per capita  \n",
       "0             208.4  \n",
       "1             126.0  \n",
       "2             228.5  \n",
       "3             180.2  \n",
       "4             250.3  \n",
       "..              ...  \n",
       "97            131.6  \n",
       "98            157.8  \n",
       "99            182.5  \n",
       "100           -30.9  \n",
       "101           312.8  \n",
       "\n",
       "[102 rows x 6 columns]"
      ]
     },
     "execution_count": 159,
     "metadata": {},
     "output_type": "execute_result"
    }
   ],
   "source": [
    "df_all = pd.DataFrame()\n",
    "#df_all[\"total_crime\"]=crime_normalised[\"crime_score\"]\n",
    "df_all = unodc_avg.merge(df8, on=\"Country\", how=\"inner\")\n",
    "df_all.drop(columns = ['GDP_Sum', 'Inflation_Sum', 'Unemployment_Sum'], inplace=True)\n",
    "df_all"
   ]
  },
  {
   "cell_type": "code",
   "execution_count": 160,
   "metadata": {
    "_uuid": "481b634957e883401648ffae8f8f2c8d6268c5e1",
    "trusted": true
   },
   "outputs": [
    {
     "data": {
      "text/html": [
       "<div>\n",
       "<style scoped>\n",
       "    .dataframe tbody tr th:only-of-type {\n",
       "        vertical-align: middle;\n",
       "    }\n",
       "\n",
       "    .dataframe tbody tr th {\n",
       "        vertical-align: top;\n",
       "    }\n",
       "\n",
       "    .dataframe thead th {\n",
       "        text-align: right;\n",
       "    }\n",
       "</style>\n",
       "<table border=\"1\" class=\"dataframe\">\n",
       "  <thead>\n",
       "    <tr style=\"text-align: right;\">\n",
       "      <th></th>\n",
       "      <th>Country</th>\n",
       "      <th>crime_score</th>\n",
       "      <th>CODE</th>\n",
       "      <th>Inflation rate(%)</th>\n",
       "      <th>Unemployment rate(%)</th>\n",
       "      <th>GDP per capita</th>\n",
       "    </tr>\n",
       "  </thead>\n",
       "  <tbody>\n",
       "    <tr>\n",
       "      <th>0</th>\n",
       "      <td>Mauritius</td>\n",
       "      <td>0.552207</td>\n",
       "      <td>MUS</td>\n",
       "      <td>3.316</td>\n",
       "      <td>3.699</td>\n",
       "      <td>208.4</td>\n",
       "    </tr>\n",
       "    <tr>\n",
       "      <th>1</th>\n",
       "      <td>Algeria</td>\n",
       "      <td>0.206323</td>\n",
       "      <td>DZA</td>\n",
       "      <td>4.041</td>\n",
       "      <td>7.177</td>\n",
       "      <td>126.0</td>\n",
       "    </tr>\n",
       "    <tr>\n",
       "      <th>2</th>\n",
       "      <td>Egypt</td>\n",
       "      <td>0.071329</td>\n",
       "      <td>EGY</td>\n",
       "      <td>6.172</td>\n",
       "      <td>3.773</td>\n",
       "      <td>228.5</td>\n",
       "    </tr>\n",
       "    <tr>\n",
       "      <th>3</th>\n",
       "      <td>Morocco</td>\n",
       "      <td>0.273290</td>\n",
       "      <td>MAR</td>\n",
       "      <td>1.757</td>\n",
       "      <td>4.001</td>\n",
       "      <td>180.2</td>\n",
       "    </tr>\n",
       "    <tr>\n",
       "      <th>4</th>\n",
       "      <td>Cabo Verde</td>\n",
       "      <td>1.653141</td>\n",
       "      <td>CPV</td>\n",
       "      <td>2.470</td>\n",
       "      <td>8.777</td>\n",
       "      <td>250.3</td>\n",
       "    </tr>\n",
       "    <tr>\n",
       "      <th>...</th>\n",
       "      <td>...</td>\n",
       "      <td>...</td>\n",
       "      <td>...</td>\n",
       "      <td>...</td>\n",
       "      <td>...</td>\n",
       "      <td>...</td>\n",
       "    </tr>\n",
       "    <tr>\n",
       "      <th>97</th>\n",
       "      <td>Syria</td>\n",
       "      <td>0.000000</td>\n",
       "      <td>SYR</td>\n",
       "      <td>3.647</td>\n",
       "      <td>1.515</td>\n",
       "      <td>131.6</td>\n",
       "    </tr>\n",
       "    <tr>\n",
       "      <th>98</th>\n",
       "      <td>Tunisia</td>\n",
       "      <td>0.263342</td>\n",
       "      <td>TUN</td>\n",
       "      <td>2.914</td>\n",
       "      <td>5.206</td>\n",
       "      <td>157.8</td>\n",
       "    </tr>\n",
       "    <tr>\n",
       "      <th>99</th>\n",
       "      <td>Uzbekistan</td>\n",
       "      <td>0.302850</td>\n",
       "      <td>UZB</td>\n",
       "      <td>36.030</td>\n",
       "      <td>1.627</td>\n",
       "      <td>182.5</td>\n",
       "    </tr>\n",
       "    <tr>\n",
       "      <th>100</th>\n",
       "      <td>Venezuela</td>\n",
       "      <td>0.000000</td>\n",
       "      <td>VEN</td>\n",
       "      <td>917.866</td>\n",
       "      <td>2.741</td>\n",
       "      <td>-30.9</td>\n",
       "    </tr>\n",
       "    <tr>\n",
       "      <th>101</th>\n",
       "      <td>Vietnam</td>\n",
       "      <td>0.000000</td>\n",
       "      <td>VNM</td>\n",
       "      <td>20.527</td>\n",
       "      <td>1.805</td>\n",
       "      <td>312.8</td>\n",
       "    </tr>\n",
       "  </tbody>\n",
       "</table>\n",
       "<p>102 rows × 6 columns</p>\n",
       "</div>"
      ],
      "text/plain": [
       "        Country  crime_score CODE  Inflation rate(%)  Unemployment rate(%)  \\\n",
       "0     Mauritius     0.552207  MUS              3.316                 3.699   \n",
       "1       Algeria     0.206323  DZA              4.041                 7.177   \n",
       "2         Egypt     0.071329  EGY              6.172                 3.773   \n",
       "3       Morocco     0.273290  MAR              1.757                 4.001   \n",
       "4    Cabo Verde     1.653141  CPV              2.470                 8.777   \n",
       "..          ...          ...  ...                ...                   ...   \n",
       "97        Syria     0.000000  SYR              3.647                 1.515   \n",
       "98      Tunisia     0.263342  TUN              2.914                 5.206   \n",
       "99   Uzbekistan     0.302850  UZB             36.030                 1.627   \n",
       "100   Venezuela     0.000000  VEN            917.866                 2.741   \n",
       "101     Vietnam     0.000000  VNM             20.527                 1.805   \n",
       "\n",
       "     GDP per capita  \n",
       "0             208.4  \n",
       "1             126.0  \n",
       "2             228.5  \n",
       "3             180.2  \n",
       "4             250.3  \n",
       "..              ...  \n",
       "97            131.6  \n",
       "98            157.8  \n",
       "99            182.5  \n",
       "100           -30.9  \n",
       "101           312.8  \n",
       "\n",
       "[102 rows x 6 columns]"
      ]
     },
     "execution_count": 160,
     "metadata": {},
     "output_type": "execute_result"
    }
   ],
   "source": [
    "df_all.interpolate(method='linear',inplace=True)\n",
    "df_all"
   ]
  },
  {
   "cell_type": "code",
   "execution_count": 161,
   "metadata": {
    "_uuid": "c9a0a60acbf5392531a53f261933669eed48545d",
    "trusted": true
   },
   "outputs": [],
   "source": [
    "df_all.fillna(method=\"bfill\",inplace=True)\n",
    "df_all.fillna(method=\"ffill\",inplace=True)\n",
    "df_all.head()"
   ]
  },
  {
   "cell_type": "code",
   "execution_count": 167,
   "metadata": {
    "_uuid": "617a7f53f31dd08b4f7311f75ebb6d92f58d01ab",
    "trusted": true
   },
   "outputs": [
    {
     "name": "stdout",
     "output_type": "stream",
     "text": [
      "crime_score             float64\n",
      "CODE                     object\n",
      "Inflation rate(%)       float64\n",
      "Unemployment rate(%)    float64\n",
      "GDP per capita          float64\n",
      "dtype: object\n"
     ]
    },
    {
     "data": {
      "image/png": "[encoded data removed]",
      "text/plain": [
       "<Figure size 640x480 with 2 Axes>"
      ]
     },
     "metadata": {},
     "output_type": "display_data"
    }
   ],
   "source": [
    "#df_all.drop(['Country'],axis=1,inplace=True)\n",
    "print(df_all.dtypes)\n",
    "# calculate the correlation matrix\n",
    "corr = df_all.drop(columns=[\"CODE\"]).corr()\n",
    "\n",
    "# plot the heatmap\n",
    "sns_plot2=sns.heatmap(corr, \n",
    "        xticklabels=corr.columns,\n",
    "        yticklabels=corr.columns)\n"
   ]
  },
  {
   "cell_type": "markdown",
   "metadata": {
    "_uuid": "fc0e82af60b660490f8e8080767eab321f790ca3"
   },
   "source": [
    "(interesting and some) Conclusions from the correlation matrix: \n",
    "\n",
    "*  WE can see some correlation between crimes and inflation rate & GDP rate\n"
   ]
  },
  {
   "cell_type": "markdown",
   "metadata": {
    "_uuid": "c480af978350716519a7cd85d4c7dfd973d4f862"
   },
   "source": [
    "To answer the last question we are going to build a model and try to predict all of the crimes combined using other factors"
   ]
  },
  {
   "cell_type": "code",
   "execution_count": 169,
   "metadata": {
    "_uuid": "16f881fda7d70ef222c016b0bcf7690131b65f0a",
    "trusted": true
   },
   "outputs": [],
   "source": [
    "from sklearn.model_selection import StratifiedKFold, KFold, RepeatedKFold\n",
    "from sklearn.metrics import mean_squared_error, mean_absolute_error\n",
    "import time\n",
    "import statsmodels.api as sm\n"
   ]
  },
  {
   "cell_type": "code",
   "execution_count": 170,
   "metadata": {
    "_uuid": "479a59190799354727a232e94f1aa67476a9f22b",
    "trusted": true
   },
   "outputs": [
    {
     "name": "stdout",
     "output_type": "stream",
     "text": [
      "                            OLS Regression Results                            \n",
      "==============================================================================\n",
      "Dep. Variable:            crime_score   R-squared:                       0.114\n",
      "Model:                            OLS   Adj. R-squared:                  0.087\n",
      "Method:                 Least Squares   F-statistic:                     4.189\n",
      "Date:                Sun, 29 Dec 2024   Prob (F-statistic):            0.00779\n",
      "Time:                        04:40:55   Log-Likelihood:                -90.289\n",
      "No. Observations:                 102   AIC:                             188.6\n",
      "Df Residuals:                      98   BIC:                             199.1\n",
      "Df Model:                           3                                         \n",
      "Covariance Type:            nonrobust                                         \n",
      "========================================================================================\n",
      "                           coef    std err          t      P>|t|      [0.025      0.975]\n",
      "----------------------------------------------------------------------------------------\n",
      "const                    0.4926      0.186      2.644      0.010       0.123       0.862\n",
      "GDP per capita          -0.0009      0.001     -0.949      0.345      -0.003       0.001\n",
      "Inflation rate(%)       -0.0007      0.001     -1.185      0.239      -0.002       0.001\n",
      "Unemployment rate(%)     0.0902      0.029      3.127      0.002       0.033       0.148\n",
      "==============================================================================\n",
      "Omnibus:                       25.298   Durbin-Watson:                   1.103\n",
      "Prob(Omnibus):                  0.000   Jarque-Bera (JB):               38.228\n",
      "Skew:                           1.131   Prob(JB):                     5.00e-09\n",
      "Kurtosis:                       4.970   Cond. No.                         489.\n",
      "==============================================================================\n",
      "\n",
      "Notes:\n",
      "[1] Standard Errors assume that the covariance matrix of the errors is correctly specified.\n"
     ]
    }
   ],
   "source": [
    "X = df_all[['GDP per capita', 'Inflation rate(%)', 'Unemployment rate(%)']]  # Independent variables\n",
    "y = df_all['crime_score']  # Dependent variable\n",
    "\n",
    "# Add a constant to the model (intercept)\n",
    "X = sm.add_constant(X)\n",
    "\n",
    "# Fit the OLS model\n",
    "model = sm.OLS(y, X).fit()\n",
    "\n",
    "# Print the summary of the OLS regression\n",
    "print(model.summary())\n"
   ]
  },
  {
   "cell_type": "code",
   "execution_count": 171,
   "metadata": {},
   "outputs": [],
   "source": [
    "import statsmodels.stats.diagnostic as sms\n",
    "\n",
    "def breusch_pagan_test(model):\n",
    "    # Perform the Breusch-Pagan test\n",
    "    test_results = sms.het_breuschpagan(model.resid, model.model.exog)\n",
    "    \n",
    "    # Unpack test results\n",
    "    lm_statistic, lm_p_value, f_statistic, f_p_value = test_results\n",
    "    \n",
    "    # Print results\n",
    "    print(f\"Breusch-Pagan F-statistic: {f_statistic}\")\n",
    "    print(f\"Breusch-Pagan F P-value: {f_p_value}\")\n",
    "    \n",
    "    # Interpretation of the test\n",
    "    alpha = 0.05\n",
    "    if lm_p_value < alpha:\n",
    "        print(\"Reject the null hypothesis: Evidence of heteroscedasticity.\")\n",
    "    else:\n",
    "        print(\"Fail to reject the null hypothesis: No evidence of heteroscedasticity.\")\n"
   ]
  },
  {
   "cell_type": "code",
   "execution_count": 176,
   "metadata": {},
   "outputs": [
    {
     "name": "stdout",
     "output_type": "stream",
     "text": [
      "Breusch-Pagan LM Statistic: 11.902430831152133\n",
      "Breusch-Pagan LM P-value: 0.007724975265308009\n",
      "Breusch-Pagan F-statistic: 4.315463159229592\n",
      "Breusch-Pagan F P-value: 0.006663393531753276\n",
      "Reject the null hypothesis: Evidence of heteroscedasticity.\n"
     ]
    }
   ],
   "source": [
    "breusch_pagan_test(model)"
   ]
  },
  {
   "cell_type": "code",
   "execution_count": 177,
   "metadata": {},
   "outputs": [],
   "source": [
    "def white_test(model):\n",
    "    # Perform the White test for heteroscedasticity\n",
    "    test_results = sms.het_white(model.resid, model.model.exog)\n",
    "    \n",
    "    # Unpack test results\n",
    "    white_statistic, white_p_value, _, _ = test_results\n",
    "    \n",
    "    # Print results\n",
    "    print(f\"White Test Statistic: {white_statistic}\")\n",
    "    print(f\"White Test P-value: {white_p_value}\")\n",
    "    \n",
    "    # Interpretation of the test\n",
    "    alpha = 0.05\n",
    "    if white_p_value < alpha:\n",
    "        print(\"Reject the null hypothesis: Evidence of heteroscedasticity.\")\n",
    "    else:\n",
    "        print(\"Fail to reject the null hypothesis: No evidence of heteroscedasticity.\")\n"
   ]
  },
  {
   "cell_type": "code",
   "execution_count": 178,
   "metadata": {},
   "outputs": [
    {
     "name": "stdout",
     "output_type": "stream",
     "text": [
      "White Test Statistic: 15.985563807244388\n",
      "White Test P-value: 0.0671836658953543\n",
      "Fail to reject the null hypothesis: No evidence of heteroscedasticity.\n"
     ]
    }
   ],
   "source": [
    "white_test(model)"
   ]
  },
  {
   "cell_type": "code",
   "execution_count": 173,
   "metadata": {},
   "outputs": [
    {
     "name": "stdout",
     "output_type": "stream",
     "text": [
      "                feature       VIF\n",
      "0                 const  9.890084\n",
      "1        GDP per capita  1.078705\n",
      "2     Inflation rate(%)  1.069691\n",
      "3  Unemployment rate(%)  1.012064\n"
     ]
    }
   ],
   "source": [
    "from statsmodels.stats.outliers_influence import variance_inflation_factor\n",
    "\n",
    "vif_data = pd.DataFrame()\n",
    "vif_data[\"feature\"] = X.columns\n",
    "\n",
    "# Calculate VIF for each feature in the model\n",
    "vif_data[\"VIF\"] = [variance_inflation_factor(X.values, i) for i in range(X.shape[1])]\n",
    "\n",
    "# Display the results\n",
    "print(vif_data)\n"
   ]
  },
  {
   "cell_type": "code",
   "execution_count": 174,
   "metadata": {},
   "outputs": [
    {
     "name": "stdout",
     "output_type": "stream",
     "text": [
      "Bias: -0.08415606343270587\n",
      "MSE: 0.5446859175245785\n",
      "RMSE: 0.73802839886049\n",
      "Standard Error: 0.7513214080789214\n"
     ]
    }
   ],
   "source": [
    "from sklearn.metrics import mean_squared_error\n",
    "from sklearn.model_selection import train_test_split\n",
    "\n",
    "X_train, X_test, y_train, y_test = train_test_split(X, y, test_size=0.2, random_state=42)\n",
    "\n",
    "y_pred = model.predict(X_test)\n",
    "\n",
    "# Bias calculation\n",
    "bias = np.mean(y_pred) - np.mean(y_test)\n",
    "print(\"Bias:\", bias)\n",
    "\n",
    "# MSE Calculation\n",
    "mse = mean_squared_error(y_test, y_pred)\n",
    "print(\"MSE:\", mse)\n",
    "\n",
    "# RMSE Calculation (square root of MSE)\n",
    "rmse = np.sqrt(mse)\n",
    "print(\"RMSE:\", rmse)\n",
    "\n",
    "# Standard Error Calculation for residuals\n",
    "residuals = y_test - y_pred\n",
    "se = np.std(residuals, ddof=1)  # ddof=1 for sample standard deviation\n",
    "print(\"Standard Error:\", se)\n"
   ]
  },
  {
   "cell_type": "code",
   "execution_count": 175,
   "metadata": {},
   "outputs": [],
   "source": [
    "def plot_resid(model):\n",
    "    # Get residuals from the model\n",
    "    residuals = model.resid\n",
    "    \n",
    "    # Create a figure and axis for the plot\n",
    "    plt.figure(figsize=(10, 6))\n",
    "    \n",
    "    # Plot the residuals vs the fitted values (predictions)\n",
    "    plt.subplot(1, 2, 1)\n",
    "    sns.residplot(x=model.fittedvalues, y=residuals, lowess=True, line_kws={'color': 'red'})\n",
    "    plt.title('Residuals vs Fitted Values')\n",
    "    plt.xlabel('Fitted Values')\n",
    "    plt.ylabel('Residuals')\n",
    "    \n",
    "    # Plot the histogram of the residuals to check for normality\n",
    "    plt.subplot(1, 2, 2)\n",
    "    sns.histplot(residuals, kde=True, color='blue', bins=20)\n",
    "    plt.title('Histogram of Residuals')\n",
    "    plt.xlabel('Residuals')\n",
    "    plt.ylabel('Frequency')\n",
    "    \n",
    "    # Show the plots\n",
    "    plt.tight_layout()\n",
    "    plt.show()\n",
    "    "
   ]
  },
  {
   "cell_type": "code",
   "execution_count": 179,
   "metadata": {},
   "outputs": [
    {
     "data": {
      "image/png": "[encoded data removed]",
      "text/plain": [
       "<Figure size 1000x600 with 2 Axes>"
      ]
     },
     "metadata": {},
     "output_type": "display_data"
    }
   ],
   "source": [
    "plot_resid(model)"
   ]
  }
 ],
 "metadata": {
  "kaggle": {
   "accelerator": "none",
   "dataSources": [
    {
     "datasetId": 812,
     "sourceId": 1498,
     "sourceType": "datasetVersion"
    },
    {
     "datasetId": 913,
     "sourceId": 1666,
     "sourceType": "datasetVersion"
    },
    {
     "datasetId": 928,
     "sourceId": 2340,
     "sourceType": "datasetVersion"
    },
    {
     "datasetId": 86429,
     "sourceId": 199187,
     "sourceType": "datasetVersion"
    },
    {
     "datasetId": 97554,
     "sourceId": 228680,
     "sourceType": "datasetVersion"
    },
    {
     "datasetId": 99720,
     "sourceId": 235618,
     "sourceType": "datasetVersion"
    },
    {
     "datasetId": 104954,
     "sourceId": 249847,
     "sourceType": "datasetVersion"
    },
    {
     "datasetId": 98919,
     "sourceId": 256127,
     "sourceType": "datasetVersion"
    },
    {
     "datasetId": 102515,
     "sourceId": 257328,
     "sourceType": "datasetVersion"
    }
   ],
   "dockerImageVersionId": 22557,
   "isGpuEnabled": false,
   "isInternetEnabled": false,
   "language": "python",
   "sourceType": "notebook"
  },
  "kernelspec": {
   "display_name": "tqopt-3K6yoEQd-py3.11",
   "language": "python",
   "name": "python3"
  },
  "language_info": {
   "codemirror_mode": {
    "name": "ipython",
    "version": 3
   },
   "file_extension": ".py",
   "mimetype": "text/x-python",
   "name": "python",
   "nbconvert_exporter": "python",
   "pygments_lexer": "ipython3",
   "version": "3.11.4"
  }
 },
 "nbformat": 4,
 "nbformat_minor": 4
}
